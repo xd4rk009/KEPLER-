{
 "cells": [
  {
   "cell_type": "code",
   "execution_count": null,
   "metadata": {},
   "outputs": [
    {
     "name": "stdout",
     "output_type": "stream",
     "text": [
      "🔗 Conexión establecida con outputs/Tronaduras_vs_Sismicidad.db\n",
      "✅ Datos insertados en 'Raw_Data.Variables_Description'.\n",
      "🔌 Conexión cerrada manualmente.\n"
     ]
    }
   ],
   "source": [
    "#╭────────────────────────────────────────────────────────────────────────────╮\n",
    "#| Guardado de Archivo de Configuración: Variables, Tipos de Datos, etc.      |\n",
    "#╰────────────────────────────────────────────────────────────────────────────╯\n",
    "from classes.DuckDB_Helper_v02 import DuckDBHelper \n",
    "\n",
    "# Configuración de DuckDB\n",
    "DB_NAME = \"data/Tronaduras_vs_Sismicidad.db\"\n",
    "SCHEMA_NAME = \"Raw_Data\"\n",
    "\n",
    "# Crear instancia de DuckDBHelper\n",
    "db_helper = DuckDBHelper(DB_NAME)\n",
    "\n",
    "# Crea la tabla de descripción de variables denominada Variables_Description\n",
    "db_helper.create_table_from_csv(table=\"Variables_Description\", csv_file = \"data/Sismicidad_Tronaduras.csv\", schema=SCHEMA_NAME)\n",
    "\n",
    "# Cierre de la conexión\n",
    "db_helper.close_connection()\n",
    "\n"
   ]
  }
 ],
 "metadata": {
  "kernelspec": {
   "display_name": ".venv",
   "language": "python",
   "name": "python3"
  },
  "language_info": {
   "codemirror_mode": {
    "name": "ipython",
    "version": 3
   },
   "file_extension": ".py",
   "mimetype": "text/x-python",
   "name": "python",
   "nbconvert_exporter": "python",
   "pygments_lexer": "ipython3",
   "version": "3.12.4"
  }
 },
 "nbformat": 4,
 "nbformat_minor": 2
}
