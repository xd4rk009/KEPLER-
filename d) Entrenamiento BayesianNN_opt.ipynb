{
 "cells": [
  {
   "cell_type": "code",
   "execution_count": null,
   "id": "6415aa6b",
   "metadata": {},
   "outputs": [],
   "source": [
    "# Configuración básica del proyecto\n",
    "PROJECT_NAME = 'Bayesian NN'\n",
    "\n",
    "import pandas as pd\n",
    "import torch\n",
    "from sklearn.model_selection import train_test_split\n",
    "from classes.DataHandler import DataHandler\n",
    "from classes.BayesianNN_opt import BayesianNN_opt\n",
    "\n",
    "dh = DataHandler()\n",
    "DEVICE = 'cuda'\n",
    "dh.DEVICE = DEVICE\n",
    "\n",
    "dh.set_targets(['Mo_cumulative'])\n",
    "table_unified, vars_desc = dh.load_data()\n",
    "inputs, targets = dh.preprocess_data(vars_desc, table_unified)\n",
    "X, y, scales = dh.normalize_data(inputs, targets)\n",
    "\n",
    "# Convertir X y y a tensores de PyTorch y moverlos a la GPU\n",
    "X = torch.tensor(X, dtype=torch.float32).to(dh.DEVICE)\n",
    "y = torch.tensor(y, dtype=torch.float32).to(dh.DEVICE)\n",
    "\n",
    "# Dividir los datos en entrenamiento y validación\n",
    "X_train, X_val, y_train, y_val = train_test_split(\n",
    "    X.cpu().numpy(), y.cpu().numpy(), test_size=0.2, random_state=42\n",
    ")\n",
    "\n",
    "# Convertir los conjuntos a tensores y moverlos a la GPU\n",
    "X_train = torch.tensor(X_train, dtype=torch.float32).to(dh.DEVICE)\n",
    "X_val = torch.tensor(X_val, dtype=torch.float32).to(dh.DEVICE)\n",
    "y_train = torch.tensor(y_train, dtype=torch.float32).to(dh.DEVICE)\n",
    "y_val = torch.tensor(y_val, dtype=torch.float32).to(dh.DEVICE)\n",
    "\n",
    "input_dim = X_train.shape[1]\n",
    "hidden_dim = 512\n",
    "show_info = 'True'\n",
    "\n",
    "bnn = BayesianNN_opt(input_dim, hidden_dim, DEVICE, show_info=show_info)\n",
    "bnn.train_model(X_train, y_train, num_steps=10000, lr=1e-3)"
   ]
  },
  {
   "cell_type": "code",
   "execution_count": null,
   "id": "7a6b9845",
   "metadata": {},
   "outputs": [],
   "source": [
    "# Predicción y desnormalización\n",
    "y_pred_train, y_pred_train_std = bnn.predict(X_train, num_samples=100)\n",
    "y_pred_val, y_pred_val_std = bnn.predict(X_val, num_samples=100)\n",
    "y_train_np = y_train.cpu().numpy()\n",
    "y_val_np = y_val.cpu().numpy()\n",
    "y_train_mo = dh.denormalize_value(scales, y_train_np, 'Mo_cumulative')\n",
    "y_pred_train_mo = dh.denormalize_value(scales, y_pred_train, 'Mo_cumulative')\n",
    "y_val_mo = dh.denormalize_value(scales, y_val_np, 'Mo_cumulative')\n",
    "y_pred_val_mo = dh.denormalize_value(scales, y_pred_val, 'Mo_cumulative')"
   ]
  },
  {
   "cell_type": "code",
   "execution_count": null,
   "id": "843750c9",
   "metadata": {},
   "outputs": [],
   "source": [
    "# Graficar resultados con intervalo de confianza\n",
    "dh.plot_with_confidence_interval(\n",
    "    (y_train_mo, 'Valores Reales'),\n",
    "    (y_pred_train_mo, y_pred_train_mo - 1.96 * y_pred_train_std, y_pred_train_mo + 1.96 * y_pred_train_std, 'BNN - Predicciones'),\n",
    "    title='BNN: Predicciones con Intervalo (Entrenamiento)',\n",
    "    size=(1200, 400)\n",
    ")\n",
    "dh.plot_with_confidence_interval(\n",
    "    (y_val_mo, 'Valores Reales'),\n",
    "    (y_pred_val_mo, y_pred_val_mo - 1.96 * y_pred_val_std, y_pred_val_mo + 1.96 * y_pred_val_std, 'BNN - Predicciones'),\n",
    "    title='BNN: Predicciones con Intervalo (Validación)',\n",
    "    size=(1200, 400)\n",
    ")"
   ]
  },
  {
   "cell_type": "code",
   "execution_count": null,
   "id": "32522ea7",
   "metadata": {},
   "outputs": [],
   "source": [
    "# Evaluación\n",
    "dh.evaluar_metricas(y_train_mo, y_pred_train_mo, 'BNN - Entrenamiento')\n",
    "dh.evaluar_metricas(y_val_mo, y_pred_val_mo, 'BNN - Validación')"
   ]
  },
  {
   "cell_type": "code",
   "execution_count": null,
   "id": "ff4a86c2",
   "metadata": {},
   "outputs": [],
   "source": [
    "# Gráficos de regresión\n",
    "dh.plot_regression(y_train_mo, y_pred_train_mo, title='Regresión BNN - Entrenamiento', size=(1200, 400))\n",
    "dh.plot_regression(y_val_mo, y_pred_val_mo, title='Regresión BNN - Validación', size=(1200, 400))"
   ]
  }
 ],
 "metadata": {
  "kernelspec": {
   "display_name": ".venv",
   "language": "python",
   "name": "python3"
  },
  "language_info": {
   "codemirror_mode": {
    "name": "ipython",
    "version": 3
   },
   "file_extension": ".py",
   "mimetype": "text/x-python",
   "name": "python",
   "nbconvert_exporter": "python",
   "pygments_lexer": "ipython3",
   "version": "3.13.2"
  }
 },
 "nbformat": 4,
 "nbformat_minor": 5
}
