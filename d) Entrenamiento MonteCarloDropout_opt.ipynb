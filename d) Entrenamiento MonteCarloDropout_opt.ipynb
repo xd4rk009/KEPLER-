{
 "cells": [
  {
   "cell_type": "code",
   "execution_count": 1,
   "id": "84ca8872",
   "metadata": {},
   "outputs": [
    {
     "name": "stderr",
     "output_type": "stream",
     "text": [
      "2025-05-17 12:28:38,518 - INFO - Configuración de logging inicializada correctamente.\n",
      "2025-05-17 12:28:55,454 - INFO - Columnas objetivo actualizadas: ['Mo_cumulative']\n",
      "2025-05-17 12:28:55,455 - INFO - Inicio de la carga de datos.\n",
      "2025-05-17 12:28:55,460 - INFO - Tabla Tabla_Unificada cargada correctamente.\n",
      "2025-05-17 12:28:55,461 - INFO - Tabla Variables_Description cargada correctamente.\n",
      "2025-05-17 12:28:55,466 - INFO - Conexión cerrada.\n",
      "2025-05-17 12:28:55,454 - INFO - Columnas objetivo actualizadas: ['Mo_cumulative']\n",
      "2025-05-17 12:28:55,455 - INFO - Inicio de la carga de datos.\n",
      "2025-05-17 12:28:55,460 - INFO - Tabla Tabla_Unificada cargada correctamente.\n",
      "2025-05-17 12:28:55,461 - INFO - Tabla Variables_Description cargada correctamente.\n",
      "2025-05-17 12:28:55,466 - INFO - Conexión cerrada.\n",
      "2025-05-17 12:28:55,467 - INFO - Datos cargados exitosamente.\n",
      "2025-05-17 12:28:55,467 - INFO - Inicio del preprocesamiento de datos.\n",
      "2025-05-17 12:28:55,467 - INFO - Datos cargados exitosamente.\n",
      "2025-05-17 12:28:55,467 - INFO - Inicio del preprocesamiento de datos.\n",
      "2025-05-17 12:28:55,476 - INFO - Variables de entrada procesadas: ['Cobertura Total', 'Cobertura Primario', 'Tronadura_Largo de Perforación (m)', 'Tronadura_N° Tiros', 'Tronadura_N° Tiros Real', 'Tronadura_Kg. de explosivos tronadura', 'Tronadura_Tipo Explosivo', 'Destressing_Se realizó', 'Destressing_N° Tiros', 'Destressing_Kg. de explosivos', 'Destressing_Tipo Explosivo', 'Geotecnicas_UCS (MPa)', 'Geotecnicas_Modulo de Young (GPa)', 'Geotecnicas_Razón Poisson', 'Litología', 'Fallas_Presencia', 'Fallas_Sub-Paralelas', 'Estructura', 'Estructura Crítica', 'Condición de Agua', 'GSI_Puntaje', 'GSI_Blocosidad', 'GSI_Condición Estructuras', 'DTM', 'Blocosidad_Volumen Total', 'Blocosidad_N° Caras', 'Blocosidad_Sumatoria Superficie', 'Blocosidad_Índice Blocosidad', 'Avance_Largo real (m)', 'Avance_Tipo de Explosivo', 'Sobre-excavacion_A (Caja Norte)', 'Sobre-excavacion_B (Acod. Norte)', 'Sobre-excavacion_C (Techo)', 'Sobre-excavacion_D (Acod. Sur)', 'Sobre-excavacion_E (Caja Sur)', 'Sobre-excavacion_% Sobre-Excavación', 'A (Caja Norte)', 'B (Acod. Norte)', 'C (Techo)', 'D (Acod. Sur)', 'E (Caja Sur)', 'Total', 'Coordenadas_Norte (m)', 'Coordenadas_Este (m)', 'Coordenadas_Cota (m)', 'Avance Topográfico (m)', 'Metros Acumulado (m)', 'Área teórica(m2)', '% sobre-excavación', 'Volumen excavado (m3)', 'Tiempo de Ciclo Total (h)', 'Tiempo Ciclo Acumunado (h)', 'Tiempo Tronadura']\n",
      "2025-05-17 12:28:55,478 - INFO - Variables target seleccionadas y transformadas: ['Mo_cumulative']\n",
      "2025-05-17 12:28:55,478 - INFO - Preprocesamiento de datos completado exitosamente.\n",
      "2025-05-17 12:28:55,479 - INFO - Inicio de la normalización de datos.\n",
      "2025-05-17 12:28:55,481 - INFO - Datos de entrada normalizados correctamente.\n",
      "2025-05-17 12:28:55,482 - INFO - Datos de salida normalizados correctamente.\n",
      "2025-05-17 12:28:55,483 - INFO - DataFrame de escalas generado correctamente.\n",
      "2025-05-17 12:28:55,483 - INFO - Normalización de datos completada exitosamente.\n",
      "2025-05-17 12:28:55,476 - INFO - Variables de entrada procesadas: ['Cobertura Total', 'Cobertura Primario', 'Tronadura_Largo de Perforación (m)', 'Tronadura_N° Tiros', 'Tronadura_N° Tiros Real', 'Tronadura_Kg. de explosivos tronadura', 'Tronadura_Tipo Explosivo', 'Destressing_Se realizó', 'Destressing_N° Tiros', 'Destressing_Kg. de explosivos', 'Destressing_Tipo Explosivo', 'Geotecnicas_UCS (MPa)', 'Geotecnicas_Modulo de Young (GPa)', 'Geotecnicas_Razón Poisson', 'Litología', 'Fallas_Presencia', 'Fallas_Sub-Paralelas', 'Estructura', 'Estructura Crítica', 'Condición de Agua', 'GSI_Puntaje', 'GSI_Blocosidad', 'GSI_Condición Estructuras', 'DTM', 'Blocosidad_Volumen Total', 'Blocosidad_N° Caras', 'Blocosidad_Sumatoria Superficie', 'Blocosidad_Índice Blocosidad', 'Avance_Largo real (m)', 'Avance_Tipo de Explosivo', 'Sobre-excavacion_A (Caja Norte)', 'Sobre-excavacion_B (Acod. Norte)', 'Sobre-excavacion_C (Techo)', 'Sobre-excavacion_D (Acod. Sur)', 'Sobre-excavacion_E (Caja Sur)', 'Sobre-excavacion_% Sobre-Excavación', 'A (Caja Norte)', 'B (Acod. Norte)', 'C (Techo)', 'D (Acod. Sur)', 'E (Caja Sur)', 'Total', 'Coordenadas_Norte (m)', 'Coordenadas_Este (m)', 'Coordenadas_Cota (m)', 'Avance Topográfico (m)', 'Metros Acumulado (m)', 'Área teórica(m2)', '% sobre-excavación', 'Volumen excavado (m3)', 'Tiempo de Ciclo Total (h)', 'Tiempo Ciclo Acumunado (h)', 'Tiempo Tronadura']\n",
      "2025-05-17 12:28:55,478 - INFO - Variables target seleccionadas y transformadas: ['Mo_cumulative']\n",
      "2025-05-17 12:28:55,478 - INFO - Preprocesamiento de datos completado exitosamente.\n",
      "2025-05-17 12:28:55,479 - INFO - Inicio de la normalización de datos.\n",
      "2025-05-17 12:28:55,481 - INFO - Datos de entrada normalizados correctamente.\n",
      "2025-05-17 12:28:55,482 - INFO - Datos de salida normalizados correctamente.\n",
      "2025-05-17 12:28:55,483 - INFO - DataFrame de escalas generado correctamente.\n",
      "2025-05-17 12:28:55,483 - INFO - Normalización de datos completada exitosamente.\n"
     ]
    },
    {
     "name": "stdout",
     "output_type": "stream",
     "text": [
      "🔗 Conexión establecida con data/Tronaduras_vs_Sismicidad.db\n",
      "✅ Datos leídos desde 'Processed_Data.Tabla_Unificada' y convertidos a DataFrame.\n",
      "✅ Datos leídos desde 'Raw_Data.Variables_Description' y convertidos a DataFrame.\n",
      "🔌 Conexión cerrada manualmente.\n"
     ]
    }
   ],
   "source": [
    "# Configuración básica del proyecto\n",
    "PROJECT_NAME = 'Monte Carlo Dropout'\n",
    "\n",
    "import pandas as pd\n",
    "import torch\n",
    "from sklearn.model_selection import train_test_split\n",
    "from classes.DataHandler import DataHandler\n",
    "from classes.MonteCarloDropoutNetwork_opt import MonteCarloDropoutNetwork_opt\n",
    "\n",
    "dh = DataHandler()\n",
    "DEVICE = 'cuda'\n",
    "dh.DEVICE = DEVICE\n",
    "\n",
    "dh.set_targets(['Mo_cumulative'])\n",
    "table_unified, vars_desc = dh.load_data()\n",
    "inputs, targets = dh.preprocess_data(vars_desc, table_unified)\n",
    "X, y, scales = dh.normalize_data(inputs, targets)"
   ]
  },
  {
   "cell_type": "code",
   "execution_count": 2,
   "id": "60d0dc1c",
   "metadata": {},
   "outputs": [
    {
     "name": "stdout",
     "output_type": "stream",
     "text": [
      "[2025-05-17 12:29:21] ✨ Nueva mejor red encontrada en época 0 📉 train loss: 0.1343 📊 val loss: 0.0439\n",
      "[2025-05-17 12:29:21] 🔄 [Época 0] 🧠 Pérdida entrenamiento: 0.1343 | Validación: 0.0439 🚀\n",
      "[2025-05-17 12:29:21] ✨ Nueva mejor red encontrada en época 1 📉 train loss: 0.0518 📊 val loss: 0.0265\n",
      "[2025-05-17 12:29:21] ✨ Nueva mejor red encontrada en época 6 📉 train loss: 0.0414 📊 val loss: 0.0259\n",
      "[2025-05-17 12:29:21] ✨ Nueva mejor red encontrada en época 7 📉 train loss: 0.0275 📊 val loss: 0.0181\n",
      "[2025-05-17 12:29:21] ✨ Nueva mejor red encontrada en época 14 📉 train loss: 0.0271 📊 val loss: 0.0165\n",
      "[2025-05-17 12:29:21] ✨ Nueva mejor red encontrada en época 15 📉 train loss: 0.0217 📊 val loss: 0.0159\n",
      "[2025-05-17 12:29:21] ✨ Nueva mejor red encontrada en época 23 📉 train loss: 0.0186 📊 val loss: 0.0156\n",
      "[2025-05-17 12:29:21] ✨ Nueva mejor red encontrada en época 31 📉 train loss: 0.0196 📊 val loss: 0.0156\n",
      "[2025-05-17 12:29:21] ✨ Nueva mejor red encontrada en época 38 📉 train loss: 0.0181 📊 val loss: 0.0151\n",
      "[2025-05-17 12:29:21] ✨ Nueva mejor red encontrada en época 39 📉 train loss: 0.0161 📊 val loss: 0.0149\n",
      "[2025-05-17 12:29:21] ✨ Nueva mejor red encontrada en época 43 📉 train loss: 0.0140 📊 val loss: 0.0149\n",
      "[2025-05-17 12:29:21] ✨ Nueva mejor red encontrada en época 44 📉 train loss: 0.0160 📊 val loss: 0.0145\n",
      "[2025-05-17 12:29:21] ✨ Nueva mejor red encontrada en época 45 📉 train loss: 0.0170 📊 val loss: 0.0142\n",
      "[2025-05-17 12:29:21] ✨ Nueva mejor red encontrada en época 46 📉 train loss: 0.0163 📊 val loss: 0.0139\n",
      "[2025-05-17 12:29:21] ✨ Nueva mejor red encontrada en época 52 📉 train loss: 0.0158 📊 val loss: 0.0137\n",
      "[2025-05-17 12:29:21] ✨ Nueva mejor red encontrada en época 53 📉 train loss: 0.0138 📊 val loss: 0.0135\n",
      "[2025-05-17 12:29:21] ✨ Nueva mejor red encontrada en época 54 📉 train loss: 0.0139 📊 val loss: 0.0135\n",
      "[2025-05-17 12:29:21] ✨ Nueva mejor red encontrada en época 58 📉 train loss: 0.0150 📊 val loss: 0.0134\n",
      "[2025-05-17 12:29:21] ✨ Nueva mejor red encontrada en época 59 📉 train loss: 0.0142 📊 val loss: 0.0133\n",
      "[2025-05-17 12:29:21] ✨ Nueva mejor red encontrada en época 60 📉 train loss: 0.0158 📊 val loss: 0.0133\n",
      "[2025-05-17 12:29:21] ✨ Nueva mejor red encontrada en época 64 📉 train loss: 0.0128 📊 val loss: 0.0132\n",
      "[2025-05-17 12:29:21] ✨ Nueva mejor red encontrada en época 65 📉 train loss: 0.0140 📊 val loss: 0.0131\n",
      "[2025-05-17 12:29:21] ✨ Nueva mejor red encontrada en época 66 📉 train loss: 0.0146 📊 val loss: 0.0130\n",
      "[2025-05-17 12:29:21] ✨ Nueva mejor red encontrada en época 71 📉 train loss: 0.0140 📊 val loss: 0.0130\n",
      "[2025-05-17 12:29:21] ✨ Nueva mejor red encontrada en época 72 📉 train loss: 0.0139 📊 val loss: 0.0130\n",
      "[2025-05-17 12:29:21] ✨ Nueva mejor red encontrada en época 73 📉 train loss: 0.0137 📊 val loss: 0.0130\n",
      "[2025-05-17 12:29:21] ✨ Nueva mejor red encontrada en época 74 📉 train loss: 0.0138 📊 val loss: 0.0129\n",
      "[2025-05-17 12:29:21] ✨ Nueva mejor red encontrada en época 75 📉 train loss: 0.0130 📊 val loss: 0.0129\n",
      "[2025-05-17 12:29:21] ✨ Nueva mejor red encontrada en época 76 📉 train loss: 0.0134 📊 val loss: 0.0128\n",
      "[2025-05-17 12:29:21] ✨ Nueva mejor red encontrada en época 77 📉 train loss: 0.0134 📊 val loss: 0.0128\n",
      "[2025-05-17 12:29:21] ✨ Nueva mejor red encontrada en época 78 📉 train loss: 0.0125 📊 val loss: 0.0127\n",
      "[2025-05-17 12:29:21] ✨ Nueva mejor red encontrada en época 79 📉 train loss: 0.0136 📊 val loss: 0.0126\n",
      "[2025-05-17 12:29:22] ✨ Nueva mejor red encontrada en época 80 📉 train loss: 0.0131 📊 val loss: 0.0126\n",
      "[2025-05-17 12:29:22] ✨ Nueva mejor red encontrada en época 81 📉 train loss: 0.0127 📊 val loss: 0.0125\n",
      "[2025-05-17 12:29:22] ✨ Nueva mejor red encontrada en época 82 📉 train loss: 0.0136 📊 val loss: 0.0124\n",
      "[2025-05-17 12:29:22] ✨ Nueva mejor red encontrada en época 83 📉 train loss: 0.0123 📊 val loss: 0.0123\n",
      "[2025-05-17 12:29:22] ✨ Nueva mejor red encontrada en época 84 📉 train loss: 0.0119 📊 val loss: 0.0123\n",
      "[2025-05-17 12:29:22] ✨ Nueva mejor red encontrada en época 85 📉 train loss: 0.0134 📊 val loss: 0.0122\n",
      "[2025-05-17 12:29:22] ✨ Nueva mejor red encontrada en época 86 📉 train loss: 0.0114 📊 val loss: 0.0121\n",
      "[2025-05-17 12:29:22] ✨ Nueva mejor red encontrada en época 87 📉 train loss: 0.0123 📊 val loss: 0.0121\n",
      "[2025-05-17 12:29:22] ✨ Nueva mejor red encontrada en época 88 📉 train loss: 0.0122 📊 val loss: 0.0121\n",
      "[2025-05-17 12:29:22] ✨ Nueva mejor red encontrada en época 89 📉 train loss: 0.0114 📊 val loss: 0.0120\n",
      "[2025-05-17 12:29:22] ✨ Nueva mejor red encontrada en época 90 📉 train loss: 0.0108 📊 val loss: 0.0120\n",
      "[2025-05-17 12:29:22] ✨ Nueva mejor red encontrada en época 91 📉 train loss: 0.0133 📊 val loss: 0.0119\n",
      "[2025-05-17 12:29:22] ✨ Nueva mejor red encontrada en época 92 📉 train loss: 0.0124 📊 val loss: 0.0119\n",
      "[2025-05-17 12:29:22] ✨ Nueva mejor red encontrada en época 93 📉 train loss: 0.0115 📊 val loss: 0.0118\n",
      "[2025-05-17 12:29:22] ✨ Nueva mejor red encontrada en época 94 📉 train loss: 0.0121 📊 val loss: 0.0117\n",
      "[2025-05-17 12:29:22] ✨ Nueva mejor red encontrada en época 95 📉 train loss: 0.0111 📊 val loss: 0.0117\n",
      "[2025-05-17 12:29:22] ✨ Nueva mejor red encontrada en época 96 📉 train loss: 0.0131 📊 val loss: 0.0117\n",
      "[2025-05-17 12:29:22] ✨ Nueva mejor red encontrada en época 97 📉 train loss: 0.0109 📊 val loss: 0.0117\n",
      "[2025-05-17 12:29:22] ✨ Nueva mejor red encontrada en época 98 📉 train loss: 0.0114 📊 val loss: 0.0116\n",
      "[2025-05-17 12:29:22] ✨ Nueva mejor red encontrada en época 99 📉 train loss: 0.0105 📊 val loss: 0.0115\n",
      "[2025-05-17 12:29:22] ✨ Nueva mejor red encontrada en época 100 📉 train loss: 0.0115 📊 val loss: 0.0114\n",
      "[2025-05-17 12:29:22] 🔄 [Época 100] 🧠 Pérdida entrenamiento: 0.0115 | Validación: 0.0114 🚀\n",
      "[2025-05-17 12:29:22] ✨ Nueva mejor red encontrada en época 101 📉 train loss: 0.0113 📊 val loss: 0.0114\n",
      "[2025-05-17 12:29:22] ✨ Nueva mejor red encontrada en época 102 📉 train loss: 0.0113 📊 val loss: 0.0114\n",
      "[2025-05-17 12:29:22] ✨ Nueva mejor red encontrada en época 103 📉 train loss: 0.0116 📊 val loss: 0.0113\n",
      "[2025-05-17 12:29:22] ✨ Nueva mejor red encontrada en época 110 📉 train loss: 0.0105 📊 val loss: 0.0113\n",
      "[2025-05-17 12:29:22] ✨ Nueva mejor red encontrada en época 111 📉 train loss: 0.0117 📊 val loss: 0.0113\n",
      "[2025-05-17 12:29:22] ✨ Nueva mejor red encontrada en época 136 📉 train loss: 0.0090 📊 val loss: 0.0112\n",
      "[2025-05-17 12:29:22] ✨ Nueva mejor red encontrada en época 137 📉 train loss: 0.0089 📊 val loss: 0.0111\n",
      "[2025-05-17 12:29:22] ✨ Nueva mejor red encontrada en época 138 📉 train loss: 0.0091 📊 val loss: 0.0111\n",
      "[2025-05-17 12:29:22] ✨ Nueva mejor red encontrada en época 139 📉 train loss: 0.0096 📊 val loss: 0.0110\n",
      "[2025-05-17 12:29:22] ✨ Nueva mejor red encontrada en época 140 📉 train loss: 0.0096 📊 val loss: 0.0110\n",
      "[2025-05-17 12:29:22] ✨ Nueva mejor red encontrada en época 141 📉 train loss: 0.0093 📊 val loss: 0.0110\n",
      "[2025-05-17 12:29:22] ✨ Nueva mejor red encontrada en época 142 📉 train loss: 0.0076 📊 val loss: 0.0110\n",
      "[2025-05-17 12:29:22] ✨ Nueva mejor red encontrada en época 157 📉 train loss: 0.0081 📊 val loss: 0.0109\n",
      "[2025-05-17 12:29:22] ✨ Nueva mejor red encontrada en época 162 📉 train loss: 0.0076 📊 val loss: 0.0109\n",
      "[2025-05-17 12:29:22] ✨ Nueva mejor red encontrada en época 163 📉 train loss: 0.0080 📊 val loss: 0.0109\n",
      "[2025-05-17 12:29:22] ✨ Nueva mejor red encontrada en época 164 📉 train loss: 0.0086 📊 val loss: 0.0108\n",
      "[2025-05-17 12:29:22] ✨ Nueva mejor red encontrada en época 165 📉 train loss: 0.0076 📊 val loss: 0.0108\n",
      "[2025-05-17 12:29:22] ✨ Nueva mejor red encontrada en época 181 📉 train loss: 0.0073 📊 val loss: 0.0107\n",
      "[2025-05-17 12:29:22] ✨ Nueva mejor red encontrada en época 183 📉 train loss: 0.0074 📊 val loss: 0.0106\n",
      "[2025-05-17 12:29:22] 🔄 [Época 200] 🧠 Pérdida entrenamiento: 0.0072 | Validación: 0.0110 🚀\n",
      "[2025-05-17 12:29:22] 🔄 [Época 300] 🧠 Pérdida entrenamiento: 0.0042 | Validación: 0.0118 🚀\n",
      "[2025-05-17 12:29:22] ✨ Nueva mejor red encontrada en época 181 📉 train loss: 0.0073 📊 val loss: 0.0107\n",
      "[2025-05-17 12:29:22] ✨ Nueva mejor red encontrada en época 183 📉 train loss: 0.0074 📊 val loss: 0.0106\n",
      "[2025-05-17 12:29:22] 🔄 [Época 200] 🧠 Pérdida entrenamiento: 0.0072 | Validación: 0.0110 🚀\n",
      "[2025-05-17 12:29:22] 🔄 [Época 300] 🧠 Pérdida entrenamiento: 0.0042 | Validación: 0.0118 🚀\n",
      "[2025-05-17 12:29:22] 🔄 [Época 400] 🧠 Pérdida entrenamiento: 0.0037 | Validación: 0.0125 🚀\n",
      "[2025-05-17 12:29:22] 🔄 [Época 500] 🧠 Pérdida entrenamiento: 0.0036 | Validación: 0.0127 🚀\n",
      "[2025-05-17 12:29:22] 🔄 [Época 400] 🧠 Pérdida entrenamiento: 0.0037 | Validación: 0.0125 🚀\n",
      "[2025-05-17 12:29:22] 🔄 [Época 500] 🧠 Pérdida entrenamiento: 0.0036 | Validación: 0.0127 🚀\n",
      "[2025-05-17 12:29:22] 🔄 [Época 600] 🧠 Pérdida entrenamiento: 0.0029 | Validación: 0.0139 🚀\n",
      "[2025-05-17 12:29:22] 🔄 [Época 700] 🧠 Pérdida entrenamiento: 0.0022 | Validación: 0.0135 🚀\n",
      "[2025-05-17 12:29:22] 🔄 [Época 600] 🧠 Pérdida entrenamiento: 0.0029 | Validación: 0.0139 🚀\n",
      "[2025-05-17 12:29:22] 🔄 [Época 700] 🧠 Pérdida entrenamiento: 0.0022 | Validación: 0.0135 🚀\n",
      "[2025-05-17 12:29:22] 🔄 [Época 800] 🧠 Pérdida entrenamiento: 0.0019 | Validación: 0.0146 🚀\n",
      "[2025-05-17 12:29:22] 🔄 [Época 900] 🧠 Pérdida entrenamiento: 0.0016 | Validación: 0.0148 🚀\n",
      "[2025-05-17 12:29:22] 🔄 [Época 800] 🧠 Pérdida entrenamiento: 0.0019 | Validación: 0.0146 🚀\n",
      "[2025-05-17 12:29:22] 🔄 [Época 900] 🧠 Pérdida entrenamiento: 0.0016 | Validación: 0.0148 🚀\n",
      "[2025-05-17 12:29:23] 🔄 [Época 1000] 🧠 Pérdida entrenamiento: 0.0017 | Validación: 0.0147 🚀\n",
      "[2025-05-17 12:29:23] 🔄 [Época 1100] 🧠 Pérdida entrenamiento: 0.0017 | Validación: 0.0150 🚀\n",
      "[2025-05-17 12:29:23] 🔄 [Época 1000] 🧠 Pérdida entrenamiento: 0.0017 | Validación: 0.0147 🚀\n",
      "[2025-05-17 12:29:23] 🔄 [Época 1100] 🧠 Pérdida entrenamiento: 0.0017 | Validación: 0.0150 🚀\n",
      "[2025-05-17 12:29:23] 🔄 [Época 1200] 🧠 Pérdida entrenamiento: 0.0014 | Validación: 0.0150 🚀\n",
      "[2025-05-17 12:29:23] 🔄 [Época 1300] 🧠 Pérdida entrenamiento: 0.0012 | Validación: 0.0163 🚀\n",
      "[2025-05-17 12:29:23] 🔄 [Época 1200] 🧠 Pérdida entrenamiento: 0.0014 | Validación: 0.0150 🚀\n",
      "[2025-05-17 12:29:23] 🔄 [Época 1300] 🧠 Pérdida entrenamiento: 0.0012 | Validación: 0.0163 🚀\n",
      "[2025-05-17 12:29:23] 🔄 [Época 1400] 🧠 Pérdida entrenamiento: 0.0014 | Validación: 0.0156 🚀\n",
      "[2025-05-17 12:29:23] 🔄 [Época 1500] 🧠 Pérdida entrenamiento: 0.0012 | Validación: 0.0159 🚀\n",
      "[2025-05-17 12:29:23] 🔄 [Época 1400] 🧠 Pérdida entrenamiento: 0.0014 | Validación: 0.0156 🚀\n",
      "[2025-05-17 12:29:23] 🔄 [Época 1500] 🧠 Pérdida entrenamiento: 0.0012 | Validación: 0.0159 🚀\n",
      "[2025-05-17 12:29:23] 🔄 [Época 1600] 🧠 Pérdida entrenamiento: 0.0009 | Validación: 0.0163 🚀\n",
      "[2025-05-17 12:29:23] 🔄 [Época 1700] 🧠 Pérdida entrenamiento: 0.0008 | Validación: 0.0156 🚀\n",
      "[2025-05-17 12:29:23] 🔄 [Época 1600] 🧠 Pérdida entrenamiento: 0.0009 | Validación: 0.0163 🚀\n",
      "[2025-05-17 12:29:23] 🔄 [Época 1700] 🧠 Pérdida entrenamiento: 0.0008 | Validación: 0.0156 🚀\n",
      "[2025-05-17 12:29:24] 🔄 [Época 1800] 🧠 Pérdida entrenamiento: 0.0011 | Validación: 0.0156 🚀\n",
      "[2025-05-17 12:29:24] 🔄 [Época 1900] 🧠 Pérdida entrenamiento: 0.0008 | Validación: 0.0162 🚀\n",
      "[2025-05-17 12:29:24] 🔄 [Época 1800] 🧠 Pérdida entrenamiento: 0.0011 | Validación: 0.0156 🚀\n",
      "[2025-05-17 12:29:24] 🔄 [Época 1900] 🧠 Pérdida entrenamiento: 0.0008 | Validación: 0.0162 🚀\n",
      "[2025-05-17 12:29:24] 🔄 [Época 2000] 🧠 Pérdida entrenamiento: 0.0009 | Validación: 0.0163 🚀\n",
      "[2025-05-17 12:29:24] 🔄 [Época 2100] 🧠 Pérdida entrenamiento: 0.0008 | Validación: 0.0156 🚀\n",
      "[2025-05-17 12:29:24] 🔄 [Época 2000] 🧠 Pérdida entrenamiento: 0.0009 | Validación: 0.0163 🚀\n",
      "[2025-05-17 12:29:24] 🔄 [Época 2100] 🧠 Pérdida entrenamiento: 0.0008 | Validación: 0.0156 🚀\n",
      "[2025-05-17 12:29:24] 🔄 [Época 2200] 🧠 Pérdida entrenamiento: 0.0008 | Validación: 0.0164 🚀\n",
      "[2025-05-17 12:29:24] 🔄 [Época 2300] 🧠 Pérdida entrenamiento: 0.0007 | Validación: 0.0160 🚀\n",
      "[2025-05-17 12:29:24] 🔄 [Época 2200] 🧠 Pérdida entrenamiento: 0.0008 | Validación: 0.0164 🚀\n",
      "[2025-05-17 12:29:24] 🔄 [Época 2300] 🧠 Pérdida entrenamiento: 0.0007 | Validación: 0.0160 🚀\n",
      "[2025-05-17 12:29:24] 🔄 [Época 2400] 🧠 Pérdida entrenamiento: 0.0006 | Validación: 0.0158 🚀\n",
      "[2025-05-17 12:29:24] 🔄 [Época 2500] 🧠 Pérdida entrenamiento: 0.0007 | Validación: 0.0157 🚀\n",
      "[2025-05-17 12:29:24] 🔄 [Época 2400] 🧠 Pérdida entrenamiento: 0.0006 | Validación: 0.0158 🚀\n",
      "[2025-05-17 12:29:24] 🔄 [Época 2500] 🧠 Pérdida entrenamiento: 0.0007 | Validación: 0.0157 🚀\n",
      "[2025-05-17 12:29:24] 🔄 [Época 2600] 🧠 Pérdida entrenamiento: 0.0007 | Validación: 0.0160 🚀\n",
      "[2025-05-17 12:29:25] 🔄 [Época 2700] 🧠 Pérdida entrenamiento: 0.0006 | Validación: 0.0162 🚀\n",
      "[2025-05-17 12:29:24] 🔄 [Época 2600] 🧠 Pérdida entrenamiento: 0.0007 | Validación: 0.0160 🚀\n",
      "[2025-05-17 12:29:25] 🔄 [Época 2700] 🧠 Pérdida entrenamiento: 0.0006 | Validación: 0.0162 🚀\n",
      "[2025-05-17 12:29:25] 🔄 [Época 2800] 🧠 Pérdida entrenamiento: 0.0008 | Validación: 0.0158 🚀\n",
      "[2025-05-17 12:29:25] 🔄 [Época 2900] 🧠 Pérdida entrenamiento: 0.0007 | Validación: 0.0164 🚀\n",
      "[2025-05-17 12:29:25] 🔄 [Época 2800] 🧠 Pérdida entrenamiento: 0.0008 | Validación: 0.0158 🚀\n",
      "[2025-05-17 12:29:25] 🔄 [Época 2900] 🧠 Pérdida entrenamiento: 0.0007 | Validación: 0.0164 🚀\n",
      "[2025-05-17 12:29:25] 🔄 [Época 3000] 🧠 Pérdida entrenamiento: 0.0008 | Validación: 0.0163 🚀\n",
      "[2025-05-17 12:29:25] 🔄 [Época 3100] 🧠 Pérdida entrenamiento: 0.0006 | Validación: 0.0160 🚀\n",
      "[2025-05-17 12:29:25] 🔄 [Época 3000] 🧠 Pérdida entrenamiento: 0.0008 | Validación: 0.0163 🚀\n",
      "[2025-05-17 12:29:25] 🔄 [Época 3100] 🧠 Pérdida entrenamiento: 0.0006 | Validación: 0.0160 🚀\n",
      "[2025-05-17 12:29:25] 🔄 [Época 3200] 🧠 Pérdida entrenamiento: 0.0006 | Validación: 0.0164 🚀\n",
      "[2025-05-17 12:29:25] 🔄 [Época 3300] 🧠 Pérdida entrenamiento: 0.0005 | Validación: 0.0164 🚀\n",
      "[2025-05-17 12:29:25] 🔄 [Época 3200] 🧠 Pérdida entrenamiento: 0.0006 | Validación: 0.0164 🚀\n",
      "[2025-05-17 12:29:25] 🔄 [Época 3300] 🧠 Pérdida entrenamiento: 0.0005 | Validación: 0.0164 🚀\n",
      "[2025-05-17 12:29:25] 🔄 [Época 3400] 🧠 Pérdida entrenamiento: 0.0005 | Validación: 0.0165 🚀\n",
      "[2025-05-17 12:29:25] 🔄 [Época 3500] 🧠 Pérdida entrenamiento: 0.0008 | Validación: 0.0164 🚀\n",
      "[2025-05-17 12:29:25] 🔄 [Época 3400] 🧠 Pérdida entrenamiento: 0.0005 | Validación: 0.0165 🚀\n",
      "[2025-05-17 12:29:25] 🔄 [Época 3500] 🧠 Pérdida entrenamiento: 0.0008 | Validación: 0.0164 🚀\n",
      "[2025-05-17 12:29:26] 🔄 [Época 3600] 🧠 Pérdida entrenamiento: 0.0007 | Validación: 0.0166 🚀\n",
      "[2025-05-17 12:29:26] 🔄 [Época 3700] 🧠 Pérdida entrenamiento: 0.0006 | Validación: 0.0163 🚀\n",
      "[2025-05-17 12:29:26] 🔄 [Época 3600] 🧠 Pérdida entrenamiento: 0.0007 | Validación: 0.0166 🚀\n",
      "[2025-05-17 12:29:26] 🔄 [Época 3700] 🧠 Pérdida entrenamiento: 0.0006 | Validación: 0.0163 🚀\n",
      "[2025-05-17 12:29:26] 🔄 [Época 3800] 🧠 Pérdida entrenamiento: 0.0005 | Validación: 0.0167 🚀\n",
      "[2025-05-17 12:29:26] 🔄 [Época 3900] 🧠 Pérdida entrenamiento: 0.0005 | Validación: 0.0169 🚀\n",
      "[2025-05-17 12:29:26] 🔄 [Época 3800] 🧠 Pérdida entrenamiento: 0.0005 | Validación: 0.0167 🚀\n",
      "[2025-05-17 12:29:26] 🔄 [Época 3900] 🧠 Pérdida entrenamiento: 0.0005 | Validación: 0.0169 🚀\n",
      "[2025-05-17 12:29:26] 🔄 [Época 4000] 🧠 Pérdida entrenamiento: 0.0007 | Validación: 0.0167 🚀\n",
      "[2025-05-17 12:29:26] 🔄 [Época 4100] 🧠 Pérdida entrenamiento: 0.0005 | Validación: 0.0166 🚀\n",
      "[2025-05-17 12:29:26] 🔄 [Época 4000] 🧠 Pérdida entrenamiento: 0.0007 | Validación: 0.0167 🚀\n",
      "[2025-05-17 12:29:26] 🔄 [Época 4100] 🧠 Pérdida entrenamiento: 0.0005 | Validación: 0.0166 🚀\n",
      "[2025-05-17 12:29:26] 🔄 [Época 4200] 🧠 Pérdida entrenamiento: 0.0004 | Validación: 0.0171 🚀\n",
      "[2025-05-17 12:29:26] 🔄 [Época 4300] 🧠 Pérdida entrenamiento: 0.0005 | Validación: 0.0167 🚀\n",
      "[2025-05-17 12:29:26] 🔄 [Época 4200] 🧠 Pérdida entrenamiento: 0.0004 | Validación: 0.0171 🚀\n",
      "[2025-05-17 12:29:26] 🔄 [Época 4300] 🧠 Pérdida entrenamiento: 0.0005 | Validación: 0.0167 🚀\n",
      "[2025-05-17 12:29:26] 🔄 [Época 4400] 🧠 Pérdida entrenamiento: 0.0004 | Validación: 0.0170 🚀\n",
      "[2025-05-17 12:29:27] 🔄 [Época 4500] 🧠 Pérdida entrenamiento: 0.0005 | Validación: 0.0170 🚀\n",
      "[2025-05-17 12:29:26] 🔄 [Época 4400] 🧠 Pérdida entrenamiento: 0.0004 | Validación: 0.0170 🚀\n",
      "[2025-05-17 12:29:27] 🔄 [Época 4500] 🧠 Pérdida entrenamiento: 0.0005 | Validación: 0.0170 🚀\n",
      "[2025-05-17 12:29:27] 🔄 [Época 4600] 🧠 Pérdida entrenamiento: 0.0004 | Validación: 0.0172 🚀\n",
      "[2025-05-17 12:29:27] 🔄 [Época 4700] 🧠 Pérdida entrenamiento: 0.0005 | Validación: 0.0174 🚀\n",
      "[2025-05-17 12:29:27] 🔄 [Época 4600] 🧠 Pérdida entrenamiento: 0.0004 | Validación: 0.0172 🚀\n",
      "[2025-05-17 12:29:27] 🔄 [Época 4700] 🧠 Pérdida entrenamiento: 0.0005 | Validación: 0.0174 🚀\n",
      "[2025-05-17 12:29:27] 🔄 [Época 4800] 🧠 Pérdida entrenamiento: 0.0005 | Validación: 0.0170 🚀\n",
      "[2025-05-17 12:29:27] 🔄 [Época 4900] 🧠 Pérdida entrenamiento: 0.0004 | Validación: 0.0165 🚀\n",
      "[2025-05-17 12:29:27] ✅ Entrenamiento finalizado ✅\n",
      "[2025-05-17 12:29:27] 🔄 [Época 4800] 🧠 Pérdida entrenamiento: 0.0005 | Validación: 0.0170 🚀\n",
      "[2025-05-17 12:29:27] 🔄 [Época 4900] 🧠 Pérdida entrenamiento: 0.0004 | Validación: 0.0165 🚀\n",
      "[2025-05-17 12:29:27] ✅ Entrenamiento finalizado ✅\n"
     ]
    }
   ],
   "source": [
    "# Convertir X y y a tensores de PyTorch y moverlos a la GPU\n",
    "X = torch.tensor(X, dtype=torch.float32).to(dh.DEVICE)\n",
    "y = torch.tensor(y, dtype=torch.float32).to(dh.DEVICE)\n",
    "\n",
    "# Dividir los datos en entrenamiento y validación\n",
    "X_train, X_val, y_train, y_val = train_test_split(\n",
    "    X.cpu().numpy(), y.cpu().numpy(), test_size=0.2, random_state=42\n",
    ")\n",
    "\n",
    "# Convertir los conjuntos a tensores y moverlos a la GPU\n",
    "X_train = torch.tensor(X_train, dtype=torch.float32).to(dh.DEVICE)\n",
    "X_val = torch.tensor(X_val, dtype=torch.float32).to(dh.DEVICE)\n",
    "y_train = torch.tensor(y_train, dtype=torch.float32).to(dh.DEVICE)\n",
    "y_val = torch.tensor(y_val, dtype=torch.float32).to(dh.DEVICE)\n",
    "\n",
    "input_dim = X_train.shape[1]\n",
    "hidden_dim = 512\n",
    "dropout_prob = 0.2\n",
    "show_info = 'True'\n",
    "\n",
    "mcd = MonteCarloDropoutNetwork_opt(input_dim, hidden_dim, DEVICE, dropout_prob, show_info=show_info)\n",
    "model = mcd.train_model(X_train, y_train, X_val, y_val, num_epochs=5000, lr=0.001)"
   ]
  },
  {
   "cell_type": "code",
   "execution_count": 3,
   "id": "a3e9cc15",
   "metadata": {},
   "outputs": [],
   "source": [
    "# Predicción MC Dropout y desnormalización\n",
    "y_pred_train, y_pred_train_std = mcd.predict_mc_dropout(X_train, num_samples=100)\n",
    "y_pred_val, y_pred_val_std = mcd.predict_mc_dropout(X_val, num_samples=100)\n",
    "\n",
    "y_train_np = y_train.cpu().numpy()\n",
    "y_val_np = y_val.cpu().numpy()\n",
    "y_train_mo = dh.denormalize_value(scales, y_train_np, 'Mo_cumulative')\n",
    "y_pred_train_mo = dh.denormalize_value(scales, y_pred_train, 'Mo_cumulative')\n",
    "y_val_mo = dh.denormalize_value(scales, y_val_np, 'Mo_cumulative')\n",
    "y_pred_val_mo = dh.denormalize_value(scales, y_pred_val, 'Mo_cumulative')"
   ]
  },
  {
   "cell_type": "code",
   "execution_count": 4,
   "id": "da084cb7",
   "metadata": {},
   "outputs": [
    {
     "data": {
      "application/vnd.plotly.v1+json": {
       "config": {
        "plotlyServerURL": "https://plot.ly"
       },
       "data": [
        {
         "line": {
          "color": "blue"
         },
         "mode": "lines",
         "name": "Valores Reales",
         "type": "scatter",
         "x": [
          0,
          1,
          2,
          3,
          4,
          5,
          6,
          7,
          8,
          9,
          10,
          11,
          12,
          13,
          14,
          15,
          16,
          17,
          18,
          19,
          20,
          21,
          22,
          23,
          24,
          25,
          26,
          27,
          28,
          29,
          30,
          31,
          32,
          33,
          34,
          35,
          36,
          37,
          38,
          39,
          40,
          41,
          42,
          43,
          44,
          45,
          46,
          47,
          48,
          49,
          50,
          51,
          52,
          53,
          54,
          55,
          56,
          57,
          58,
          59,
          60,
          61,
          62,
          63,
          64,
          65,
          66,
          67,
          68,
          69,
          70,
          71,
          72,
          73,
          74,
          75,
          76,
          77,
          78,
          79,
          80,
          81,
          82,
          83,
          84,
          85,
          86,
          87,
          88,
          89,
          90,
          91,
          92,
          93,
          94,
          95,
          96,
          97,
          98,
          99,
          100,
          101,
          102,
          103,
          104,
          105,
          106,
          107,
          108,
          109,
          110,
          111,
          112,
          113,
          114,
          115,
          116,
          117,
          118,
          119,
          120,
          121,
          122,
          123,
          124,
          125,
          126,
          127,
          128,
          129,
          130,
          131,
          132,
          133,
          134,
          135,
          136,
          137,
          138,
          139,
          140,
          141,
          142,
          143,
          144,
          145,
          146,
          147,
          148,
          149,
          150,
          151,
          152,
          153,
          154,
          155,
          156,
          157,
          158,
          159,
          160,
          161,
          162,
          163,
          164,
          165,
          166,
          167,
          168,
          169,
          170,
          171,
          172,
          173,
          174,
          175,
          176,
          177,
          178,
          179,
          180,
          181,
          182,
          183,
          184,
          185,
          186,
          187,
          188,
          189,
          190,
          191,
          192,
          193,
          194,
          195,
          196,
          197,
          198,
          199,
          200,
          201,
          202,
          203,
          204,
          205,
          206,
          207,
          208,
          209,
          210,
          211,
          212,
          213,
          214,
          215,
          216,
          217,
          218,
          219,
          220,
          221,
          222,
          223,
          224,
          225,
          226,
          227,
          228,
          229,
          230,
          231
         ],
         "y": {
          "bdata": "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",
          "dtype": "f8"
         }
        },
        {
         "line": {
          "color": "red"
         },
         "mode": "lines",
         "name": "MCD - Predicciones",
         "type": "scatter",
         "x": [
          0,
          1,
          2,
          3,
          4,
          5,
          6,
          7,
          8,
          9,
          10,
          11,
          12,
          13,
          14,
          15,
          16,
          17,
          18,
          19,
          20,
          21,
          22,
          23,
          24,
          25,
          26,
          27,
          28,
          29,
          30,
          31,
          32,
          33,
          34,
          35,
          36,
          37,
          38,
          39,
          40,
          41,
          42,
          43,
          44,
          45,
          46,
          47,
          48,
          49,
          50,
          51,
          52,
          53,
          54,
          55,
          56,
          57,
          58,
          59,
          60,
          61,
          62,
          63,
          64,
          65,
          66,
          67,
          68,
          69,
          70,
          71,
          72,
          73,
          74,
          75,
          76,
          77,
          78,
          79,
          80,
          81,
          82,
          83,
          84,
          85,
          86,
          87,
          88,
          89,
          90,
          91,
          92,
          93,
          94,
          95,
          96,
          97,
          98,
          99,
          100,
          101,
          102,
          103,
          104,
          105,
          106,
          107,
          108,
          109,
          110,
          111,
          112,
          113,
          114,
          115,
          116,
          117,
          118,
          119,
          120,
          121,
          122,
          123,
          124,
          125,
          126,
          127,
          128,
          129,
          130,
          131,
          132,
          133,
          134,
          135,
          136,
          137,
          138,
          139,
          140,
          141,
          142,
          143,
          144,
          145,
          146,
          147,
          148,
          149,
          150,
          151,
          152,
          153,
          154,
          155,
          156,
          157,
          158,
          159,
          160,
          161,
          162,
          163,
          164,
          165,
          166,
          167,
          168,
          169,
          170,
          171,
          172,
          173,
          174,
          175,
          176,
          177,
          178,
          179,
          180,
          181,
          182,
          183,
          184,
          185,
          186,
          187,
          188,
          189,
          190,
          191,
          192,
          193,
          194,
          195,
          196,
          197,
          198,
          199,
          200,
          201,
          202,
          203,
          204,
          205,
          206,
          207,
          208,
          209,
          210,
          211,
          212,
          213,
          214,
          215,
          216,
          217,
          218,
          219,
          220,
          221,
          222,
          223,
          224,
          225,
          226,
          227,
          228,
          229,
          230,
          231
         ],
         "y": {
          "bdata": "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",
          "dtype": "f8"
         }
        },
        {
         "line": {
          "width": 0
         },
         "mode": "lines",
         "showlegend": false,
         "type": "scatter",
         "x": [
          0,
          1,
          2,
          3,
          4,
          5,
          6,
          7,
          8,
          9,
          10,
          11,
          12,
          13,
          14,
          15,
          16,
          17,
          18,
          19,
          20,
          21,
          22,
          23,
          24,
          25,
          26,
          27,
          28,
          29,
          30,
          31,
          32,
          33,
          34,
          35,
          36,
          37,
          38,
          39,
          40,
          41,
          42,
          43,
          44,
          45,
          46,
          47,
          48,
          49,
          50,
          51,
          52,
          53,
          54,
          55,
          56,
          57,
          58,
          59,
          60,
          61,
          62,
          63,
          64,
          65,
          66,
          67,
          68,
          69,
          70,
          71,
          72,
          73,
          74,
          75,
          76,
          77,
          78,
          79,
          80,
          81,
          82,
          83,
          84,
          85,
          86,
          87,
          88,
          89,
          90,
          91,
          92,
          93,
          94,
          95,
          96,
          97,
          98,
          99,
          100,
          101,
          102,
          103,
          104,
          105,
          106,
          107,
          108,
          109,
          110,
          111,
          112,
          113,
          114,
          115,
          116,
          117,
          118,
          119,
          120,
          121,
          122,
          123,
          124,
          125,
          126,
          127,
          128,
          129,
          130,
          131,
          132,
          133,
          134,
          135,
          136,
          137,
          138,
          139,
          140,
          141,
          142,
          143,
          144,
          145,
          146,
          147,
          148,
          149,
          150,
          151,
          152,
          153,
          154,
          155,
          156,
          157,
          158,
          159,
          160,
          161,
          162,
          163,
          164,
          165,
          166,
          167,
          168,
          169,
          170,
          171,
          172,
          173,
          174,
          175,
          176,
          177,
          178,
          179,
          180,
          181,
          182,
          183,
          184,
          185,
          186,
          187,
          188,
          189,
          190,
          191,
          192,
          193,
          194,
          195,
          196,
          197,
          198,
          199,
          200,
          201,
          202,
          203,
          204,
          205,
          206,
          207,
          208,
          209,
          210,
          211,
          212,
          213,
          214,
          215,
          216,
          217,
          218,
          219,
          220,
          221,
          222,
          223,
          224,
          225,
          226,
          227,
          228,
          229,
          230,
          231
         ],
         "y": {
          "bdata": "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",
          "dtype": "f8"
         }
        },
        {
         "fill": "tonexty",
         "fillcolor": "rgba(255, 0, 0, 0.2)",
         "line": {
          "width": 0
         },
         "mode": "lines",
         "name": "Intervalo de Confianza",
         "showlegend": false,
         "type": "scatter",
         "x": [
          0,
          1,
          2,
          3,
          4,
          5,
          6,
          7,
          8,
          9,
          10,
          11,
          12,
          13,
          14,
          15,
          16,
          17,
          18,
          19,
          20,
          21,
          22,
          23,
          24,
          25,
          26,
          27,
          28,
          29,
          30,
          31,
          32,
          33,
          34,
          35,
          36,
          37,
          38,
          39,
          40,
          41,
          42,
          43,
          44,
          45,
          46,
          47,
          48,
          49,
          50,
          51,
          52,
          53,
          54,
          55,
          56,
          57,
          58,
          59,
          60,
          61,
          62,
          63,
          64,
          65,
          66,
          67,
          68,
          69,
          70,
          71,
          72,
          73,
          74,
          75,
          76,
          77,
          78,
          79,
          80,
          81,
          82,
          83,
          84,
          85,
          86,
          87,
          88,
          89,
          90,
          91,
          92,
          93,
          94,
          95,
          96,
          97,
          98,
          99,
          100,
          101,
          102,
          103,
          104,
          105,
          106,
          107,
          108,
          109,
          110,
          111,
          112,
          113,
          114,
          115,
          116,
          117,
          118,
          119,
          120,
          121,
          122,
          123,
          124,
          125,
          126,
          127,
          128,
          129,
          130,
          131,
          132,
          133,
          134,
          135,
          136,
          137,
          138,
          139,
          140,
          141,
          142,
          143,
          144,
          145,
          146,
          147,
          148,
          149,
          150,
          151,
          152,
          153,
          154,
          155,
          156,
          157,
          158,
          159,
          160,
          161,
          162,
          163,
          164,
          165,
          166,
          167,
          168,
          169,
          170,
          171,
          172,
          173,
          174,
          175,
          176,
          177,
          178,
          179,
          180,
          181,
          182,
          183,
          184,
          185,
          186,
          187,
          188,
          189,
          190,
          191,
          192,
          193,
          194,
          195,
          196,
          197,
          198,
          199,
          200,
          201,
          202,
          203,
          204,
          205,
          206,
          207,
          208,
          209,
          210,
          211,
          212,
          213,
          214,
          215,
          216,
          217,
          218,
          219,
          220,
          221,
          222,
          223,
          224,
          225,
          226,
          227,
          228,
          229,
          230,
          231
         ],
         "y": {
          "bdata": "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",
          "dtype": "f8"
         }
        }
       ],
       "layout": {
        "height": 400,
        "legend": {
         "title": {
          "text": "Leyenda"
         }
        },
        "showlegend": true,
        "template": {
         "data": {
          "bar": [
           {
            "error_x": {
             "color": "#2a3f5f"
            },
            "error_y": {
             "color": "#2a3f5f"
            },
            "marker": {
             "line": {
              "color": "#E5ECF6",
              "width": 0.5
             },
             "pattern": {
              "fillmode": "overlay",
              "size": 10,
              "solidity": 0.2
             }
            },
            "type": "bar"
           }
          ],
          "barpolar": [
           {
            "marker": {
             "line": {
              "color": "#E5ECF6",
              "width": 0.5
             },
             "pattern": {
              "fillmode": "overlay",
              "size": 10,
              "solidity": 0.2
             }
            },
            "type": "barpolar"
           }
          ],
          "carpet": [
           {
            "aaxis": {
             "endlinecolor": "#2a3f5f",
             "gridcolor": "white",
             "linecolor": "white",
             "minorgridcolor": "white",
             "startlinecolor": "#2a3f5f"
            },
            "baxis": {
             "endlinecolor": "#2a3f5f",
             "gridcolor": "white",
             "linecolor": "white",
             "minorgridcolor": "white",
             "startlinecolor": "#2a3f5f"
            },
            "type": "carpet"
           }
          ],
          "choropleth": [
           {
            "colorbar": {
             "outlinewidth": 0,
             "ticks": ""
            },
            "type": "choropleth"
           }
          ],
          "contour": [
           {
            "colorbar": {
             "outlinewidth": 0,
             "ticks": ""
            },
            "colorscale": [
             [
              0,
              "#0d0887"
             ],
             [
              0.1111111111111111,
              "#46039f"
             ],
             [
              0.2222222222222222,
              "#7201a8"
             ],
             [
              0.3333333333333333,
              "#9c179e"
             ],
             [
              0.4444444444444444,
              "#bd3786"
             ],
             [
              0.5555555555555556,
              "#d8576b"
             ],
             [
              0.6666666666666666,
              "#ed7953"
             ],
             [
              0.7777777777777778,
              "#fb9f3a"
             ],
             [
              0.8888888888888888,
              "#fdca26"
             ],
             [
              1,
              "#f0f921"
             ]
            ],
            "type": "contour"
           }
          ],
          "contourcarpet": [
           {
            "colorbar": {
             "outlinewidth": 0,
             "ticks": ""
            },
            "type": "contourcarpet"
           }
          ],
          "heatmap": [
           {
            "colorbar": {
             "outlinewidth": 0,
             "ticks": ""
            },
            "colorscale": [
             [
              0,
              "#0d0887"
             ],
             [
              0.1111111111111111,
              "#46039f"
             ],
             [
              0.2222222222222222,
              "#7201a8"
             ],
             [
              0.3333333333333333,
              "#9c179e"
             ],
             [
              0.4444444444444444,
              "#bd3786"
             ],
             [
              0.5555555555555556,
              "#d8576b"
             ],
             [
              0.6666666666666666,
              "#ed7953"
             ],
             [
              0.7777777777777778,
              "#fb9f3a"
             ],
             [
              0.8888888888888888,
              "#fdca26"
             ],
             [
              1,
              "#f0f921"
             ]
            ],
            "type": "heatmap"
           }
          ],
          "histogram": [
           {
            "marker": {
             "pattern": {
              "fillmode": "overlay",
              "size": 10,
              "solidity": 0.2
             }
            },
            "type": "histogram"
           }
          ],
          "histogram2d": [
           {
            "colorbar": {
             "outlinewidth": 0,
             "ticks": ""
            },
            "colorscale": [
             [
              0,
              "#0d0887"
             ],
             [
              0.1111111111111111,
              "#46039f"
             ],
             [
              0.2222222222222222,
              "#7201a8"
             ],
             [
              0.3333333333333333,
              "#9c179e"
             ],
             [
              0.4444444444444444,
              "#bd3786"
             ],
             [
              0.5555555555555556,
              "#d8576b"
             ],
             [
              0.6666666666666666,
              "#ed7953"
             ],
             [
              0.7777777777777778,
              "#fb9f3a"
             ],
             [
              0.8888888888888888,
              "#fdca26"
             ],
             [
              1,
              "#f0f921"
             ]
            ],
            "type": "histogram2d"
           }
          ],
          "histogram2dcontour": [
           {
            "colorbar": {
             "outlinewidth": 0,
             "ticks": ""
            },
            "colorscale": [
             [
              0,
              "#0d0887"
             ],
             [
              0.1111111111111111,
              "#46039f"
             ],
             [
              0.2222222222222222,
              "#7201a8"
             ],
             [
              0.3333333333333333,
              "#9c179e"
             ],
             [
              0.4444444444444444,
              "#bd3786"
             ],
             [
              0.5555555555555556,
              "#d8576b"
             ],
             [
              0.6666666666666666,
              "#ed7953"
             ],
             [
              0.7777777777777778,
              "#fb9f3a"
             ],
             [
              0.8888888888888888,
              "#fdca26"
             ],
             [
              1,
              "#f0f921"
             ]
            ],
            "type": "histogram2dcontour"
           }
          ],
          "mesh3d": [
           {
            "colorbar": {
             "outlinewidth": 0,
             "ticks": ""
            },
            "type": "mesh3d"
           }
          ],
          "parcoords": [
           {
            "line": {
             "colorbar": {
              "outlinewidth": 0,
              "ticks": ""
             }
            },
            "type": "parcoords"
           }
          ],
          "pie": [
           {
            "automargin": true,
            "type": "pie"
           }
          ],
          "scatter": [
           {
            "fillpattern": {
             "fillmode": "overlay",
             "size": 10,
             "solidity": 0.2
            },
            "type": "scatter"
           }
          ],
          "scatter3d": [
           {
            "line": {
             "colorbar": {
              "outlinewidth": 0,
              "ticks": ""
             }
            },
            "marker": {
             "colorbar": {
              "outlinewidth": 0,
              "ticks": ""
             }
            },
            "type": "scatter3d"
           }
          ],
          "scattercarpet": [
           {
            "marker": {
             "colorbar": {
              "outlinewidth": 0,
              "ticks": ""
             }
            },
            "type": "scattercarpet"
           }
          ],
          "scattergeo": [
           {
            "marker": {
             "colorbar": {
              "outlinewidth": 0,
              "ticks": ""
             }
            },
            "type": "scattergeo"
           }
          ],
          "scattergl": [
           {
            "marker": {
             "colorbar": {
              "outlinewidth": 0,
              "ticks": ""
             }
            },
            "type": "scattergl"
           }
          ],
          "scattermap": [
           {
            "marker": {
             "colorbar": {
              "outlinewidth": 0,
              "ticks": ""
             }
            },
            "type": "scattermap"
           }
          ],
          "scattermapbox": [
           {
            "marker": {
             "colorbar": {
              "outlinewidth": 0,
              "ticks": ""
             }
            },
            "type": "scattermapbox"
           }
          ],
          "scatterpolar": [
           {
            "marker": {
             "colorbar": {
              "outlinewidth": 0,
              "ticks": ""
             }
            },
            "type": "scatterpolar"
           }
          ],
          "scatterpolargl": [
           {
            "marker": {
             "colorbar": {
              "outlinewidth": 0,
              "ticks": ""
             }
            },
            "type": "scatterpolargl"
           }
          ],
          "scatterternary": [
           {
            "marker": {
             "colorbar": {
              "outlinewidth": 0,
              "ticks": ""
             }
            },
            "type": "scatterternary"
           }
          ],
          "surface": [
           {
            "colorbar": {
             "outlinewidth": 0,
             "ticks": ""
            },
            "colorscale": [
             [
              0,
              "#0d0887"
             ],
             [
              0.1111111111111111,
              "#46039f"
             ],
             [
              0.2222222222222222,
              "#7201a8"
             ],
             [
              0.3333333333333333,
              "#9c179e"
             ],
             [
              0.4444444444444444,
              "#bd3786"
             ],
             [
              0.5555555555555556,
              "#d8576b"
             ],
             [
              0.6666666666666666,
              "#ed7953"
             ],
             [
              0.7777777777777778,
              "#fb9f3a"
             ],
             [
              0.8888888888888888,
              "#fdca26"
             ],
             [
              1,
              "#f0f921"
             ]
            ],
            "type": "surface"
           }
          ],
          "table": [
           {
            "cells": {
             "fill": {
              "color": "#EBF0F8"
             },
             "line": {
              "color": "white"
             }
            },
            "header": {
             "fill": {
              "color": "#C8D4E3"
             },
             "line": {
              "color": "white"
             }
            },
            "type": "table"
           }
          ]
         },
         "layout": {
          "annotationdefaults": {
           "arrowcolor": "#2a3f5f",
           "arrowhead": 0,
           "arrowwidth": 1
          },
          "autotypenumbers": "strict",
          "coloraxis": {
           "colorbar": {
            "outlinewidth": 0,
            "ticks": ""
           }
          },
          "colorscale": {
           "diverging": [
            [
             0,
             "#8e0152"
            ],
            [
             0.1,
             "#c51b7d"
            ],
            [
             0.2,
             "#de77ae"
            ],
            [
             0.3,
             "#f1b6da"
            ],
            [
             0.4,
             "#fde0ef"
            ],
            [
             0.5,
             "#f7f7f7"
            ],
            [
             0.6,
             "#e6f5d0"
            ],
            [
             0.7,
             "#b8e186"
            ],
            [
             0.8,
             "#7fbc41"
            ],
            [
             0.9,
             "#4d9221"
            ],
            [
             1,
             "#276419"
            ]
           ],
           "sequential": [
            [
             0,
             "#0d0887"
            ],
            [
             0.1111111111111111,
             "#46039f"
            ],
            [
             0.2222222222222222,
             "#7201a8"
            ],
            [
             0.3333333333333333,
             "#9c179e"
            ],
            [
             0.4444444444444444,
             "#bd3786"
            ],
            [
             0.5555555555555556,
             "#d8576b"
            ],
            [
             0.6666666666666666,
             "#ed7953"
            ],
            [
             0.7777777777777778,
             "#fb9f3a"
            ],
            [
             0.8888888888888888,
             "#fdca26"
            ],
            [
             1,
             "#f0f921"
            ]
           ],
           "sequentialminus": [
            [
             0,
             "#0d0887"
            ],
            [
             0.1111111111111111,
             "#46039f"
            ],
            [
             0.2222222222222222,
             "#7201a8"
            ],
            [
             0.3333333333333333,
             "#9c179e"
            ],
            [
             0.4444444444444444,
             "#bd3786"
            ],
            [
             0.5555555555555556,
             "#d8576b"
            ],
            [
             0.6666666666666666,
             "#ed7953"
            ],
            [
             0.7777777777777778,
             "#fb9f3a"
            ],
            [
             0.8888888888888888,
             "#fdca26"
            ],
            [
             1,
             "#f0f921"
            ]
           ]
          },
          "colorway": [
           "#636efa",
           "#EF553B",
           "#00cc96",
           "#ab63fa",
           "#FFA15A",
           "#19d3f3",
           "#FF6692",
           "#B6E880",
           "#FF97FF",
           "#FECB52"
          ],
          "font": {
           "color": "#2a3f5f"
          },
          "geo": {
           "bgcolor": "white",
           "lakecolor": "white",
           "landcolor": "#E5ECF6",
           "showlakes": true,
           "showland": true,
           "subunitcolor": "white"
          },
          "hoverlabel": {
           "align": "left"
          },
          "hovermode": "closest",
          "mapbox": {
           "style": "light"
          },
          "paper_bgcolor": "white",
          "plot_bgcolor": "#E5ECF6",
          "polar": {
           "angularaxis": {
            "gridcolor": "white",
            "linecolor": "white",
            "ticks": ""
           },
           "bgcolor": "#E5ECF6",
           "radialaxis": {
            "gridcolor": "white",
            "linecolor": "white",
            "ticks": ""
           }
          },
          "scene": {
           "xaxis": {
            "backgroundcolor": "#E5ECF6",
            "gridcolor": "white",
            "gridwidth": 2,
            "linecolor": "white",
            "showbackground": true,
            "ticks": "",
            "zerolinecolor": "white"
           },
           "yaxis": {
            "backgroundcolor": "#E5ECF6",
            "gridcolor": "white",
            "gridwidth": 2,
            "linecolor": "white",
            "showbackground": true,
            "ticks": "",
            "zerolinecolor": "white"
           },
           "zaxis": {
            "backgroundcolor": "#E5ECF6",
            "gridcolor": "white",
            "gridwidth": 2,
            "linecolor": "white",
            "showbackground": true,
            "ticks": "",
            "zerolinecolor": "white"
           }
          },
          "shapedefaults": {
           "line": {
            "color": "#2a3f5f"
           }
          },
          "ternary": {
           "aaxis": {
            "gridcolor": "white",
            "linecolor": "white",
            "ticks": ""
           },
           "baxis": {
            "gridcolor": "white",
            "linecolor": "white",
            "ticks": ""
           },
           "bgcolor": "#E5ECF6",
           "caxis": {
            "gridcolor": "white",
            "linecolor": "white",
            "ticks": ""
           }
          },
          "title": {
           "x": 0.05
          },
          "xaxis": {
           "automargin": true,
           "gridcolor": "white",
           "linecolor": "white",
           "ticks": "",
           "title": {
            "standoff": 15
           },
           "zerolinecolor": "white",
           "zerolinewidth": 2
          },
          "yaxis": {
           "automargin": true,
           "gridcolor": "white",
           "linecolor": "white",
           "ticks": "",
           "title": {
            "standoff": 15
           },
           "zerolinecolor": "white",
           "zerolinewidth": 2
          }
         }
        },
        "title": {
         "text": "MCD: Predicciones con Intervalo (Entrenamiento)"
        },
        "width": 1200,
        "xaxis": {
         "title": {
          "text": "Indices"
         }
        },
        "yaxis": {
         "title": {
          "text": "Valor"
         }
        }
       }
      }
     },
     "metadata": {},
     "output_type": "display_data"
    },
    {
     "data": {
      "application/vnd.plotly.v1+json": {
       "config": {
        "plotlyServerURL": "https://plot.ly"
       },
       "data": [
        {
         "line": {
          "color": "blue"
         },
         "mode": "lines",
         "name": "Valores Reales",
         "type": "scatter",
         "x": [
          0,
          1,
          2,
          3,
          4,
          5,
          6,
          7,
          8,
          9,
          10,
          11,
          12,
          13,
          14,
          15,
          16,
          17,
          18,
          19,
          20,
          21,
          22,
          23,
          24,
          25,
          26,
          27,
          28,
          29,
          30,
          31,
          32,
          33,
          34,
          35,
          36,
          37,
          38,
          39,
          40,
          41,
          42,
          43,
          44,
          45,
          46,
          47,
          48,
          49,
          50,
          51,
          52,
          53,
          54,
          55,
          56,
          57
         ],
         "y": {
          "bdata": "1CjyN8/a2D9GV/8lF0HwP1jdbAYG2MI/5nZXnf+w1D8y4bE9/jflPyxCqjwMSdg/Cvmewyur5D/i0QwaCQrjP2gbxntSXNC/XlvN+5pE1D+4IzQjWwrZPxgFGQzrvdE/ul6OBvt10j/OGmOpVgrtP5ABP+HOWNw/WFm1r3JqvD+gYq4wCTCXv9htYouIQrW/KsnVGpnp1z+uSmkf9OPoP+Q2E3dEA9k/iM68TAI02T9gXHFDLzX/P9DW45JgpMC/SkJqZu+o0r+UiErZihneP7zaLhbKVts/CMA5gzwowD8wbC0xOcmnvyBTugkdz+U/eE7NGr5K0z8YPfh/T3awP4gEk001nNc/HvYq+zJ95D80jzguvFjePxBlRJndTPM/xEb3WQQG1z96T85KIfjgPyT5W6o8cu0/XsDMuVXj079kI00NzuzQP+4eEwo2dse/OGg/HVNg4D+AOQ7m5p/aP+AS2c9/qMs/6O16QsFl2D/AF0zI2C+Hv2DW41DIBsg/wnxXJW2D7j+sqi5VG9LGv1wXBV8FNtw/gCiQ9r3xsT8Q2w/7l5ekP0AeOxKXdek/KOHcvIFZ8z+0EtkirVHXP/pyrbf6cec/BMt45xf6zj8=",
          "dtype": "f8"
         }
        },
        {
         "line": {
          "color": "red"
         },
         "mode": "lines",
         "name": "MCD - Predicciones",
         "type": "scatter",
         "x": [
          0,
          1,
          2,
          3,
          4,
          5,
          6,
          7,
          8,
          9,
          10,
          11,
          12,
          13,
          14,
          15,
          16,
          17,
          18,
          19,
          20,
          21,
          22,
          23,
          24,
          25,
          26,
          27,
          28,
          29,
          30,
          31,
          32,
          33,
          34,
          35,
          36,
          37,
          38,
          39,
          40,
          41,
          42,
          43,
          44,
          45,
          46,
          47,
          48,
          49,
          50,
          51,
          52,
          53,
          54,
          55,
          56,
          57
         ],
         "y": {
          "bdata": "YAOwj32mzT84mX9IQo3hP3hKl6D0Lsk/8Mwd8/ki4D8QhhZSLrjgP9Y4tqQbd9I/SJKvNBBI4z/ENKdlABLTP+66BbYOvNO/iCt8DxP+vT8QnJrIlMa5v/by1AQNnfM/8BXug7HVur8oh7iRoZHUP/E9py8tAfI/0B+tJtWhwj8gTMRDiCyXvwgaKXiJCbi/4GmTRvo00z9I96v0l8jtP4aSVkJhIdM/UsDTl4f50T9MXvWFBML2P5BG7VWBOts/kD1hKdVrpT/ZDD/cxSLwP+jTEtdn3No/EBnd/UsW0j8I/vxcsPm5vySIJdDcu+Q/rqO9e/Oz4j+QR3lA+y7TPwA+93Mbjaa/+FZg28eT2j/yxcVpS0LYP2BE67UJDOc/1JkO2ofv3j+EhbcouZzZPxC6jKP5+98/gGwx5yehiz9E8cvL5XjWP1Sss2lAO9M/5PykEEsh5j+IzHxxK+DgP1V0hQU8LNC/iMtbn6wXuj+Wo8rbtbDQP3xpzWnWL9C/aG9teuaf2T9itf8Bn2HWPyYOBxbl/dY/AMjx7mqsfj+cjjEd4VjVv0DRvRjvpOk/tgDNrHHb5j8smZqEWK/bP+7/G5YAo+0/IL+CjRKxrr8=",
          "dtype": "f8"
         }
        },
        {
         "line": {
          "width": 0
         },
         "mode": "lines",
         "showlegend": false,
         "type": "scatter",
         "x": [
          0,
          1,
          2,
          3,
          4,
          5,
          6,
          7,
          8,
          9,
          10,
          11,
          12,
          13,
          14,
          15,
          16,
          17,
          18,
          19,
          20,
          21,
          22,
          23,
          24,
          25,
          26,
          27,
          28,
          29,
          30,
          31,
          32,
          33,
          34,
          35,
          36,
          37,
          38,
          39,
          40,
          41,
          42,
          43,
          44,
          45,
          46,
          47,
          48,
          49,
          50,
          51,
          52,
          53,
          54,
          55,
          56,
          57
         ],
         "y": {
          "bdata": "sAHYDXmH0D84mX9OOFbiP3hKl4QnI8w/8Mwd92Ov4T8Qhhba8lXhP9Y4tgTkwtM/SJKvjxAm5D/ENKcdfAjVP+66BRpGkdC/xBW+L4tlwj8gODURbu+iv/by1CIuVPU/4CvcZ1l1q78oh7j94JbWP/E9p2ap4fI/0B+txsYHxj+Az+7wvl15PxA0UhDGMq2/4GmTtoxC1z9I96suPKjvP4aSVsqtQdY/UsDTV6bn0z9MXvUqvJz3P5BG7SnFQt0/yJ6wdDUWsz/ZDD9u7vjwP+jTErt+fN4/EBndMf/V0z8I/vy8HvmyvySIJbRGZuU/rqO9cz+84z+QR3lEVMzUPwCEEZgbPZc/+FZgHdAm3D/yxcVRIbXaP2BE6zPB9+g/6kwHGxzq4D+Ehbd4YLrbPwhdxmLj9eA/IFvM2V5Aqj9E8cuFDqHXP1Sss/V/otQ/5PykoGuD6D+IzHzOQLPhP6roCvslOsW/xOWthz8bwD+Wo8rncTHTP/jSmsMeMMm/aG9tXuvW2z9itf8dv2fZPyYOB+QA39g/ADnePTaOpT+cjjFpi3nSv0DRvf6t2eo/tgDNC5LO5z8smZpSAUjdP/f/DRlWMPA/QH4F20k0lL8=",
          "dtype": "f8"
         }
        },
        {
         "fill": "tonexty",
         "fillcolor": "rgba(255, 0, 0, 0.2)",
         "line": {
          "width": 0
         },
         "mode": "lines",
         "name": "Intervalo de Confianza",
         "showlegend": false,
         "type": "scatter",
         "x": [
          0,
          1,
          2,
          3,
          4,
          5,
          6,
          7,
          8,
          9,
          10,
          11,
          12,
          13,
          14,
          15,
          16,
          17,
          18,
          19,
          20,
          21,
          22,
          23,
          24,
          25,
          26,
          27,
          28,
          29,
          30,
          31,
          32,
          33,
          34,
          35,
          36,
          37,
          38,
          39,
          40,
          41,
          42,
          43,
          44,
          45,
          46,
          47,
          48,
          49,
          50,
          51,
          52,
          53,
          54,
          55,
          56,
          57
         ],
         "y": {
          "bdata": "YAOwAwk+yj84mX9CTMTgP3hKl7zBOsY/4Jk73h8t3T8QhhbKaRrgP9Y4tkRTK9E/SJKv2Q9q4j/ENKethBvRP+66BVLX5ta/iCt8vw8xtz8ITk1EuQrFv/by1Obr5fE/+Ar3KVv4w78oh7glYozSP/E9p/iwIPE/oD9aDcd3vj8QJuIhQFiqvwSNFPTXvMC/wNMmrc9Ozj9I96u68+jrP4aSVroUAdA/UsDT12gL0D9MXvXgTOf1P5BG7YE9Mtk/QPaEpf2sgj+yGX6UOpnuP+jTEvNQPNc/EBndyZhW0D8Ef37+IH3AvySIJexyEeQ/rqO9g6er4T+QR3k8opHRPwCf+1liXLy/+FZgmb8A2T/yxcWBdc/VP2BE6zdSIOU/1JkOftcK3D+EhbfYEX/XPxC6jIEsDN4/wElnzJXfmL9E8csRvVDVP1Sss90A1NE/5PykgCq/4z+IzHwUFg3gP1V0hQ1lu9W/iMtbL9r4sz8sR5Wf81/MP3xpzXGdx9O/aG9tluFo1z9itf/lflvTPyYOB0jJHNU/AI5DBDfGm7+cjjHRNjjYv0DRvTIwcOg/tgDNTVHo5T8smZq2rxbaP+7/G/pU5eo/kF/BFgCkub8=",
          "dtype": "f8"
         }
        }
       ],
       "layout": {
        "height": 400,
        "legend": {
         "title": {
          "text": "Leyenda"
         }
        },
        "showlegend": true,
        "template": {
         "data": {
          "bar": [
           {
            "error_x": {
             "color": "#2a3f5f"
            },
            "error_y": {
             "color": "#2a3f5f"
            },
            "marker": {
             "line": {
              "color": "#E5ECF6",
              "width": 0.5
             },
             "pattern": {
              "fillmode": "overlay",
              "size": 10,
              "solidity": 0.2
             }
            },
            "type": "bar"
           }
          ],
          "barpolar": [
           {
            "marker": {
             "line": {
              "color": "#E5ECF6",
              "width": 0.5
             },
             "pattern": {
              "fillmode": "overlay",
              "size": 10,
              "solidity": 0.2
             }
            },
            "type": "barpolar"
           }
          ],
          "carpet": [
           {
            "aaxis": {
             "endlinecolor": "#2a3f5f",
             "gridcolor": "white",
             "linecolor": "white",
             "minorgridcolor": "white",
             "startlinecolor": "#2a3f5f"
            },
            "baxis": {
             "endlinecolor": "#2a3f5f",
             "gridcolor": "white",
             "linecolor": "white",
             "minorgridcolor": "white",
             "startlinecolor": "#2a3f5f"
            },
            "type": "carpet"
           }
          ],
          "choropleth": [
           {
            "colorbar": {
             "outlinewidth": 0,
             "ticks": ""
            },
            "type": "choropleth"
           }
          ],
          "contour": [
           {
            "colorbar": {
             "outlinewidth": 0,
             "ticks": ""
            },
            "colorscale": [
             [
              0,
              "#0d0887"
             ],
             [
              0.1111111111111111,
              "#46039f"
             ],
             [
              0.2222222222222222,
              "#7201a8"
             ],
             [
              0.3333333333333333,
              "#9c179e"
             ],
             [
              0.4444444444444444,
              "#bd3786"
             ],
             [
              0.5555555555555556,
              "#d8576b"
             ],
             [
              0.6666666666666666,
              "#ed7953"
             ],
             [
              0.7777777777777778,
              "#fb9f3a"
             ],
             [
              0.8888888888888888,
              "#fdca26"
             ],
             [
              1,
              "#f0f921"
             ]
            ],
            "type": "contour"
           }
          ],
          "contourcarpet": [
           {
            "colorbar": {
             "outlinewidth": 0,
             "ticks": ""
            },
            "type": "contourcarpet"
           }
          ],
          "heatmap": [
           {
            "colorbar": {
             "outlinewidth": 0,
             "ticks": ""
            },
            "colorscale": [
             [
              0,
              "#0d0887"
             ],
             [
              0.1111111111111111,
              "#46039f"
             ],
             [
              0.2222222222222222,
              "#7201a8"
             ],
             [
              0.3333333333333333,
              "#9c179e"
             ],
             [
              0.4444444444444444,
              "#bd3786"
             ],
             [
              0.5555555555555556,
              "#d8576b"
             ],
             [
              0.6666666666666666,
              "#ed7953"
             ],
             [
              0.7777777777777778,
              "#fb9f3a"
             ],
             [
              0.8888888888888888,
              "#fdca26"
             ],
             [
              1,
              "#f0f921"
             ]
            ],
            "type": "heatmap"
           }
          ],
          "histogram": [
           {
            "marker": {
             "pattern": {
              "fillmode": "overlay",
              "size": 10,
              "solidity": 0.2
             }
            },
            "type": "histogram"
           }
          ],
          "histogram2d": [
           {
            "colorbar": {
             "outlinewidth": 0,
             "ticks": ""
            },
            "colorscale": [
             [
              0,
              "#0d0887"
             ],
             [
              0.1111111111111111,
              "#46039f"
             ],
             [
              0.2222222222222222,
              "#7201a8"
             ],
             [
              0.3333333333333333,
              "#9c179e"
             ],
             [
              0.4444444444444444,
              "#bd3786"
             ],
             [
              0.5555555555555556,
              "#d8576b"
             ],
             [
              0.6666666666666666,
              "#ed7953"
             ],
             [
              0.7777777777777778,
              "#fb9f3a"
             ],
             [
              0.8888888888888888,
              "#fdca26"
             ],
             [
              1,
              "#f0f921"
             ]
            ],
            "type": "histogram2d"
           }
          ],
          "histogram2dcontour": [
           {
            "colorbar": {
             "outlinewidth": 0,
             "ticks": ""
            },
            "colorscale": [
             [
              0,
              "#0d0887"
             ],
             [
              0.1111111111111111,
              "#46039f"
             ],
             [
              0.2222222222222222,
              "#7201a8"
             ],
             [
              0.3333333333333333,
              "#9c179e"
             ],
             [
              0.4444444444444444,
              "#bd3786"
             ],
             [
              0.5555555555555556,
              "#d8576b"
             ],
             [
              0.6666666666666666,
              "#ed7953"
             ],
             [
              0.7777777777777778,
              "#fb9f3a"
             ],
             [
              0.8888888888888888,
              "#fdca26"
             ],
             [
              1,
              "#f0f921"
             ]
            ],
            "type": "histogram2dcontour"
           }
          ],
          "mesh3d": [
           {
            "colorbar": {
             "outlinewidth": 0,
             "ticks": ""
            },
            "type": "mesh3d"
           }
          ],
          "parcoords": [
           {
            "line": {
             "colorbar": {
              "outlinewidth": 0,
              "ticks": ""
             }
            },
            "type": "parcoords"
           }
          ],
          "pie": [
           {
            "automargin": true,
            "type": "pie"
           }
          ],
          "scatter": [
           {
            "fillpattern": {
             "fillmode": "overlay",
             "size": 10,
             "solidity": 0.2
            },
            "type": "scatter"
           }
          ],
          "scatter3d": [
           {
            "line": {
             "colorbar": {
              "outlinewidth": 0,
              "ticks": ""
             }
            },
            "marker": {
             "colorbar": {
              "outlinewidth": 0,
              "ticks": ""
             }
            },
            "type": "scatter3d"
           }
          ],
          "scattercarpet": [
           {
            "marker": {
             "colorbar": {
              "outlinewidth": 0,
              "ticks": ""
             }
            },
            "type": "scattercarpet"
           }
          ],
          "scattergeo": [
           {
            "marker": {
             "colorbar": {
              "outlinewidth": 0,
              "ticks": ""
             }
            },
            "type": "scattergeo"
           }
          ],
          "scattergl": [
           {
            "marker": {
             "colorbar": {
              "outlinewidth": 0,
              "ticks": ""
             }
            },
            "type": "scattergl"
           }
          ],
          "scattermap": [
           {
            "marker": {
             "colorbar": {
              "outlinewidth": 0,
              "ticks": ""
             }
            },
            "type": "scattermap"
           }
          ],
          "scattermapbox": [
           {
            "marker": {
             "colorbar": {
              "outlinewidth": 0,
              "ticks": ""
             }
            },
            "type": "scattermapbox"
           }
          ],
          "scatterpolar": [
           {
            "marker": {
             "colorbar": {
              "outlinewidth": 0,
              "ticks": ""
             }
            },
            "type": "scatterpolar"
           }
          ],
          "scatterpolargl": [
           {
            "marker": {
             "colorbar": {
              "outlinewidth": 0,
              "ticks": ""
             }
            },
            "type": "scatterpolargl"
           }
          ],
          "scatterternary": [
           {
            "marker": {
             "colorbar": {
              "outlinewidth": 0,
              "ticks": ""
             }
            },
            "type": "scatterternary"
           }
          ],
          "surface": [
           {
            "colorbar": {
             "outlinewidth": 0,
             "ticks": ""
            },
            "colorscale": [
             [
              0,
              "#0d0887"
             ],
             [
              0.1111111111111111,
              "#46039f"
             ],
             [
              0.2222222222222222,
              "#7201a8"
             ],
             [
              0.3333333333333333,
              "#9c179e"
             ],
             [
              0.4444444444444444,
              "#bd3786"
             ],
             [
              0.5555555555555556,
              "#d8576b"
             ],
             [
              0.6666666666666666,
              "#ed7953"
             ],
             [
              0.7777777777777778,
              "#fb9f3a"
             ],
             [
              0.8888888888888888,
              "#fdca26"
             ],
             [
              1,
              "#f0f921"
             ]
            ],
            "type": "surface"
           }
          ],
          "table": [
           {
            "cells": {
             "fill": {
              "color": "#EBF0F8"
             },
             "line": {
              "color": "white"
             }
            },
            "header": {
             "fill": {
              "color": "#C8D4E3"
             },
             "line": {
              "color": "white"
             }
            },
            "type": "table"
           }
          ]
         },
         "layout": {
          "annotationdefaults": {
           "arrowcolor": "#2a3f5f",
           "arrowhead": 0,
           "arrowwidth": 1
          },
          "autotypenumbers": "strict",
          "coloraxis": {
           "colorbar": {
            "outlinewidth": 0,
            "ticks": ""
           }
          },
          "colorscale": {
           "diverging": [
            [
             0,
             "#8e0152"
            ],
            [
             0.1,
             "#c51b7d"
            ],
            [
             0.2,
             "#de77ae"
            ],
            [
             0.3,
             "#f1b6da"
            ],
            [
             0.4,
             "#fde0ef"
            ],
            [
             0.5,
             "#f7f7f7"
            ],
            [
             0.6,
             "#e6f5d0"
            ],
            [
             0.7,
             "#b8e186"
            ],
            [
             0.8,
             "#7fbc41"
            ],
            [
             0.9,
             "#4d9221"
            ],
            [
             1,
             "#276419"
            ]
           ],
           "sequential": [
            [
             0,
             "#0d0887"
            ],
            [
             0.1111111111111111,
             "#46039f"
            ],
            [
             0.2222222222222222,
             "#7201a8"
            ],
            [
             0.3333333333333333,
             "#9c179e"
            ],
            [
             0.4444444444444444,
             "#bd3786"
            ],
            [
             0.5555555555555556,
             "#d8576b"
            ],
            [
             0.6666666666666666,
             "#ed7953"
            ],
            [
             0.7777777777777778,
             "#fb9f3a"
            ],
            [
             0.8888888888888888,
             "#fdca26"
            ],
            [
             1,
             "#f0f921"
            ]
           ],
           "sequentialminus": [
            [
             0,
             "#0d0887"
            ],
            [
             0.1111111111111111,
             "#46039f"
            ],
            [
             0.2222222222222222,
             "#7201a8"
            ],
            [
             0.3333333333333333,
             "#9c179e"
            ],
            [
             0.4444444444444444,
             "#bd3786"
            ],
            [
             0.5555555555555556,
             "#d8576b"
            ],
            [
             0.6666666666666666,
             "#ed7953"
            ],
            [
             0.7777777777777778,
             "#fb9f3a"
            ],
            [
             0.8888888888888888,
             "#fdca26"
            ],
            [
             1,
             "#f0f921"
            ]
           ]
          },
          "colorway": [
           "#636efa",
           "#EF553B",
           "#00cc96",
           "#ab63fa",
           "#FFA15A",
           "#19d3f3",
           "#FF6692",
           "#B6E880",
           "#FF97FF",
           "#FECB52"
          ],
          "font": {
           "color": "#2a3f5f"
          },
          "geo": {
           "bgcolor": "white",
           "lakecolor": "white",
           "landcolor": "#E5ECF6",
           "showlakes": true,
           "showland": true,
           "subunitcolor": "white"
          },
          "hoverlabel": {
           "align": "left"
          },
          "hovermode": "closest",
          "mapbox": {
           "style": "light"
          },
          "paper_bgcolor": "white",
          "plot_bgcolor": "#E5ECF6",
          "polar": {
           "angularaxis": {
            "gridcolor": "white",
            "linecolor": "white",
            "ticks": ""
           },
           "bgcolor": "#E5ECF6",
           "radialaxis": {
            "gridcolor": "white",
            "linecolor": "white",
            "ticks": ""
           }
          },
          "scene": {
           "xaxis": {
            "backgroundcolor": "#E5ECF6",
            "gridcolor": "white",
            "gridwidth": 2,
            "linecolor": "white",
            "showbackground": true,
            "ticks": "",
            "zerolinecolor": "white"
           },
           "yaxis": {
            "backgroundcolor": "#E5ECF6",
            "gridcolor": "white",
            "gridwidth": 2,
            "linecolor": "white",
            "showbackground": true,
            "ticks": "",
            "zerolinecolor": "white"
           },
           "zaxis": {
            "backgroundcolor": "#E5ECF6",
            "gridcolor": "white",
            "gridwidth": 2,
            "linecolor": "white",
            "showbackground": true,
            "ticks": "",
            "zerolinecolor": "white"
           }
          },
          "shapedefaults": {
           "line": {
            "color": "#2a3f5f"
           }
          },
          "ternary": {
           "aaxis": {
            "gridcolor": "white",
            "linecolor": "white",
            "ticks": ""
           },
           "baxis": {
            "gridcolor": "white",
            "linecolor": "white",
            "ticks": ""
           },
           "bgcolor": "#E5ECF6",
           "caxis": {
            "gridcolor": "white",
            "linecolor": "white",
            "ticks": ""
           }
          },
          "title": {
           "x": 0.05
          },
          "xaxis": {
           "automargin": true,
           "gridcolor": "white",
           "linecolor": "white",
           "ticks": "",
           "title": {
            "standoff": 15
           },
           "zerolinecolor": "white",
           "zerolinewidth": 2
          },
          "yaxis": {
           "automargin": true,
           "gridcolor": "white",
           "linecolor": "white",
           "ticks": "",
           "title": {
            "standoff": 15
           },
           "zerolinecolor": "white",
           "zerolinewidth": 2
          }
         }
        },
        "title": {
         "text": "MCD: Predicciones con Intervalo (Validación)"
        },
        "width": 1200,
        "xaxis": {
         "title": {
          "text": "Indices"
         }
        },
        "yaxis": {
         "title": {
          "text": "Valor"
         }
        }
       }
      }
     },
     "metadata": {},
     "output_type": "display_data"
    }
   ],
   "source": [
    "# Graficar resultados con intervalo de confianza\n",
    "dh.plot_with_confidence_interval(\n",
    "    (y_train_mo, 'Valores Reales'),\n",
    "    (y_pred_train_mo, y_pred_train_mo - 1.96 * y_pred_train_std, y_pred_train_mo + 1.96 * y_pred_train_std, 'MCD - Predicciones'),\n",
    "    title='MCD: Predicciones con Intervalo (Entrenamiento)',\n",
    "    size=(1200, 400)\n",
    ")\n",
    "\n",
    "dh.plot_with_confidence_interval(\n",
    "    (y_val_mo, 'Valores Reales'),\n",
    "    (y_pred_val_mo, y_pred_val_mo - 1.96 * y_pred_val_std, y_pred_val_mo + 1.96 * y_pred_val_std, 'MCD - Predicciones'),\n",
    "    title='MCD: Predicciones con Intervalo (Validación)',\n",
    "    size=(1200, 400)\n",
    ")"
   ]
  },
  {
   "cell_type": "code",
   "execution_count": 5,
   "id": "a6ad2ca6",
   "metadata": {},
   "outputs": [
    {
     "name": "stdout",
     "output_type": "stream",
     "text": [
      "\n",
      "📊 Métricas para MCD - Entrenamiento:\n",
      "   MAE  : 0.0250\n",
      "   RMSE : 0.0308\n",
      "   R²   : 0.9944\n",
      "\n",
      "📊 Métricas para MCD - Validación:\n",
      "   MAE  : 0.2619\n",
      "   RMSE : 0.3346\n",
      "   R²   : 0.3219\n"
     ]
    },
    {
     "data": {
      "text/plain": [
       "{'MAE': 0.261852115985948,\n",
       " 'RMSE': np.float64(0.3346290799630877),\n",
       " 'R2': 0.32189855781050125}"
      ]
     },
     "execution_count": 5,
     "metadata": {},
     "output_type": "execute_result"
    }
   ],
   "source": [
    "# Evaluación\n",
    "dh.evaluar_metricas(y_train_mo, y_pred_train_mo, 'MCD - Entrenamiento')\n",
    "dh.evaluar_metricas(y_val_mo, y_pred_val_mo, 'MCD - Validación')"
   ]
  },
  {
   "cell_type": "code",
   "execution_count": 6,
   "id": "67faa12a",
   "metadata": {},
   "outputs": [
    {
     "data": {
      "application/vnd.plotly.v1+json": {
       "config": {
        "plotlyServerURL": "https://plot.ly"
       },
       "data": [
        {
         "marker": {
          "color": "blue",
          "opacity": 0.6
         },
         "mode": "markers",
         "name": "Predicciones",
         "type": "scatter",
         "x": {
          "bdata": "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",
          "dtype": "f8"
         },
         "y": {
          "bdata": "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",
          "dtype": "f8"
         }
        },
        {
         "line": {
          "color": "red",
          "dash": "dash"
         },
         "mode": "lines",
         "name": "Regresión lineal",
         "type": "scatter",
         "x": {
          "bdata": "6Bx5vs+W47/KYByWy9biv6ukv23HFuK/jehiRcNW4b9vLAYdv5bgv6HgUul1rd+/ZGiZmG0t3r8o8N9HZa3cv+t3JvdcLdu/rv9splSt2b9yh7NVTC3YvzUP+gRErda/+JZAtDst1b+8HodjM63Tv3+mzRIrLdK/Qy4UwiKt0L8MbLXiNFrOv5J7QkEkWsu/GovPnxNayL+gmlz+AlrFvyiq6VzyWcK/XHPtdsOzvr9okgc0orO4v3ixIfGAs7K/AKF3XL9mqb9Avlet+cyavwDUAQ6lY2a/QEnXaRA0lT+QZre6SpqmPziUQaBGTbE/KHUn42dNtz8gVg0miU29P4ibeTTVpsE/AIzs1eWmxD98fF939qbHP/Rs0hgHp8o/bF1FuhenzT/0JtwtlFPQPzCflX6c09E/bBdPz6RT0z+ojwggrdPUP+YHwnC1U9Y/IoB7wb3T1z9g+DQSxlPZP5xw7mLO09o/2Oins9ZT3D8UYWEE39PdP1DZGlXnU98/yCjq0vdp4D/m5Eb7+ynhPwShoyMA6uE/Il0ATASq4j9AGV10CGrjP17VuZwMKuQ/fJEWxRDq5D+cTXPtFKrlP7oJ0BUZauY/2MUsPh0q5z/2gYlmIernPxQ+5o4lqug/MvpCtylq6T9Stp/fLSrqP3By/Acy6uo/ji5ZMDaq6z+s6rVYOmrsP8qmEoE+Ku0/6GJvqULq7T8GH8zRRqruPybbKPpKau8/ostCkScV8D+xKXGlKXXwP8CHn7kr1fA/z+XNzS018T/eQ/zhL5XxP+6hKvYx9fE//f9YCjRV8j8MXoceNrXyPxu8tTI4FfM/KhrkRjp18z85eBJbPNXzP0jWQG8+NfQ/WDRvg0CV9D9nkp2XQvX0P3bwy6tEVfU/hU76v0a19T+UrCjUSBX2P6QKV+hKdfY/smiF/EzV9j/CxrMQTzX3P9Ak4iRRlfc/4IIQOVP19z/w4D5NVVX4P/4+bWFXtfg/Dp2bdVkV+T8c+8mJW3X5PyxZ+J1d1fk/PLcmsl81+j9KFVXGYZX6P1pzg9pj9fo/aNGx7mVV+z8=",
          "dtype": "f8"
         },
         "y": {
          "bdata": "nDVzx+pF479enEQy4ovivx8DFp3Z0eG/4WnnB9EX4b+j0LhyyF3gv8luFLt/R9+/TDy3kG7T3b/QCVpmXV/cv1PX/DtM69q/1aSfETt32b9ZckLnKQPYv9w/5bwYj9a/Xw2Ikgcb1b/j2ipo9qbTv2aozT3lMtK/6nVwE9S+0L/ahibShZXOv+AhbH1jrcu/6LyxKEHFyL/uV/fTHt3Fv/byPH/89MK/+42CKtoMwL8DUpCrb0m6vxOIGwIrebS/NnxNscxRrb9V6GNeQ7Ghv9FR6S3oQoi/sf28HT0/hj9c01iaWDChPzxnQu3h0Kw/j/0VoLU4tD+Hx4pJ+gi6P3iR//I+2b8/tC06zsHUwj+wkvQi5LzFP6j3rncGpcg/oFxpzCiNyz+cwSMhS3XOP0oT77q2rtA/xkVM5cci0j9CeKkP2ZbTP8CqBjrqCtU/PN1jZPt+1j+6D8GODPPXPzZCHrkdZ9k/snR74y7b2j8vp9gNQE/cP6vZNThRw90/KwyTYmI33z9TH3jGuVXgP5G4plvCD+E/z1HV8MrJ4T8N6wOG04PiP0uEMhvcPeM/iR1hsOT34z/Jto9F7bHkPwdQvtr1a+U/Runsb/4l5j+EghsFB+DmP8IbSpoPmuc/ALV4LxhU6D9ATqfEIA7pP37n1VkpyOk/vIAE7zGC6j/6GTOEOjzrPzizYRlD9us/dkyQrkuw7D+05b5DVGrtP/R+7dhcJO4/MhgcbmXe7j9wsUoDbpjvP1elPEw7KfA/9vHTlj+G8D+VPmvhQ+PwPzWLAixIQPE/1deZdkyd8T90JDHBUPrxPxNxyAtVV/I/sr1fVlm08j9RCvegXRHzP/BWjuthbvM/kKMlNmbL8z8v8LyAaij0P848VMtuhfQ/bYnrFXPi9D8M1oJgdz/1P6wiGqt7nPU/Sm+x9X/59T/qu0hAhFb2P4gI4IqIs/Y/KFV31YwQ9z/IoQ4gkW33P2bupWqVyvc/Bjs9tZkn+D+kh9T/nYT4P0TUa0qi4fg/5CADlaY++T+CbZrfqpv5PyK6MSqv+Pk/wAbJdLNV+j8=",
          "dtype": "f8"
         }
        },
        {
         "line": {
          "color": "green",
          "dash": "dot"
         },
         "mode": "lines",
         "name": "Línea Perfecta (y = x)",
         "type": "scatter",
         "x": {
          "bdata": "6Bx5vs+W47/KYByWy9biv6ukv23HFuK/jehiRcNW4b9vLAYdv5bgv6HgUul1rd+/ZGiZmG0t3r8o8N9HZa3cv+t3JvdcLdu/rv9splSt2b9yh7NVTC3YvzUP+gRErda/+JZAtDst1b+8HodjM63Tv3+mzRIrLdK/Qy4UwiKt0L8MbLXiNFrOv5J7QkEkWsu/GovPnxNayL+gmlz+AlrFvyiq6VzyWcK/XHPtdsOzvr9okgc0orO4v3ixIfGAs7K/AKF3XL9mqb9Avlet+cyavwDUAQ6lY2a/QEnXaRA0lT+QZre6SpqmPziUQaBGTbE/KHUn42dNtz8gVg0miU29P4ibeTTVpsE/AIzs1eWmxD98fF939qbHP/Rs0hgHp8o/bF1FuhenzT/0JtwtlFPQPzCflX6c09E/bBdPz6RT0z+ojwggrdPUP+YHwnC1U9Y/IoB7wb3T1z9g+DQSxlPZP5xw7mLO09o/2Oins9ZT3D8UYWEE39PdP1DZGlXnU98/yCjq0vdp4D/m5Eb7+ynhPwShoyMA6uE/Il0ATASq4j9AGV10CGrjP17VuZwMKuQ/fJEWxRDq5D+cTXPtFKrlP7oJ0BUZauY/2MUsPh0q5z/2gYlmIernPxQ+5o4lqug/MvpCtylq6T9Stp/fLSrqP3By/Acy6uo/ji5ZMDaq6z+s6rVYOmrsP8qmEoE+Ku0/6GJvqULq7T8GH8zRRqruPybbKPpKau8/ostCkScV8D+xKXGlKXXwP8CHn7kr1fA/z+XNzS018T/eQ/zhL5XxP+6hKvYx9fE//f9YCjRV8j8MXoceNrXyPxu8tTI4FfM/KhrkRjp18z85eBJbPNXzP0jWQG8+NfQ/WDRvg0CV9D9nkp2XQvX0P3bwy6tEVfU/hU76v0a19T+UrCjUSBX2P6QKV+hKdfY/smiF/EzV9j/CxrMQTzX3P9Ak4iRRlfc/4IIQOVP19z/w4D5NVVX4P/4+bWFXtfg/Dp2bdVkV+T8c+8mJW3X5PyxZ+J1d1fk/PLcmsl81+j9KFVXGYZX6P1pzg9pj9fo/aNGx7mVV+z8=",
          "dtype": "f8"
         },
         "y": {
          "bdata": "6Bx5vs+W47/KYByWy9biv6ukv23HFuK/jehiRcNW4b9vLAYdv5bgv6HgUul1rd+/ZGiZmG0t3r8o8N9HZa3cv+t3JvdcLdu/rv9splSt2b9yh7NVTC3YvzUP+gRErda/+JZAtDst1b+8HodjM63Tv3+mzRIrLdK/Qy4UwiKt0L8MbLXiNFrOv5J7QkEkWsu/GovPnxNayL+gmlz+AlrFvyiq6VzyWcK/XHPtdsOzvr9okgc0orO4v3ixIfGAs7K/AKF3XL9mqb9Avlet+cyavwDUAQ6lY2a/QEnXaRA0lT+QZre6SpqmPziUQaBGTbE/KHUn42dNtz8gVg0miU29P4ibeTTVpsE/AIzs1eWmxD98fF939qbHP/Rs0hgHp8o/bF1FuhenzT/0JtwtlFPQPzCflX6c09E/bBdPz6RT0z+ojwggrdPUP+YHwnC1U9Y/IoB7wb3T1z9g+DQSxlPZP5xw7mLO09o/2Oins9ZT3D8UYWEE39PdP1DZGlXnU98/yCjq0vdp4D/m5Eb7+ynhPwShoyMA6uE/Il0ATASq4j9AGV10CGrjP17VuZwMKuQ/fJEWxRDq5D+cTXPtFKrlP7oJ0BUZauY/2MUsPh0q5z/2gYlmIernPxQ+5o4lqug/MvpCtylq6T9Stp/fLSrqP3By/Acy6uo/ji5ZMDaq6z+s6rVYOmrsP8qmEoE+Ku0/6GJvqULq7T8GH8zRRqruPybbKPpKau8/ostCkScV8D+xKXGlKXXwP8CHn7kr1fA/z+XNzS018T/eQ/zhL5XxP+6hKvYx9fE//f9YCjRV8j8MXoceNrXyPxu8tTI4FfM/KhrkRjp18z85eBJbPNXzP0jWQG8+NfQ/WDRvg0CV9D9nkp2XQvX0P3bwy6tEVfU/hU76v0a19T+UrCjUSBX2P6QKV+hKdfY/smiF/EzV9j/CxrMQTzX3P9Ak4iRRlfc/4IIQOVP19z/w4D5NVVX4P/4+bWFXtfg/Dp2bdVkV+T8c+8mJW3X5PyxZ+J1d1fk/PLcmsl81+j9KFVXGYZX6P1pzg9pj9fo/aNGx7mVV+z8=",
          "dtype": "f8"
         }
        }
       ],
       "layout": {
        "annotations": [
         {
          "align": "left",
          "bgcolor": "white",
          "bordercolor": "black",
          "borderwidth": 1,
          "font": {
           "color": "black",
           "size": 14
          },
          "showarrow": false,
          "text": "y = 0.969x + -0.009<br>R² = 0.998",
          "x": 0.05,
          "xref": "paper",
          "y": 0.95,
          "yref": "paper"
         }
        ],
        "height": 400,
        "template": {
         "data": {
          "bar": [
           {
            "error_x": {
             "color": "#2a3f5f"
            },
            "error_y": {
             "color": "#2a3f5f"
            },
            "marker": {
             "line": {
              "color": "white",
              "width": 0.5
             },
             "pattern": {
              "fillmode": "overlay",
              "size": 10,
              "solidity": 0.2
             }
            },
            "type": "bar"
           }
          ],
          "barpolar": [
           {
            "marker": {
             "line": {
              "color": "white",
              "width": 0.5
             },
             "pattern": {
              "fillmode": "overlay",
              "size": 10,
              "solidity": 0.2
             }
            },
            "type": "barpolar"
           }
          ],
          "carpet": [
           {
            "aaxis": {
             "endlinecolor": "#2a3f5f",
             "gridcolor": "#C8D4E3",
             "linecolor": "#C8D4E3",
             "minorgridcolor": "#C8D4E3",
             "startlinecolor": "#2a3f5f"
            },
            "baxis": {
             "endlinecolor": "#2a3f5f",
             "gridcolor": "#C8D4E3",
             "linecolor": "#C8D4E3",
             "minorgridcolor": "#C8D4E3",
             "startlinecolor": "#2a3f5f"
            },
            "type": "carpet"
           }
          ],
          "choropleth": [
           {
            "colorbar": {
             "outlinewidth": 0,
             "ticks": ""
            },
            "type": "choropleth"
           }
          ],
          "contour": [
           {
            "colorbar": {
             "outlinewidth": 0,
             "ticks": ""
            },
            "colorscale": [
             [
              0,
              "#0d0887"
             ],
             [
              0.1111111111111111,
              "#46039f"
             ],
             [
              0.2222222222222222,
              "#7201a8"
             ],
             [
              0.3333333333333333,
              "#9c179e"
             ],
             [
              0.4444444444444444,
              "#bd3786"
             ],
             [
              0.5555555555555556,
              "#d8576b"
             ],
             [
              0.6666666666666666,
              "#ed7953"
             ],
             [
              0.7777777777777778,
              "#fb9f3a"
             ],
             [
              0.8888888888888888,
              "#fdca26"
             ],
             [
              1,
              "#f0f921"
             ]
            ],
            "type": "contour"
           }
          ],
          "contourcarpet": [
           {
            "colorbar": {
             "outlinewidth": 0,
             "ticks": ""
            },
            "type": "contourcarpet"
           }
          ],
          "heatmap": [
           {
            "colorbar": {
             "outlinewidth": 0,
             "ticks": ""
            },
            "colorscale": [
             [
              0,
              "#0d0887"
             ],
             [
              0.1111111111111111,
              "#46039f"
             ],
             [
              0.2222222222222222,
              "#7201a8"
             ],
             [
              0.3333333333333333,
              "#9c179e"
             ],
             [
              0.4444444444444444,
              "#bd3786"
             ],
             [
              0.5555555555555556,
              "#d8576b"
             ],
             [
              0.6666666666666666,
              "#ed7953"
             ],
             [
              0.7777777777777778,
              "#fb9f3a"
             ],
             [
              0.8888888888888888,
              "#fdca26"
             ],
             [
              1,
              "#f0f921"
             ]
            ],
            "type": "heatmap"
           }
          ],
          "histogram": [
           {
            "marker": {
             "pattern": {
              "fillmode": "overlay",
              "size": 10,
              "solidity": 0.2
             }
            },
            "type": "histogram"
           }
          ],
          "histogram2d": [
           {
            "colorbar": {
             "outlinewidth": 0,
             "ticks": ""
            },
            "colorscale": [
             [
              0,
              "#0d0887"
             ],
             [
              0.1111111111111111,
              "#46039f"
             ],
             [
              0.2222222222222222,
              "#7201a8"
             ],
             [
              0.3333333333333333,
              "#9c179e"
             ],
             [
              0.4444444444444444,
              "#bd3786"
             ],
             [
              0.5555555555555556,
              "#d8576b"
             ],
             [
              0.6666666666666666,
              "#ed7953"
             ],
             [
              0.7777777777777778,
              "#fb9f3a"
             ],
             [
              0.8888888888888888,
              "#fdca26"
             ],
             [
              1,
              "#f0f921"
             ]
            ],
            "type": "histogram2d"
           }
          ],
          "histogram2dcontour": [
           {
            "colorbar": {
             "outlinewidth": 0,
             "ticks": ""
            },
            "colorscale": [
             [
              0,
              "#0d0887"
             ],
             [
              0.1111111111111111,
              "#46039f"
             ],
             [
              0.2222222222222222,
              "#7201a8"
             ],
             [
              0.3333333333333333,
              "#9c179e"
             ],
             [
              0.4444444444444444,
              "#bd3786"
             ],
             [
              0.5555555555555556,
              "#d8576b"
             ],
             [
              0.6666666666666666,
              "#ed7953"
             ],
             [
              0.7777777777777778,
              "#fb9f3a"
             ],
             [
              0.8888888888888888,
              "#fdca26"
             ],
             [
              1,
              "#f0f921"
             ]
            ],
            "type": "histogram2dcontour"
           }
          ],
          "mesh3d": [
           {
            "colorbar": {
             "outlinewidth": 0,
             "ticks": ""
            },
            "type": "mesh3d"
           }
          ],
          "parcoords": [
           {
            "line": {
             "colorbar": {
              "outlinewidth": 0,
              "ticks": ""
             }
            },
            "type": "parcoords"
           }
          ],
          "pie": [
           {
            "automargin": true,
            "type": "pie"
           }
          ],
          "scatter": [
           {
            "fillpattern": {
             "fillmode": "overlay",
             "size": 10,
             "solidity": 0.2
            },
            "type": "scatter"
           }
          ],
          "scatter3d": [
           {
            "line": {
             "colorbar": {
              "outlinewidth": 0,
              "ticks": ""
             }
            },
            "marker": {
             "colorbar": {
              "outlinewidth": 0,
              "ticks": ""
             }
            },
            "type": "scatter3d"
           }
          ],
          "scattercarpet": [
           {
            "marker": {
             "colorbar": {
              "outlinewidth": 0,
              "ticks": ""
             }
            },
            "type": "scattercarpet"
           }
          ],
          "scattergeo": [
           {
            "marker": {
             "colorbar": {
              "outlinewidth": 0,
              "ticks": ""
             }
            },
            "type": "scattergeo"
           }
          ],
          "scattergl": [
           {
            "marker": {
             "colorbar": {
              "outlinewidth": 0,
              "ticks": ""
             }
            },
            "type": "scattergl"
           }
          ],
          "scattermap": [
           {
            "marker": {
             "colorbar": {
              "outlinewidth": 0,
              "ticks": ""
             }
            },
            "type": "scattermap"
           }
          ],
          "scattermapbox": [
           {
            "marker": {
             "colorbar": {
              "outlinewidth": 0,
              "ticks": ""
             }
            },
            "type": "scattermapbox"
           }
          ],
          "scatterpolar": [
           {
            "marker": {
             "colorbar": {
              "outlinewidth": 0,
              "ticks": ""
             }
            },
            "type": "scatterpolar"
           }
          ],
          "scatterpolargl": [
           {
            "marker": {
             "colorbar": {
              "outlinewidth": 0,
              "ticks": ""
             }
            },
            "type": "scatterpolargl"
           }
          ],
          "scatterternary": [
           {
            "marker": {
             "colorbar": {
              "outlinewidth": 0,
              "ticks": ""
             }
            },
            "type": "scatterternary"
           }
          ],
          "surface": [
           {
            "colorbar": {
             "outlinewidth": 0,
             "ticks": ""
            },
            "colorscale": [
             [
              0,
              "#0d0887"
             ],
             [
              0.1111111111111111,
              "#46039f"
             ],
             [
              0.2222222222222222,
              "#7201a8"
             ],
             [
              0.3333333333333333,
              "#9c179e"
             ],
             [
              0.4444444444444444,
              "#bd3786"
             ],
             [
              0.5555555555555556,
              "#d8576b"
             ],
             [
              0.6666666666666666,
              "#ed7953"
             ],
             [
              0.7777777777777778,
              "#fb9f3a"
             ],
             [
              0.8888888888888888,
              "#fdca26"
             ],
             [
              1,
              "#f0f921"
             ]
            ],
            "type": "surface"
           }
          ],
          "table": [
           {
            "cells": {
             "fill": {
              "color": "#EBF0F8"
             },
             "line": {
              "color": "white"
             }
            },
            "header": {
             "fill": {
              "color": "#C8D4E3"
             },
             "line": {
              "color": "white"
             }
            },
            "type": "table"
           }
          ]
         },
         "layout": {
          "annotationdefaults": {
           "arrowcolor": "#2a3f5f",
           "arrowhead": 0,
           "arrowwidth": 1
          },
          "autotypenumbers": "strict",
          "coloraxis": {
           "colorbar": {
            "outlinewidth": 0,
            "ticks": ""
           }
          },
          "colorscale": {
           "diverging": [
            [
             0,
             "#8e0152"
            ],
            [
             0.1,
             "#c51b7d"
            ],
            [
             0.2,
             "#de77ae"
            ],
            [
             0.3,
             "#f1b6da"
            ],
            [
             0.4,
             "#fde0ef"
            ],
            [
             0.5,
             "#f7f7f7"
            ],
            [
             0.6,
             "#e6f5d0"
            ],
            [
             0.7,
             "#b8e186"
            ],
            [
             0.8,
             "#7fbc41"
            ],
            [
             0.9,
             "#4d9221"
            ],
            [
             1,
             "#276419"
            ]
           ],
           "sequential": [
            [
             0,
             "#0d0887"
            ],
            [
             0.1111111111111111,
             "#46039f"
            ],
            [
             0.2222222222222222,
             "#7201a8"
            ],
            [
             0.3333333333333333,
             "#9c179e"
            ],
            [
             0.4444444444444444,
             "#bd3786"
            ],
            [
             0.5555555555555556,
             "#d8576b"
            ],
            [
             0.6666666666666666,
             "#ed7953"
            ],
            [
             0.7777777777777778,
             "#fb9f3a"
            ],
            [
             0.8888888888888888,
             "#fdca26"
            ],
            [
             1,
             "#f0f921"
            ]
           ],
           "sequentialminus": [
            [
             0,
             "#0d0887"
            ],
            [
             0.1111111111111111,
             "#46039f"
            ],
            [
             0.2222222222222222,
             "#7201a8"
            ],
            [
             0.3333333333333333,
             "#9c179e"
            ],
            [
             0.4444444444444444,
             "#bd3786"
            ],
            [
             0.5555555555555556,
             "#d8576b"
            ],
            [
             0.6666666666666666,
             "#ed7953"
            ],
            [
             0.7777777777777778,
             "#fb9f3a"
            ],
            [
             0.8888888888888888,
             "#fdca26"
            ],
            [
             1,
             "#f0f921"
            ]
           ]
          },
          "colorway": [
           "#636efa",
           "#EF553B",
           "#00cc96",
           "#ab63fa",
           "#FFA15A",
           "#19d3f3",
           "#FF6692",
           "#B6E880",
           "#FF97FF",
           "#FECB52"
          ],
          "font": {
           "color": "#2a3f5f"
          },
          "geo": {
           "bgcolor": "white",
           "lakecolor": "white",
           "landcolor": "white",
           "showlakes": true,
           "showland": true,
           "subunitcolor": "#C8D4E3"
          },
          "hoverlabel": {
           "align": "left"
          },
          "hovermode": "closest",
          "mapbox": {
           "style": "light"
          },
          "paper_bgcolor": "white",
          "plot_bgcolor": "white",
          "polar": {
           "angularaxis": {
            "gridcolor": "#EBF0F8",
            "linecolor": "#EBF0F8",
            "ticks": ""
           },
           "bgcolor": "white",
           "radialaxis": {
            "gridcolor": "#EBF0F8",
            "linecolor": "#EBF0F8",
            "ticks": ""
           }
          },
          "scene": {
           "xaxis": {
            "backgroundcolor": "white",
            "gridcolor": "#DFE8F3",
            "gridwidth": 2,
            "linecolor": "#EBF0F8",
            "showbackground": true,
            "ticks": "",
            "zerolinecolor": "#EBF0F8"
           },
           "yaxis": {
            "backgroundcolor": "white",
            "gridcolor": "#DFE8F3",
            "gridwidth": 2,
            "linecolor": "#EBF0F8",
            "showbackground": true,
            "ticks": "",
            "zerolinecolor": "#EBF0F8"
           },
           "zaxis": {
            "backgroundcolor": "white",
            "gridcolor": "#DFE8F3",
            "gridwidth": 2,
            "linecolor": "#EBF0F8",
            "showbackground": true,
            "ticks": "",
            "zerolinecolor": "#EBF0F8"
           }
          },
          "shapedefaults": {
           "line": {
            "color": "#2a3f5f"
           }
          },
          "ternary": {
           "aaxis": {
            "gridcolor": "#DFE8F3",
            "linecolor": "#A2B1C6",
            "ticks": ""
           },
           "baxis": {
            "gridcolor": "#DFE8F3",
            "linecolor": "#A2B1C6",
            "ticks": ""
           },
           "bgcolor": "white",
           "caxis": {
            "gridcolor": "#DFE8F3",
            "linecolor": "#A2B1C6",
            "ticks": ""
           }
          },
          "title": {
           "x": 0.05
          },
          "xaxis": {
           "automargin": true,
           "gridcolor": "#EBF0F8",
           "linecolor": "#EBF0F8",
           "ticks": "",
           "title": {
            "standoff": 15
           },
           "zerolinecolor": "#EBF0F8",
           "zerolinewidth": 2
          },
          "yaxis": {
           "automargin": true,
           "gridcolor": "#EBF0F8",
           "linecolor": "#EBF0F8",
           "ticks": "",
           "title": {
            "standoff": 15
           },
           "zerolinecolor": "#EBF0F8",
           "zerolinewidth": 2
          }
         }
        },
        "title": {
         "text": "Regresión MCD - Entrenamiento"
        },
        "width": 1200,
        "xaxis": {
         "title": {
          "text": "Valores Reales"
         }
        },
        "yaxis": {
         "title": {
          "text": "Valores Predichos"
         }
        }
       }
      }
     },
     "metadata": {},
     "output_type": "display_data"
    },
    {
     "data": {
      "application/vnd.plotly.v1+json": {
       "config": {
        "plotlyServerURL": "https://plot.ly"
       },
       "data": [
        {
         "marker": {
          "color": "blue",
          "opacity": 0.6
         },
         "mode": "markers",
         "name": "Predicciones",
         "type": "scatter",
         "x": {
          "bdata": "1CjyN8/a2D9GV/8lF0HwP1jdbAYG2MI/5nZXnf+w1D8y4bE9/jflPyxCqjwMSdg/Cvmewyur5D/i0QwaCQrjP2gbxntSXNC/XlvN+5pE1D+4IzQjWwrZPxgFGQzrvdE/ul6OBvt10j/OGmOpVgrtP5ABP+HOWNw/WFm1r3JqvD+gYq4wCTCXv9htYouIQrW/KsnVGpnp1z+uSmkf9OPoP+Q2E3dEA9k/iM68TAI02T9gXHFDLzX/P9DW45JgpMC/SkJqZu+o0r+UiErZihneP7zaLhbKVts/CMA5gzwowD8wbC0xOcmnvyBTugkdz+U/eE7NGr5K0z8YPfh/T3awP4gEk001nNc/HvYq+zJ95D80jzguvFjePxBlRJndTPM/xEb3WQQG1z96T85KIfjgPyT5W6o8cu0/XsDMuVXj079kI00NzuzQP+4eEwo2dse/OGg/HVNg4D+AOQ7m5p/aP+AS2c9/qMs/6O16QsFl2D/AF0zI2C+Hv2DW41DIBsg/wnxXJW2D7j+sqi5VG9LGv1wXBV8FNtw/gCiQ9r3xsT8Q2w/7l5ekP0AeOxKXdek/KOHcvIFZ8z+0EtkirVHXP/pyrbf6cec/BMt45xf6zj8=",
          "dtype": "f8"
         },
         "y": {
          "bdata": "YAOwj32mzT84mX9IQo3hP3hKl6D0Lsk/8Mwd8/ki4D8QhhZSLrjgP9Y4tqQbd9I/SJKvNBBI4z/ENKdlABLTP+66BbYOvNO/iCt8DxP+vT8QnJrIlMa5v/by1AQNnfM/8BXug7HVur8oh7iRoZHUP/E9py8tAfI/0B+tJtWhwj8gTMRDiCyXvwgaKXiJCbi/4GmTRvo00z9I96v0l8jtP4aSVkJhIdM/UsDTl4f50T9MXvWFBML2P5BG7VWBOts/kD1hKdVrpT/ZDD/cxSLwP+jTEtdn3No/EBnd/UsW0j8I/vxcsPm5vySIJdDcu+Q/rqO9e/Oz4j+QR3lA+y7TPwA+93Mbjaa/+FZg28eT2j/yxcVpS0LYP2BE67UJDOc/1JkO2ofv3j+EhbcouZzZPxC6jKP5+98/gGwx5yehiz9E8cvL5XjWP1Sss2lAO9M/5PykEEsh5j+IzHxxK+DgP1V0hQU8LNC/iMtbn6wXuj+Wo8rbtbDQP3xpzWnWL9C/aG9teuaf2T9itf8Bn2HWPyYOBxbl/dY/AMjx7mqsfj+cjjEd4VjVv0DRvRjvpOk/tgDNrHHb5j8smZqEWK/bP+7/G5YAo+0/IL+CjRKxrr8=",
          "dtype": "f8"
         }
        },
        {
         "line": {
          "color": "red",
          "dash": "dash"
         },
         "mode": "lines",
         "name": "Regresión lineal",
         "type": "scatter",
         "x": {
          "bdata": "XsDMuVXj07+N1K6lHG3Sv7zokJHj9tC/1fnl+lQBz78zIqrS4hTMv5FKbqpwKMm/7nIygv47xr9Mm/ZZjE/Dv6rDujEaY8C/ENj9ElDtur/MKIbCaxS1vxDzHOQOd66/gJQtQ0bFor/g1/iI9k2Mv0CixPoreYI/GIegnxNQoD+g5Y9A3AGsPxSiv3DS2bM/WFE3wbayuT+cAK8Rm4u/P/BXE7E/ssI/lC9P2bGexT80B4sBJIvIP9jeximWd8s/fLYCUghkzj8ORx89PajQP+AyPVF2HtI/sB5bZa+U0z+CCnl56ArVP1L2lo0hgdY/JOK0oVr31z/0zdK1k23ZP8a58MnM49o/mKUO3gVa3D9okSzyPtDdPzp9SgZ4Rt8/hTQ0jVhe4D9uKkMXdRnhP1YgUqGR1OE/PxZhK66P4j8nDHC1ykrjPxACfz/nBeQ/+feNyQPB5D/h7ZxTIHzlP8njq908N+Y/s9m6Z1ny5j+bz8nxda3nP4PF2HuSaOg/bbvnBa8j6T9VsfaPy97pPz2nBRromeo/JZ0UpARV6z8PkyMuIRDsP/eIMrg9y+w/335BQlqG7T/HdFDMdkHuP7FqX1aT/O4/mWBu4K+37z9Aqz41ZjnwPzYmRnr0lvA/KqFNv4L08D8eHFUEEVLxPxKXXEmfr/E/BhJkji0N8j/6jGvTu2ryP+4HcxhKyPI/5IJ6Xdgl8z/Y/YGiZoPzP8x4ief04PM/wPOQLIM+9D+0bphxEZz0P6jpn7af+fQ/nGSn+y1X9T+S365AvLT1P4ZatoVKEvY/etW9ythv9j9uUMUPZ832P2LLzFT1Kvc/VkbUmYOI9z9KwdveEeb3Pz484yOgQ/g/NLfqaC6h+D8oMvKtvP74Pxyt+fJKXPk/ECgBONm5+T8Eowh9Zxf6P/gdEML1dPo/7JgXB4TS+j/gEx9MEjD7P9aOJpGgjfs/ygku1i7r+z++hDUbvUj8P7L/PGBLpvw/pnpEpdkD/T+a9UvqZ2H9P45wUy/2vv0/hOtadIQc/j94ZmK5Enr+P2zhaf6g1/4/YFxxQy81/z8=",
          "dtype": "f8"
         },
         "y": {
          "bdata": "0mfX0xNDrb+CtVhqaWimv2wGtAF+G5+/xKG2Lilmkb8g6cndooZtv/BOiO4ACYQ/GIxBStW5lz9ceJ8OlbeiP6oqHng/kqk/fW7O8HQ2sD+kx40lyqOzP8wgTVofEbc/9nkMj3R+uj8d08vDyeu9PyKWRXyPrMA/tkKlFjpjwj9K7wSx5BnEP96bZEuP0MU/cUjE5TmHxz8F9SOA5D3JP5mhgxqP9Mo/Lk7jtDmrzD/A+kJP5GHOP6tT0XRHDNA/9SkBwpzn0D8+ADEP8sLRP4nWYFxHntI/0qyQqZx50z8dg8D28VTUP2ZZ8ENHMNU/sC8gkZwL1j/6BVDe8ebWP0TcfytHwtc/jrKveJyd2D/YiN/F8XjZPyJfDxNHVNo/azU/YJwv2z+2C2+t8QrcP//hnvpG5tw/SrjOR5zB3T+Tjv6U8ZzeP91kLuJGeN8/lB2vF84p4D+5CEe+eJfgP93z3mQjBeE/A992C85y4T8oyg6yeODhP0y1plgjTuI/cqA+/8274j+Xi9aleCnjP7x2bkwjl+M/4GEG880E5D8GTZ6ZeHLkPyo4NkAj4OQ/TyPO5s1N5T90DmaNeLvlP5r5/TMjKeY/vuSV2s2W5j/izy2BeATnPwm7xScjcuc/LqZdzs3f5z9TkfV0eE3oP3d8jRsju+g/nGclws0o6T/AUr1oeJbpP+U9VQ8jBOo/DCnttc1x6j8xFIVceN/qP1X/HAMjTes/euq0qc266z+f1UxQeCjsP8PA5PYiluw/6Kt8nc0D7T8PlxREeHHtPzSCrOoi3+0/WG1Ekc1M7j99WNw3eLruP6JDdN4iKO8/xi4Mhc2V7z/2DNIVvAHwP4gCHmmROPA/G/hpvGZv8D+u7bUPPKbwP0DjAWMR3fA/0thNtuYT8T9lzpkJvErxP/fD5VyRgfE/ibkxsGa48T8cr30DPO/xP6+kyVYRJvI/QZoVquZc8j/Uj2H9u5PyP2aFrVCRyvI/+Hr5o2YB8z+LcEX3OzjzPx1mkUoRb/M/sFvdneal8z9DUSnxu9zzP9VGdUSRE/Q/ZzzBl2ZK9D8=",
          "dtype": "f8"
         }
        },
        {
         "line": {
          "color": "green",
          "dash": "dot"
         },
         "mode": "lines",
         "name": "Línea Perfecta (y = x)",
         "type": "scatter",
         "x": {
          "bdata": "XsDMuVXj07+N1K6lHG3Sv7zokJHj9tC/1fnl+lQBz78zIqrS4hTMv5FKbqpwKMm/7nIygv47xr9Mm/ZZjE/Dv6rDujEaY8C/ENj9ElDtur/MKIbCaxS1vxDzHOQOd66/gJQtQ0bFor/g1/iI9k2Mv0CixPoreYI/GIegnxNQoD+g5Y9A3AGsPxSiv3DS2bM/WFE3wbayuT+cAK8Rm4u/P/BXE7E/ssI/lC9P2bGexT80B4sBJIvIP9jeximWd8s/fLYCUghkzj8ORx89PajQP+AyPVF2HtI/sB5bZa+U0z+CCnl56ArVP1L2lo0hgdY/JOK0oVr31z/0zdK1k23ZP8a58MnM49o/mKUO3gVa3D9okSzyPtDdPzp9SgZ4Rt8/hTQ0jVhe4D9uKkMXdRnhP1YgUqGR1OE/PxZhK66P4j8nDHC1ykrjPxACfz/nBeQ/+feNyQPB5D/h7ZxTIHzlP8njq908N+Y/s9m6Z1ny5j+bz8nxda3nP4PF2HuSaOg/bbvnBa8j6T9VsfaPy97pPz2nBRromeo/JZ0UpARV6z8PkyMuIRDsP/eIMrg9y+w/335BQlqG7T/HdFDMdkHuP7FqX1aT/O4/mWBu4K+37z9Aqz41ZjnwPzYmRnr0lvA/KqFNv4L08D8eHFUEEVLxPxKXXEmfr/E/BhJkji0N8j/6jGvTu2ryP+4HcxhKyPI/5IJ6Xdgl8z/Y/YGiZoPzP8x4ief04PM/wPOQLIM+9D+0bphxEZz0P6jpn7af+fQ/nGSn+y1X9T+S365AvLT1P4ZatoVKEvY/etW9ythv9j9uUMUPZ832P2LLzFT1Kvc/VkbUmYOI9z9KwdveEeb3Pz484yOgQ/g/NLfqaC6h+D8oMvKtvP74Pxyt+fJKXPk/ECgBONm5+T8Eowh9Zxf6P/gdEML1dPo/7JgXB4TS+j/gEx9MEjD7P9aOJpGgjfs/ygku1i7r+z++hDUbvUj8P7L/PGBLpvw/pnpEpdkD/T+a9UvqZ2H9P45wUy/2vv0/hOtadIQc/j94ZmK5Enr+P2zhaf6g1/4/YFxxQy81/z8=",
          "dtype": "f8"
         },
         "y": {
          "bdata": "XsDMuVXj07+N1K6lHG3Sv7zokJHj9tC/1fnl+lQBz78zIqrS4hTMv5FKbqpwKMm/7nIygv47xr9Mm/ZZjE/Dv6rDujEaY8C/ENj9ElDtur/MKIbCaxS1vxDzHOQOd66/gJQtQ0bFor/g1/iI9k2Mv0CixPoreYI/GIegnxNQoD+g5Y9A3AGsPxSiv3DS2bM/WFE3wbayuT+cAK8Rm4u/P/BXE7E/ssI/lC9P2bGexT80B4sBJIvIP9jeximWd8s/fLYCUghkzj8ORx89PajQP+AyPVF2HtI/sB5bZa+U0z+CCnl56ArVP1L2lo0hgdY/JOK0oVr31z/0zdK1k23ZP8a58MnM49o/mKUO3gVa3D9okSzyPtDdPzp9SgZ4Rt8/hTQ0jVhe4D9uKkMXdRnhP1YgUqGR1OE/PxZhK66P4j8nDHC1ykrjPxACfz/nBeQ/+feNyQPB5D/h7ZxTIHzlP8njq908N+Y/s9m6Z1ny5j+bz8nxda3nP4PF2HuSaOg/bbvnBa8j6T9VsfaPy97pPz2nBRromeo/JZ0UpARV6z8PkyMuIRDsP/eIMrg9y+w/335BQlqG7T/HdFDMdkHuP7FqX1aT/O4/mWBu4K+37z9Aqz41ZjnwPzYmRnr0lvA/KqFNv4L08D8eHFUEEVLxPxKXXEmfr/E/BhJkji0N8j/6jGvTu2ryP+4HcxhKyPI/5IJ6Xdgl8z/Y/YGiZoPzP8x4ief04PM/wPOQLIM+9D+0bphxEZz0P6jpn7af+fQ/nGSn+y1X9T+S365AvLT1P4ZatoVKEvY/etW9ythv9j9uUMUPZ832P2LLzFT1Kvc/VkbUmYOI9z9KwdveEeb3Pz484yOgQ/g/NLfqaC6h+D8oMvKtvP74Pxyt+fJKXPk/ECgBONm5+T8Eowh9Zxf6P/gdEML1dPo/7JgXB4TS+j/gEx9MEjD7P9aOJpGgjfs/ygku1i7r+z++hDUbvUj8P7L/PGBLpvw/pnpEpdkD/T+a9UvqZ2H9P45wUy/2vv0/hOtadIQc/j94ZmK5Enr+P2zhaf6g1/4/YFxxQy81/z8=",
          "dtype": "f8"
         }
        }
       ],
       "layout": {
        "annotations": [
         {
          "align": "left",
          "bgcolor": "white",
          "bordercolor": "black",
          "borderwidth": 1,
          "font": {
           "color": "black",
           "size": 14
          },
          "showarrow": false,
          "text": "y = 0.586x + 0.125<br>R² = 0.408",
          "x": 0.05,
          "xref": "paper",
          "y": 0.95,
          "yref": "paper"
         }
        ],
        "height": 400,
        "template": {
         "data": {
          "bar": [
           {
            "error_x": {
             "color": "#2a3f5f"
            },
            "error_y": {
             "color": "#2a3f5f"
            },
            "marker": {
             "line": {
              "color": "white",
              "width": 0.5
             },
             "pattern": {
              "fillmode": "overlay",
              "size": 10,
              "solidity": 0.2
             }
            },
            "type": "bar"
           }
          ],
          "barpolar": [
           {
            "marker": {
             "line": {
              "color": "white",
              "width": 0.5
             },
             "pattern": {
              "fillmode": "overlay",
              "size": 10,
              "solidity": 0.2
             }
            },
            "type": "barpolar"
           }
          ],
          "carpet": [
           {
            "aaxis": {
             "endlinecolor": "#2a3f5f",
             "gridcolor": "#C8D4E3",
             "linecolor": "#C8D4E3",
             "minorgridcolor": "#C8D4E3",
             "startlinecolor": "#2a3f5f"
            },
            "baxis": {
             "endlinecolor": "#2a3f5f",
             "gridcolor": "#C8D4E3",
             "linecolor": "#C8D4E3",
             "minorgridcolor": "#C8D4E3",
             "startlinecolor": "#2a3f5f"
            },
            "type": "carpet"
           }
          ],
          "choropleth": [
           {
            "colorbar": {
             "outlinewidth": 0,
             "ticks": ""
            },
            "type": "choropleth"
           }
          ],
          "contour": [
           {
            "colorbar": {
             "outlinewidth": 0,
             "ticks": ""
            },
            "colorscale": [
             [
              0,
              "#0d0887"
             ],
             [
              0.1111111111111111,
              "#46039f"
             ],
             [
              0.2222222222222222,
              "#7201a8"
             ],
             [
              0.3333333333333333,
              "#9c179e"
             ],
             [
              0.4444444444444444,
              "#bd3786"
             ],
             [
              0.5555555555555556,
              "#d8576b"
             ],
             [
              0.6666666666666666,
              "#ed7953"
             ],
             [
              0.7777777777777778,
              "#fb9f3a"
             ],
             [
              0.8888888888888888,
              "#fdca26"
             ],
             [
              1,
              "#f0f921"
             ]
            ],
            "type": "contour"
           }
          ],
          "contourcarpet": [
           {
            "colorbar": {
             "outlinewidth": 0,
             "ticks": ""
            },
            "type": "contourcarpet"
           }
          ],
          "heatmap": [
           {
            "colorbar": {
             "outlinewidth": 0,
             "ticks": ""
            },
            "colorscale": [
             [
              0,
              "#0d0887"
             ],
             [
              0.1111111111111111,
              "#46039f"
             ],
             [
              0.2222222222222222,
              "#7201a8"
             ],
             [
              0.3333333333333333,
              "#9c179e"
             ],
             [
              0.4444444444444444,
              "#bd3786"
             ],
             [
              0.5555555555555556,
              "#d8576b"
             ],
             [
              0.6666666666666666,
              "#ed7953"
             ],
             [
              0.7777777777777778,
              "#fb9f3a"
             ],
             [
              0.8888888888888888,
              "#fdca26"
             ],
             [
              1,
              "#f0f921"
             ]
            ],
            "type": "heatmap"
           }
          ],
          "histogram": [
           {
            "marker": {
             "pattern": {
              "fillmode": "overlay",
              "size": 10,
              "solidity": 0.2
             }
            },
            "type": "histogram"
           }
          ],
          "histogram2d": [
           {
            "colorbar": {
             "outlinewidth": 0,
             "ticks": ""
            },
            "colorscale": [
             [
              0,
              "#0d0887"
             ],
             [
              0.1111111111111111,
              "#46039f"
             ],
             [
              0.2222222222222222,
              "#7201a8"
             ],
             [
              0.3333333333333333,
              "#9c179e"
             ],
             [
              0.4444444444444444,
              "#bd3786"
             ],
             [
              0.5555555555555556,
              "#d8576b"
             ],
             [
              0.6666666666666666,
              "#ed7953"
             ],
             [
              0.7777777777777778,
              "#fb9f3a"
             ],
             [
              0.8888888888888888,
              "#fdca26"
             ],
             [
              1,
              "#f0f921"
             ]
            ],
            "type": "histogram2d"
           }
          ],
          "histogram2dcontour": [
           {
            "colorbar": {
             "outlinewidth": 0,
             "ticks": ""
            },
            "colorscale": [
             [
              0,
              "#0d0887"
             ],
             [
              0.1111111111111111,
              "#46039f"
             ],
             [
              0.2222222222222222,
              "#7201a8"
             ],
             [
              0.3333333333333333,
              "#9c179e"
             ],
             [
              0.4444444444444444,
              "#bd3786"
             ],
             [
              0.5555555555555556,
              "#d8576b"
             ],
             [
              0.6666666666666666,
              "#ed7953"
             ],
             [
              0.7777777777777778,
              "#fb9f3a"
             ],
             [
              0.8888888888888888,
              "#fdca26"
             ],
             [
              1,
              "#f0f921"
             ]
            ],
            "type": "histogram2dcontour"
           }
          ],
          "mesh3d": [
           {
            "colorbar": {
             "outlinewidth": 0,
             "ticks": ""
            },
            "type": "mesh3d"
           }
          ],
          "parcoords": [
           {
            "line": {
             "colorbar": {
              "outlinewidth": 0,
              "ticks": ""
             }
            },
            "type": "parcoords"
           }
          ],
          "pie": [
           {
            "automargin": true,
            "type": "pie"
           }
          ],
          "scatter": [
           {
            "fillpattern": {
             "fillmode": "overlay",
             "size": 10,
             "solidity": 0.2
            },
            "type": "scatter"
           }
          ],
          "scatter3d": [
           {
            "line": {
             "colorbar": {
              "outlinewidth": 0,
              "ticks": ""
             }
            },
            "marker": {
             "colorbar": {
              "outlinewidth": 0,
              "ticks": ""
             }
            },
            "type": "scatter3d"
           }
          ],
          "scattercarpet": [
           {
            "marker": {
             "colorbar": {
              "outlinewidth": 0,
              "ticks": ""
             }
            },
            "type": "scattercarpet"
           }
          ],
          "scattergeo": [
           {
            "marker": {
             "colorbar": {
              "outlinewidth": 0,
              "ticks": ""
             }
            },
            "type": "scattergeo"
           }
          ],
          "scattergl": [
           {
            "marker": {
             "colorbar": {
              "outlinewidth": 0,
              "ticks": ""
             }
            },
            "type": "scattergl"
           }
          ],
          "scattermap": [
           {
            "marker": {
             "colorbar": {
              "outlinewidth": 0,
              "ticks": ""
             }
            },
            "type": "scattermap"
           }
          ],
          "scattermapbox": [
           {
            "marker": {
             "colorbar": {
              "outlinewidth": 0,
              "ticks": ""
             }
            },
            "type": "scattermapbox"
           }
          ],
          "scatterpolar": [
           {
            "marker": {
             "colorbar": {
              "outlinewidth": 0,
              "ticks": ""
             }
            },
            "type": "scatterpolar"
           }
          ],
          "scatterpolargl": [
           {
            "marker": {
             "colorbar": {
              "outlinewidth": 0,
              "ticks": ""
             }
            },
            "type": "scatterpolargl"
           }
          ],
          "scatterternary": [
           {
            "marker": {
             "colorbar": {
              "outlinewidth": 0,
              "ticks": ""
             }
            },
            "type": "scatterternary"
           }
          ],
          "surface": [
           {
            "colorbar": {
             "outlinewidth": 0,
             "ticks": ""
            },
            "colorscale": [
             [
              0,
              "#0d0887"
             ],
             [
              0.1111111111111111,
              "#46039f"
             ],
             [
              0.2222222222222222,
              "#7201a8"
             ],
             [
              0.3333333333333333,
              "#9c179e"
             ],
             [
              0.4444444444444444,
              "#bd3786"
             ],
             [
              0.5555555555555556,
              "#d8576b"
             ],
             [
              0.6666666666666666,
              "#ed7953"
             ],
             [
              0.7777777777777778,
              "#fb9f3a"
             ],
             [
              0.8888888888888888,
              "#fdca26"
             ],
             [
              1,
              "#f0f921"
             ]
            ],
            "type": "surface"
           }
          ],
          "table": [
           {
            "cells": {
             "fill": {
              "color": "#EBF0F8"
             },
             "line": {
              "color": "white"
             }
            },
            "header": {
             "fill": {
              "color": "#C8D4E3"
             },
             "line": {
              "color": "white"
             }
            },
            "type": "table"
           }
          ]
         },
         "layout": {
          "annotationdefaults": {
           "arrowcolor": "#2a3f5f",
           "arrowhead": 0,
           "arrowwidth": 1
          },
          "autotypenumbers": "strict",
          "coloraxis": {
           "colorbar": {
            "outlinewidth": 0,
            "ticks": ""
           }
          },
          "colorscale": {
           "diverging": [
            [
             0,
             "#8e0152"
            ],
            [
             0.1,
             "#c51b7d"
            ],
            [
             0.2,
             "#de77ae"
            ],
            [
             0.3,
             "#f1b6da"
            ],
            [
             0.4,
             "#fde0ef"
            ],
            [
             0.5,
             "#f7f7f7"
            ],
            [
             0.6,
             "#e6f5d0"
            ],
            [
             0.7,
             "#b8e186"
            ],
            [
             0.8,
             "#7fbc41"
            ],
            [
             0.9,
             "#4d9221"
            ],
            [
             1,
             "#276419"
            ]
           ],
           "sequential": [
            [
             0,
             "#0d0887"
            ],
            [
             0.1111111111111111,
             "#46039f"
            ],
            [
             0.2222222222222222,
             "#7201a8"
            ],
            [
             0.3333333333333333,
             "#9c179e"
            ],
            [
             0.4444444444444444,
             "#bd3786"
            ],
            [
             0.5555555555555556,
             "#d8576b"
            ],
            [
             0.6666666666666666,
             "#ed7953"
            ],
            [
             0.7777777777777778,
             "#fb9f3a"
            ],
            [
             0.8888888888888888,
             "#fdca26"
            ],
            [
             1,
             "#f0f921"
            ]
           ],
           "sequentialminus": [
            [
             0,
             "#0d0887"
            ],
            [
             0.1111111111111111,
             "#46039f"
            ],
            [
             0.2222222222222222,
             "#7201a8"
            ],
            [
             0.3333333333333333,
             "#9c179e"
            ],
            [
             0.4444444444444444,
             "#bd3786"
            ],
            [
             0.5555555555555556,
             "#d8576b"
            ],
            [
             0.6666666666666666,
             "#ed7953"
            ],
            [
             0.7777777777777778,
             "#fb9f3a"
            ],
            [
             0.8888888888888888,
             "#fdca26"
            ],
            [
             1,
             "#f0f921"
            ]
           ]
          },
          "colorway": [
           "#636efa",
           "#EF553B",
           "#00cc96",
           "#ab63fa",
           "#FFA15A",
           "#19d3f3",
           "#FF6692",
           "#B6E880",
           "#FF97FF",
           "#FECB52"
          ],
          "font": {
           "color": "#2a3f5f"
          },
          "geo": {
           "bgcolor": "white",
           "lakecolor": "white",
           "landcolor": "white",
           "showlakes": true,
           "showland": true,
           "subunitcolor": "#C8D4E3"
          },
          "hoverlabel": {
           "align": "left"
          },
          "hovermode": "closest",
          "mapbox": {
           "style": "light"
          },
          "paper_bgcolor": "white",
          "plot_bgcolor": "white",
          "polar": {
           "angularaxis": {
            "gridcolor": "#EBF0F8",
            "linecolor": "#EBF0F8",
            "ticks": ""
           },
           "bgcolor": "white",
           "radialaxis": {
            "gridcolor": "#EBF0F8",
            "linecolor": "#EBF0F8",
            "ticks": ""
           }
          },
          "scene": {
           "xaxis": {
            "backgroundcolor": "white",
            "gridcolor": "#DFE8F3",
            "gridwidth": 2,
            "linecolor": "#EBF0F8",
            "showbackground": true,
            "ticks": "",
            "zerolinecolor": "#EBF0F8"
           },
           "yaxis": {
            "backgroundcolor": "white",
            "gridcolor": "#DFE8F3",
            "gridwidth": 2,
            "linecolor": "#EBF0F8",
            "showbackground": true,
            "ticks": "",
            "zerolinecolor": "#EBF0F8"
           },
           "zaxis": {
            "backgroundcolor": "white",
            "gridcolor": "#DFE8F3",
            "gridwidth": 2,
            "linecolor": "#EBF0F8",
            "showbackground": true,
            "ticks": "",
            "zerolinecolor": "#EBF0F8"
           }
          },
          "shapedefaults": {
           "line": {
            "color": "#2a3f5f"
           }
          },
          "ternary": {
           "aaxis": {
            "gridcolor": "#DFE8F3",
            "linecolor": "#A2B1C6",
            "ticks": ""
           },
           "baxis": {
            "gridcolor": "#DFE8F3",
            "linecolor": "#A2B1C6",
            "ticks": ""
           },
           "bgcolor": "white",
           "caxis": {
            "gridcolor": "#DFE8F3",
            "linecolor": "#A2B1C6",
            "ticks": ""
           }
          },
          "title": {
           "x": 0.05
          },
          "xaxis": {
           "automargin": true,
           "gridcolor": "#EBF0F8",
           "linecolor": "#EBF0F8",
           "ticks": "",
           "title": {
            "standoff": 15
           },
           "zerolinecolor": "#EBF0F8",
           "zerolinewidth": 2
          },
          "yaxis": {
           "automargin": true,
           "gridcolor": "#EBF0F8",
           "linecolor": "#EBF0F8",
           "ticks": "",
           "title": {
            "standoff": 15
           },
           "zerolinecolor": "#EBF0F8",
           "zerolinewidth": 2
          }
         }
        },
        "title": {
         "text": "Regresión MCD - Validación"
        },
        "width": 1200,
        "xaxis": {
         "title": {
          "text": "Valores Reales"
         }
        },
        "yaxis": {
         "title": {
          "text": "Valores Predichos"
         }
        }
       }
      }
     },
     "metadata": {},
     "output_type": "display_data"
    }
   ],
   "source": [
    "# Gráficos de regresión\n",
    "dh.plot_regression(y_train_mo, y_pred_train_mo, title='Regresión MCD - Entrenamiento', size=(1200, 400))\n",
    "dh.plot_regression(y_val_mo, y_pred_val_mo, title='Regresión MCD - Validación', size=(1200, 400))"
   ]
  }
 ],
 "metadata": {
  "kernelspec": {
   "display_name": ".venv",
   "language": "python",
   "name": "python3"
  },
  "language_info": {
   "codemirror_mode": {
    "name": "ipython",
    "version": 3
   },
   "file_extension": ".py",
   "mimetype": "text/x-python",
   "name": "python",
   "nbconvert_exporter": "python",
   "pygments_lexer": "ipython3",
   "version": "3.13.2"
  }
 },
 "nbformat": 4,
 "nbformat_minor": 5
}
