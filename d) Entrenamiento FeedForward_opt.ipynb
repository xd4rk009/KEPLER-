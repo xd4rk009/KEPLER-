{
 "cells": [
  {
   "cell_type": "code",
   "execution_count": 1,
   "id": "caac5c61",
   "metadata": {},
   "outputs": [
    {
     "name": "stderr",
     "output_type": "stream",
     "text": [
      "2025-05-17 12:44:04,289 - INFO - Configuración de logging inicializada correctamente.\n",
      "2025-05-17 12:44:19,788 - INFO - Columnas objetivo actualizadas: ['Mo_cumulative']\n",
      "2025-05-17 12:44:19,788 - INFO - Inicio de la carga de datos.\n",
      "2025-05-17 12:44:19,793 - INFO - Tabla Tabla_Unificada cargada correctamente.\n",
      "2025-05-17 12:44:19,795 - INFO - Tabla Variables_Description cargada correctamente.\n",
      "2025-05-17 12:44:19,799 - INFO - Conexión cerrada.\n",
      "2025-05-17 12:44:19,788 - INFO - Columnas objetivo actualizadas: ['Mo_cumulative']\n",
      "2025-05-17 12:44:19,788 - INFO - Inicio de la carga de datos.\n",
      "2025-05-17 12:44:19,793 - INFO - Tabla Tabla_Unificada cargada correctamente.\n",
      "2025-05-17 12:44:19,795 - INFO - Tabla Variables_Description cargada correctamente.\n",
      "2025-05-17 12:44:19,799 - INFO - Conexión cerrada.\n",
      "2025-05-17 12:44:19,800 - INFO - Datos cargados exitosamente.\n",
      "2025-05-17 12:44:19,800 - INFO - Inicio del preprocesamiento de datos.\n",
      "2025-05-17 12:44:19,811 - INFO - Variables de entrada procesadas: ['Cobertura Total', 'Cobertura Primario', 'Tronadura_Largo de Perforación (m)', 'Tronadura_N° Tiros', 'Tronadura_N° Tiros Real', 'Tronadura_Kg. de explosivos tronadura', 'Tronadura_Tipo Explosivo', 'Destressing_Se realizó', 'Destressing_N° Tiros', 'Destressing_Kg. de explosivos', 'Destressing_Tipo Explosivo', 'Geotecnicas_UCS (MPa)', 'Geotecnicas_Modulo de Young (GPa)', 'Geotecnicas_Razón Poisson', 'Litología', 'Fallas_Presencia', 'Fallas_Sub-Paralelas', 'Estructura', 'Estructura Crítica', 'Condición de Agua', 'GSI_Puntaje', 'GSI_Blocosidad', 'GSI_Condición Estructuras', 'DTM', 'Blocosidad_Volumen Total', 'Blocosidad_N° Caras', 'Blocosidad_Sumatoria Superficie', 'Blocosidad_Índice Blocosidad', 'Avance_Largo real (m)', 'Avance_Tipo de Explosivo', 'Sobre-excavacion_A (Caja Norte)', 'Sobre-excavacion_B (Acod. Norte)', 'Sobre-excavacion_C (Techo)', 'Sobre-excavacion_D (Acod. Sur)', 'Sobre-excavacion_E (Caja Sur)', 'Sobre-excavacion_% Sobre-Excavación', 'A (Caja Norte)', 'B (Acod. Norte)', 'C (Techo)', 'D (Acod. Sur)', 'E (Caja Sur)', 'Total', 'Coordenadas_Norte (m)', 'Coordenadas_Este (m)', 'Coordenadas_Cota (m)', 'Avance Topográfico (m)', 'Metros Acumulado (m)', 'Área teórica(m2)', '% sobre-excavación', 'Volumen excavado (m3)', 'Tiempo de Ciclo Total (h)', 'Tiempo Ciclo Acumunado (h)', 'Tiempo Tronadura']\n",
      "2025-05-17 12:44:19,800 - INFO - Datos cargados exitosamente.\n",
      "2025-05-17 12:44:19,800 - INFO - Inicio del preprocesamiento de datos.\n",
      "2025-05-17 12:44:19,811 - INFO - Variables de entrada procesadas: ['Cobertura Total', 'Cobertura Primario', 'Tronadura_Largo de Perforación (m)', 'Tronadura_N° Tiros', 'Tronadura_N° Tiros Real', 'Tronadura_Kg. de explosivos tronadura', 'Tronadura_Tipo Explosivo', 'Destressing_Se realizó', 'Destressing_N° Tiros', 'Destressing_Kg. de explosivos', 'Destressing_Tipo Explosivo', 'Geotecnicas_UCS (MPa)', 'Geotecnicas_Modulo de Young (GPa)', 'Geotecnicas_Razón Poisson', 'Litología', 'Fallas_Presencia', 'Fallas_Sub-Paralelas', 'Estructura', 'Estructura Crítica', 'Condición de Agua', 'GSI_Puntaje', 'GSI_Blocosidad', 'GSI_Condición Estructuras', 'DTM', 'Blocosidad_Volumen Total', 'Blocosidad_N° Caras', 'Blocosidad_Sumatoria Superficie', 'Blocosidad_Índice Blocosidad', 'Avance_Largo real (m)', 'Avance_Tipo de Explosivo', 'Sobre-excavacion_A (Caja Norte)', 'Sobre-excavacion_B (Acod. Norte)', 'Sobre-excavacion_C (Techo)', 'Sobre-excavacion_D (Acod. Sur)', 'Sobre-excavacion_E (Caja Sur)', 'Sobre-excavacion_% Sobre-Excavación', 'A (Caja Norte)', 'B (Acod. Norte)', 'C (Techo)', 'D (Acod. Sur)', 'E (Caja Sur)', 'Total', 'Coordenadas_Norte (m)', 'Coordenadas_Este (m)', 'Coordenadas_Cota (m)', 'Avance Topográfico (m)', 'Metros Acumulado (m)', 'Área teórica(m2)', '% sobre-excavación', 'Volumen excavado (m3)', 'Tiempo de Ciclo Total (h)', 'Tiempo Ciclo Acumunado (h)', 'Tiempo Tronadura']\n",
      "2025-05-17 12:44:19,813 - INFO - Variables target seleccionadas y transformadas: ['Mo_cumulative']\n",
      "2025-05-17 12:44:19,813 - INFO - Preprocesamiento de datos completado exitosamente.\n",
      "2025-05-17 12:44:19,814 - INFO - Inicio de la normalización de datos.\n",
      "2025-05-17 12:44:19,815 - INFO - Datos de entrada normalizados correctamente.\n",
      "2025-05-17 12:44:19,816 - INFO - Datos de salida normalizados correctamente.\n",
      "2025-05-17 12:44:19,817 - INFO - DataFrame de escalas generado correctamente.\n",
      "2025-05-17 12:44:19,817 - INFO - Normalización de datos completada exitosamente.\n",
      "2025-05-17 12:44:19,813 - INFO - Variables target seleccionadas y transformadas: ['Mo_cumulative']\n",
      "2025-05-17 12:44:19,813 - INFO - Preprocesamiento de datos completado exitosamente.\n",
      "2025-05-17 12:44:19,814 - INFO - Inicio de la normalización de datos.\n",
      "2025-05-17 12:44:19,815 - INFO - Datos de entrada normalizados correctamente.\n",
      "2025-05-17 12:44:19,816 - INFO - Datos de salida normalizados correctamente.\n",
      "2025-05-17 12:44:19,817 - INFO - DataFrame de escalas generado correctamente.\n",
      "2025-05-17 12:44:19,817 - INFO - Normalización de datos completada exitosamente.\n"
     ]
    },
    {
     "name": "stdout",
     "output_type": "stream",
     "text": [
      "🔗 Conexión establecida con data/Tronaduras_vs_Sismicidad.db\n",
      "✅ Datos leídos desde 'Processed_Data.Tabla_Unificada' y convertidos a DataFrame.\n",
      "✅ Datos leídos desde 'Raw_Data.Variables_Description' y convertidos a DataFrame.\n",
      "🔌 Conexión cerrada manualmente.\n",
      "[2025-05-17 12:44:20] 🚀 [FeedForward] Entrenando red...\n",
      "[2025-05-17 12:44:20] ✨ [FeedForward] Mejor modelo en época 0 📉 train loss: 0.1920 📊 val loss: 0.0255\n",
      "[2025-05-17 12:44:20] 🔄 [FeedForward] [Época 0] 🧠 Pérdida entrenamiento: 0.1920 | Validación: 0.0255\n",
      "[2025-05-17 12:44:20] ✨ [FeedForward] Mejor modelo en época 4 📉 train loss: 0.0256 📊 val loss: 0.0178\n",
      "[2025-05-17 12:44:20] ✨ [FeedForward] Mejor modelo en época 10 📉 train loss: 0.0226 📊 val loss: 0.0166\n",
      "[2025-05-17 12:44:20] ✨ [FeedForward] Mejor modelo en época 11 📉 train loss: 0.0174 📊 val loss: 0.0164\n",
      "[2025-05-17 12:44:20] ✨ [FeedForward] Mejor modelo en época 18 📉 train loss: 0.0161 📊 val loss: 0.0162\n",
      "[2025-05-17 12:44:20] ✨ [FeedForward] Mejor modelo en época 19 📉 train loss: 0.0149 📊 val loss: 0.0156\n",
      "[2025-05-17 12:44:20] ✨ [FeedForward] Mejor modelo en época 25 📉 train loss: 0.0153 📊 val loss: 0.0156\n",
      "[2025-05-17 12:44:20] ✨ [FeedForward] Mejor modelo en época 33 📉 train loss: 0.0134 📊 val loss: 0.0154\n",
      "[2025-05-17 12:44:20] ✨ [FeedForward] Mejor modelo en época 34 📉 train loss: 0.0132 📊 val loss: 0.0153\n",
      "[2025-05-17 12:44:20] ✨ [FeedForward] Mejor modelo en época 38 📉 train loss: 0.0132 📊 val loss: 0.0152\n",
      "[2025-05-17 12:44:20] ✨ [FeedForward] Mejor modelo en época 39 📉 train loss: 0.0128 📊 val loss: 0.0151\n",
      "[2025-05-17 12:44:20] ✨ [FeedForward] Mejor modelo en época 43 📉 train loss: 0.0125 📊 val loss: 0.0151\n",
      "[2025-05-17 12:44:20] ✨ [FeedForward] Mejor modelo en época 44 📉 train loss: 0.0123 📊 val loss: 0.0148\n",
      "[2025-05-17 12:44:20] ✨ [FeedForward] Mejor modelo en época 45 📉 train loss: 0.0121 📊 val loss: 0.0146\n",
      "[2025-05-17 12:44:20] ✨ [FeedForward] Mejor modelo en época 46 📉 train loss: 0.0119 📊 val loss: 0.0145\n",
      "[2025-05-17 12:44:20] ✨ [FeedForward] Mejor modelo en época 47 📉 train loss: 0.0119 📊 val loss: 0.0145\n",
      "[2025-05-17 12:44:20] ✨ [FeedForward] Mejor modelo en época 48 📉 train loss: 0.0119 📊 val loss: 0.0144\n",
      "[2025-05-17 12:44:20] ✨ [FeedForward] Mejor modelo en época 49 📉 train loss: 0.0118 📊 val loss: 0.0144\n",
      "[2025-05-17 12:44:20] ✨ [FeedForward] Mejor modelo en época 50 📉 train loss: 0.0116 📊 val loss: 0.0143\n",
      "[2025-05-17 12:44:20] ✨ [FeedForward] Mejor modelo en época 54 📉 train loss: 0.0112 📊 val loss: 0.0143\n",
      "[2025-05-17 12:44:20] ✨ [FeedForward] Mejor modelo en época 55 📉 train loss: 0.0111 📊 val loss: 0.0143\n",
      "[2025-05-17 12:44:20] ✨ [FeedForward] Mejor modelo en época 56 📉 train loss: 0.0109 📊 val loss: 0.0142\n",
      "[2025-05-17 12:44:20] ✨ [FeedForward] Mejor modelo en época 57 📉 train loss: 0.0109 📊 val loss: 0.0142\n",
      "[2025-05-17 12:44:20] ✨ [FeedForward] Mejor modelo en época 58 📉 train loss: 0.0107 📊 val loss: 0.0140\n",
      "[2025-05-17 12:44:20] ✨ [FeedForward] Mejor modelo en época 59 📉 train loss: 0.0106 📊 val loss: 0.0139\n",
      "[2025-05-17 12:44:20] ✨ [FeedForward] Mejor modelo en época 60 📉 train loss: 0.0105 📊 val loss: 0.0139\n",
      "[2025-05-17 12:44:20] ✨ [FeedForward] Mejor modelo en época 61 📉 train loss: 0.0104 📊 val loss: 0.0139\n",
      "[2025-05-17 12:44:20] ✨ [FeedForward] Mejor modelo en época 62 📉 train loss: 0.0102 📊 val loss: 0.0138\n",
      "[2025-05-17 12:44:20] ✨ [FeedForward] Mejor modelo en época 67 📉 train loss: 0.0095 📊 val loss: 0.0138\n",
      "[2025-05-17 12:44:20] ✨ [FeedForward] Mejor modelo en época 68 📉 train loss: 0.0094 📊 val loss: 0.0138\n",
      "[2025-05-17 12:44:20] ✨ [FeedForward] Mejor modelo en época 69 📉 train loss: 0.0093 📊 val loss: 0.0137\n",
      "[2025-05-17 12:44:20] ✨ [FeedForward] Mejor modelo en época 70 📉 train loss: 0.0091 📊 val loss: 0.0136\n",
      "[2025-05-17 12:44:20] ✨ [FeedForward] Mejor modelo en época 71 📉 train loss: 0.0090 📊 val loss: 0.0134\n",
      "[2025-05-17 12:44:20] ✨ [FeedForward] Mejor modelo en época 72 📉 train loss: 0.0088 📊 val loss: 0.0133\n",
      "[2025-05-17 12:44:20] ✨ [FeedForward] Mejor modelo en época 73 📉 train loss: 0.0087 📊 val loss: 0.0132\n",
      "[2025-05-17 12:44:20] ✨ [FeedForward] Mejor modelo en época 74 📉 train loss: 0.0086 📊 val loss: 0.0131\n",
      "[2025-05-17 12:44:20] ✨ [FeedForward] Mejor modelo en época 75 📉 train loss: 0.0084 📊 val loss: 0.0131\n",
      "[2025-05-17 12:44:20] ✨ [FeedForward] Mejor modelo en época 76 📉 train loss: 0.0083 📊 val loss: 0.0131\n",
      "[2025-05-17 12:44:20] ✨ [FeedForward] Mejor modelo en época 81 📉 train loss: 0.0075 📊 val loss: 0.0131\n",
      "[2025-05-17 12:44:20] ✨ [FeedForward] Mejor modelo en época 82 📉 train loss: 0.0074 📊 val loss: 0.0130\n",
      "[2025-05-17 12:44:20] ✨ [FeedForward] Mejor modelo en época 84 📉 train loss: 0.0071 📊 val loss: 0.0130\n",
      "[2025-05-17 12:44:20] ✨ [FeedForward] Mejor modelo en época 85 📉 train loss: 0.0069 📊 val loss: 0.0129\n",
      "[2025-05-17 12:44:20] ✨ [FeedForward] Mejor modelo en época 86 📉 train loss: 0.0068 📊 val loss: 0.0129\n",
      "[2025-05-17 12:44:20] ✨ [FeedForward] Mejor modelo en época 87 📉 train loss: 0.0066 📊 val loss: 0.0129\n",
      "[2025-05-17 12:44:20] ✨ [FeedForward] Mejor modelo en época 88 📉 train loss: 0.0065 📊 val loss: 0.0128\n",
      "[2025-05-17 12:44:20] ✨ [FeedForward] Mejor modelo en época 91 📉 train loss: 0.0061 📊 val loss: 0.0128\n",
      "[2025-05-17 12:44:20] ✨ [FeedForward] Mejor modelo en época 92 📉 train loss: 0.0059 📊 val loss: 0.0127\n",
      "[2025-05-17 12:44:20] ✨ [FeedForward] Mejor modelo en época 93 📉 train loss: 0.0058 📊 val loss: 0.0127\n",
      "[2025-05-17 12:44:20] 🔄 [FeedForward] [Época 100] 🧠 Pérdida entrenamiento: 0.0049 | Validación: 0.0128\n",
      "[2025-05-17 12:44:20] 🔄 [FeedForward] [Época 200] 🧠 Pérdida entrenamiento: 0.0008 | Validación: 0.0181\n",
      "[2025-05-17 12:44:21] 🔄 [FeedForward] [Época 300] 🧠 Pérdida entrenamiento: 0.0004 | Validación: 0.0207\n",
      "[2025-05-17 12:44:21] 🔄 [FeedForward] [Época 400] 🧠 Pérdida entrenamiento: 0.0002 | Validación: 0.0222\n",
      "[2025-05-17 12:44:21] 🔄 [FeedForward] [Época 500] 🧠 Pérdida entrenamiento: 0.0001 | Validación: 0.0232\n",
      "[2025-05-17 12:44:21] 🔄 [FeedForward] [Época 600] 🧠 Pérdida entrenamiento: 0.0000 | Validación: 0.0233\n",
      "[2025-05-17 12:44:21] 🔄 [FeedForward] [Época 700] 🧠 Pérdida entrenamiento: 0.0000 | Validación: 0.0235\n",
      "[2025-05-17 12:44:21] 🔄 [FeedForward] [Época 800] 🧠 Pérdida entrenamiento: 0.0000 | Validación: 0.0235\n",
      "[2025-05-17 12:44:21] 🔄 [FeedForward] [Época 900] 🧠 Pérdida entrenamiento: 0.0000 | Validación: 0.0235\n",
      "[2025-05-17 12:44:22] 🔄 [FeedForward] [Época 1000] 🧠 Pérdida entrenamiento: 0.0001 | Validación: 0.0234\n",
      "[2025-05-17 12:44:22] 🔄 [FeedForward] [Época 1100] 🧠 Pérdida entrenamiento: 0.0000 | Validación: 0.0233\n",
      "[2025-05-17 12:44:22] 🔄 [FeedForward] [Época 1200] 🧠 Pérdida entrenamiento: 0.0000 | Validación: 0.0234\n",
      "[2025-05-17 12:44:22] 🔄 [FeedForward] [Época 1300] 🧠 Pérdida entrenamiento: 0.0000 | Validación: 0.0232\n",
      "[2025-05-17 12:44:22] 🔄 [FeedForward] [Época 1400] 🧠 Pérdida entrenamiento: 0.0000 | Validación: 0.0231\n",
      "[2025-05-17 12:44:22] 🔄 [FeedForward] [Época 1500] 🧠 Pérdida entrenamiento: 0.0000 | Validación: 0.0231\n",
      "[2025-05-17 12:44:22] 🔄 [FeedForward] [Época 1600] 🧠 Pérdida entrenamiento: 0.0000 | Validación: 0.0231\n",
      "[2025-05-17 12:44:23] 🔄 [FeedForward] [Época 1700] 🧠 Pérdida entrenamiento: 0.0000 | Validación: 0.0230\n",
      "[2025-05-17 12:44:23] 🔄 [FeedForward] [Época 1800] 🧠 Pérdida entrenamiento: 0.0000 | Validación: 0.0230\n",
      "[2025-05-17 12:44:23] 🔄 [FeedForward] [Época 1900] 🧠 Pérdida entrenamiento: 0.0000 | Validación: 0.0229\n",
      "[2025-05-17 12:44:23] 🔄 [FeedForward] [Época 2000] 🧠 Pérdida entrenamiento: 0.0001 | Validación: 0.0231\n",
      "[2025-05-17 12:44:23] 🔄 [FeedForward] [Época 2100] 🧠 Pérdida entrenamiento: 0.0001 | Validación: 0.0221\n",
      "[2025-05-17 12:44:23] 🔄 [FeedForward] [Época 2200] 🧠 Pérdida entrenamiento: 0.0000 | Validación: 0.0228\n",
      "[2025-05-17 12:44:23] 🔄 [FeedForward] [Época 2300] 🧠 Pérdida entrenamiento: 0.0000 | Validación: 0.0228\n",
      "[2025-05-17 12:44:23] 🔄 [FeedForward] [Época 2400] 🧠 Pérdida entrenamiento: 0.0000 | Validación: 0.0227\n",
      "[2025-05-17 12:44:24] 🔄 [FeedForward] [Época 2500] 🧠 Pérdida entrenamiento: 0.0000 | Validación: 0.0218\n",
      "[2025-05-17 12:44:24] 🔄 [FeedForward] [Época 2600] 🧠 Pérdida entrenamiento: 0.0000 | Validación: 0.0226\n",
      "[2025-05-17 12:44:24] 🔄 [FeedForward] [Época 2700] 🧠 Pérdida entrenamiento: 0.0000 | Validación: 0.0227\n",
      "[2025-05-17 12:44:24] 🔄 [FeedForward] [Época 2800] 🧠 Pérdida entrenamiento: 0.0000 | Validación: 0.0225\n",
      "[2025-05-17 12:44:24] 🔄 [FeedForward] [Época 2900] 🧠 Pérdida entrenamiento: 0.0006 | Validación: 0.0229\n",
      "[2025-05-17 12:44:24] 🔄 [FeedForward] [Época 3000] 🧠 Pérdida entrenamiento: 0.0000 | Validación: 0.0224\n",
      "[2025-05-17 12:44:24] 🔄 [FeedForward] [Época 3100] 🧠 Pérdida entrenamiento: 0.0000 | Validación: 0.0224\n",
      "[2025-05-17 12:44:24] 🔄 [FeedForward] [Época 3200] 🧠 Pérdida entrenamiento: 0.0000 | Validación: 0.0224\n",
      "[2025-05-17 12:44:24] 🔄 [FeedForward] [Época 3300] 🧠 Pérdida entrenamiento: 0.0000 | Validación: 0.0224\n",
      "[2025-05-17 12:44:25] 🔄 [FeedForward] [Época 3400] 🧠 Pérdida entrenamiento: 0.0000 | Validación: 0.0223\n",
      "[2025-05-17 12:44:25] 🔄 [FeedForward] [Época 3500] 🧠 Pérdida entrenamiento: 0.0000 | Validación: 0.0223\n",
      "[2025-05-17 12:44:25] 🔄 [FeedForward] [Época 3600] 🧠 Pérdida entrenamiento: 0.0000 | Validación: 0.0222\n",
      "[2025-05-17 12:44:25] 🔄 [FeedForward] [Época 3700] 🧠 Pérdida entrenamiento: 0.0006 | Validación: 0.0227\n",
      "[2025-05-17 12:44:25] 🔄 [FeedForward] [Época 3800] 🧠 Pérdida entrenamiento: 0.0000 | Validación: 0.0221\n",
      "[2025-05-17 12:44:25] 🔄 [FeedForward] [Época 3900] 🧠 Pérdida entrenamiento: 0.0000 | Validación: 0.0221\n",
      "[2025-05-17 12:44:25] 🔄 [FeedForward] [Época 4000] 🧠 Pérdida entrenamiento: 0.0000 | Validación: 0.0220\n",
      "[2025-05-17 12:44:25] 🔄 [FeedForward] [Época 4100] 🧠 Pérdida entrenamiento: 0.0000 | Validación: 0.0220\n",
      "[2025-05-17 12:44:26] 🔄 [FeedForward] [Época 4200] 🧠 Pérdida entrenamiento: 0.0000 | Validación: 0.0220\n",
      "[2025-05-17 12:44:26] 🔄 [FeedForward] [Época 4300] 🧠 Pérdida entrenamiento: 0.0000 | Validación: 0.0219\n",
      "[2025-05-17 12:44:26] 🔄 [FeedForward] [Época 4400] 🧠 Pérdida entrenamiento: 0.0000 | Validación: 0.0219\n",
      "[2025-05-17 12:44:26] 🔄 [FeedForward] [Época 4500] 🧠 Pérdida entrenamiento: 0.0001 | Validación: 0.0220\n",
      "[2025-05-17 12:44:26] 🔄 [FeedForward] [Época 4600] 🧠 Pérdida entrenamiento: 0.0000 | Validación: 0.0218\n",
      "[2025-05-17 12:44:26] 🔄 [FeedForward] [Época 4700] 🧠 Pérdida entrenamiento: 0.0000 | Validación: 0.0218\n",
      "[2025-05-17 12:44:26] 🔄 [FeedForward] [Época 4800] 🧠 Pérdida entrenamiento: 0.0004 | Validación: 0.0216\n",
      "[2025-05-17 12:44:26] 🔄 [FeedForward] [Época 4900] 🧠 Pérdida entrenamiento: 0.0000 | Validación: 0.0217\n",
      "[2025-05-17 12:44:27] ✅ [FeedForward] Entrenamiento finalizado\n"
     ]
    }
   ],
   "source": [
    "# Configuración básica del proyecto\n",
    "PROJECT_NAME = 'Feed Forward Neural Network'\n",
    "\n",
    "import pandas as pd\n",
    "import torch\n",
    "from sklearn.model_selection import train_test_split\n",
    "from classes.DataHandler import DataHandler\n",
    "from classes.FeedForwardNetwork_opt import FeedForwardNetwork_opt\n",
    "\n",
    "dh = DataHandler()\n",
    "DEVICE = 'cuda'\n",
    "dh.DEVICE = DEVICE\n",
    "\n",
    "dh.set_targets(['Mo_cumulative'])\n",
    "table_unified, vars_desc = dh.load_data()\n",
    "inputs, targets = dh.preprocess_data(vars_desc, table_unified)\n",
    "X, y, scales = dh.normalize_data(inputs, targets)\n",
    "\n",
    "# Convertir X y y a tensores de PyTorch y moverlos a la GPU\n",
    "X = torch.tensor(X, dtype=torch.float32).to(dh.DEVICE)\n",
    "y = torch.tensor(y, dtype=torch.float32).to(dh.DEVICE)\n",
    "\n",
    "# Dividir los datos en entrenamiento y validación\n",
    "X_train, X_val, y_train, y_val = train_test_split(\n",
    "    X.cpu().numpy(), y.cpu().numpy(), test_size=0.2, random_state=42\n",
    ")\n",
    "\n",
    "# Convertir los conjuntos a tensores y moverlos a la GPU\n",
    "X_train = torch.tensor(X_train, dtype=torch.float32).to(dh.DEVICE)\n",
    "X_val = torch.tensor(X_val, dtype=torch.float32).to(dh.DEVICE)\n",
    "y_train = torch.tensor(y_train, dtype=torch.float32).to(dh.DEVICE)\n",
    "y_val = torch.tensor(y_val, dtype=torch.float32).to(dh.DEVICE)\n",
    "\n",
    "input_dim = X_train.shape[1]\n",
    "hidden_dim = 528\n",
    "show_info = 'True'\n",
    "\n",
    "ffn = FeedForwardNetwork_opt(input_dim, hidden_dim, DEVICE, show_info=show_info)\n",
    "model = ffn.train_model(X_train, y_train, X_val, y_val, num_epochs=5000, lr=0.001)"
   ]
  },
  {
   "cell_type": "code",
   "execution_count": 3,
   "id": "755fde29",
   "metadata": {},
   "outputs": [
    {
     "data": {
      "application/vnd.plotly.v1+json": {
       "config": {
        "plotlyServerURL": "https://plot.ly"
       },
       "data": [
        {
         "line": {
          "color": "blue"
         },
         "mode": "lines",
         "name": "Valores Reales",
         "type": "scatter",
         "x": [
          0,
          1,
          2,
          3,
          4,
          5,
          6,
          7,
          8,
          9,
          10,
          11,
          12,
          13,
          14,
          15,
          16,
          17,
          18,
          19,
          20,
          21,
          22,
          23,
          24,
          25,
          26,
          27,
          28,
          29,
          30,
          31,
          32,
          33,
          34,
          35,
          36,
          37,
          38,
          39,
          40,
          41,
          42,
          43,
          44,
          45,
          46,
          47,
          48,
          49,
          50,
          51,
          52,
          53,
          54,
          55,
          56,
          57,
          58,
          59,
          60,
          61,
          62,
          63,
          64,
          65,
          66,
          67,
          68,
          69,
          70,
          71,
          72,
          73,
          74,
          75,
          76,
          77,
          78,
          79,
          80,
          81,
          82,
          83,
          84,
          85,
          86,
          87,
          88,
          89,
          90,
          91,
          92,
          93,
          94,
          95,
          96,
          97,
          98,
          99,
          100,
          101,
          102,
          103,
          104,
          105,
          106,
          107,
          108,
          109,
          110,
          111,
          112,
          113,
          114,
          115,
          116,
          117,
          118,
          119,
          120,
          121,
          122,
          123,
          124,
          125,
          126,
          127,
          128,
          129,
          130,
          131,
          132,
          133,
          134,
          135,
          136,
          137,
          138,
          139,
          140,
          141,
          142,
          143,
          144,
          145,
          146,
          147,
          148,
          149,
          150,
          151,
          152,
          153,
          154,
          155,
          156,
          157,
          158,
          159,
          160,
          161,
          162,
          163,
          164,
          165,
          166,
          167,
          168,
          169,
          170,
          171,
          172,
          173,
          174,
          175,
          176,
          177,
          178,
          179,
          180,
          181,
          182,
          183,
          184,
          185,
          186,
          187,
          188,
          189,
          190,
          191,
          192,
          193,
          194,
          195,
          196,
          197,
          198,
          199,
          200,
          201,
          202,
          203,
          204,
          205,
          206,
          207,
          208,
          209,
          210,
          211,
          212,
          213,
          214,
          215,
          216,
          217,
          218,
          219,
          220,
          221,
          222,
          223,
          224,
          225,
          226,
          227,
          228,
          229,
          230,
          231
         ],
         "y": {
          "bdata": "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",
          "dtype": "f8"
         }
        },
        {
         "line": {
          "color": "red"
         },
         "mode": "lines",
         "name": "Predicciones FFN",
         "type": "scatter",
         "x": [
          0,
          1,
          2,
          3,
          4,
          5,
          6,
          7,
          8,
          9,
          10,
          11,
          12,
          13,
          14,
          15,
          16,
          17,
          18,
          19,
          20,
          21,
          22,
          23,
          24,
          25,
          26,
          27,
          28,
          29,
          30,
          31,
          32,
          33,
          34,
          35,
          36,
          37,
          38,
          39,
          40,
          41,
          42,
          43,
          44,
          45,
          46,
          47,
          48,
          49,
          50,
          51,
          52,
          53,
          54,
          55,
          56,
          57,
          58,
          59,
          60,
          61,
          62,
          63,
          64,
          65,
          66,
          67,
          68,
          69,
          70,
          71,
          72,
          73,
          74,
          75,
          76,
          77,
          78,
          79,
          80,
          81,
          82,
          83,
          84,
          85,
          86,
          87,
          88,
          89,
          90,
          91,
          92,
          93,
          94,
          95,
          96,
          97,
          98,
          99,
          100,
          101,
          102,
          103,
          104,
          105,
          106,
          107,
          108,
          109,
          110,
          111,
          112,
          113,
          114,
          115,
          116,
          117,
          118,
          119,
          120,
          121,
          122,
          123,
          124,
          125,
          126,
          127,
          128,
          129,
          130,
          131,
          132,
          133,
          134,
          135,
          136,
          137,
          138,
          139,
          140,
          141,
          142,
          143,
          144,
          145,
          146,
          147,
          148,
          149,
          150,
          151,
          152,
          153,
          154,
          155,
          156,
          157,
          158,
          159,
          160,
          161,
          162,
          163,
          164,
          165,
          166,
          167,
          168,
          169,
          170,
          171,
          172,
          173,
          174,
          175,
          176,
          177,
          178,
          179,
          180,
          181,
          182,
          183,
          184,
          185,
          186,
          187,
          188,
          189,
          190,
          191,
          192,
          193,
          194,
          195,
          196,
          197,
          198,
          199,
          200,
          201,
          202,
          203,
          204,
          205,
          206,
          207,
          208,
          209,
          210,
          211,
          212,
          213,
          214,
          215,
          216,
          217,
          218,
          219,
          220,
          221,
          222,
          223,
          224,
          225,
          226,
          227,
          228,
          229,
          230,
          231
         ],
         "y": {
          "bdata": "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",
          "dtype": "f8"
         }
        }
       ],
       "layout": {
        "height": 400,
        "legend": {
         "title": {
          "text": "Leyenda"
         }
        },
        "showlegend": true,
        "template": {
         "data": {
          "bar": [
           {
            "error_x": {
             "color": "#2a3f5f"
            },
            "error_y": {
             "color": "#2a3f5f"
            },
            "marker": {
             "line": {
              "color": "#E5ECF6",
              "width": 0.5
             },
             "pattern": {
              "fillmode": "overlay",
              "size": 10,
              "solidity": 0.2
             }
            },
            "type": "bar"
           }
          ],
          "barpolar": [
           {
            "marker": {
             "line": {
              "color": "#E5ECF6",
              "width": 0.5
             },
             "pattern": {
              "fillmode": "overlay",
              "size": 10,
              "solidity": 0.2
             }
            },
            "type": "barpolar"
           }
          ],
          "carpet": [
           {
            "aaxis": {
             "endlinecolor": "#2a3f5f",
             "gridcolor": "white",
             "linecolor": "white",
             "minorgridcolor": "white",
             "startlinecolor": "#2a3f5f"
            },
            "baxis": {
             "endlinecolor": "#2a3f5f",
             "gridcolor": "white",
             "linecolor": "white",
             "minorgridcolor": "white",
             "startlinecolor": "#2a3f5f"
            },
            "type": "carpet"
           }
          ],
          "choropleth": [
           {
            "colorbar": {
             "outlinewidth": 0,
             "ticks": ""
            },
            "type": "choropleth"
           }
          ],
          "contour": [
           {
            "colorbar": {
             "outlinewidth": 0,
             "ticks": ""
            },
            "colorscale": [
             [
              0,
              "#0d0887"
             ],
             [
              0.1111111111111111,
              "#46039f"
             ],
             [
              0.2222222222222222,
              "#7201a8"
             ],
             [
              0.3333333333333333,
              "#9c179e"
             ],
             [
              0.4444444444444444,
              "#bd3786"
             ],
             [
              0.5555555555555556,
              "#d8576b"
             ],
             [
              0.6666666666666666,
              "#ed7953"
             ],
             [
              0.7777777777777778,
              "#fb9f3a"
             ],
             [
              0.8888888888888888,
              "#fdca26"
             ],
             [
              1,
              "#f0f921"
             ]
            ],
            "type": "contour"
           }
          ],
          "contourcarpet": [
           {
            "colorbar": {
             "outlinewidth": 0,
             "ticks": ""
            },
            "type": "contourcarpet"
           }
          ],
          "heatmap": [
           {
            "colorbar": {
             "outlinewidth": 0,
             "ticks": ""
            },
            "colorscale": [
             [
              0,
              "#0d0887"
             ],
             [
              0.1111111111111111,
              "#46039f"
             ],
             [
              0.2222222222222222,
              "#7201a8"
             ],
             [
              0.3333333333333333,
              "#9c179e"
             ],
             [
              0.4444444444444444,
              "#bd3786"
             ],
             [
              0.5555555555555556,
              "#d8576b"
             ],
             [
              0.6666666666666666,
              "#ed7953"
             ],
             [
              0.7777777777777778,
              "#fb9f3a"
             ],
             [
              0.8888888888888888,
              "#fdca26"
             ],
             [
              1,
              "#f0f921"
             ]
            ],
            "type": "heatmap"
           }
          ],
          "histogram": [
           {
            "marker": {
             "pattern": {
              "fillmode": "overlay",
              "size": 10,
              "solidity": 0.2
             }
            },
            "type": "histogram"
           }
          ],
          "histogram2d": [
           {
            "colorbar": {
             "outlinewidth": 0,
             "ticks": ""
            },
            "colorscale": [
             [
              0,
              "#0d0887"
             ],
             [
              0.1111111111111111,
              "#46039f"
             ],
             [
              0.2222222222222222,
              "#7201a8"
             ],
             [
              0.3333333333333333,
              "#9c179e"
             ],
             [
              0.4444444444444444,
              "#bd3786"
             ],
             [
              0.5555555555555556,
              "#d8576b"
             ],
             [
              0.6666666666666666,
              "#ed7953"
             ],
             [
              0.7777777777777778,
              "#fb9f3a"
             ],
             [
              0.8888888888888888,
              "#fdca26"
             ],
             [
              1,
              "#f0f921"
             ]
            ],
            "type": "histogram2d"
           }
          ],
          "histogram2dcontour": [
           {
            "colorbar": {
             "outlinewidth": 0,
             "ticks": ""
            },
            "colorscale": [
             [
              0,
              "#0d0887"
             ],
             [
              0.1111111111111111,
              "#46039f"
             ],
             [
              0.2222222222222222,
              "#7201a8"
             ],
             [
              0.3333333333333333,
              "#9c179e"
             ],
             [
              0.4444444444444444,
              "#bd3786"
             ],
             [
              0.5555555555555556,
              "#d8576b"
             ],
             [
              0.6666666666666666,
              "#ed7953"
             ],
             [
              0.7777777777777778,
              "#fb9f3a"
             ],
             [
              0.8888888888888888,
              "#fdca26"
             ],
             [
              1,
              "#f0f921"
             ]
            ],
            "type": "histogram2dcontour"
           }
          ],
          "mesh3d": [
           {
            "colorbar": {
             "outlinewidth": 0,
             "ticks": ""
            },
            "type": "mesh3d"
           }
          ],
          "parcoords": [
           {
            "line": {
             "colorbar": {
              "outlinewidth": 0,
              "ticks": ""
             }
            },
            "type": "parcoords"
           }
          ],
          "pie": [
           {
            "automargin": true,
            "type": "pie"
           }
          ],
          "scatter": [
           {
            "fillpattern": {
             "fillmode": "overlay",
             "size": 10,
             "solidity": 0.2
            },
            "type": "scatter"
           }
          ],
          "scatter3d": [
           {
            "line": {
             "colorbar": {
              "outlinewidth": 0,
              "ticks": ""
             }
            },
            "marker": {
             "colorbar": {
              "outlinewidth": 0,
              "ticks": ""
             }
            },
            "type": "scatter3d"
           }
          ],
          "scattercarpet": [
           {
            "marker": {
             "colorbar": {
              "outlinewidth": 0,
              "ticks": ""
             }
            },
            "type": "scattercarpet"
           }
          ],
          "scattergeo": [
           {
            "marker": {
             "colorbar": {
              "outlinewidth": 0,
              "ticks": ""
             }
            },
            "type": "scattergeo"
           }
          ],
          "scattergl": [
           {
            "marker": {
             "colorbar": {
              "outlinewidth": 0,
              "ticks": ""
             }
            },
            "type": "scattergl"
           }
          ],
          "scattermap": [
           {
            "marker": {
             "colorbar": {
              "outlinewidth": 0,
              "ticks": ""
             }
            },
            "type": "scattermap"
           }
          ],
          "scattermapbox": [
           {
            "marker": {
             "colorbar": {
              "outlinewidth": 0,
              "ticks": ""
             }
            },
            "type": "scattermapbox"
           }
          ],
          "scatterpolar": [
           {
            "marker": {
             "colorbar": {
              "outlinewidth": 0,
              "ticks": ""
             }
            },
            "type": "scatterpolar"
           }
          ],
          "scatterpolargl": [
           {
            "marker": {
             "colorbar": {
              "outlinewidth": 0,
              "ticks": ""
             }
            },
            "type": "scatterpolargl"
           }
          ],
          "scatterternary": [
           {
            "marker": {
             "colorbar": {
              "outlinewidth": 0,
              "ticks": ""
             }
            },
            "type": "scatterternary"
           }
          ],
          "surface": [
           {
            "colorbar": {
             "outlinewidth": 0,
             "ticks": ""
            },
            "colorscale": [
             [
              0,
              "#0d0887"
             ],
             [
              0.1111111111111111,
              "#46039f"
             ],
             [
              0.2222222222222222,
              "#7201a8"
             ],
             [
              0.3333333333333333,
              "#9c179e"
             ],
             [
              0.4444444444444444,
              "#bd3786"
             ],
             [
              0.5555555555555556,
              "#d8576b"
             ],
             [
              0.6666666666666666,
              "#ed7953"
             ],
             [
              0.7777777777777778,
              "#fb9f3a"
             ],
             [
              0.8888888888888888,
              "#fdca26"
             ],
             [
              1,
              "#f0f921"
             ]
            ],
            "type": "surface"
           }
          ],
          "table": [
           {
            "cells": {
             "fill": {
              "color": "#EBF0F8"
             },
             "line": {
              "color": "white"
             }
            },
            "header": {
             "fill": {
              "color": "#C8D4E3"
             },
             "line": {
              "color": "white"
             }
            },
            "type": "table"
           }
          ]
         },
         "layout": {
          "annotationdefaults": {
           "arrowcolor": "#2a3f5f",
           "arrowhead": 0,
           "arrowwidth": 1
          },
          "autotypenumbers": "strict",
          "coloraxis": {
           "colorbar": {
            "outlinewidth": 0,
            "ticks": ""
           }
          },
          "colorscale": {
           "diverging": [
            [
             0,
             "#8e0152"
            ],
            [
             0.1,
             "#c51b7d"
            ],
            [
             0.2,
             "#de77ae"
            ],
            [
             0.3,
             "#f1b6da"
            ],
            [
             0.4,
             "#fde0ef"
            ],
            [
             0.5,
             "#f7f7f7"
            ],
            [
             0.6,
             "#e6f5d0"
            ],
            [
             0.7,
             "#b8e186"
            ],
            [
             0.8,
             "#7fbc41"
            ],
            [
             0.9,
             "#4d9221"
            ],
            [
             1,
             "#276419"
            ]
           ],
           "sequential": [
            [
             0,
             "#0d0887"
            ],
            [
             0.1111111111111111,
             "#46039f"
            ],
            [
             0.2222222222222222,
             "#7201a8"
            ],
            [
             0.3333333333333333,
             "#9c179e"
            ],
            [
             0.4444444444444444,
             "#bd3786"
            ],
            [
             0.5555555555555556,
             "#d8576b"
            ],
            [
             0.6666666666666666,
             "#ed7953"
            ],
            [
             0.7777777777777778,
             "#fb9f3a"
            ],
            [
             0.8888888888888888,
             "#fdca26"
            ],
            [
             1,
             "#f0f921"
            ]
           ],
           "sequentialminus": [
            [
             0,
             "#0d0887"
            ],
            [
             0.1111111111111111,
             "#46039f"
            ],
            [
             0.2222222222222222,
             "#7201a8"
            ],
            [
             0.3333333333333333,
             "#9c179e"
            ],
            [
             0.4444444444444444,
             "#bd3786"
            ],
            [
             0.5555555555555556,
             "#d8576b"
            ],
            [
             0.6666666666666666,
             "#ed7953"
            ],
            [
             0.7777777777777778,
             "#fb9f3a"
            ],
            [
             0.8888888888888888,
             "#fdca26"
            ],
            [
             1,
             "#f0f921"
            ]
           ]
          },
          "colorway": [
           "#636efa",
           "#EF553B",
           "#00cc96",
           "#ab63fa",
           "#FFA15A",
           "#19d3f3",
           "#FF6692",
           "#B6E880",
           "#FF97FF",
           "#FECB52"
          ],
          "font": {
           "color": "#2a3f5f"
          },
          "geo": {
           "bgcolor": "white",
           "lakecolor": "white",
           "landcolor": "#E5ECF6",
           "showlakes": true,
           "showland": true,
           "subunitcolor": "white"
          },
          "hoverlabel": {
           "align": "left"
          },
          "hovermode": "closest",
          "mapbox": {
           "style": "light"
          },
          "paper_bgcolor": "white",
          "plot_bgcolor": "#E5ECF6",
          "polar": {
           "angularaxis": {
            "gridcolor": "white",
            "linecolor": "white",
            "ticks": ""
           },
           "bgcolor": "#E5ECF6",
           "radialaxis": {
            "gridcolor": "white",
            "linecolor": "white",
            "ticks": ""
           }
          },
          "scene": {
           "xaxis": {
            "backgroundcolor": "#E5ECF6",
            "gridcolor": "white",
            "gridwidth": 2,
            "linecolor": "white",
            "showbackground": true,
            "ticks": "",
            "zerolinecolor": "white"
           },
           "yaxis": {
            "backgroundcolor": "#E5ECF6",
            "gridcolor": "white",
            "gridwidth": 2,
            "linecolor": "white",
            "showbackground": true,
            "ticks": "",
            "zerolinecolor": "white"
           },
           "zaxis": {
            "backgroundcolor": "#E5ECF6",
            "gridcolor": "white",
            "gridwidth": 2,
            "linecolor": "white",
            "showbackground": true,
            "ticks": "",
            "zerolinecolor": "white"
           }
          },
          "shapedefaults": {
           "line": {
            "color": "#2a3f5f"
           }
          },
          "ternary": {
           "aaxis": {
            "gridcolor": "white",
            "linecolor": "white",
            "ticks": ""
           },
           "baxis": {
            "gridcolor": "white",
            "linecolor": "white",
            "ticks": ""
           },
           "bgcolor": "#E5ECF6",
           "caxis": {
            "gridcolor": "white",
            "linecolor": "white",
            "ticks": ""
           }
          },
          "title": {
           "x": 0.05
          },
          "xaxis": {
           "automargin": true,
           "gridcolor": "white",
           "linecolor": "white",
           "ticks": "",
           "title": {
            "standoff": 15
           },
           "zerolinecolor": "white",
           "zerolinewidth": 2
          },
          "yaxis": {
           "automargin": true,
           "gridcolor": "white",
           "linecolor": "white",
           "ticks": "",
           "title": {
            "standoff": 15
           },
           "zerolinecolor": "white",
           "zerolinewidth": 2
          }
         }
        },
        "title": {
         "text": "Predicciones FeedForward vs Reales (Entrenamiento)"
        },
        "width": 1200,
        "xaxis": {
         "title": {
          "text": "Indices"
         }
        },
        "yaxis": {
         "title": {
          "text": "Valor"
         }
        }
       }
      }
     },
     "metadata": {},
     "output_type": "display_data"
    },
    {
     "data": {
      "application/vnd.plotly.v1+json": {
       "config": {
        "plotlyServerURL": "https://plot.ly"
       },
       "data": [
        {
         "line": {
          "color": "blue"
         },
         "mode": "lines",
         "name": "Valores Reales",
         "type": "scatter",
         "x": [
          0,
          1,
          2,
          3,
          4,
          5,
          6,
          7,
          8,
          9,
          10,
          11,
          12,
          13,
          14,
          15,
          16,
          17,
          18,
          19,
          20,
          21,
          22,
          23,
          24,
          25,
          26,
          27,
          28,
          29,
          30,
          31,
          32,
          33,
          34,
          35,
          36,
          37,
          38,
          39,
          40,
          41,
          42,
          43,
          44,
          45,
          46,
          47,
          48,
          49,
          50,
          51,
          52,
          53,
          54,
          55,
          56,
          57
         ],
         "y": {
          "bdata": "1CjyN8/a2D9GV/8lF0HwP1jdbAYG2MI/5nZXnf+w1D8y4bE9/jflPyxCqjwMSdg/Cvmewyur5D/i0QwaCQrjP2gbxntSXNC/XlvN+5pE1D+4IzQjWwrZPxgFGQzrvdE/ul6OBvt10j/OGmOpVgrtP5ABP+HOWNw/WFm1r3JqvD+gYq4wCTCXv9htYouIQrW/KsnVGpnp1z+uSmkf9OPoP+Q2E3dEA9k/iM68TAI02T9gXHFDLzX/P9DW45JgpMC/SkJqZu+o0r+UiErZihneP7zaLhbKVts/CMA5gzwowD8wbC0xOcmnvyBTugkdz+U/eE7NGr5K0z8YPfh/T3awP4gEk001nNc/HvYq+zJ95D80jzguvFjePxBlRJndTPM/xEb3WQQG1z96T85KIfjgPyT5W6o8cu0/XsDMuVXj079kI00NzuzQP+4eEwo2dse/OGg/HVNg4D+AOQ7m5p/aP+AS2c9/qMs/6O16QsFl2D/AF0zI2C+Hv2DW41DIBsg/wnxXJW2D7j+sqi5VG9LGv1wXBV8FNtw/gCiQ9r3xsT8Q2w/7l5ekP0AeOxKXdek/KOHcvIFZ8z+0EtkirVHXP/pyrbf6cec/BMt45xf6zj8=",
          "dtype": "f8"
         }
        },
        {
         "line": {
          "color": "red"
         },
         "mode": "lines",
         "name": "Predicciones FFN",
         "type": "scatter",
         "x": [
          0,
          1,
          2,
          3,
          4,
          5,
          6,
          7,
          8,
          9,
          10,
          11,
          12,
          13,
          14,
          15,
          16,
          17,
          18,
          19,
          20,
          21,
          22,
          23,
          24,
          25,
          26,
          27,
          28,
          29,
          30,
          31,
          32,
          33,
          34,
          35,
          36,
          37,
          38,
          39,
          40,
          41,
          42,
          43,
          44,
          45,
          46,
          47,
          48,
          49,
          50,
          51,
          52,
          53,
          54,
          55,
          56,
          57
         ],
         "y": {
          "bdata": "6KqLY3fQyj9OI9BfksnhP7RhpmF03tI/dEXZ/SsX4j9cOkuJaeflPxhORH8YKdc/9n1gVYtN5z9w/aKH9G7aP8hfbQDmMtu/gNoBFjJ8pb/kFN7/kYrRvwL0azllkvY/yMofMFhUtz/AYixwZi7eP51cYHAKlPE/AAL3njRBmD8A38vYYDl5PxAB8z7JpcO/XNc/BC/W3z+C9Ad4NgnwP0yGy+73Pcw/+B5PAM/u0T9MRJQfhP73P5Q5WvQMwd8/6E8pQF4Bsj8n4t6RSmDzPzRuG6uW1eE/MHa+Bfukzj+jQ0kWxRDQv0pidh6+Veo/qIhqnNr14D8isBwpuDzTP0KoUV3BgMa/HK2CRa+T3j8GlkyEHJfTP25HnmNkTOs/8qb/1E8T4T9gfVR/oS3KPwBXoOPxduA/nDqk8nK7zr9qIzXwpt3gP0CieUFuxtE/Pn+J9cpN6T9++7WRrDriPzDH5bve36m/8CBKodxEp7/KC5ISpR3TPzTCb1GbFMS/EILGdd5VrD/OPPa+0wToP8gLFvDt19Y/AByuP37ltr8QImarI1Wsv2LHklKvEPA/GGEVmKPY5z9Cc84ZXnfhP/hQmpahhes/sFVOx13EvL8=",
          "dtype": "f8"
         }
        }
       ],
       "layout": {
        "height": 400,
        "legend": {
         "title": {
          "text": "Leyenda"
         }
        },
        "showlegend": true,
        "template": {
         "data": {
          "bar": [
           {
            "error_x": {
             "color": "#2a3f5f"
            },
            "error_y": {
             "color": "#2a3f5f"
            },
            "marker": {
             "line": {
              "color": "#E5ECF6",
              "width": 0.5
             },
             "pattern": {
              "fillmode": "overlay",
              "size": 10,
              "solidity": 0.2
             }
            },
            "type": "bar"
           }
          ],
          "barpolar": [
           {
            "marker": {
             "line": {
              "color": "#E5ECF6",
              "width": 0.5
             },
             "pattern": {
              "fillmode": "overlay",
              "size": 10,
              "solidity": 0.2
             }
            },
            "type": "barpolar"
           }
          ],
          "carpet": [
           {
            "aaxis": {
             "endlinecolor": "#2a3f5f",
             "gridcolor": "white",
             "linecolor": "white",
             "minorgridcolor": "white",
             "startlinecolor": "#2a3f5f"
            },
            "baxis": {
             "endlinecolor": "#2a3f5f",
             "gridcolor": "white",
             "linecolor": "white",
             "minorgridcolor": "white",
             "startlinecolor": "#2a3f5f"
            },
            "type": "carpet"
           }
          ],
          "choropleth": [
           {
            "colorbar": {
             "outlinewidth": 0,
             "ticks": ""
            },
            "type": "choropleth"
           }
          ],
          "contour": [
           {
            "colorbar": {
             "outlinewidth": 0,
             "ticks": ""
            },
            "colorscale": [
             [
              0,
              "#0d0887"
             ],
             [
              0.1111111111111111,
              "#46039f"
             ],
             [
              0.2222222222222222,
              "#7201a8"
             ],
             [
              0.3333333333333333,
              "#9c179e"
             ],
             [
              0.4444444444444444,
              "#bd3786"
             ],
             [
              0.5555555555555556,
              "#d8576b"
             ],
             [
              0.6666666666666666,
              "#ed7953"
             ],
             [
              0.7777777777777778,
              "#fb9f3a"
             ],
             [
              0.8888888888888888,
              "#fdca26"
             ],
             [
              1,
              "#f0f921"
             ]
            ],
            "type": "contour"
           }
          ],
          "contourcarpet": [
           {
            "colorbar": {
             "outlinewidth": 0,
             "ticks": ""
            },
            "type": "contourcarpet"
           }
          ],
          "heatmap": [
           {
            "colorbar": {
             "outlinewidth": 0,
             "ticks": ""
            },
            "colorscale": [
             [
              0,
              "#0d0887"
             ],
             [
              0.1111111111111111,
              "#46039f"
             ],
             [
              0.2222222222222222,
              "#7201a8"
             ],
             [
              0.3333333333333333,
              "#9c179e"
             ],
             [
              0.4444444444444444,
              "#bd3786"
             ],
             [
              0.5555555555555556,
              "#d8576b"
             ],
             [
              0.6666666666666666,
              "#ed7953"
             ],
             [
              0.7777777777777778,
              "#fb9f3a"
             ],
             [
              0.8888888888888888,
              "#fdca26"
             ],
             [
              1,
              "#f0f921"
             ]
            ],
            "type": "heatmap"
           }
          ],
          "histogram": [
           {
            "marker": {
             "pattern": {
              "fillmode": "overlay",
              "size": 10,
              "solidity": 0.2
             }
            },
            "type": "histogram"
           }
          ],
          "histogram2d": [
           {
            "colorbar": {
             "outlinewidth": 0,
             "ticks": ""
            },
            "colorscale": [
             [
              0,
              "#0d0887"
             ],
             [
              0.1111111111111111,
              "#46039f"
             ],
             [
              0.2222222222222222,
              "#7201a8"
             ],
             [
              0.3333333333333333,
              "#9c179e"
             ],
             [
              0.4444444444444444,
              "#bd3786"
             ],
             [
              0.5555555555555556,
              "#d8576b"
             ],
             [
              0.6666666666666666,
              "#ed7953"
             ],
             [
              0.7777777777777778,
              "#fb9f3a"
             ],
             [
              0.8888888888888888,
              "#fdca26"
             ],
             [
              1,
              "#f0f921"
             ]
            ],
            "type": "histogram2d"
           }
          ],
          "histogram2dcontour": [
           {
            "colorbar": {
             "outlinewidth": 0,
             "ticks": ""
            },
            "colorscale": [
             [
              0,
              "#0d0887"
             ],
             [
              0.1111111111111111,
              "#46039f"
             ],
             [
              0.2222222222222222,
              "#7201a8"
             ],
             [
              0.3333333333333333,
              "#9c179e"
             ],
             [
              0.4444444444444444,
              "#bd3786"
             ],
             [
              0.5555555555555556,
              "#d8576b"
             ],
             [
              0.6666666666666666,
              "#ed7953"
             ],
             [
              0.7777777777777778,
              "#fb9f3a"
             ],
             [
              0.8888888888888888,
              "#fdca26"
             ],
             [
              1,
              "#f0f921"
             ]
            ],
            "type": "histogram2dcontour"
           }
          ],
          "mesh3d": [
           {
            "colorbar": {
             "outlinewidth": 0,
             "ticks": ""
            },
            "type": "mesh3d"
           }
          ],
          "parcoords": [
           {
            "line": {
             "colorbar": {
              "outlinewidth": 0,
              "ticks": ""
             }
            },
            "type": "parcoords"
           }
          ],
          "pie": [
           {
            "automargin": true,
            "type": "pie"
           }
          ],
          "scatter": [
           {
            "fillpattern": {
             "fillmode": "overlay",
             "size": 10,
             "solidity": 0.2
            },
            "type": "scatter"
           }
          ],
          "scatter3d": [
           {
            "line": {
             "colorbar": {
              "outlinewidth": 0,
              "ticks": ""
             }
            },
            "marker": {
             "colorbar": {
              "outlinewidth": 0,
              "ticks": ""
             }
            },
            "type": "scatter3d"
           }
          ],
          "scattercarpet": [
           {
            "marker": {
             "colorbar": {
              "outlinewidth": 0,
              "ticks": ""
             }
            },
            "type": "scattercarpet"
           }
          ],
          "scattergeo": [
           {
            "marker": {
             "colorbar": {
              "outlinewidth": 0,
              "ticks": ""
             }
            },
            "type": "scattergeo"
           }
          ],
          "scattergl": [
           {
            "marker": {
             "colorbar": {
              "outlinewidth": 0,
              "ticks": ""
             }
            },
            "type": "scattergl"
           }
          ],
          "scattermap": [
           {
            "marker": {
             "colorbar": {
              "outlinewidth": 0,
              "ticks": ""
             }
            },
            "type": "scattermap"
           }
          ],
          "scattermapbox": [
           {
            "marker": {
             "colorbar": {
              "outlinewidth": 0,
              "ticks": ""
             }
            },
            "type": "scattermapbox"
           }
          ],
          "scatterpolar": [
           {
            "marker": {
             "colorbar": {
              "outlinewidth": 0,
              "ticks": ""
             }
            },
            "type": "scatterpolar"
           }
          ],
          "scatterpolargl": [
           {
            "marker": {
             "colorbar": {
              "outlinewidth": 0,
              "ticks": ""
             }
            },
            "type": "scatterpolargl"
           }
          ],
          "scatterternary": [
           {
            "marker": {
             "colorbar": {
              "outlinewidth": 0,
              "ticks": ""
             }
            },
            "type": "scatterternary"
           }
          ],
          "surface": [
           {
            "colorbar": {
             "outlinewidth": 0,
             "ticks": ""
            },
            "colorscale": [
             [
              0,
              "#0d0887"
             ],
             [
              0.1111111111111111,
              "#46039f"
             ],
             [
              0.2222222222222222,
              "#7201a8"
             ],
             [
              0.3333333333333333,
              "#9c179e"
             ],
             [
              0.4444444444444444,
              "#bd3786"
             ],
             [
              0.5555555555555556,
              "#d8576b"
             ],
             [
              0.6666666666666666,
              "#ed7953"
             ],
             [
              0.7777777777777778,
              "#fb9f3a"
             ],
             [
              0.8888888888888888,
              "#fdca26"
             ],
             [
              1,
              "#f0f921"
             ]
            ],
            "type": "surface"
           }
          ],
          "table": [
           {
            "cells": {
             "fill": {
              "color": "#EBF0F8"
             },
             "line": {
              "color": "white"
             }
            },
            "header": {
             "fill": {
              "color": "#C8D4E3"
             },
             "line": {
              "color": "white"
             }
            },
            "type": "table"
           }
          ]
         },
         "layout": {
          "annotationdefaults": {
           "arrowcolor": "#2a3f5f",
           "arrowhead": 0,
           "arrowwidth": 1
          },
          "autotypenumbers": "strict",
          "coloraxis": {
           "colorbar": {
            "outlinewidth": 0,
            "ticks": ""
           }
          },
          "colorscale": {
           "diverging": [
            [
             0,
             "#8e0152"
            ],
            [
             0.1,
             "#c51b7d"
            ],
            [
             0.2,
             "#de77ae"
            ],
            [
             0.3,
             "#f1b6da"
            ],
            [
             0.4,
             "#fde0ef"
            ],
            [
             0.5,
             "#f7f7f7"
            ],
            [
             0.6,
             "#e6f5d0"
            ],
            [
             0.7,
             "#b8e186"
            ],
            [
             0.8,
             "#7fbc41"
            ],
            [
             0.9,
             "#4d9221"
            ],
            [
             1,
             "#276419"
            ]
           ],
           "sequential": [
            [
             0,
             "#0d0887"
            ],
            [
             0.1111111111111111,
             "#46039f"
            ],
            [
             0.2222222222222222,
             "#7201a8"
            ],
            [
             0.3333333333333333,
             "#9c179e"
            ],
            [
             0.4444444444444444,
             "#bd3786"
            ],
            [
             0.5555555555555556,
             "#d8576b"
            ],
            [
             0.6666666666666666,
             "#ed7953"
            ],
            [
             0.7777777777777778,
             "#fb9f3a"
            ],
            [
             0.8888888888888888,
             "#fdca26"
            ],
            [
             1,
             "#f0f921"
            ]
           ],
           "sequentialminus": [
            [
             0,
             "#0d0887"
            ],
            [
             0.1111111111111111,
             "#46039f"
            ],
            [
             0.2222222222222222,
             "#7201a8"
            ],
            [
             0.3333333333333333,
             "#9c179e"
            ],
            [
             0.4444444444444444,
             "#bd3786"
            ],
            [
             0.5555555555555556,
             "#d8576b"
            ],
            [
             0.6666666666666666,
             "#ed7953"
            ],
            [
             0.7777777777777778,
             "#fb9f3a"
            ],
            [
             0.8888888888888888,
             "#fdca26"
            ],
            [
             1,
             "#f0f921"
            ]
           ]
          },
          "colorway": [
           "#636efa",
           "#EF553B",
           "#00cc96",
           "#ab63fa",
           "#FFA15A",
           "#19d3f3",
           "#FF6692",
           "#B6E880",
           "#FF97FF",
           "#FECB52"
          ],
          "font": {
           "color": "#2a3f5f"
          },
          "geo": {
           "bgcolor": "white",
           "lakecolor": "white",
           "landcolor": "#E5ECF6",
           "showlakes": true,
           "showland": true,
           "subunitcolor": "white"
          },
          "hoverlabel": {
           "align": "left"
          },
          "hovermode": "closest",
          "mapbox": {
           "style": "light"
          },
          "paper_bgcolor": "white",
          "plot_bgcolor": "#E5ECF6",
          "polar": {
           "angularaxis": {
            "gridcolor": "white",
            "linecolor": "white",
            "ticks": ""
           },
           "bgcolor": "#E5ECF6",
           "radialaxis": {
            "gridcolor": "white",
            "linecolor": "white",
            "ticks": ""
           }
          },
          "scene": {
           "xaxis": {
            "backgroundcolor": "#E5ECF6",
            "gridcolor": "white",
            "gridwidth": 2,
            "linecolor": "white",
            "showbackground": true,
            "ticks": "",
            "zerolinecolor": "white"
           },
           "yaxis": {
            "backgroundcolor": "#E5ECF6",
            "gridcolor": "white",
            "gridwidth": 2,
            "linecolor": "white",
            "showbackground": true,
            "ticks": "",
            "zerolinecolor": "white"
           },
           "zaxis": {
            "backgroundcolor": "#E5ECF6",
            "gridcolor": "white",
            "gridwidth": 2,
            "linecolor": "white",
            "showbackground": true,
            "ticks": "",
            "zerolinecolor": "white"
           }
          },
          "shapedefaults": {
           "line": {
            "color": "#2a3f5f"
           }
          },
          "ternary": {
           "aaxis": {
            "gridcolor": "white",
            "linecolor": "white",
            "ticks": ""
           },
           "baxis": {
            "gridcolor": "white",
            "linecolor": "white",
            "ticks": ""
           },
           "bgcolor": "#E5ECF6",
           "caxis": {
            "gridcolor": "white",
            "linecolor": "white",
            "ticks": ""
           }
          },
          "title": {
           "x": 0.05
          },
          "xaxis": {
           "automargin": true,
           "gridcolor": "white",
           "linecolor": "white",
           "ticks": "",
           "title": {
            "standoff": 15
           },
           "zerolinecolor": "white",
           "zerolinewidth": 2
          },
          "yaxis": {
           "automargin": true,
           "gridcolor": "white",
           "linecolor": "white",
           "ticks": "",
           "title": {
            "standoff": 15
           },
           "zerolinecolor": "white",
           "zerolinewidth": 2
          }
         }
        },
        "title": {
         "text": "Predicciones FeedForward vs Reales (Validación)"
        },
        "width": 1200,
        "xaxis": {
         "title": {
          "text": "Indices"
         }
        },
        "yaxis": {
         "title": {
          "text": "Valor"
         }
        }
       }
      }
     },
     "metadata": {},
     "output_type": "display_data"
    }
   ],
   "source": [
    "# Predicción y desnormalización\n",
    "model.eval()\n",
    "with torch.no_grad():\n",
    "    y_pred_train = model(X_train).squeeze().cpu().numpy()\n",
    "    y_pred_val = model(X_val).squeeze().cpu().numpy()\n",
    "\n",
    "y_train_np = y_train.cpu().numpy()\n",
    "y_val_np = y_val.cpu().numpy()\n",
    "y_train_mo = dh.denormalize_value(scales, y_train_np, 'Mo_cumulative')\n",
    "y_pred_train_mo = dh.denormalize_value(scales, y_pred_train, 'Mo_cumulative')\n",
    "y_val_mo = dh.denormalize_value(scales, y_val_np, 'Mo_cumulative')\n",
    "y_pred_val_mo = dh.denormalize_value(scales, y_pred_val, 'Mo_cumulative')\n",
    "\n",
    "# Graficar resultados de entrenamiento\n",
    "dh.plot_results(\n",
    "    (y_train_mo, 'Valores Reales'),\n",
    "    (y_pred_train_mo, 'Predicciones FFN'),\n",
    "    title='Predicciones FeedForward vs Reales (Entrenamiento)',\n",
    "    size=(1200, 400)\n",
    ")\n",
    "\n",
    "# Graficar resultados de validación\n",
    "dh.plot_results(\n",
    "    (y_val_mo, 'Valores Reales'),\n",
    "    (y_pred_val_mo, 'Predicciones FFN'),\n",
    "    title='Predicciones FeedForward vs Reales (Validación)',\n",
    "    size=(1200, 400)\n",
    ")"
   ]
  },
  {
   "cell_type": "code",
   "execution_count": 4,
   "id": "eb62f848",
   "metadata": {},
   "outputs": [
    {
     "name": "stdout",
     "output_type": "stream",
     "text": [
      "\n",
      "📊 Métricas para FeedForward - Entrenamiento:\n",
      "   MAE  : 0.0000\n",
      "   RMSE : 0.0001\n",
      "   R²   : 1.0000\n",
      "\n",
      "📊 Métricas para FeedForward - Validación:\n",
      "   MAE  : 0.2967\n",
      "   RMSE : 0.3779\n",
      "   R²   : 0.1353\n"
     ]
    },
    {
     "data": {
      "text/plain": [
       "{'MAE': 0.2967330880270212,\n",
       " 'RMSE': np.float64(0.3778763264632582),\n",
       " 'R2': 0.13529757144740073}"
      ]
     },
     "execution_count": 4,
     "metadata": {},
     "output_type": "execute_result"
    }
   ],
   "source": [
    "# Evaluación\n",
    "dh.evaluar_metricas(y_train_mo, y_pred_train_mo, 'FeedForward - Entrenamiento')\n",
    "dh.evaluar_metricas(y_val_mo, y_pred_val_mo, 'FeedForward - Validación')"
   ]
  },
  {
   "cell_type": "code",
   "execution_count": 5,
   "id": "9a4b7e96",
   "metadata": {},
   "outputs": [
    {
     "data": {
      "application/vnd.plotly.v1+json": {
       "config": {
        "plotlyServerURL": "https://plot.ly"
       },
       "data": [
        {
         "marker": {
          "color": "blue",
          "opacity": 0.6
         },
         "mode": "markers",
         "name": "Predicciones",
         "type": "scatter",
         "x": {
          "bdata": "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",
          "dtype": "f8"
         },
         "y": {
          "bdata": "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",
          "dtype": "f8"
         }
        },
        {
         "line": {
          "color": "red",
          "dash": "dash"
         },
         "mode": "lines",
         "name": "Regresión lineal",
         "type": "scatter",
         "x": {
          "bdata": "6Bx5vs+W47/KYByWy9biv6ukv23HFuK/jehiRcNW4b9vLAYdv5bgv6HgUul1rd+/ZGiZmG0t3r8o8N9HZa3cv+t3JvdcLdu/rv9splSt2b9yh7NVTC3YvzUP+gRErda/+JZAtDst1b+8HodjM63Tv3+mzRIrLdK/Qy4UwiKt0L8MbLXiNFrOv5J7QkEkWsu/GovPnxNayL+gmlz+AlrFvyiq6VzyWcK/XHPtdsOzvr9okgc0orO4v3ixIfGAs7K/AKF3XL9mqb9Avlet+cyavwDUAQ6lY2a/QEnXaRA0lT+QZre6SpqmPziUQaBGTbE/KHUn42dNtz8gVg0miU29P4ibeTTVpsE/AIzs1eWmxD98fF939qbHP/Rs0hgHp8o/bF1FuhenzT/0JtwtlFPQPzCflX6c09E/bBdPz6RT0z+ojwggrdPUP+YHwnC1U9Y/IoB7wb3T1z9g+DQSxlPZP5xw7mLO09o/2Oins9ZT3D8UYWEE39PdP1DZGlXnU98/yCjq0vdp4D/m5Eb7+ynhPwShoyMA6uE/Il0ATASq4j9AGV10CGrjP17VuZwMKuQ/fJEWxRDq5D+cTXPtFKrlP7oJ0BUZauY/2MUsPh0q5z/2gYlmIernPxQ+5o4lqug/MvpCtylq6T9Stp/fLSrqP3By/Acy6uo/ji5ZMDaq6z+s6rVYOmrsP8qmEoE+Ku0/6GJvqULq7T8GH8zRRqruPybbKPpKau8/ostCkScV8D+xKXGlKXXwP8CHn7kr1fA/z+XNzS018T/eQ/zhL5XxP+6hKvYx9fE//f9YCjRV8j8MXoceNrXyPxu8tTI4FfM/KhrkRjp18z85eBJbPNXzP0jWQG8+NfQ/WDRvg0CV9D9nkp2XQvX0P3bwy6tEVfU/hU76v0a19T+UrCjUSBX2P6QKV+hKdfY/smiF/EzV9j/CxrMQTzX3P9Ak4iRRlfc/4IIQOVP19z/w4D5NVVX4P/4+bWFXtfg/Dp2bdVkV+T8c+8mJW3X5PyxZ+J1d1fk/PLcmsl81+j9KFVXGYZX6P1pzg9pj9fo/aNGx7mVV+z8=",
          "dtype": "f8"
         },
         "y": {
          "bdata": "0HzJ26SW479kgsnRoNbiv/aHycecFuK/io3JvZhW4b8dk8mzlJbgv2Axk1Mhrd+/hjyTPxkt3r+tR5MrEa3cv9NSkxcJLdu/+V2TAwGt2b8gaZPv+CzYv0Z0k9vwrNa/bH+Tx+gs1b+TipOz4KzTv7mVk5/YLNK/4KCTi9Cs0L8MWCfvkFnOv1huJ8eAWcu/poQnn3BZyL/ymid3YFnFv0CxJ09QWcK/F49PToCyvr+vu0/+X7K4v0voT64/srK/wCmgvD5kqb/uBUE5/Meav/HCDcrXO2a/MpW9RgY5lT9wcV7Dw5ymPx0MrzGCTrE/gd+ugaJOtz/tsq7Rwk69PyhD15Bxp8E/2izXuIGnxD+QFtfgkafHP0IA1wiip8o/9OnWMLKnzT/VaWss4VPQP65ea0Dp09E/h1NrVPFT0z9gSGto+dPUPzs9a3wBVNY/FDJrkAnU1z/vJmukEVTZP8gba7gZ1No/oRBrzCFU3D96BWvgKdTdP1P6avQxVN8/mHc1BB1q4D8EcjUOISrhP3FsNRgl6uE/3WY1Iimq4j9KYTUsLWrjP7ZbNTYxKuQ/I1Y1QDXq5D+RUDVKOarlP/5KNVQ9auY/akU1XkEq5z/XPzVoRernP0M6NXJJqug/sDQ1fE1q6T8eLzWGUSrqP4spNZBV6uo/9yM1mlmq6z9kHjWkXWrsP9AYNa5hKu0/PRM1uGXq7T+pDTXCaaruPxgINcxtau8/Q4Ea6zgV8D95fhrwOnXwP697GvU81fA/5Xga+j418T8cdhr/QJXxP1NzGgRD9fE/iXAaCUVV8j+/bRoOR7XyP/ZqGhNJFfM/LGgaGEt18z9iZRodTdXzP5hiGiJPNfQ/0F8aJ1GV9D8GXRosU/X0PzxaGjFVVfU/clcaNle19T+pVBo7WRX2P+BRGkBbdfY/FU8aRV3V9j9MTBpKXzX3P4JJGk9hlfc/uUYaVGP19z/wQxpZZVX4PyVBGl5ntfg/XT4aY2kV+T+SOxpoa3X5P8k4Gm1t1fk/ADYacm81+j82Mxp3cZX6P20wGnxz9fo/oi0agXVV+z8=",
          "dtype": "f8"
         }
        },
        {
         "line": {
          "color": "green",
          "dash": "dot"
         },
         "mode": "lines",
         "name": "Línea Perfecta (y = x)",
         "type": "scatter",
         "x": {
          "bdata": "6Bx5vs+W47/KYByWy9biv6ukv23HFuK/jehiRcNW4b9vLAYdv5bgv6HgUul1rd+/ZGiZmG0t3r8o8N9HZa3cv+t3JvdcLdu/rv9splSt2b9yh7NVTC3YvzUP+gRErda/+JZAtDst1b+8HodjM63Tv3+mzRIrLdK/Qy4UwiKt0L8MbLXiNFrOv5J7QkEkWsu/GovPnxNayL+gmlz+AlrFvyiq6VzyWcK/XHPtdsOzvr9okgc0orO4v3ixIfGAs7K/AKF3XL9mqb9Avlet+cyavwDUAQ6lY2a/QEnXaRA0lT+QZre6SpqmPziUQaBGTbE/KHUn42dNtz8gVg0miU29P4ibeTTVpsE/AIzs1eWmxD98fF939qbHP/Rs0hgHp8o/bF1FuhenzT/0JtwtlFPQPzCflX6c09E/bBdPz6RT0z+ojwggrdPUP+YHwnC1U9Y/IoB7wb3T1z9g+DQSxlPZP5xw7mLO09o/2Oins9ZT3D8UYWEE39PdP1DZGlXnU98/yCjq0vdp4D/m5Eb7+ynhPwShoyMA6uE/Il0ATASq4j9AGV10CGrjP17VuZwMKuQ/fJEWxRDq5D+cTXPtFKrlP7oJ0BUZauY/2MUsPh0q5z/2gYlmIernPxQ+5o4lqug/MvpCtylq6T9Stp/fLSrqP3By/Acy6uo/ji5ZMDaq6z+s6rVYOmrsP8qmEoE+Ku0/6GJvqULq7T8GH8zRRqruPybbKPpKau8/ostCkScV8D+xKXGlKXXwP8CHn7kr1fA/z+XNzS018T/eQ/zhL5XxP+6hKvYx9fE//f9YCjRV8j8MXoceNrXyPxu8tTI4FfM/KhrkRjp18z85eBJbPNXzP0jWQG8+NfQ/WDRvg0CV9D9nkp2XQvX0P3bwy6tEVfU/hU76v0a19T+UrCjUSBX2P6QKV+hKdfY/smiF/EzV9j/CxrMQTzX3P9Ak4iRRlfc/4IIQOVP19z/w4D5NVVX4P/4+bWFXtfg/Dp2bdVkV+T8c+8mJW3X5PyxZ+J1d1fk/PLcmsl81+j9KFVXGYZX6P1pzg9pj9fo/aNGx7mVV+z8=",
          "dtype": "f8"
         },
         "y": {
          "bdata": "6Bx5vs+W47/KYByWy9biv6ukv23HFuK/jehiRcNW4b9vLAYdv5bgv6HgUul1rd+/ZGiZmG0t3r8o8N9HZa3cv+t3JvdcLdu/rv9splSt2b9yh7NVTC3YvzUP+gRErda/+JZAtDst1b+8HodjM63Tv3+mzRIrLdK/Qy4UwiKt0L8MbLXiNFrOv5J7QkEkWsu/GovPnxNayL+gmlz+AlrFvyiq6VzyWcK/XHPtdsOzvr9okgc0orO4v3ixIfGAs7K/AKF3XL9mqb9Avlet+cyavwDUAQ6lY2a/QEnXaRA0lT+QZre6SpqmPziUQaBGTbE/KHUn42dNtz8gVg0miU29P4ibeTTVpsE/AIzs1eWmxD98fF939qbHP/Rs0hgHp8o/bF1FuhenzT/0JtwtlFPQPzCflX6c09E/bBdPz6RT0z+ojwggrdPUP+YHwnC1U9Y/IoB7wb3T1z9g+DQSxlPZP5xw7mLO09o/2Oins9ZT3D8UYWEE39PdP1DZGlXnU98/yCjq0vdp4D/m5Eb7+ynhPwShoyMA6uE/Il0ATASq4j9AGV10CGrjP17VuZwMKuQ/fJEWxRDq5D+cTXPtFKrlP7oJ0BUZauY/2MUsPh0q5z/2gYlmIernPxQ+5o4lqug/MvpCtylq6T9Stp/fLSrqP3By/Acy6uo/ji5ZMDaq6z+s6rVYOmrsP8qmEoE+Ku0/6GJvqULq7T8GH8zRRqruPybbKPpKau8/ostCkScV8D+xKXGlKXXwP8CHn7kr1fA/z+XNzS018T/eQ/zhL5XxP+6hKvYx9fE//f9YCjRV8j8MXoceNrXyPxu8tTI4FfM/KhrkRjp18z85eBJbPNXzP0jWQG8+NfQ/WDRvg0CV9D9nkp2XQvX0P3bwy6tEVfU/hU76v0a19T+UrCjUSBX2P6QKV+hKdfY/smiF/EzV9j/CxrMQTzX3P9Ak4iRRlfc/4IIQOVP19z/w4D5NVVX4P/4+bWFXtfg/Dp2bdVkV+T8c+8mJW3X5PyxZ+J1d1fk/PLcmsl81+j9KFVXGYZX6P1pzg9pj9fo/aNGx7mVV+z8=",
          "dtype": "f8"
         }
        }
       ],
       "layout": {
        "annotations": [
         {
          "align": "left",
          "bgcolor": "white",
          "bordercolor": "black",
          "borderwidth": 1,
          "font": {
           "color": "black",
           "size": 14
          },
          "showarrow": false,
          "text": "y = 1.000x + 0.000<br>R² = 1.000",
          "x": 0.05,
          "xref": "paper",
          "y": 0.95,
          "yref": "paper"
         }
        ],
        "height": 400,
        "template": {
         "data": {
          "bar": [
           {
            "error_x": {
             "color": "#2a3f5f"
            },
            "error_y": {
             "color": "#2a3f5f"
            },
            "marker": {
             "line": {
              "color": "white",
              "width": 0.5
             },
             "pattern": {
              "fillmode": "overlay",
              "size": 10,
              "solidity": 0.2
             }
            },
            "type": "bar"
           }
          ],
          "barpolar": [
           {
            "marker": {
             "line": {
              "color": "white",
              "width": 0.5
             },
             "pattern": {
              "fillmode": "overlay",
              "size": 10,
              "solidity": 0.2
             }
            },
            "type": "barpolar"
           }
          ],
          "carpet": [
           {
            "aaxis": {
             "endlinecolor": "#2a3f5f",
             "gridcolor": "#C8D4E3",
             "linecolor": "#C8D4E3",
             "minorgridcolor": "#C8D4E3",
             "startlinecolor": "#2a3f5f"
            },
            "baxis": {
             "endlinecolor": "#2a3f5f",
             "gridcolor": "#C8D4E3",
             "linecolor": "#C8D4E3",
             "minorgridcolor": "#C8D4E3",
             "startlinecolor": "#2a3f5f"
            },
            "type": "carpet"
           }
          ],
          "choropleth": [
           {
            "colorbar": {
             "outlinewidth": 0,
             "ticks": ""
            },
            "type": "choropleth"
           }
          ],
          "contour": [
           {
            "colorbar": {
             "outlinewidth": 0,
             "ticks": ""
            },
            "colorscale": [
             [
              0,
              "#0d0887"
             ],
             [
              0.1111111111111111,
              "#46039f"
             ],
             [
              0.2222222222222222,
              "#7201a8"
             ],
             [
              0.3333333333333333,
              "#9c179e"
             ],
             [
              0.4444444444444444,
              "#bd3786"
             ],
             [
              0.5555555555555556,
              "#d8576b"
             ],
             [
              0.6666666666666666,
              "#ed7953"
             ],
             [
              0.7777777777777778,
              "#fb9f3a"
             ],
             [
              0.8888888888888888,
              "#fdca26"
             ],
             [
              1,
              "#f0f921"
             ]
            ],
            "type": "contour"
           }
          ],
          "contourcarpet": [
           {
            "colorbar": {
             "outlinewidth": 0,
             "ticks": ""
            },
            "type": "contourcarpet"
           }
          ],
          "heatmap": [
           {
            "colorbar": {
             "outlinewidth": 0,
             "ticks": ""
            },
            "colorscale": [
             [
              0,
              "#0d0887"
             ],
             [
              0.1111111111111111,
              "#46039f"
             ],
             [
              0.2222222222222222,
              "#7201a8"
             ],
             [
              0.3333333333333333,
              "#9c179e"
             ],
             [
              0.4444444444444444,
              "#bd3786"
             ],
             [
              0.5555555555555556,
              "#d8576b"
             ],
             [
              0.6666666666666666,
              "#ed7953"
             ],
             [
              0.7777777777777778,
              "#fb9f3a"
             ],
             [
              0.8888888888888888,
              "#fdca26"
             ],
             [
              1,
              "#f0f921"
             ]
            ],
            "type": "heatmap"
           }
          ],
          "histogram": [
           {
            "marker": {
             "pattern": {
              "fillmode": "overlay",
              "size": 10,
              "solidity": 0.2
             }
            },
            "type": "histogram"
           }
          ],
          "histogram2d": [
           {
            "colorbar": {
             "outlinewidth": 0,
             "ticks": ""
            },
            "colorscale": [
             [
              0,
              "#0d0887"
             ],
             [
              0.1111111111111111,
              "#46039f"
             ],
             [
              0.2222222222222222,
              "#7201a8"
             ],
             [
              0.3333333333333333,
              "#9c179e"
             ],
             [
              0.4444444444444444,
              "#bd3786"
             ],
             [
              0.5555555555555556,
              "#d8576b"
             ],
             [
              0.6666666666666666,
              "#ed7953"
             ],
             [
              0.7777777777777778,
              "#fb9f3a"
             ],
             [
              0.8888888888888888,
              "#fdca26"
             ],
             [
              1,
              "#f0f921"
             ]
            ],
            "type": "histogram2d"
           }
          ],
          "histogram2dcontour": [
           {
            "colorbar": {
             "outlinewidth": 0,
             "ticks": ""
            },
            "colorscale": [
             [
              0,
              "#0d0887"
             ],
             [
              0.1111111111111111,
              "#46039f"
             ],
             [
              0.2222222222222222,
              "#7201a8"
             ],
             [
              0.3333333333333333,
              "#9c179e"
             ],
             [
              0.4444444444444444,
              "#bd3786"
             ],
             [
              0.5555555555555556,
              "#d8576b"
             ],
             [
              0.6666666666666666,
              "#ed7953"
             ],
             [
              0.7777777777777778,
              "#fb9f3a"
             ],
             [
              0.8888888888888888,
              "#fdca26"
             ],
             [
              1,
              "#f0f921"
             ]
            ],
            "type": "histogram2dcontour"
           }
          ],
          "mesh3d": [
           {
            "colorbar": {
             "outlinewidth": 0,
             "ticks": ""
            },
            "type": "mesh3d"
           }
          ],
          "parcoords": [
           {
            "line": {
             "colorbar": {
              "outlinewidth": 0,
              "ticks": ""
             }
            },
            "type": "parcoords"
           }
          ],
          "pie": [
           {
            "automargin": true,
            "type": "pie"
           }
          ],
          "scatter": [
           {
            "fillpattern": {
             "fillmode": "overlay",
             "size": 10,
             "solidity": 0.2
            },
            "type": "scatter"
           }
          ],
          "scatter3d": [
           {
            "line": {
             "colorbar": {
              "outlinewidth": 0,
              "ticks": ""
             }
            },
            "marker": {
             "colorbar": {
              "outlinewidth": 0,
              "ticks": ""
             }
            },
            "type": "scatter3d"
           }
          ],
          "scattercarpet": [
           {
            "marker": {
             "colorbar": {
              "outlinewidth": 0,
              "ticks": ""
             }
            },
            "type": "scattercarpet"
           }
          ],
          "scattergeo": [
           {
            "marker": {
             "colorbar": {
              "outlinewidth": 0,
              "ticks": ""
             }
            },
            "type": "scattergeo"
           }
          ],
          "scattergl": [
           {
            "marker": {
             "colorbar": {
              "outlinewidth": 0,
              "ticks": ""
             }
            },
            "type": "scattergl"
           }
          ],
          "scattermap": [
           {
            "marker": {
             "colorbar": {
              "outlinewidth": 0,
              "ticks": ""
             }
            },
            "type": "scattermap"
           }
          ],
          "scattermapbox": [
           {
            "marker": {
             "colorbar": {
              "outlinewidth": 0,
              "ticks": ""
             }
            },
            "type": "scattermapbox"
           }
          ],
          "scatterpolar": [
           {
            "marker": {
             "colorbar": {
              "outlinewidth": 0,
              "ticks": ""
             }
            },
            "type": "scatterpolar"
           }
          ],
          "scatterpolargl": [
           {
            "marker": {
             "colorbar": {
              "outlinewidth": 0,
              "ticks": ""
             }
            },
            "type": "scatterpolargl"
           }
          ],
          "scatterternary": [
           {
            "marker": {
             "colorbar": {
              "outlinewidth": 0,
              "ticks": ""
             }
            },
            "type": "scatterternary"
           }
          ],
          "surface": [
           {
            "colorbar": {
             "outlinewidth": 0,
             "ticks": ""
            },
            "colorscale": [
             [
              0,
              "#0d0887"
             ],
             [
              0.1111111111111111,
              "#46039f"
             ],
             [
              0.2222222222222222,
              "#7201a8"
             ],
             [
              0.3333333333333333,
              "#9c179e"
             ],
             [
              0.4444444444444444,
              "#bd3786"
             ],
             [
              0.5555555555555556,
              "#d8576b"
             ],
             [
              0.6666666666666666,
              "#ed7953"
             ],
             [
              0.7777777777777778,
              "#fb9f3a"
             ],
             [
              0.8888888888888888,
              "#fdca26"
             ],
             [
              1,
              "#f0f921"
             ]
            ],
            "type": "surface"
           }
          ],
          "table": [
           {
            "cells": {
             "fill": {
              "color": "#EBF0F8"
             },
             "line": {
              "color": "white"
             }
            },
            "header": {
             "fill": {
              "color": "#C8D4E3"
             },
             "line": {
              "color": "white"
             }
            },
            "type": "table"
           }
          ]
         },
         "layout": {
          "annotationdefaults": {
           "arrowcolor": "#2a3f5f",
           "arrowhead": 0,
           "arrowwidth": 1
          },
          "autotypenumbers": "strict",
          "coloraxis": {
           "colorbar": {
            "outlinewidth": 0,
            "ticks": ""
           }
          },
          "colorscale": {
           "diverging": [
            [
             0,
             "#8e0152"
            ],
            [
             0.1,
             "#c51b7d"
            ],
            [
             0.2,
             "#de77ae"
            ],
            [
             0.3,
             "#f1b6da"
            ],
            [
             0.4,
             "#fde0ef"
            ],
            [
             0.5,
             "#f7f7f7"
            ],
            [
             0.6,
             "#e6f5d0"
            ],
            [
             0.7,
             "#b8e186"
            ],
            [
             0.8,
             "#7fbc41"
            ],
            [
             0.9,
             "#4d9221"
            ],
            [
             1,
             "#276419"
            ]
           ],
           "sequential": [
            [
             0,
             "#0d0887"
            ],
            [
             0.1111111111111111,
             "#46039f"
            ],
            [
             0.2222222222222222,
             "#7201a8"
            ],
            [
             0.3333333333333333,
             "#9c179e"
            ],
            [
             0.4444444444444444,
             "#bd3786"
            ],
            [
             0.5555555555555556,
             "#d8576b"
            ],
            [
             0.6666666666666666,
             "#ed7953"
            ],
            [
             0.7777777777777778,
             "#fb9f3a"
            ],
            [
             0.8888888888888888,
             "#fdca26"
            ],
            [
             1,
             "#f0f921"
            ]
           ],
           "sequentialminus": [
            [
             0,
             "#0d0887"
            ],
            [
             0.1111111111111111,
             "#46039f"
            ],
            [
             0.2222222222222222,
             "#7201a8"
            ],
            [
             0.3333333333333333,
             "#9c179e"
            ],
            [
             0.4444444444444444,
             "#bd3786"
            ],
            [
             0.5555555555555556,
             "#d8576b"
            ],
            [
             0.6666666666666666,
             "#ed7953"
            ],
            [
             0.7777777777777778,
             "#fb9f3a"
            ],
            [
             0.8888888888888888,
             "#fdca26"
            ],
            [
             1,
             "#f0f921"
            ]
           ]
          },
          "colorway": [
           "#636efa",
           "#EF553B",
           "#00cc96",
           "#ab63fa",
           "#FFA15A",
           "#19d3f3",
           "#FF6692",
           "#B6E880",
           "#FF97FF",
           "#FECB52"
          ],
          "font": {
           "color": "#2a3f5f"
          },
          "geo": {
           "bgcolor": "white",
           "lakecolor": "white",
           "landcolor": "white",
           "showlakes": true,
           "showland": true,
           "subunitcolor": "#C8D4E3"
          },
          "hoverlabel": {
           "align": "left"
          },
          "hovermode": "closest",
          "mapbox": {
           "style": "light"
          },
          "paper_bgcolor": "white",
          "plot_bgcolor": "white",
          "polar": {
           "angularaxis": {
            "gridcolor": "#EBF0F8",
            "linecolor": "#EBF0F8",
            "ticks": ""
           },
           "bgcolor": "white",
           "radialaxis": {
            "gridcolor": "#EBF0F8",
            "linecolor": "#EBF0F8",
            "ticks": ""
           }
          },
          "scene": {
           "xaxis": {
            "backgroundcolor": "white",
            "gridcolor": "#DFE8F3",
            "gridwidth": 2,
            "linecolor": "#EBF0F8",
            "showbackground": true,
            "ticks": "",
            "zerolinecolor": "#EBF0F8"
           },
           "yaxis": {
            "backgroundcolor": "white",
            "gridcolor": "#DFE8F3",
            "gridwidth": 2,
            "linecolor": "#EBF0F8",
            "showbackground": true,
            "ticks": "",
            "zerolinecolor": "#EBF0F8"
           },
           "zaxis": {
            "backgroundcolor": "white",
            "gridcolor": "#DFE8F3",
            "gridwidth": 2,
            "linecolor": "#EBF0F8",
            "showbackground": true,
            "ticks": "",
            "zerolinecolor": "#EBF0F8"
           }
          },
          "shapedefaults": {
           "line": {
            "color": "#2a3f5f"
           }
          },
          "ternary": {
           "aaxis": {
            "gridcolor": "#DFE8F3",
            "linecolor": "#A2B1C6",
            "ticks": ""
           },
           "baxis": {
            "gridcolor": "#DFE8F3",
            "linecolor": "#A2B1C6",
            "ticks": ""
           },
           "bgcolor": "white",
           "caxis": {
            "gridcolor": "#DFE8F3",
            "linecolor": "#A2B1C6",
            "ticks": ""
           }
          },
          "title": {
           "x": 0.05
          },
          "xaxis": {
           "automargin": true,
           "gridcolor": "#EBF0F8",
           "linecolor": "#EBF0F8",
           "ticks": "",
           "title": {
            "standoff": 15
           },
           "zerolinecolor": "#EBF0F8",
           "zerolinewidth": 2
          },
          "yaxis": {
           "automargin": true,
           "gridcolor": "#EBF0F8",
           "linecolor": "#EBF0F8",
           "ticks": "",
           "title": {
            "standoff": 15
           },
           "zerolinecolor": "#EBF0F8",
           "zerolinewidth": 2
          }
         }
        },
        "title": {
         "text": "Entrenamiento FeedForward"
        },
        "width": 1200,
        "xaxis": {
         "title": {
          "text": "Valores Reales"
         }
        },
        "yaxis": {
         "title": {
          "text": "Valores Predichos"
         }
        }
       }
      }
     },
     "metadata": {},
     "output_type": "display_data"
    },
    {
     "data": {
      "application/vnd.plotly.v1+json": {
       "config": {
        "plotlyServerURL": "https://plot.ly"
       },
       "data": [
        {
         "marker": {
          "color": "blue",
          "opacity": 0.6
         },
         "mode": "markers",
         "name": "Predicciones",
         "type": "scatter",
         "x": {
          "bdata": "1CjyN8/a2D9GV/8lF0HwP1jdbAYG2MI/5nZXnf+w1D8y4bE9/jflPyxCqjwMSdg/Cvmewyur5D/i0QwaCQrjP2gbxntSXNC/XlvN+5pE1D+4IzQjWwrZPxgFGQzrvdE/ul6OBvt10j/OGmOpVgrtP5ABP+HOWNw/WFm1r3JqvD+gYq4wCTCXv9htYouIQrW/KsnVGpnp1z+uSmkf9OPoP+Q2E3dEA9k/iM68TAI02T9gXHFDLzX/P9DW45JgpMC/SkJqZu+o0r+UiErZihneP7zaLhbKVts/CMA5gzwowD8wbC0xOcmnvyBTugkdz+U/eE7NGr5K0z8YPfh/T3awP4gEk001nNc/HvYq+zJ95D80jzguvFjePxBlRJndTPM/xEb3WQQG1z96T85KIfjgPyT5W6o8cu0/XsDMuVXj079kI00NzuzQP+4eEwo2dse/OGg/HVNg4D+AOQ7m5p/aP+AS2c9/qMs/6O16QsFl2D/AF0zI2C+Hv2DW41DIBsg/wnxXJW2D7j+sqi5VG9LGv1wXBV8FNtw/gCiQ9r3xsT8Q2w/7l5ekP0AeOxKXdek/KOHcvIFZ8z+0EtkirVHXP/pyrbf6cec/BMt45xf6zj8=",
          "dtype": "f8"
         },
         "y": {
          "bdata": "6KqLY3fQyj9OI9BfksnhP7RhpmF03tI/dEXZ/SsX4j9cOkuJaeflPxhORH8YKdc/9n1gVYtN5z9w/aKH9G7aP8hfbQDmMtu/gNoBFjJ8pb/kFN7/kYrRvwL0azllkvY/yMofMFhUtz/AYixwZi7eP51cYHAKlPE/AAL3njRBmD8A38vYYDl5PxAB8z7JpcO/XNc/BC/W3z+C9Ad4NgnwP0yGy+73Pcw/+B5PAM/u0T9MRJQfhP73P5Q5WvQMwd8/6E8pQF4Bsj8n4t6RSmDzPzRuG6uW1eE/MHa+Bfukzj+jQ0kWxRDQv0pidh6+Veo/qIhqnNr14D8isBwpuDzTP0KoUV3BgMa/HK2CRa+T3j8GlkyEHJfTP25HnmNkTOs/8qb/1E8T4T9gfVR/oS3KPwBXoOPxduA/nDqk8nK7zr9qIzXwpt3gP0CieUFuxtE/Pn+J9cpN6T9++7WRrDriPzDH5bve36m/8CBKodxEp7/KC5ISpR3TPzTCb1GbFMS/EILGdd5VrD/OPPa+0wToP8gLFvDt19Y/AByuP37ltr8QImarI1Wsv2LHklKvEPA/GGEVmKPY5z9Cc84ZXnfhP/hQmpahhes/sFVOx13EvL8=",
          "dtype": "f8"
         }
        },
        {
         "line": {
          "color": "red",
          "dash": "dash"
         },
         "mode": "lines",
         "name": "Regresión lineal",
         "type": "scatter",
         "x": {
          "bdata": "XsDMuVXj07+N1K6lHG3Sv7zokJHj9tC/1fnl+lQBz78zIqrS4hTMv5FKbqpwKMm/7nIygv47xr9Mm/ZZjE/Dv6rDujEaY8C/ENj9ElDtur/MKIbCaxS1vxDzHOQOd66/gJQtQ0bFor/g1/iI9k2Mv0CixPoreYI/GIegnxNQoD+g5Y9A3AGsPxSiv3DS2bM/WFE3wbayuT+cAK8Rm4u/P/BXE7E/ssI/lC9P2bGexT80B4sBJIvIP9jeximWd8s/fLYCUghkzj8ORx89PajQP+AyPVF2HtI/sB5bZa+U0z+CCnl56ArVP1L2lo0hgdY/JOK0oVr31z/0zdK1k23ZP8a58MnM49o/mKUO3gVa3D9okSzyPtDdPzp9SgZ4Rt8/hTQ0jVhe4D9uKkMXdRnhP1YgUqGR1OE/PxZhK66P4j8nDHC1ykrjPxACfz/nBeQ/+feNyQPB5D/h7ZxTIHzlP8njq908N+Y/s9m6Z1ny5j+bz8nxda3nP4PF2HuSaOg/bbvnBa8j6T9VsfaPy97pPz2nBRromeo/JZ0UpARV6z8PkyMuIRDsP/eIMrg9y+w/335BQlqG7T/HdFDMdkHuP7FqX1aT/O4/mWBu4K+37z9Aqz41ZjnwPzYmRnr0lvA/KqFNv4L08D8eHFUEEVLxPxKXXEmfr/E/BhJkji0N8j/6jGvTu2ryP+4HcxhKyPI/5IJ6Xdgl8z/Y/YGiZoPzP8x4ief04PM/wPOQLIM+9D+0bphxEZz0P6jpn7af+fQ/nGSn+y1X9T+S365AvLT1P4ZatoVKEvY/etW9ythv9j9uUMUPZ832P2LLzFT1Kvc/VkbUmYOI9z9KwdveEeb3Pz484yOgQ/g/NLfqaC6h+D8oMvKtvP74Pxyt+fJKXPk/ECgBONm5+T8Eowh9Zxf6P/gdEML1dPo/7JgXB4TS+j/gEx9MEjD7P9aOJpGgjfs/ygku1i7r+z++hDUbvUj8P7L/PGBLpvw/pnpEpdkD/T+a9UvqZ2H9P45wUy/2vv0/hOtadIQc/j94ZmK5Enr+P2zhaf6g1/4/YFxxQy81/z8=",
          "dtype": "f8"
         },
         "y": {
          "bdata": "yA+30TGMqb/cfCWBlVKiv9jTJ2HyMZa/4LcSAOf6fr+A33mE+9F6P7ydQYK3J5U/zmGyEXjNoT+89ENiFAepP9XDallYILA/TI2zgSa9sz/DVvyp9Fm3PzogRdLC9ro/s+mN+pCTvj+VWWuRLxjBP1C+j6WW5sI/DCO0uf20xD/Ih9jNZIPGP4Ps/OHLUcg/PlEh9jIgyj/6tUUKmu7LP7Uaah4Bvc0/cn+OMmiLzz8Wclmj56zQP3Skay0blNE/0tZ9t0570j8wCZBBgmLTP447osu1SdQ/7G20Vekw1T9KoMbfHBjWP6bS2GlQ/9Y/BQXr84Pm1z9iN/19t83YP8BpDwjrtNk/H5whkh6c2j98zjMcUoPbP9oARqaFatw/NzNYMLlR3T+WZWq67DjeP/OXfEQgIN8/KGVH56kD4D9XflCsQ3fgP4aXWXHd6uA/trBiNnde4T/kyWv7ENLhPxLjdMCqReI/Qvx9hUS54j9xFYdK3izjP6AukA94oOM/0EeZ1BEU5D/+YKKZq4fkPyx6q15F++Q/WpO0I99u5T+KrL3oeOLlP7rFxq0SVuY/6N7PcqzJ5j8W+Ng3Rj3nP0YR4vzfsOc/dCrrwXkk6D+iQ/SGE5joP9Rc/UutC+k/AnYGEUd/6T8wjw/W4PLpP2CoGJt6Zuo/jsEhYBTa6j+82iolrk3rP+rzM+pHwes/HA09r+E07D9KJkZ0e6jsP3o/TzkVHO0/qFhY/q6P7T/WcWHDSAPuPwSLaojidu4/NKRzTXzq7j9kvXwSFl7vP5LWhdev0e8/4XdHzqQi8D94BMywcVzwPw+RUJM+lvA/px3VdQvQ8D8+qllY2AnxP9U23jqlQ/E/bsNiHXJ98T8FUOf/PrfxP5zca+IL8fE/M2nwxNgq8j/K9XSnpWTyP2KC+YlynvI/+Q5+bD/Y8j+QmwJPDBLzPykohzHZS/M/wLQLFKaF8z9XQZD2cr/zP+/NFNk/+fM/hlqZuwwz9D8d5x2e2Wz0P7RzooCmpvQ/TQAnY3Pg9D/kjKtFQBr1P3wZMCgNVPU/E6a0CtqN9T8=",
          "dtype": "f8"
         }
        },
        {
         "line": {
          "color": "green",
          "dash": "dot"
         },
         "mode": "lines",
         "name": "Línea Perfecta (y = x)",
         "type": "scatter",
         "x": {
          "bdata": "XsDMuVXj07+N1K6lHG3Sv7zokJHj9tC/1fnl+lQBz78zIqrS4hTMv5FKbqpwKMm/7nIygv47xr9Mm/ZZjE/Dv6rDujEaY8C/ENj9ElDtur/MKIbCaxS1vxDzHOQOd66/gJQtQ0bFor/g1/iI9k2Mv0CixPoreYI/GIegnxNQoD+g5Y9A3AGsPxSiv3DS2bM/WFE3wbayuT+cAK8Rm4u/P/BXE7E/ssI/lC9P2bGexT80B4sBJIvIP9jeximWd8s/fLYCUghkzj8ORx89PajQP+AyPVF2HtI/sB5bZa+U0z+CCnl56ArVP1L2lo0hgdY/JOK0oVr31z/0zdK1k23ZP8a58MnM49o/mKUO3gVa3D9okSzyPtDdPzp9SgZ4Rt8/hTQ0jVhe4D9uKkMXdRnhP1YgUqGR1OE/PxZhK66P4j8nDHC1ykrjPxACfz/nBeQ/+feNyQPB5D/h7ZxTIHzlP8njq908N+Y/s9m6Z1ny5j+bz8nxda3nP4PF2HuSaOg/bbvnBa8j6T9VsfaPy97pPz2nBRromeo/JZ0UpARV6z8PkyMuIRDsP/eIMrg9y+w/335BQlqG7T/HdFDMdkHuP7FqX1aT/O4/mWBu4K+37z9Aqz41ZjnwPzYmRnr0lvA/KqFNv4L08D8eHFUEEVLxPxKXXEmfr/E/BhJkji0N8j/6jGvTu2ryP+4HcxhKyPI/5IJ6Xdgl8z/Y/YGiZoPzP8x4ief04PM/wPOQLIM+9D+0bphxEZz0P6jpn7af+fQ/nGSn+y1X9T+S365AvLT1P4ZatoVKEvY/etW9ythv9j9uUMUPZ832P2LLzFT1Kvc/VkbUmYOI9z9KwdveEeb3Pz484yOgQ/g/NLfqaC6h+D8oMvKtvP74Pxyt+fJKXPk/ECgBONm5+T8Eowh9Zxf6P/gdEML1dPo/7JgXB4TS+j/gEx9MEjD7P9aOJpGgjfs/ygku1i7r+z++hDUbvUj8P7L/PGBLpvw/pnpEpdkD/T+a9UvqZ2H9P45wUy/2vv0/hOtadIQc/j94ZmK5Enr+P2zhaf6g1/4/YFxxQy81/z8=",
          "dtype": "f8"
         },
         "y": {
          "bdata": "XsDMuVXj07+N1K6lHG3Sv7zokJHj9tC/1fnl+lQBz78zIqrS4hTMv5FKbqpwKMm/7nIygv47xr9Mm/ZZjE/Dv6rDujEaY8C/ENj9ElDtur/MKIbCaxS1vxDzHOQOd66/gJQtQ0bFor/g1/iI9k2Mv0CixPoreYI/GIegnxNQoD+g5Y9A3AGsPxSiv3DS2bM/WFE3wbayuT+cAK8Rm4u/P/BXE7E/ssI/lC9P2bGexT80B4sBJIvIP9jeximWd8s/fLYCUghkzj8ORx89PajQP+AyPVF2HtI/sB5bZa+U0z+CCnl56ArVP1L2lo0hgdY/JOK0oVr31z/0zdK1k23ZP8a58MnM49o/mKUO3gVa3D9okSzyPtDdPzp9SgZ4Rt8/hTQ0jVhe4D9uKkMXdRnhP1YgUqGR1OE/PxZhK66P4j8nDHC1ykrjPxACfz/nBeQ/+feNyQPB5D/h7ZxTIHzlP8njq908N+Y/s9m6Z1ny5j+bz8nxda3nP4PF2HuSaOg/bbvnBa8j6T9VsfaPy97pPz2nBRromeo/JZ0UpARV6z8PkyMuIRDsP/eIMrg9y+w/335BQlqG7T/HdFDMdkHuP7FqX1aT/O4/mWBu4K+37z9Aqz41ZjnwPzYmRnr0lvA/KqFNv4L08D8eHFUEEVLxPxKXXEmfr/E/BhJkji0N8j/6jGvTu2ryP+4HcxhKyPI/5IJ6Xdgl8z/Y/YGiZoPzP8x4ief04PM/wPOQLIM+9D+0bphxEZz0P6jpn7af+fQ/nGSn+y1X9T+S365AvLT1P4ZatoVKEvY/etW9ythv9j9uUMUPZ832P2LLzFT1Kvc/VkbUmYOI9z9KwdveEeb3Pz484yOgQ/g/NLfqaC6h+D8oMvKtvP74Pxyt+fJKXPk/ECgBONm5+T8Eowh9Zxf6P/gdEML1dPo/7JgXB4TS+j/gEx9MEjD7P9aOJpGgjfs/ygku1i7r+z++hDUbvUj8P7L/PGBLpvw/pnpEpdkD/T+a9UvqZ2H9P45wUy/2vv0/hOtadIQc/j94ZmK5Enr+P2zhaf6g1/4/YFxxQy81/z8=",
          "dtype": "f8"
         }
        }
       ],
       "layout": {
        "annotations": [
         {
          "align": "left",
          "bgcolor": "white",
          "bordercolor": "black",
          "borderwidth": 1,
          "font": {
           "color": "black",
           "size": 14
          },
          "showarrow": false,
          "text": "y = 0.618x + 0.142<br>R² = 0.347",
          "x": 0.05,
          "xref": "paper",
          "y": 0.95,
          "yref": "paper"
         }
        ],
        "height": 400,
        "template": {
         "data": {
          "bar": [
           {
            "error_x": {
             "color": "#2a3f5f"
            },
            "error_y": {
             "color": "#2a3f5f"
            },
            "marker": {
             "line": {
              "color": "white",
              "width": 0.5
             },
             "pattern": {
              "fillmode": "overlay",
              "size": 10,
              "solidity": 0.2
             }
            },
            "type": "bar"
           }
          ],
          "barpolar": [
           {
            "marker": {
             "line": {
              "color": "white",
              "width": 0.5
             },
             "pattern": {
              "fillmode": "overlay",
              "size": 10,
              "solidity": 0.2
             }
            },
            "type": "barpolar"
           }
          ],
          "carpet": [
           {
            "aaxis": {
             "endlinecolor": "#2a3f5f",
             "gridcolor": "#C8D4E3",
             "linecolor": "#C8D4E3",
             "minorgridcolor": "#C8D4E3",
             "startlinecolor": "#2a3f5f"
            },
            "baxis": {
             "endlinecolor": "#2a3f5f",
             "gridcolor": "#C8D4E3",
             "linecolor": "#C8D4E3",
             "minorgridcolor": "#C8D4E3",
             "startlinecolor": "#2a3f5f"
            },
            "type": "carpet"
           }
          ],
          "choropleth": [
           {
            "colorbar": {
             "outlinewidth": 0,
             "ticks": ""
            },
            "type": "choropleth"
           }
          ],
          "contour": [
           {
            "colorbar": {
             "outlinewidth": 0,
             "ticks": ""
            },
            "colorscale": [
             [
              0,
              "#0d0887"
             ],
             [
              0.1111111111111111,
              "#46039f"
             ],
             [
              0.2222222222222222,
              "#7201a8"
             ],
             [
              0.3333333333333333,
              "#9c179e"
             ],
             [
              0.4444444444444444,
              "#bd3786"
             ],
             [
              0.5555555555555556,
              "#d8576b"
             ],
             [
              0.6666666666666666,
              "#ed7953"
             ],
             [
              0.7777777777777778,
              "#fb9f3a"
             ],
             [
              0.8888888888888888,
              "#fdca26"
             ],
             [
              1,
              "#f0f921"
             ]
            ],
            "type": "contour"
           }
          ],
          "contourcarpet": [
           {
            "colorbar": {
             "outlinewidth": 0,
             "ticks": ""
            },
            "type": "contourcarpet"
           }
          ],
          "heatmap": [
           {
            "colorbar": {
             "outlinewidth": 0,
             "ticks": ""
            },
            "colorscale": [
             [
              0,
              "#0d0887"
             ],
             [
              0.1111111111111111,
              "#46039f"
             ],
             [
              0.2222222222222222,
              "#7201a8"
             ],
             [
              0.3333333333333333,
              "#9c179e"
             ],
             [
              0.4444444444444444,
              "#bd3786"
             ],
             [
              0.5555555555555556,
              "#d8576b"
             ],
             [
              0.6666666666666666,
              "#ed7953"
             ],
             [
              0.7777777777777778,
              "#fb9f3a"
             ],
             [
              0.8888888888888888,
              "#fdca26"
             ],
             [
              1,
              "#f0f921"
             ]
            ],
            "type": "heatmap"
           }
          ],
          "histogram": [
           {
            "marker": {
             "pattern": {
              "fillmode": "overlay",
              "size": 10,
              "solidity": 0.2
             }
            },
            "type": "histogram"
           }
          ],
          "histogram2d": [
           {
            "colorbar": {
             "outlinewidth": 0,
             "ticks": ""
            },
            "colorscale": [
             [
              0,
              "#0d0887"
             ],
             [
              0.1111111111111111,
              "#46039f"
             ],
             [
              0.2222222222222222,
              "#7201a8"
             ],
             [
              0.3333333333333333,
              "#9c179e"
             ],
             [
              0.4444444444444444,
              "#bd3786"
             ],
             [
              0.5555555555555556,
              "#d8576b"
             ],
             [
              0.6666666666666666,
              "#ed7953"
             ],
             [
              0.7777777777777778,
              "#fb9f3a"
             ],
             [
              0.8888888888888888,
              "#fdca26"
             ],
             [
              1,
              "#f0f921"
             ]
            ],
            "type": "histogram2d"
           }
          ],
          "histogram2dcontour": [
           {
            "colorbar": {
             "outlinewidth": 0,
             "ticks": ""
            },
            "colorscale": [
             [
              0,
              "#0d0887"
             ],
             [
              0.1111111111111111,
              "#46039f"
             ],
             [
              0.2222222222222222,
              "#7201a8"
             ],
             [
              0.3333333333333333,
              "#9c179e"
             ],
             [
              0.4444444444444444,
              "#bd3786"
             ],
             [
              0.5555555555555556,
              "#d8576b"
             ],
             [
              0.6666666666666666,
              "#ed7953"
             ],
             [
              0.7777777777777778,
              "#fb9f3a"
             ],
             [
              0.8888888888888888,
              "#fdca26"
             ],
             [
              1,
              "#f0f921"
             ]
            ],
            "type": "histogram2dcontour"
           }
          ],
          "mesh3d": [
           {
            "colorbar": {
             "outlinewidth": 0,
             "ticks": ""
            },
            "type": "mesh3d"
           }
          ],
          "parcoords": [
           {
            "line": {
             "colorbar": {
              "outlinewidth": 0,
              "ticks": ""
             }
            },
            "type": "parcoords"
           }
          ],
          "pie": [
           {
            "automargin": true,
            "type": "pie"
           }
          ],
          "scatter": [
           {
            "fillpattern": {
             "fillmode": "overlay",
             "size": 10,
             "solidity": 0.2
            },
            "type": "scatter"
           }
          ],
          "scatter3d": [
           {
            "line": {
             "colorbar": {
              "outlinewidth": 0,
              "ticks": ""
             }
            },
            "marker": {
             "colorbar": {
              "outlinewidth": 0,
              "ticks": ""
             }
            },
            "type": "scatter3d"
           }
          ],
          "scattercarpet": [
           {
            "marker": {
             "colorbar": {
              "outlinewidth": 0,
              "ticks": ""
             }
            },
            "type": "scattercarpet"
           }
          ],
          "scattergeo": [
           {
            "marker": {
             "colorbar": {
              "outlinewidth": 0,
              "ticks": ""
             }
            },
            "type": "scattergeo"
           }
          ],
          "scattergl": [
           {
            "marker": {
             "colorbar": {
              "outlinewidth": 0,
              "ticks": ""
             }
            },
            "type": "scattergl"
           }
          ],
          "scattermap": [
           {
            "marker": {
             "colorbar": {
              "outlinewidth": 0,
              "ticks": ""
             }
            },
            "type": "scattermap"
           }
          ],
          "scattermapbox": [
           {
            "marker": {
             "colorbar": {
              "outlinewidth": 0,
              "ticks": ""
             }
            },
            "type": "scattermapbox"
           }
          ],
          "scatterpolar": [
           {
            "marker": {
             "colorbar": {
              "outlinewidth": 0,
              "ticks": ""
             }
            },
            "type": "scatterpolar"
           }
          ],
          "scatterpolargl": [
           {
            "marker": {
             "colorbar": {
              "outlinewidth": 0,
              "ticks": ""
             }
            },
            "type": "scatterpolargl"
           }
          ],
          "scatterternary": [
           {
            "marker": {
             "colorbar": {
              "outlinewidth": 0,
              "ticks": ""
             }
            },
            "type": "scatterternary"
           }
          ],
          "surface": [
           {
            "colorbar": {
             "outlinewidth": 0,
             "ticks": ""
            },
            "colorscale": [
             [
              0,
              "#0d0887"
             ],
             [
              0.1111111111111111,
              "#46039f"
             ],
             [
              0.2222222222222222,
              "#7201a8"
             ],
             [
              0.3333333333333333,
              "#9c179e"
             ],
             [
              0.4444444444444444,
              "#bd3786"
             ],
             [
              0.5555555555555556,
              "#d8576b"
             ],
             [
              0.6666666666666666,
              "#ed7953"
             ],
             [
              0.7777777777777778,
              "#fb9f3a"
             ],
             [
              0.8888888888888888,
              "#fdca26"
             ],
             [
              1,
              "#f0f921"
             ]
            ],
            "type": "surface"
           }
          ],
          "table": [
           {
            "cells": {
             "fill": {
              "color": "#EBF0F8"
             },
             "line": {
              "color": "white"
             }
            },
            "header": {
             "fill": {
              "color": "#C8D4E3"
             },
             "line": {
              "color": "white"
             }
            },
            "type": "table"
           }
          ]
         },
         "layout": {
          "annotationdefaults": {
           "arrowcolor": "#2a3f5f",
           "arrowhead": 0,
           "arrowwidth": 1
          },
          "autotypenumbers": "strict",
          "coloraxis": {
           "colorbar": {
            "outlinewidth": 0,
            "ticks": ""
           }
          },
          "colorscale": {
           "diverging": [
            [
             0,
             "#8e0152"
            ],
            [
             0.1,
             "#c51b7d"
            ],
            [
             0.2,
             "#de77ae"
            ],
            [
             0.3,
             "#f1b6da"
            ],
            [
             0.4,
             "#fde0ef"
            ],
            [
             0.5,
             "#f7f7f7"
            ],
            [
             0.6,
             "#e6f5d0"
            ],
            [
             0.7,
             "#b8e186"
            ],
            [
             0.8,
             "#7fbc41"
            ],
            [
             0.9,
             "#4d9221"
            ],
            [
             1,
             "#276419"
            ]
           ],
           "sequential": [
            [
             0,
             "#0d0887"
            ],
            [
             0.1111111111111111,
             "#46039f"
            ],
            [
             0.2222222222222222,
             "#7201a8"
            ],
            [
             0.3333333333333333,
             "#9c179e"
            ],
            [
             0.4444444444444444,
             "#bd3786"
            ],
            [
             0.5555555555555556,
             "#d8576b"
            ],
            [
             0.6666666666666666,
             "#ed7953"
            ],
            [
             0.7777777777777778,
             "#fb9f3a"
            ],
            [
             0.8888888888888888,
             "#fdca26"
            ],
            [
             1,
             "#f0f921"
            ]
           ],
           "sequentialminus": [
            [
             0,
             "#0d0887"
            ],
            [
             0.1111111111111111,
             "#46039f"
            ],
            [
             0.2222222222222222,
             "#7201a8"
            ],
            [
             0.3333333333333333,
             "#9c179e"
            ],
            [
             0.4444444444444444,
             "#bd3786"
            ],
            [
             0.5555555555555556,
             "#d8576b"
            ],
            [
             0.6666666666666666,
             "#ed7953"
            ],
            [
             0.7777777777777778,
             "#fb9f3a"
            ],
            [
             0.8888888888888888,
             "#fdca26"
            ],
            [
             1,
             "#f0f921"
            ]
           ]
          },
          "colorway": [
           "#636efa",
           "#EF553B",
           "#00cc96",
           "#ab63fa",
           "#FFA15A",
           "#19d3f3",
           "#FF6692",
           "#B6E880",
           "#FF97FF",
           "#FECB52"
          ],
          "font": {
           "color": "#2a3f5f"
          },
          "geo": {
           "bgcolor": "white",
           "lakecolor": "white",
           "landcolor": "white",
           "showlakes": true,
           "showland": true,
           "subunitcolor": "#C8D4E3"
          },
          "hoverlabel": {
           "align": "left"
          },
          "hovermode": "closest",
          "mapbox": {
           "style": "light"
          },
          "paper_bgcolor": "white",
          "plot_bgcolor": "white",
          "polar": {
           "angularaxis": {
            "gridcolor": "#EBF0F8",
            "linecolor": "#EBF0F8",
            "ticks": ""
           },
           "bgcolor": "white",
           "radialaxis": {
            "gridcolor": "#EBF0F8",
            "linecolor": "#EBF0F8",
            "ticks": ""
           }
          },
          "scene": {
           "xaxis": {
            "backgroundcolor": "white",
            "gridcolor": "#DFE8F3",
            "gridwidth": 2,
            "linecolor": "#EBF0F8",
            "showbackground": true,
            "ticks": "",
            "zerolinecolor": "#EBF0F8"
           },
           "yaxis": {
            "backgroundcolor": "white",
            "gridcolor": "#DFE8F3",
            "gridwidth": 2,
            "linecolor": "#EBF0F8",
            "showbackground": true,
            "ticks": "",
            "zerolinecolor": "#EBF0F8"
           },
           "zaxis": {
            "backgroundcolor": "white",
            "gridcolor": "#DFE8F3",
            "gridwidth": 2,
            "linecolor": "#EBF0F8",
            "showbackground": true,
            "ticks": "",
            "zerolinecolor": "#EBF0F8"
           }
          },
          "shapedefaults": {
           "line": {
            "color": "#2a3f5f"
           }
          },
          "ternary": {
           "aaxis": {
            "gridcolor": "#DFE8F3",
            "linecolor": "#A2B1C6",
            "ticks": ""
           },
           "baxis": {
            "gridcolor": "#DFE8F3",
            "linecolor": "#A2B1C6",
            "ticks": ""
           },
           "bgcolor": "white",
           "caxis": {
            "gridcolor": "#DFE8F3",
            "linecolor": "#A2B1C6",
            "ticks": ""
           }
          },
          "title": {
           "x": 0.05
          },
          "xaxis": {
           "automargin": true,
           "gridcolor": "#EBF0F8",
           "linecolor": "#EBF0F8",
           "ticks": "",
           "title": {
            "standoff": 15
           },
           "zerolinecolor": "#EBF0F8",
           "zerolinewidth": 2
          },
          "yaxis": {
           "automargin": true,
           "gridcolor": "#EBF0F8",
           "linecolor": "#EBF0F8",
           "ticks": "",
           "title": {
            "standoff": 15
           },
           "zerolinecolor": "#EBF0F8",
           "zerolinewidth": 2
          }
         }
        },
        "title": {
         "text": "Validación FeedForward"
        },
        "width": 1200,
        "xaxis": {
         "title": {
          "text": "Valores Reales"
         }
        },
        "yaxis": {
         "title": {
          "text": "Valores Predichos"
         }
        }
       }
      }
     },
     "metadata": {},
     "output_type": "display_data"
    }
   ],
   "source": [
    "# Gráficos de regresión\n",
    "dh.plot_regression(y_train_mo, y_pred_train_mo, title='Entrenamiento FeedForward', size=(1200, 400))\n",
    "dh.plot_regression(y_val_mo, y_pred_val_mo, title='Validación FeedForward', size=(1200, 400))"
   ]
  }
 ],
 "metadata": {
  "kernelspec": {
   "display_name": ".venv",
   "language": "python",
   "name": "python3"
  },
  "language_info": {
   "codemirror_mode": {
    "name": "ipython",
    "version": 3
   },
   "file_extension": ".py",
   "mimetype": "text/x-python",
   "name": "python",
   "nbconvert_exporter": "python",
   "pygments_lexer": "ipython3",
   "version": "3.13.2"
  }
 },
 "nbformat": 4,
 "nbformat_minor": 5
}
