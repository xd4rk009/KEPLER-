{
 "cells": [
  {
   "cell_type": "markdown",
   "id": "b7787364",
   "metadata": {},
   "source": [
    "# Pipeline Unificado de Entrenamiento + Explainability (SHAP manual)\n",
    "Este notebook replica el pipeline optimizado y añade un bloque de explainability tipo SHAP manual, usando la clase Explainability sin librerías externas."
   ]
  },
  {
   "cell_type": "markdown",
   "id": "42fb1826",
   "metadata": {},
   "source": [
    "## 1. Configuración de entorno y paths"
   ]
  },
  {
   "cell_type": "code",
   "execution_count": 1,
   "id": "ae729163",
   "metadata": {},
   "outputs": [
    {
     "name": "stderr",
     "output_type": "stream",
     "text": [
      "INFO:classes.DataHandler:Configuración de logging inicializada correctamente.\n",
      "INFO:root:Conectado a data/Tronaduras_vs_Sismicidad.db\n",
      "INFO:classes.DataHandler:Columnas objetivo actualizadas: ['Mo_cumulative']\n",
      "INFO:classes.DataHandler:Inicio de la carga de datos.\n",
      "INFO:classes.DataHandler:Tabla Tabla_Unificada cargada correctamente.\n",
      "INFO:classes.DataHandler:Tabla Variables_Description cargada correctamente.\n",
      "INFO:classes.DataHandler:Conexión cerrada.\n",
      "INFO:classes.DataHandler:Datos cargados exitosamente.\n",
      "INFO:classes.DataHandler:Inicio del preprocesamiento de datos.\n",
      "INFO:classes.DataHandler:Variables de entrada procesadas: ['Cobertura Total', 'Cobertura Primario', 'Tronadura_Largo de Perforación (m)', 'Tronadura_N° Tiros', 'Tronadura_N° Tiros Real', 'Tronadura_Kg. de explosivos tronadura', 'Tronadura_Tipo Explosivo', 'Destressing_Se realizó', 'Destressing_N° Tiros', 'Destressing_Kg. de explosivos', 'Destressing_Tipo Explosivo', 'Geotecnicas_UCS (MPa)', 'Geotecnicas_Modulo de Young (GPa)', 'Geotecnicas_Razón Poisson', 'Litología', 'Fallas_Presencia', 'Fallas_Sub-Paralelas', 'Estructura', 'Estructura Crítica', 'Condición de Agua', 'GSI_Puntaje', 'GSI_Blocosidad', 'GSI_Condición Estructuras', 'DTM', 'Blocosidad_Volumen Total', 'Blocosidad_N° Caras', 'Blocosidad_Sumatoria Superficie', 'Blocosidad_Índice Blocosidad', 'Avance_Largo real (m)', 'Avance_Tipo de Explosivo', 'Sobre-excavacion_A (Caja Norte)', 'Sobre-excavacion_B (Acod. Norte)', 'Sobre-excavacion_C (Techo)', 'Sobre-excavacion_D (Acod. Sur)', 'Sobre-excavacion_E (Caja Sur)', 'Sobre-excavacion_% Sobre-Excavación', 'A (Caja Norte)', 'B (Acod. Norte)', 'C (Techo)', 'D (Acod. Sur)', 'E (Caja Sur)', 'Total', 'Coordenadas_Norte (m)', 'Coordenadas_Este (m)', 'Coordenadas_Cota (m)', 'Avance Topográfico (m)', 'Metros Acumulado (m)', 'Área teórica(m2)', '% sobre-excavación', 'Volumen excavado (m3)', 'Tiempo de Ciclo Total (h)', 'Tiempo Ciclo Acumunado (h)', 'Tiempo Tronadura']\n",
      "INFO:classes.DataHandler:Variables target seleccionadas y transformadas: ['Mo_cumulative']\n",
      "INFO:classes.DataHandler:Preprocesamiento de datos completado exitosamente.\n",
      "INFO:classes.DataHandler:Inicio de la normalización de datos.\n",
      "INFO:classes.DataHandler:Datos de entrada normalizados correctamente.\n",
      "INFO:classes.DataHandler:Datos de salida normalizados correctamente.\n",
      "INFO:classes.DataHandler:DataFrame de escalas generado correctamente.\n",
      "INFO:classes.DataHandler:Normalización de datos completada exitosamente.\n"
     ]
    },
    {
     "name": "stdout",
     "output_type": "stream",
     "text": [
      "✅ Datos leídos desde 'Processed_Data.Tabla_Unificada' y convertidos a DataFrame.\n",
      "✅ Datos leídos desde 'Raw_Data.Variables_Description' y convertidos a DataFrame.\n",
      "🔌 Conexión cerrada manualmente.\n",
      "No se van a reentrenar los modelos, cargando resultados previos...\n"
     ]
    }
   ],
   "source": [
    "import sys, os\n",
    "sys.path.append(os.path.abspath('..'))  # Permite importar módulos desde el directorio superior\n",
    "import torch\n",
    "import numpy as np\n",
    "import pandas as pd\n",
    "from sklearn.model_selection import train_test_split\n",
    "from classes.DataHandler import DataHandler\n",
    "# Importar modelos OPTIMIZADOS\n",
    "from classes.FeedForwardNetwork_opt import FeedForwardNetwork_opt\n",
    "from classes.TabNet_opt import TabNetNetwork_opt\n",
    "from classes.MixtureDensityNetworks_opt import MixtureDensityNetworks_opt\n",
    "from classes.BayesianNN_opt import BayesianNN_opt\n",
    "from classes.MonteCarloDropoutNetwork_opt import MonteCarloDropoutNetwork_opt\n",
    "# Para TabNet externo\n",
    "from pytorch_tabnet.tab_model import TabNetRegressor\n",
    "import datetime\n",
    "from classes.BaseTrainer_opt import BaseTrainer_opt\n",
    "# Utilidad: obtiene último modelo para cada tipo\n",
    "import re\n",
    "from datetime import datetime\n",
    "import plotly.graph_objects as go\n",
    "import traceback\n",
    "\n",
    "\n",
    "# Parámetros globales y de entrenamiento (modificables al inicio)\n",
    "DEVICE = 'cuda' if torch.cuda.is_available() else 'cpu'\n",
    "TARGETS = ['Mo_cumulative']\n",
    "hidden_dim = 528\n",
    "num_epochs = 500\n",
    "lr = 0.001\n",
    "\n",
    "dh = DataHandler()\n",
    "dh.DEVICE = DEVICE\n",
    "dh.set_targets(TARGETS)\n",
    "table_unified, vars_desc = dh.load_data()\n",
    "inputs, targets = dh.preprocess_data(vars_desc, table_unified)\n",
    "X, y, scales = dh.normalize_data(inputs, targets)\n",
    "# Split primero (en arrays), luego conversión a tensores\n",
    "X_train_np, X_val_np, y_train_np, y_val_np = train_test_split(X, y, test_size=0.2, random_state=42)\n",
    "X_train = torch.tensor(X_train_np, dtype=torch.float32).to(DEVICE)\n",
    "X_val = torch.tensor(X_val_np, dtype=torch.float32).to(DEVICE)\n",
    "y_train = torch.tensor(y_train_np, dtype=torch.float32).to(DEVICE)\n",
    "y_val = torch.tensor(y_val_np, dtype=torch.float32).to(DEVICE)\n",
    "\n",
    "model_types = ['FeedForward', 'TabNet', 'MDN', 'BayesianNN', 'MonteCarloDropout']\n",
    "resultados_modelos = {}\n",
    "retrain_models = False  # Flags whether to retrain models or not\n",
    "\n",
    "if retrain_models:\n",
    "    for MODEL_TYPE in model_types:\n",
    "        print(f'Entrenando y evaluando modelo: {MODEL_TYPE}')\n",
    "\n",
    "        resultados = BaseTrainer_opt.run_pipeline(\n",
    "            model_type=MODEL_TYPE,\n",
    "            X_train=X_train, y_train=y_train, X_val=X_val, y_val=y_val,\n",
    "            scales=scales, dh=dh,\n",
    "            hidden_dim=hidden_dim,\n",
    "            n_components=5,  # Solo relevante para MDN\n",
    "            device=DEVICE,\n",
    "            lr=lr,\n",
    "            num_epochs=num_epochs,\n",
    "            save_model=True,\n",
    "            plot_results=False,\n",
    "            dropout_prob=0.2\n",
    "        )\n",
    "\n",
    "        # Desempaquetar resultados según el modelo\n",
    "        if MODEL_TYPE in ['FeedForward', 'TabNet']:\n",
    "            y_train_mo, y_pred_train_mo, y_val_mo, y_pred_val_mo = resultados\n",
    "            std_train = None\n",
    "            std_val = None\n",
    "        elif MODEL_TYPE == 'MDN':\n",
    "            y_train_mo, y_pred_train_mo, y_val_mo, y_pred_val_mo, std_train, std_val = resultados\n",
    "        elif MODEL_TYPE in ['BayesianNN', 'MonteCarloDropout']:\n",
    "            y_train_mo, mean_train_mo, y_val_mo, mean_val_mo, std_train, std_val = resultados\n",
    "            y_pred_train_mo = mean_train_mo\n",
    "            y_pred_val_mo = mean_val_mo\n",
    "\n",
    "        resultados_modelos[MODEL_TYPE] = {\n",
    "            'y_train': y_train_mo,\n",
    "            'y_pred_train': y_pred_train_mo,\n",
    "            'y_val': y_val_mo,\n",
    "            'y_pred_val': y_pred_val_mo,\n",
    "            'std_train': std_train,\n",
    "            'std_val': std_val\n",
    "        }\n",
    "else:\n",
    "    print(\"No se van a reentrenar los modelos, cargando resultados previos...\")"
   ]
  },
  {
   "cell_type": "code",
   "execution_count": 2,
   "id": "07284e61",
   "metadata": {},
   "outputs": [
    {
     "name": "stdout",
     "output_type": "stream",
     "text": [
      "Último modelo para FeedForward: nets\\modelo_FeedForward_20250603_163338.pt\n",
      "No se encontró modelo para TabNet\n",
      "Último modelo para MDN: nets\\modelo_MDN_20250603_163353.pt\n",
      "Último modelo para BayesianNN: nets\\modelo_BayesianNN_20250603_163428.pt\n",
      "Último modelo para MonteCarloDropout: nets\\modelo_MonteCarloDropout_20250603_163430.pt\n"
     ]
    }
   ],
   "source": [
    "# Utilidad: agrupamos SHAP manual en función\n",
    "\n",
    "def run_explainability(model_class, model_path, X_train, y_train, input_vars, device, metric_fn, hidden_dim, n_components=None):\n",
    "    \"\"\"\n",
    "    Ejecuta SHAP manual para el modelo dado.\n",
    "    model_class: clase del modelo (debe tener .model y .load_state_dict o .load_model)\n",
    "    model_path: ruta al .pt\n",
    "    X_train, y_train: arrays (no tensores)\n",
    "    input_vars: lista de nombres de variables\n",
    "    device: cpu/cuda\n",
    "    metric_fn: función métrica\n",
    "    hidden_dim: dimensión oculta\n",
    "    n_components: solo para MDN\n",
    "    \"\"\"\n",
    "    if model_path is None:\n",
    "        print(f'No se encontró modelo {model_class.__name__}.')\n",
    "        return None\n",
    "    # Inicializa el modelo con el input_dim correcto\n",
    "    input_dim = X_train.shape[1]\n",
    "    if n_components:\n",
    "        model_obj = model_class(input_dim, hidden_dim, n_components=n_components, device=device)\n",
    "    else:\n",
    "        model_obj = model_class(input_dim, hidden_dim, device)\n",
    "    # Usa el método load_model del BaseTrainer_opt (ahora todas lo tienen)\n",
    "    # Nota: para TabNet deberías agregar un chequeo si la extensión es zip, pero si todo es pt o pyro, así funciona\n",
    "    model_name = model_class.__name__.replace(\"Network_opt\", \"\").replace(\"MixtureDensity\", \"MDN\").replace(\"BayesianNN\", \"BayesianNN\").replace(\"FeedForward\", \"FeedForward\").replace(\"TabNet\", \"TabNet\").replace(\"MonteCarloDropout\", \"MonteCarloDropout\")\n",
    "    if 'Bayesian' in model_name:\n",
    "        model_name = 'BayesianNN'  # para que calce\n",
    "    model_obj.load_model(model_path, model_name)\n",
    "    # Asegúrate de poner en modo eval si existe\n",
    "    if hasattr(model_obj, 'model') and hasattr(model_obj.model, 'eval'):\n",
    "        model_obj.model.eval()\n",
    "    expl = Explainability()\n",
    "    expl.set_properties(device)\n",
    "    importancias = expl.shap(\n",
    "        X=X_train,\n",
    "        y=y_train,\n",
    "        input_vars=input_vars,\n",
    "        model=model_obj.model,\n",
    "        metric_fn=metric_fn,\n",
    "        value='mean',\n",
    "        show_info=True\n",
    "    )\n",
    "    return importancias\n",
    "\n",
    "\n",
    "\n",
    "# Clase Explainability optimizada\n",
    "class Explainability:\n",
    "    def __init__(self):\n",
    "        self.device = None\n",
    "    def set_properties(self, device):\n",
    "        self.device = device\n",
    "    def shap(self, X, y, input_vars, model, metric_fn, value='mean', show_info=False, width=1200, height=300):\n",
    "        importances = []\n",
    "        n_vars = X.shape[1]\n",
    "        # y_tensor solo se crea una vez\n",
    "        y_tensor = torch.tensor(y, dtype=torch.float32).to(self.device)\n",
    "        # with torch.no_grad() envuelve todo el ciclo\n",
    "        with torch.no_grad():\n",
    "            for i in range(n_vars):\n",
    "                X_mod = X.copy()\n",
    "                var_name = input_vars[i]\n",
    "                # Determinar el valor de reemplazo\n",
    "                if isinstance(value, str):\n",
    "                    if value == 'mean':\n",
    "                        val = X[:, i].mean()\n",
    "                    elif value == 'median':\n",
    "                        val = np.median(X[:, i])\n",
    "                    elif value == 'zero':\n",
    "                        val = 0.0\n",
    "                    elif value == 'one':\n",
    "                        val = 1.0\n",
    "                    else:\n",
    "                        raise ValueError(\"value debe ser un número o uno de: 'mean', 'median', 'zero', 'one'\")\n",
    "                else:\n",
    "                    val = value\n",
    "                X_mod[:, i] = val\n",
    "                X_mod_tensor = torch.tensor(X_mod, dtype=torch.float32).to(self.device)\n",
    "                y_pred_out = model(X_mod_tensor)\n",
    "                if isinstance(y_pred_out, tuple):\n",
    "                    y_pred = y_pred_out[0]\n",
    "                else:\n",
    "                    y_pred = y_pred_out\n",
    "                y_pred = y_pred.cpu().numpy()\n",
    "                metric = metric_fn(y, y_pred)\n",
    "                if show_info:\n",
    "                    print(f'🧪 {i+1}/{n_vars} Condicionando variable: {var_name}, métrica: {metric:.4f}')\n",
    "                importances.append(metric)\n",
    "\n",
    "        if show_info:\n",
    "            fig = go.Figure()\n",
    "            fig.add_trace(go.Bar(x=input_vars, y=importances, marker_color='indianred'))\n",
    "            fig.update_layout(title=\"Importancia de variables (tipo SHAP manual)\", xaxis_title=\"Variable\", yaxis_title=\"Métrica (mayor = más importante)\", template=\"plotly_white\", width=width, height=height)\n",
    "            fig.show()\n",
    "            idx_max = int(np.argmax(importances))\n",
    "            var_mas_importante = input_vars[idx_max]\n",
    "            print(f'🏆 La variable más importante según este análisis es: {var_mas_importante} (posición {idx_max+1})')\n",
    "        \n",
    "        return importances\n",
    "\n",
    "\n",
    "\n",
    "def get_latest_model_file(nets_dir, model_name):\n",
    "    pattern = re.compile(rf'{model_name}.*_(\\d{{8}}_\\d{{6}})\\.pt$')\n",
    "    latest_file = None\n",
    "    latest_dt = None\n",
    "    for fname in os.listdir(nets_dir):\n",
    "        if fname.endswith('.pt'):\n",
    "            match = pattern.search(fname)\n",
    "            if match:\n",
    "                dt_str = match.group(1)\n",
    "                dt = datetime.strptime(dt_str, '%Y%m%d_%H%M%S')\n",
    "                if (latest_dt is None) or (dt > latest_dt):\n",
    "                    latest_dt = dt\n",
    "                    latest_file = fname\n",
    "    if latest_file:\n",
    "        return os.path.join(nets_dir, latest_file)\n",
    "    else:\n",
    "        return None\n",
    "\n",
    "nets_dir = 'nets'\n",
    "latest_files = {}\n",
    "for model in model_types:\n",
    "    file_path = get_latest_model_file(nets_dir, model)\n",
    "    if file_path:\n",
    "        print(f\"Último modelo para {model}: {file_path}\")\n",
    "        latest_files[model] = file_path\n",
    "    else:\n",
    "        print(f\"No se encontró modelo para {model}\")\n",
    "\n",
    "# ---\n",
    "# Variables de entrada aseguradas en orden correcto\n",
    "input_vars = inputs.columns.tolist()\n",
    "\n",
    "# Métrica para explainability\n",
    "# (puedes reemplazar por cualquier métrica personalizada)\n",
    "def metric_fn(y_true, y_pred):\n",
    "    return np.mean(np.abs(y_true - y_pred))\n"
   ]
  },
  {
   "cell_type": "code",
   "execution_count": 3,
   "id": "0c11bcd7",
   "metadata": {},
   "outputs": [
    {
     "name": "stdout",
     "output_type": "stream",
     "text": [
      "⏩ SHAP manual para FeedForward:\n",
      "🧪 1/53 Condicionando variable: Cobertura Total, métrica: 0.0025\n",
      "🧪 2/53 Condicionando variable: Cobertura Primario, métrica: 0.0037\n",
      "🧪 3/53 Condicionando variable: Tronadura_Largo de Perforación (m), métrica: 0.0216\n",
      "🧪 4/53 Condicionando variable: Tronadura_N° Tiros, métrica: 0.0164\n",
      "🧪 5/53 Condicionando variable: Tronadura_N° Tiros Real, métrica: 0.0142\n",
      "🧪 6/53 Condicionando variable: Tronadura_Kg. de explosivos tronadura, métrica: 0.0047\n",
      "🧪 7/53 Condicionando variable: Tronadura_Tipo Explosivo, métrica: 0.0019\n",
      "🧪 8/53 Condicionando variable: Destressing_Se realizó, métrica: 0.0122\n",
      "🧪 9/53 Condicionando variable: Destressing_N° Tiros, métrica: 0.0265\n",
      "🧪 10/53 Condicionando variable: Destressing_Kg. de explosivos, métrica: 0.0200\n",
      "🧪 11/53 Condicionando variable: Destressing_Tipo Explosivo, métrica: 0.0019\n",
      "🧪 12/53 Condicionando variable: Geotecnicas_UCS (MPa), métrica: 0.0208\n",
      "🧪 13/53 Condicionando variable: Geotecnicas_Modulo de Young (GPa), métrica: 0.0279\n",
      "🧪 14/53 Condicionando variable: Geotecnicas_Razón Poisson, métrica: 0.0124\n",
      "🧪 15/53 Condicionando variable: Litología, métrica: 0.0095\n",
      "🧪 16/53 Condicionando variable: Fallas_Presencia, métrica: 0.0246\n",
      "🧪 17/53 Condicionando variable: Fallas_Sub-Paralelas, métrica: 0.0199\n",
      "🧪 18/53 Condicionando variable: Estructura, métrica: 0.0178\n",
      "🧪 19/53 Condicionando variable: Estructura Crítica, métrica: 0.0345\n",
      "🧪 20/53 Condicionando variable: Condición de Agua, métrica: 0.0023\n",
      "🧪 21/53 Condicionando variable: GSI_Puntaje, métrica: 0.0140\n",
      "🧪 22/53 Condicionando variable: GSI_Blocosidad, métrica: 0.0033\n",
      "🧪 23/53 Condicionando variable: GSI_Condición Estructuras, métrica: 0.0202\n",
      "🧪 24/53 Condicionando variable: DTM, métrica: 0.0315\n",
      "🧪 25/53 Condicionando variable: Blocosidad_Volumen Total, métrica: 0.0156\n",
      "🧪 26/53 Condicionando variable: Blocosidad_N° Caras, métrica: 0.0122\n",
      "🧪 27/53 Condicionando variable: Blocosidad_Sumatoria Superficie, métrica: 0.0153\n",
      "🧪 28/53 Condicionando variable: Blocosidad_Índice Blocosidad, métrica: 0.0118\n",
      "🧪 29/53 Condicionando variable: Avance_Largo real (m), métrica: 0.0236\n",
      "🧪 30/53 Condicionando variable: Avance_Tipo de Explosivo, métrica: 0.0392\n",
      "🧪 31/53 Condicionando variable: Sobre-excavacion_A (Caja Norte), métrica: 0.0281\n",
      "🧪 32/53 Condicionando variable: Sobre-excavacion_B (Acod. Norte), métrica: 0.0235\n",
      "🧪 33/53 Condicionando variable: Sobre-excavacion_C (Techo), métrica: 0.0131\n",
      "🧪 34/53 Condicionando variable: Sobre-excavacion_D (Acod. Sur), métrica: 0.0126\n",
      "🧪 35/53 Condicionando variable: Sobre-excavacion_E (Caja Sur), métrica: 0.0200\n",
      "🧪 36/53 Condicionando variable: Sobre-excavacion_% Sobre-Excavación, métrica: 0.0122\n",
      "🧪 37/53 Condicionando variable: A (Caja Norte), métrica: 0.0142\n",
      "🧪 38/53 Condicionando variable: B (Acod. Norte), métrica: 0.0071\n",
      "🧪 39/53 Condicionando variable: C (Techo), métrica: 0.0064\n",
      "🧪 40/53 Condicionando variable: D (Acod. Sur), métrica: 0.0190\n",
      "🧪 41/53 Condicionando variable: E (Caja Sur), métrica: 0.0153\n",
      "🧪 42/53 Condicionando variable: Total, métrica: 0.0090\n",
      "🧪 43/53 Condicionando variable: Coordenadas_Norte (m), métrica: 0.0374\n",
      "🧪 44/53 Condicionando variable: Coordenadas_Este (m), métrica: 0.0248\n",
      "🧪 45/53 Condicionando variable: Coordenadas_Cota (m), métrica: 0.0367\n",
      "🧪 46/53 Condicionando variable: Avance Topográfico (m), métrica: 0.0127\n",
      "🧪 47/53 Condicionando variable: Metros Acumulado (m), métrica: 0.0229\n",
      "🧪 48/53 Condicionando variable: Área teórica(m2), métrica: 0.0305\n",
      "🧪 49/53 Condicionando variable: % sobre-excavación, métrica: 0.0082\n",
      "🧪 50/53 Condicionando variable: Volumen excavado (m3), métrica: 0.0270\n",
      "🧪 51/53 Condicionando variable: Tiempo de Ciclo Total (h), métrica: 0.0173\n",
      "🧪 52/53 Condicionando variable: Tiempo Ciclo Acumunado (h), métrica: 0.0243\n",
      "🧪 53/53 Condicionando variable: Tiempo Tronadura, métrica: 0.0152\n"
     ]
    },
    {
     "data": {
      "application/vnd.plotly.v1+json": {
       "config": {
        "plotlyServerURL": "https://plot.ly"
       },
       "data": [
        {
         "marker": {
          "color": "indianred"
         },
         "type": "bar",
         "x": [
          "Cobertura Total",
          "Cobertura Primario",
          "Tronadura_Largo de Perforación (m)",
          "Tronadura_N° Tiros",
          "Tronadura_N° Tiros Real",
          "Tronadura_Kg. de explosivos tronadura",
          "Tronadura_Tipo Explosivo",
          "Destressing_Se realizó",
          "Destressing_N° Tiros",
          "Destressing_Kg. de explosivos",
          "Destressing_Tipo Explosivo",
          "Geotecnicas_UCS (MPa)",
          "Geotecnicas_Modulo de Young (GPa)",
          "Geotecnicas_Razón Poisson",
          "Litología",
          "Fallas_Presencia",
          "Fallas_Sub-Paralelas",
          "Estructura",
          "Estructura Crítica",
          "Condición de Agua",
          "GSI_Puntaje",
          "GSI_Blocosidad",
          "GSI_Condición Estructuras",
          "DTM",
          "Blocosidad_Volumen Total",
          "Blocosidad_N° Caras",
          "Blocosidad_Sumatoria Superficie",
          "Blocosidad_Índice Blocosidad",
          "Avance_Largo real (m)",
          "Avance_Tipo de Explosivo",
          "Sobre-excavacion_A (Caja Norte)",
          "Sobre-excavacion_B (Acod. Norte)",
          "Sobre-excavacion_C (Techo)",
          "Sobre-excavacion_D (Acod. Sur)",
          "Sobre-excavacion_E (Caja Sur)",
          "Sobre-excavacion_% Sobre-Excavación",
          "A (Caja Norte)",
          "B (Acod. Norte)",
          "C (Techo)",
          "D (Acod. Sur)",
          "E (Caja Sur)",
          "Total",
          "Coordenadas_Norte (m)",
          "Coordenadas_Este (m)",
          "Coordenadas_Cota (m)",
          "Avance Topográfico (m)",
          "Metros Acumulado (m)",
          "Área teórica(m2)",
          "% sobre-excavación",
          "Volumen excavado (m3)",
          "Tiempo de Ciclo Total (h)",
          "Tiempo Ciclo Acumunado (h)",
          "Tiempo Tronadura"
         ],
         "y": [
          0.0024607255212499447,
          0.003738634368962089,
          0.021609958319383185,
          0.016379415551103307,
          0.01416947236290435,
          0.004746531750733185,
          0.0019214699045662024,
          0.012226896071521226,
          0.026523479205890835,
          0.020019062448241146,
          0.0019214699045662024,
          0.020788332951149537,
          0.027907062222895285,
          0.01241544979733029,
          0.009503636748972182,
          0.02460073485187474,
          0.01991447114758975,
          0.017841696676544005,
          0.03445647051324224,
          0.0022539173262493763,
          0.013960513160061114,
          0.0033039428957197265,
          0.020170722032199245,
          0.03145257743793893,
          0.015589165493196454,
          0.012172717649875474,
          0.015295022123757218,
          0.011752551169577128,
          0.023601999310363688,
          0.03917986801284577,
          0.028087371597293437,
          0.023547008671406296,
          0.013100620960486345,
          0.012612737869255842,
          0.020028351259483795,
          0.012218766700860072,
          0.014232377430244206,
          0.007094690699393969,
          0.006430650617279468,
          0.01899693008805835,
          0.015343509404110235,
          0.009043746238393536,
          0.03739660440422144,
          0.024796109172377553,
          0.036732068379414756,
          0.012719820398283488,
          0.022892151636775295,
          0.03054988053763308,
          0.008192195554182892,
          0.027020069192191843,
          0.017289151794120248,
          0.02429197133333205,
          0.015163074699743758
         ]
        }
       ],
       "layout": {
        "height": 300,
        "template": {
         "data": {
          "bar": [
           {
            "error_x": {
             "color": "#2a3f5f"
            },
            "error_y": {
             "color": "#2a3f5f"
            },
            "marker": {
             "line": {
              "color": "white",
              "width": 0.5
             },
             "pattern": {
              "fillmode": "overlay",
              "size": 10,
              "solidity": 0.2
             }
            },
            "type": "bar"
           }
          ],
          "barpolar": [
           {
            "marker": {
             "line": {
              "color": "white",
              "width": 0.5
             },
             "pattern": {
              "fillmode": "overlay",
              "size": 10,
              "solidity": 0.2
             }
            },
            "type": "barpolar"
           }
          ],
          "carpet": [
           {
            "aaxis": {
             "endlinecolor": "#2a3f5f",
             "gridcolor": "#C8D4E3",
             "linecolor": "#C8D4E3",
             "minorgridcolor": "#C8D4E3",
             "startlinecolor": "#2a3f5f"
            },
            "baxis": {
             "endlinecolor": "#2a3f5f",
             "gridcolor": "#C8D4E3",
             "linecolor": "#C8D4E3",
             "minorgridcolor": "#C8D4E3",
             "startlinecolor": "#2a3f5f"
            },
            "type": "carpet"
           }
          ],
          "choropleth": [
           {
            "colorbar": {
             "outlinewidth": 0,
             "ticks": ""
            },
            "type": "choropleth"
           }
          ],
          "contour": [
           {
            "colorbar": {
             "outlinewidth": 0,
             "ticks": ""
            },
            "colorscale": [
             [
              0,
              "#0d0887"
             ],
             [
              0.1111111111111111,
              "#46039f"
             ],
             [
              0.2222222222222222,
              "#7201a8"
             ],
             [
              0.3333333333333333,
              "#9c179e"
             ],
             [
              0.4444444444444444,
              "#bd3786"
             ],
             [
              0.5555555555555556,
              "#d8576b"
             ],
             [
              0.6666666666666666,
              "#ed7953"
             ],
             [
              0.7777777777777778,
              "#fb9f3a"
             ],
             [
              0.8888888888888888,
              "#fdca26"
             ],
             [
              1,
              "#f0f921"
             ]
            ],
            "type": "contour"
           }
          ],
          "contourcarpet": [
           {
            "colorbar": {
             "outlinewidth": 0,
             "ticks": ""
            },
            "type": "contourcarpet"
           }
          ],
          "heatmap": [
           {
            "colorbar": {
             "outlinewidth": 0,
             "ticks": ""
            },
            "colorscale": [
             [
              0,
              "#0d0887"
             ],
             [
              0.1111111111111111,
              "#46039f"
             ],
             [
              0.2222222222222222,
              "#7201a8"
             ],
             [
              0.3333333333333333,
              "#9c179e"
             ],
             [
              0.4444444444444444,
              "#bd3786"
             ],
             [
              0.5555555555555556,
              "#d8576b"
             ],
             [
              0.6666666666666666,
              "#ed7953"
             ],
             [
              0.7777777777777778,
              "#fb9f3a"
             ],
             [
              0.8888888888888888,
              "#fdca26"
             ],
             [
              1,
              "#f0f921"
             ]
            ],
            "type": "heatmap"
           }
          ],
          "histogram": [
           {
            "marker": {
             "pattern": {
              "fillmode": "overlay",
              "size": 10,
              "solidity": 0.2
             }
            },
            "type": "histogram"
           }
          ],
          "histogram2d": [
           {
            "colorbar": {
             "outlinewidth": 0,
             "ticks": ""
            },
            "colorscale": [
             [
              0,
              "#0d0887"
             ],
             [
              0.1111111111111111,
              "#46039f"
             ],
             [
              0.2222222222222222,
              "#7201a8"
             ],
             [
              0.3333333333333333,
              "#9c179e"
             ],
             [
              0.4444444444444444,
              "#bd3786"
             ],
             [
              0.5555555555555556,
              "#d8576b"
             ],
             [
              0.6666666666666666,
              "#ed7953"
             ],
             [
              0.7777777777777778,
              "#fb9f3a"
             ],
             [
              0.8888888888888888,
              "#fdca26"
             ],
             [
              1,
              "#f0f921"
             ]
            ],
            "type": "histogram2d"
           }
          ],
          "histogram2dcontour": [
           {
            "colorbar": {
             "outlinewidth": 0,
             "ticks": ""
            },
            "colorscale": [
             [
              0,
              "#0d0887"
             ],
             [
              0.1111111111111111,
              "#46039f"
             ],
             [
              0.2222222222222222,
              "#7201a8"
             ],
             [
              0.3333333333333333,
              "#9c179e"
             ],
             [
              0.4444444444444444,
              "#bd3786"
             ],
             [
              0.5555555555555556,
              "#d8576b"
             ],
             [
              0.6666666666666666,
              "#ed7953"
             ],
             [
              0.7777777777777778,
              "#fb9f3a"
             ],
             [
              0.8888888888888888,
              "#fdca26"
             ],
             [
              1,
              "#f0f921"
             ]
            ],
            "type": "histogram2dcontour"
           }
          ],
          "mesh3d": [
           {
            "colorbar": {
             "outlinewidth": 0,
             "ticks": ""
            },
            "type": "mesh3d"
           }
          ],
          "parcoords": [
           {
            "line": {
             "colorbar": {
              "outlinewidth": 0,
              "ticks": ""
             }
            },
            "type": "parcoords"
           }
          ],
          "pie": [
           {
            "automargin": true,
            "type": "pie"
           }
          ],
          "scatter": [
           {
            "fillpattern": {
             "fillmode": "overlay",
             "size": 10,
             "solidity": 0.2
            },
            "type": "scatter"
           }
          ],
          "scatter3d": [
           {
            "line": {
             "colorbar": {
              "outlinewidth": 0,
              "ticks": ""
             }
            },
            "marker": {
             "colorbar": {
              "outlinewidth": 0,
              "ticks": ""
             }
            },
            "type": "scatter3d"
           }
          ],
          "scattercarpet": [
           {
            "marker": {
             "colorbar": {
              "outlinewidth": 0,
              "ticks": ""
             }
            },
            "type": "scattercarpet"
           }
          ],
          "scattergeo": [
           {
            "marker": {
             "colorbar": {
              "outlinewidth": 0,
              "ticks": ""
             }
            },
            "type": "scattergeo"
           }
          ],
          "scattergl": [
           {
            "marker": {
             "colorbar": {
              "outlinewidth": 0,
              "ticks": ""
             }
            },
            "type": "scattergl"
           }
          ],
          "scattermap": [
           {
            "marker": {
             "colorbar": {
              "outlinewidth": 0,
              "ticks": ""
             }
            },
            "type": "scattermap"
           }
          ],
          "scattermapbox": [
           {
            "marker": {
             "colorbar": {
              "outlinewidth": 0,
              "ticks": ""
             }
            },
            "type": "scattermapbox"
           }
          ],
          "scatterpolar": [
           {
            "marker": {
             "colorbar": {
              "outlinewidth": 0,
              "ticks": ""
             }
            },
            "type": "scatterpolar"
           }
          ],
          "scatterpolargl": [
           {
            "marker": {
             "colorbar": {
              "outlinewidth": 0,
              "ticks": ""
             }
            },
            "type": "scatterpolargl"
           }
          ],
          "scatterternary": [
           {
            "marker": {
             "colorbar": {
              "outlinewidth": 0,
              "ticks": ""
             }
            },
            "type": "scatterternary"
           }
          ],
          "surface": [
           {
            "colorbar": {
             "outlinewidth": 0,
             "ticks": ""
            },
            "colorscale": [
             [
              0,
              "#0d0887"
             ],
             [
              0.1111111111111111,
              "#46039f"
             ],
             [
              0.2222222222222222,
              "#7201a8"
             ],
             [
              0.3333333333333333,
              "#9c179e"
             ],
             [
              0.4444444444444444,
              "#bd3786"
             ],
             [
              0.5555555555555556,
              "#d8576b"
             ],
             [
              0.6666666666666666,
              "#ed7953"
             ],
             [
              0.7777777777777778,
              "#fb9f3a"
             ],
             [
              0.8888888888888888,
              "#fdca26"
             ],
             [
              1,
              "#f0f921"
             ]
            ],
            "type": "surface"
           }
          ],
          "table": [
           {
            "cells": {
             "fill": {
              "color": "#EBF0F8"
             },
             "line": {
              "color": "white"
             }
            },
            "header": {
             "fill": {
              "color": "#C8D4E3"
             },
             "line": {
              "color": "white"
             }
            },
            "type": "table"
           }
          ]
         },
         "layout": {
          "annotationdefaults": {
           "arrowcolor": "#2a3f5f",
           "arrowhead": 0,
           "arrowwidth": 1
          },
          "autotypenumbers": "strict",
          "coloraxis": {
           "colorbar": {
            "outlinewidth": 0,
            "ticks": ""
           }
          },
          "colorscale": {
           "diverging": [
            [
             0,
             "#8e0152"
            ],
            [
             0.1,
             "#c51b7d"
            ],
            [
             0.2,
             "#de77ae"
            ],
            [
             0.3,
             "#f1b6da"
            ],
            [
             0.4,
             "#fde0ef"
            ],
            [
             0.5,
             "#f7f7f7"
            ],
            [
             0.6,
             "#e6f5d0"
            ],
            [
             0.7,
             "#b8e186"
            ],
            [
             0.8,
             "#7fbc41"
            ],
            [
             0.9,
             "#4d9221"
            ],
            [
             1,
             "#276419"
            ]
           ],
           "sequential": [
            [
             0,
             "#0d0887"
            ],
            [
             0.1111111111111111,
             "#46039f"
            ],
            [
             0.2222222222222222,
             "#7201a8"
            ],
            [
             0.3333333333333333,
             "#9c179e"
            ],
            [
             0.4444444444444444,
             "#bd3786"
            ],
            [
             0.5555555555555556,
             "#d8576b"
            ],
            [
             0.6666666666666666,
             "#ed7953"
            ],
            [
             0.7777777777777778,
             "#fb9f3a"
            ],
            [
             0.8888888888888888,
             "#fdca26"
            ],
            [
             1,
             "#f0f921"
            ]
           ],
           "sequentialminus": [
            [
             0,
             "#0d0887"
            ],
            [
             0.1111111111111111,
             "#46039f"
            ],
            [
             0.2222222222222222,
             "#7201a8"
            ],
            [
             0.3333333333333333,
             "#9c179e"
            ],
            [
             0.4444444444444444,
             "#bd3786"
            ],
            [
             0.5555555555555556,
             "#d8576b"
            ],
            [
             0.6666666666666666,
             "#ed7953"
            ],
            [
             0.7777777777777778,
             "#fb9f3a"
            ],
            [
             0.8888888888888888,
             "#fdca26"
            ],
            [
             1,
             "#f0f921"
            ]
           ]
          },
          "colorway": [
           "#636efa",
           "#EF553B",
           "#00cc96",
           "#ab63fa",
           "#FFA15A",
           "#19d3f3",
           "#FF6692",
           "#B6E880",
           "#FF97FF",
           "#FECB52"
          ],
          "font": {
           "color": "#2a3f5f"
          },
          "geo": {
           "bgcolor": "white",
           "lakecolor": "white",
           "landcolor": "white",
           "showlakes": true,
           "showland": true,
           "subunitcolor": "#C8D4E3"
          },
          "hoverlabel": {
           "align": "left"
          },
          "hovermode": "closest",
          "mapbox": {
           "style": "light"
          },
          "paper_bgcolor": "white",
          "plot_bgcolor": "white",
          "polar": {
           "angularaxis": {
            "gridcolor": "#EBF0F8",
            "linecolor": "#EBF0F8",
            "ticks": ""
           },
           "bgcolor": "white",
           "radialaxis": {
            "gridcolor": "#EBF0F8",
            "linecolor": "#EBF0F8",
            "ticks": ""
           }
          },
          "scene": {
           "xaxis": {
            "backgroundcolor": "white",
            "gridcolor": "#DFE8F3",
            "gridwidth": 2,
            "linecolor": "#EBF0F8",
            "showbackground": true,
            "ticks": "",
            "zerolinecolor": "#EBF0F8"
           },
           "yaxis": {
            "backgroundcolor": "white",
            "gridcolor": "#DFE8F3",
            "gridwidth": 2,
            "linecolor": "#EBF0F8",
            "showbackground": true,
            "ticks": "",
            "zerolinecolor": "#EBF0F8"
           },
           "zaxis": {
            "backgroundcolor": "white",
            "gridcolor": "#DFE8F3",
            "gridwidth": 2,
            "linecolor": "#EBF0F8",
            "showbackground": true,
            "ticks": "",
            "zerolinecolor": "#EBF0F8"
           }
          },
          "shapedefaults": {
           "line": {
            "color": "#2a3f5f"
           }
          },
          "ternary": {
           "aaxis": {
            "gridcolor": "#DFE8F3",
            "linecolor": "#A2B1C6",
            "ticks": ""
           },
           "baxis": {
            "gridcolor": "#DFE8F3",
            "linecolor": "#A2B1C6",
            "ticks": ""
           },
           "bgcolor": "white",
           "caxis": {
            "gridcolor": "#DFE8F3",
            "linecolor": "#A2B1C6",
            "ticks": ""
           }
          },
          "title": {
           "x": 0.05
          },
          "xaxis": {
           "automargin": true,
           "gridcolor": "#EBF0F8",
           "linecolor": "#EBF0F8",
           "ticks": "",
           "title": {
            "standoff": 15
           },
           "zerolinecolor": "#EBF0F8",
           "zerolinewidth": 2
          },
          "yaxis": {
           "automargin": true,
           "gridcolor": "#EBF0F8",
           "linecolor": "#EBF0F8",
           "ticks": "",
           "title": {
            "standoff": 15
           },
           "zerolinecolor": "#EBF0F8",
           "zerolinewidth": 2
          }
         }
        },
        "title": {
         "text": "Importancia de variables (tipo SHAP manual)"
        },
        "width": 1200,
        "xaxis": {
         "title": {
          "text": "Variable"
         }
        },
        "yaxis": {
         "title": {
          "text": "Métrica (mayor = más importante)"
         }
        }
       }
      }
     },
     "metadata": {},
     "output_type": "display_data"
    },
    {
     "name": "stdout",
     "output_type": "stream",
     "text": [
      "🏆 La variable más importante según este análisis es: Avance_Tipo de Explosivo (posición 30)\n",
      "⏩ SHAP manual para TabNet:\n",
      "No se encontró modelo TabNetNetwork_opt.\n",
      "⏩ SHAP manual para MDN:\n",
      "🧪 1/53 Condicionando variable: Cobertura Total, métrica: 0.3965\n",
      "🧪 2/53 Condicionando variable: Cobertura Primario, métrica: 0.3966\n",
      "🧪 3/53 Condicionando variable: Tronadura_Largo de Perforación (m), métrica: 0.3950\n",
      "🧪 4/53 Condicionando variable: Tronadura_N° Tiros, métrica: 0.3958\n",
      "🧪 5/53 Condicionando variable: Tronadura_N° Tiros Real, métrica: 0.3960\n",
      "🧪 6/53 Condicionando variable: Tronadura_Kg. de explosivos tronadura, métrica: 0.3967\n",
      "🧪 7/53 Condicionando variable: Tronadura_Tipo Explosivo, métrica: 0.3966\n",
      "🧪 8/53 Condicionando variable: Destressing_Se realizó, métrica: 0.3961\n",
      "🧪 9/53 Condicionando variable: Destressing_N° Tiros, métrica: 0.3975\n",
      "🧪 10/53 Condicionando variable: Destressing_Kg. de explosivos, métrica: 0.3960\n",
      "🧪 11/53 Condicionando variable: Destressing_Tipo Explosivo, métrica: 0.3966\n",
      "🧪 12/53 Condicionando variable: Geotecnicas_UCS (MPa), métrica: 0.3978\n",
      "🧪 13/53 Condicionando variable: Geotecnicas_Modulo de Young (GPa), métrica: 0.3960\n",
      "🧪 14/53 Condicionando variable: Geotecnicas_Razón Poisson, métrica: 0.3973\n",
      "🧪 15/53 Condicionando variable: Litología, métrica: 0.3965\n",
      "🧪 16/53 Condicionando variable: Fallas_Presencia, métrica: 0.3962\n",
      "🧪 17/53 Condicionando variable: Fallas_Sub-Paralelas, métrica: 0.3959\n",
      "🧪 18/53 Condicionando variable: Estructura, métrica: 0.3966\n",
      "🧪 19/53 Condicionando variable: Estructura Crítica, métrica: 0.3983\n",
      "🧪 20/53 Condicionando variable: Condición de Agua, métrica: 0.3966\n",
      "🧪 21/53 Condicionando variable: GSI_Puntaje, métrica: 0.3965\n",
      "🧪 22/53 Condicionando variable: GSI_Blocosidad, métrica: 0.3965\n",
      "🧪 23/53 Condicionando variable: GSI_Condición Estructuras, métrica: 0.3962\n",
      "🧪 24/53 Condicionando variable: DTM, métrica: 0.3974\n",
      "🧪 25/53 Condicionando variable: Blocosidad_Volumen Total, métrica: 0.3968\n",
      "🧪 26/53 Condicionando variable: Blocosidad_N° Caras, métrica: 0.3963\n",
      "🧪 27/53 Condicionando variable: Blocosidad_Sumatoria Superficie, métrica: 0.3963\n",
      "🧪 28/53 Condicionando variable: Blocosidad_Índice Blocosidad, métrica: 0.3965\n",
      "🧪 29/53 Condicionando variable: Avance_Largo real (m), métrica: 0.3962\n",
      "🧪 30/53 Condicionando variable: Avance_Tipo de Explosivo, métrica: 0.3944\n",
      "🧪 31/53 Condicionando variable: Sobre-excavacion_A (Caja Norte), métrica: 0.3960\n",
      "🧪 32/53 Condicionando variable: Sobre-excavacion_B (Acod. Norte), métrica: 0.3957\n",
      "🧪 33/53 Condicionando variable: Sobre-excavacion_C (Techo), métrica: 0.3961\n",
      "🧪 34/53 Condicionando variable: Sobre-excavacion_D (Acod. Sur), métrica: 0.3964\n",
      "🧪 35/53 Condicionando variable: Sobre-excavacion_E (Caja Sur), métrica: 0.3960\n",
      "🧪 36/53 Condicionando variable: Sobre-excavacion_% Sobre-Excavación, métrica: 0.3965\n",
      "🧪 37/53 Condicionando variable: A (Caja Norte), métrica: 0.3964\n",
      "🧪 38/53 Condicionando variable: B (Acod. Norte), métrica: 0.3966\n",
      "🧪 39/53 Condicionando variable: C (Techo), métrica: 0.3965\n",
      "🧪 40/53 Condicionando variable: D (Acod. Sur), métrica: 0.3971\n",
      "🧪 41/53 Condicionando variable: E (Caja Sur), métrica: 0.3961\n",
      "🧪 42/53 Condicionando variable: Total, métrica: 0.3962\n",
      "🧪 43/53 Condicionando variable: Coordenadas_Norte (m), métrica: 0.3947\n",
      "🧪 44/53 Condicionando variable: Coordenadas_Este (m), métrica: 0.3964\n",
      "🧪 45/53 Condicionando variable: Coordenadas_Cota (m), métrica: 0.3962\n",
      "🧪 46/53 Condicionando variable: Avance Topográfico (m), métrica: 0.3970\n",
      "🧪 47/53 Condicionando variable: Metros Acumulado (m), métrica: 0.3963\n",
      "🧪 48/53 Condicionando variable: Área teórica(m2), métrica: 0.3967\n",
      "🧪 49/53 Condicionando variable: % sobre-excavación, métrica: 0.3964\n",
      "🧪 50/53 Condicionando variable: Volumen excavado (m3), métrica: 0.3969\n",
      "🧪 51/53 Condicionando variable: Tiempo de Ciclo Total (h), métrica: 0.3963\n",
      "🧪 52/53 Condicionando variable: Tiempo Ciclo Acumunado (h), métrica: 0.3958\n",
      "🧪 53/53 Condicionando variable: Tiempo Tronadura, métrica: 0.3965\n"
     ]
    },
    {
     "data": {
      "application/vnd.plotly.v1+json": {
       "config": {
        "plotlyServerURL": "https://plot.ly"
       },
       "data": [
        {
         "marker": {
          "color": "indianred"
         },
         "type": "bar",
         "x": [
          "Cobertura Total",
          "Cobertura Primario",
          "Tronadura_Largo de Perforación (m)",
          "Tronadura_N° Tiros",
          "Tronadura_N° Tiros Real",
          "Tronadura_Kg. de explosivos tronadura",
          "Tronadura_Tipo Explosivo",
          "Destressing_Se realizó",
          "Destressing_N° Tiros",
          "Destressing_Kg. de explosivos",
          "Destressing_Tipo Explosivo",
          "Geotecnicas_UCS (MPa)",
          "Geotecnicas_Modulo de Young (GPa)",
          "Geotecnicas_Razón Poisson",
          "Litología",
          "Fallas_Presencia",
          "Fallas_Sub-Paralelas",
          "Estructura",
          "Estructura Crítica",
          "Condición de Agua",
          "GSI_Puntaje",
          "GSI_Blocosidad",
          "GSI_Condición Estructuras",
          "DTM",
          "Blocosidad_Volumen Total",
          "Blocosidad_N° Caras",
          "Blocosidad_Sumatoria Superficie",
          "Blocosidad_Índice Blocosidad",
          "Avance_Largo real (m)",
          "Avance_Tipo de Explosivo",
          "Sobre-excavacion_A (Caja Norte)",
          "Sobre-excavacion_B (Acod. Norte)",
          "Sobre-excavacion_C (Techo)",
          "Sobre-excavacion_D (Acod. Sur)",
          "Sobre-excavacion_E (Caja Sur)",
          "Sobre-excavacion_% Sobre-Excavación",
          "A (Caja Norte)",
          "B (Acod. Norte)",
          "C (Techo)",
          "D (Acod. Sur)",
          "E (Caja Sur)",
          "Total",
          "Coordenadas_Norte (m)",
          "Coordenadas_Este (m)",
          "Coordenadas_Cota (m)",
          "Avance Topográfico (m)",
          "Metros Acumulado (m)",
          "Área teórica(m2)",
          "% sobre-excavación",
          "Volumen excavado (m3)",
          "Tiempo de Ciclo Total (h)",
          "Tiempo Ciclo Acumunado (h)",
          "Tiempo Tronadura"
         ],
         "y": [
          0.3965320440547479,
          0.3965804976290054,
          0.39496344966443475,
          0.39582164734842246,
          0.3959716696095401,
          0.3966633202723749,
          0.39662808365711627,
          0.396098903015766,
          0.3975113463877413,
          0.3959676025700597,
          0.39662808365711627,
          0.3977887074434911,
          0.39596300254809813,
          0.3973480449619058,
          0.3965183042262718,
          0.39624453818123684,
          0.3958663276366526,
          0.3966184745277265,
          0.3982843990518864,
          0.39659052863860816,
          0.39645978771755497,
          0.3965081433048921,
          0.39618454495522587,
          0.39744567310874535,
          0.3968355051452072,
          0.39626920282626843,
          0.3963171643967028,
          0.3965064094906017,
          0.3961707773294131,
          0.3944312537604718,
          0.3959876096373815,
          0.3957234867118358,
          0.3960547168651334,
          0.3963820652705379,
          0.3959550378103785,
          0.39648963963136435,
          0.396375259392636,
          0.39657212254974067,
          0.3965217958969118,
          0.39709761804470944,
          0.3960762675874553,
          0.39621114171964367,
          0.394676773026638,
          0.39640719774896793,
          0.396234853238113,
          0.39697938663739546,
          0.3963175405157403,
          0.3967135931874516,
          0.39637725886667236,
          0.3968778382543143,
          0.3962541303352181,
          0.3958361912645078,
          0.3965200786960041
         ]
        }
       ],
       "layout": {
        "height": 300,
        "template": {
         "data": {
          "bar": [
           {
            "error_x": {
             "color": "#2a3f5f"
            },
            "error_y": {
             "color": "#2a3f5f"
            },
            "marker": {
             "line": {
              "color": "white",
              "width": 0.5
             },
             "pattern": {
              "fillmode": "overlay",
              "size": 10,
              "solidity": 0.2
             }
            },
            "type": "bar"
           }
          ],
          "barpolar": [
           {
            "marker": {
             "line": {
              "color": "white",
              "width": 0.5
             },
             "pattern": {
              "fillmode": "overlay",
              "size": 10,
              "solidity": 0.2
             }
            },
            "type": "barpolar"
           }
          ],
          "carpet": [
           {
            "aaxis": {
             "endlinecolor": "#2a3f5f",
             "gridcolor": "#C8D4E3",
             "linecolor": "#C8D4E3",
             "minorgridcolor": "#C8D4E3",
             "startlinecolor": "#2a3f5f"
            },
            "baxis": {
             "endlinecolor": "#2a3f5f",
             "gridcolor": "#C8D4E3",
             "linecolor": "#C8D4E3",
             "minorgridcolor": "#C8D4E3",
             "startlinecolor": "#2a3f5f"
            },
            "type": "carpet"
           }
          ],
          "choropleth": [
           {
            "colorbar": {
             "outlinewidth": 0,
             "ticks": ""
            },
            "type": "choropleth"
           }
          ],
          "contour": [
           {
            "colorbar": {
             "outlinewidth": 0,
             "ticks": ""
            },
            "colorscale": [
             [
              0,
              "#0d0887"
             ],
             [
              0.1111111111111111,
              "#46039f"
             ],
             [
              0.2222222222222222,
              "#7201a8"
             ],
             [
              0.3333333333333333,
              "#9c179e"
             ],
             [
              0.4444444444444444,
              "#bd3786"
             ],
             [
              0.5555555555555556,
              "#d8576b"
             ],
             [
              0.6666666666666666,
              "#ed7953"
             ],
             [
              0.7777777777777778,
              "#fb9f3a"
             ],
             [
              0.8888888888888888,
              "#fdca26"
             ],
             [
              1,
              "#f0f921"
             ]
            ],
            "type": "contour"
           }
          ],
          "contourcarpet": [
           {
            "colorbar": {
             "outlinewidth": 0,
             "ticks": ""
            },
            "type": "contourcarpet"
           }
          ],
          "heatmap": [
           {
            "colorbar": {
             "outlinewidth": 0,
             "ticks": ""
            },
            "colorscale": [
             [
              0,
              "#0d0887"
             ],
             [
              0.1111111111111111,
              "#46039f"
             ],
             [
              0.2222222222222222,
              "#7201a8"
             ],
             [
              0.3333333333333333,
              "#9c179e"
             ],
             [
              0.4444444444444444,
              "#bd3786"
             ],
             [
              0.5555555555555556,
              "#d8576b"
             ],
             [
              0.6666666666666666,
              "#ed7953"
             ],
             [
              0.7777777777777778,
              "#fb9f3a"
             ],
             [
              0.8888888888888888,
              "#fdca26"
             ],
             [
              1,
              "#f0f921"
             ]
            ],
            "type": "heatmap"
           }
          ],
          "histogram": [
           {
            "marker": {
             "pattern": {
              "fillmode": "overlay",
              "size": 10,
              "solidity": 0.2
             }
            },
            "type": "histogram"
           }
          ],
          "histogram2d": [
           {
            "colorbar": {
             "outlinewidth": 0,
             "ticks": ""
            },
            "colorscale": [
             [
              0,
              "#0d0887"
             ],
             [
              0.1111111111111111,
              "#46039f"
             ],
             [
              0.2222222222222222,
              "#7201a8"
             ],
             [
              0.3333333333333333,
              "#9c179e"
             ],
             [
              0.4444444444444444,
              "#bd3786"
             ],
             [
              0.5555555555555556,
              "#d8576b"
             ],
             [
              0.6666666666666666,
              "#ed7953"
             ],
             [
              0.7777777777777778,
              "#fb9f3a"
             ],
             [
              0.8888888888888888,
              "#fdca26"
             ],
             [
              1,
              "#f0f921"
             ]
            ],
            "type": "histogram2d"
           }
          ],
          "histogram2dcontour": [
           {
            "colorbar": {
             "outlinewidth": 0,
             "ticks": ""
            },
            "colorscale": [
             [
              0,
              "#0d0887"
             ],
             [
              0.1111111111111111,
              "#46039f"
             ],
             [
              0.2222222222222222,
              "#7201a8"
             ],
             [
              0.3333333333333333,
              "#9c179e"
             ],
             [
              0.4444444444444444,
              "#bd3786"
             ],
             [
              0.5555555555555556,
              "#d8576b"
             ],
             [
              0.6666666666666666,
              "#ed7953"
             ],
             [
              0.7777777777777778,
              "#fb9f3a"
             ],
             [
              0.8888888888888888,
              "#fdca26"
             ],
             [
              1,
              "#f0f921"
             ]
            ],
            "type": "histogram2dcontour"
           }
          ],
          "mesh3d": [
           {
            "colorbar": {
             "outlinewidth": 0,
             "ticks": ""
            },
            "type": "mesh3d"
           }
          ],
          "parcoords": [
           {
            "line": {
             "colorbar": {
              "outlinewidth": 0,
              "ticks": ""
             }
            },
            "type": "parcoords"
           }
          ],
          "pie": [
           {
            "automargin": true,
            "type": "pie"
           }
          ],
          "scatter": [
           {
            "fillpattern": {
             "fillmode": "overlay",
             "size": 10,
             "solidity": 0.2
            },
            "type": "scatter"
           }
          ],
          "scatter3d": [
           {
            "line": {
             "colorbar": {
              "outlinewidth": 0,
              "ticks": ""
             }
            },
            "marker": {
             "colorbar": {
              "outlinewidth": 0,
              "ticks": ""
             }
            },
            "type": "scatter3d"
           }
          ],
          "scattercarpet": [
           {
            "marker": {
             "colorbar": {
              "outlinewidth": 0,
              "ticks": ""
             }
            },
            "type": "scattercarpet"
           }
          ],
          "scattergeo": [
           {
            "marker": {
             "colorbar": {
              "outlinewidth": 0,
              "ticks": ""
             }
            },
            "type": "scattergeo"
           }
          ],
          "scattergl": [
           {
            "marker": {
             "colorbar": {
              "outlinewidth": 0,
              "ticks": ""
             }
            },
            "type": "scattergl"
           }
          ],
          "scattermap": [
           {
            "marker": {
             "colorbar": {
              "outlinewidth": 0,
              "ticks": ""
             }
            },
            "type": "scattermap"
           }
          ],
          "scattermapbox": [
           {
            "marker": {
             "colorbar": {
              "outlinewidth": 0,
              "ticks": ""
             }
            },
            "type": "scattermapbox"
           }
          ],
          "scatterpolar": [
           {
            "marker": {
             "colorbar": {
              "outlinewidth": 0,
              "ticks": ""
             }
            },
            "type": "scatterpolar"
           }
          ],
          "scatterpolargl": [
           {
            "marker": {
             "colorbar": {
              "outlinewidth": 0,
              "ticks": ""
             }
            },
            "type": "scatterpolargl"
           }
          ],
          "scatterternary": [
           {
            "marker": {
             "colorbar": {
              "outlinewidth": 0,
              "ticks": ""
             }
            },
            "type": "scatterternary"
           }
          ],
          "surface": [
           {
            "colorbar": {
             "outlinewidth": 0,
             "ticks": ""
            },
            "colorscale": [
             [
              0,
              "#0d0887"
             ],
             [
              0.1111111111111111,
              "#46039f"
             ],
             [
              0.2222222222222222,
              "#7201a8"
             ],
             [
              0.3333333333333333,
              "#9c179e"
             ],
             [
              0.4444444444444444,
              "#bd3786"
             ],
             [
              0.5555555555555556,
              "#d8576b"
             ],
             [
              0.6666666666666666,
              "#ed7953"
             ],
             [
              0.7777777777777778,
              "#fb9f3a"
             ],
             [
              0.8888888888888888,
              "#fdca26"
             ],
             [
              1,
              "#f0f921"
             ]
            ],
            "type": "surface"
           }
          ],
          "table": [
           {
            "cells": {
             "fill": {
              "color": "#EBF0F8"
             },
             "line": {
              "color": "white"
             }
            },
            "header": {
             "fill": {
              "color": "#C8D4E3"
             },
             "line": {
              "color": "white"
             }
            },
            "type": "table"
           }
          ]
         },
         "layout": {
          "annotationdefaults": {
           "arrowcolor": "#2a3f5f",
           "arrowhead": 0,
           "arrowwidth": 1
          },
          "autotypenumbers": "strict",
          "coloraxis": {
           "colorbar": {
            "outlinewidth": 0,
            "ticks": ""
           }
          },
          "colorscale": {
           "diverging": [
            [
             0,
             "#8e0152"
            ],
            [
             0.1,
             "#c51b7d"
            ],
            [
             0.2,
             "#de77ae"
            ],
            [
             0.3,
             "#f1b6da"
            ],
            [
             0.4,
             "#fde0ef"
            ],
            [
             0.5,
             "#f7f7f7"
            ],
            [
             0.6,
             "#e6f5d0"
            ],
            [
             0.7,
             "#b8e186"
            ],
            [
             0.8,
             "#7fbc41"
            ],
            [
             0.9,
             "#4d9221"
            ],
            [
             1,
             "#276419"
            ]
           ],
           "sequential": [
            [
             0,
             "#0d0887"
            ],
            [
             0.1111111111111111,
             "#46039f"
            ],
            [
             0.2222222222222222,
             "#7201a8"
            ],
            [
             0.3333333333333333,
             "#9c179e"
            ],
            [
             0.4444444444444444,
             "#bd3786"
            ],
            [
             0.5555555555555556,
             "#d8576b"
            ],
            [
             0.6666666666666666,
             "#ed7953"
            ],
            [
             0.7777777777777778,
             "#fb9f3a"
            ],
            [
             0.8888888888888888,
             "#fdca26"
            ],
            [
             1,
             "#f0f921"
            ]
           ],
           "sequentialminus": [
            [
             0,
             "#0d0887"
            ],
            [
             0.1111111111111111,
             "#46039f"
            ],
            [
             0.2222222222222222,
             "#7201a8"
            ],
            [
             0.3333333333333333,
             "#9c179e"
            ],
            [
             0.4444444444444444,
             "#bd3786"
            ],
            [
             0.5555555555555556,
             "#d8576b"
            ],
            [
             0.6666666666666666,
             "#ed7953"
            ],
            [
             0.7777777777777778,
             "#fb9f3a"
            ],
            [
             0.8888888888888888,
             "#fdca26"
            ],
            [
             1,
             "#f0f921"
            ]
           ]
          },
          "colorway": [
           "#636efa",
           "#EF553B",
           "#00cc96",
           "#ab63fa",
           "#FFA15A",
           "#19d3f3",
           "#FF6692",
           "#B6E880",
           "#FF97FF",
           "#FECB52"
          ],
          "font": {
           "color": "#2a3f5f"
          },
          "geo": {
           "bgcolor": "white",
           "lakecolor": "white",
           "landcolor": "white",
           "showlakes": true,
           "showland": true,
           "subunitcolor": "#C8D4E3"
          },
          "hoverlabel": {
           "align": "left"
          },
          "hovermode": "closest",
          "mapbox": {
           "style": "light"
          },
          "paper_bgcolor": "white",
          "plot_bgcolor": "white",
          "polar": {
           "angularaxis": {
            "gridcolor": "#EBF0F8",
            "linecolor": "#EBF0F8",
            "ticks": ""
           },
           "bgcolor": "white",
           "radialaxis": {
            "gridcolor": "#EBF0F8",
            "linecolor": "#EBF0F8",
            "ticks": ""
           }
          },
          "scene": {
           "xaxis": {
            "backgroundcolor": "white",
            "gridcolor": "#DFE8F3",
            "gridwidth": 2,
            "linecolor": "#EBF0F8",
            "showbackground": true,
            "ticks": "",
            "zerolinecolor": "#EBF0F8"
           },
           "yaxis": {
            "backgroundcolor": "white",
            "gridcolor": "#DFE8F3",
            "gridwidth": 2,
            "linecolor": "#EBF0F8",
            "showbackground": true,
            "ticks": "",
            "zerolinecolor": "#EBF0F8"
           },
           "zaxis": {
            "backgroundcolor": "white",
            "gridcolor": "#DFE8F3",
            "gridwidth": 2,
            "linecolor": "#EBF0F8",
            "showbackground": true,
            "ticks": "",
            "zerolinecolor": "#EBF0F8"
           }
          },
          "shapedefaults": {
           "line": {
            "color": "#2a3f5f"
           }
          },
          "ternary": {
           "aaxis": {
            "gridcolor": "#DFE8F3",
            "linecolor": "#A2B1C6",
            "ticks": ""
           },
           "baxis": {
            "gridcolor": "#DFE8F3",
            "linecolor": "#A2B1C6",
            "ticks": ""
           },
           "bgcolor": "white",
           "caxis": {
            "gridcolor": "#DFE8F3",
            "linecolor": "#A2B1C6",
            "ticks": ""
           }
          },
          "title": {
           "x": 0.05
          },
          "xaxis": {
           "automargin": true,
           "gridcolor": "#EBF0F8",
           "linecolor": "#EBF0F8",
           "ticks": "",
           "title": {
            "standoff": 15
           },
           "zerolinecolor": "#EBF0F8",
           "zerolinewidth": 2
          },
          "yaxis": {
           "automargin": true,
           "gridcolor": "#EBF0F8",
           "linecolor": "#EBF0F8",
           "ticks": "",
           "title": {
            "standoff": 15
           },
           "zerolinecolor": "#EBF0F8",
           "zerolinewidth": 2
          }
         }
        },
        "title": {
         "text": "Importancia de variables (tipo SHAP manual)"
        },
        "width": 1200,
        "xaxis": {
         "title": {
          "text": "Variable"
         }
        },
        "yaxis": {
         "title": {
          "text": "Métrica (mayor = más importante)"
         }
        }
       }
      }
     },
     "metadata": {},
     "output_type": "display_data"
    },
    {
     "name": "stdout",
     "output_type": "stream",
     "text": [
      "🏆 La variable más importante según este análisis es: Estructura Crítica (posición 19)\n",
      "⏩ SHAP manual para BayesianNN:\n",
      "Error al ejecutar SHAP manual para BayesianNN: 'NoneType' object has no attribute 'cpu'\n",
      "⏩ SHAP manual para MonteCarloDropout:\n",
      "🧪 1/53 Condicionando variable: Cobertura Total, métrica: 0.0179\n",
      "🧪 2/53 Condicionando variable: Cobertura Primario, métrica: 0.0186\n",
      "🧪 3/53 Condicionando variable: Tronadura_Largo de Perforación (m), métrica: 0.0224\n",
      "🧪 4/53 Condicionando variable: Tronadura_N° Tiros, métrica: 0.0231\n",
      "🧪 5/53 Condicionando variable: Tronadura_N° Tiros Real, métrica: 0.0217\n",
      "🧪 6/53 Condicionando variable: Tronadura_Kg. de explosivos tronadura, métrica: 0.0186\n",
      "🧪 7/53 Condicionando variable: Tronadura_Tipo Explosivo, métrica: 0.0176\n",
      "🧪 8/53 Condicionando variable: Destressing_Se realizó, métrica: 0.0229\n",
      "🧪 9/53 Condicionando variable: Destressing_N° Tiros, métrica: 0.0308\n",
      "🧪 10/53 Condicionando variable: Destressing_Kg. de explosivos, métrica: 0.0235\n",
      "🧪 11/53 Condicionando variable: Destressing_Tipo Explosivo, métrica: 0.0176\n",
      "🧪 12/53 Condicionando variable: Geotecnicas_UCS (MPa), métrica: 0.0254\n",
      "🧪 13/53 Condicionando variable: Geotecnicas_Modulo de Young (GPa), métrica: 0.0294\n",
      "🧪 14/53 Condicionando variable: Geotecnicas_Razón Poisson, métrica: 0.0236\n",
      "🧪 15/53 Condicionando variable: Litología, métrica: 0.0207\n",
      "🧪 16/53 Condicionando variable: Fallas_Presencia, métrica: 0.0285\n",
      "🧪 17/53 Condicionando variable: Fallas_Sub-Paralelas, métrica: 0.0294\n",
      "🧪 18/53 Condicionando variable: Estructura, métrica: 0.0231\n",
      "🧪 19/53 Condicionando variable: Estructura Crítica, métrica: 0.0404\n",
      "🧪 20/53 Condicionando variable: Condición de Agua, métrica: 0.0176\n",
      "🧪 21/53 Condicionando variable: GSI_Puntaje, métrica: 0.0219\n",
      "🧪 22/53 Condicionando variable: GSI_Blocosidad, métrica: 0.0192\n",
      "🧪 23/53 Condicionando variable: GSI_Condición Estructuras, métrica: 0.0295\n",
      "🧪 24/53 Condicionando variable: DTM, métrica: 0.0304\n",
      "🧪 25/53 Condicionando variable: Blocosidad_Volumen Total, métrica: 0.0241\n",
      "🧪 26/53 Condicionando variable: Blocosidad_N° Caras, métrica: 0.0227\n",
      "🧪 27/53 Condicionando variable: Blocosidad_Sumatoria Superficie, métrica: 0.0216\n",
      "🧪 28/53 Condicionando variable: Blocosidad_Índice Blocosidad, métrica: 0.0228\n",
      "🧪 29/53 Condicionando variable: Avance_Largo real (m), métrica: 0.0245\n",
      "🧪 30/53 Condicionando variable: Avance_Tipo de Explosivo, métrica: 0.0434\n",
      "🧪 31/53 Condicionando variable: Sobre-excavacion_A (Caja Norte), métrica: 0.0329\n",
      "🧪 32/53 Condicionando variable: Sobre-excavacion_B (Acod. Norte), métrica: 0.0281\n",
      "🧪 33/53 Condicionando variable: Sobre-excavacion_C (Techo), métrica: 0.0223\n",
      "🧪 34/53 Condicionando variable: Sobre-excavacion_D (Acod. Sur), métrica: 0.0222\n",
      "🧪 35/53 Condicionando variable: Sobre-excavacion_E (Caja Sur), métrica: 0.0279\n",
      "🧪 36/53 Condicionando variable: Sobre-excavacion_% Sobre-Excavación, métrica: 0.0199\n",
      "🧪 37/53 Condicionando variable: A (Caja Norte), métrica: 0.0278\n",
      "🧪 38/53 Condicionando variable: B (Acod. Norte), métrica: 0.0204\n",
      "🧪 39/53 Condicionando variable: C (Techo), métrica: 0.0200\n",
      "🧪 40/53 Condicionando variable: D (Acod. Sur), métrica: 0.0309\n",
      "🧪 41/53 Condicionando variable: E (Caja Sur), métrica: 0.0294\n",
      "🧪 42/53 Condicionando variable: Total, métrica: 0.0214\n",
      "🧪 43/53 Condicionando variable: Coordenadas_Norte (m), métrica: 0.0375\n",
      "🧪 44/53 Condicionando variable: Coordenadas_Este (m), métrica: 0.0282\n",
      "🧪 45/53 Condicionando variable: Coordenadas_Cota (m), métrica: 0.0439\n",
      "🧪 46/53 Condicionando variable: Avance Topográfico (m), métrica: 0.0260\n",
      "🧪 47/53 Condicionando variable: Metros Acumulado (m), métrica: 0.0325\n",
      "🧪 48/53 Condicionando variable: Área teórica(m2), métrica: 0.0325\n",
      "🧪 49/53 Condicionando variable: % sobre-excavación, métrica: 0.0205\n",
      "🧪 50/53 Condicionando variable: Volumen excavado (m3), métrica: 0.0250\n",
      "🧪 51/53 Condicionando variable: Tiempo de Ciclo Total (h), métrica: 0.0306\n",
      "🧪 52/53 Condicionando variable: Tiempo Ciclo Acumunado (h), métrica: 0.0270\n",
      "🧪 53/53 Condicionando variable: Tiempo Tronadura, métrica: 0.0256\n"
     ]
    },
    {
     "name": "stderr",
     "output_type": "stream",
     "text": [
      "Traceback (most recent call last):\n",
      "  File \"C:\\Users\\Michael\\AppData\\Local\\Temp\\ipykernel_22108\\2056070852.py\", line 14, in <module>\n",
      "    run_explainability(\n",
      "    ~~~~~~~~~~~~~~~~~~^\n",
      "        clase_modelo,\n",
      "        ^^^^^^^^^^^^^\n",
      "    ...<7 lines>...\n",
      "        **kwargs  # Esto agrega n_components si corresponde, vacío si no\n",
      "        ^^^^^^^^^^^^^^^^^^^^^^^^^^^^^^^^^^^^^^^^^^^^^^^^^^^^^^^^^^^^^^^^\n",
      "    )\n",
      "    ^\n",
      "  File \"C:\\Users\\Michael\\AppData\\Local\\Temp\\ipykernel_22108\\1874465435.py\", line 35, in run_explainability\n",
      "    importancias = expl.shap(\n",
      "        X=X_train,\n",
      "    ...<5 lines>...\n",
      "        show_info=True\n",
      "    )\n",
      "  File \"C:\\Users\\Michael\\AppData\\Local\\Temp\\ipykernel_22108\\1874465435.py\", line 85, in shap\n",
      "    y_pred = y_pred.cpu().numpy()\n",
      "             ^^^^^^^^^^\n",
      "AttributeError: 'NoneType' object has no attribute 'cpu'\n"
     ]
    },
    {
     "data": {
      "application/vnd.plotly.v1+json": {
       "config": {
        "plotlyServerURL": "https://plot.ly"
       },
       "data": [
        {
         "marker": {
          "color": "indianred"
         },
         "type": "bar",
         "x": [
          "Cobertura Total",
          "Cobertura Primario",
          "Tronadura_Largo de Perforación (m)",
          "Tronadura_N° Tiros",
          "Tronadura_N° Tiros Real",
          "Tronadura_Kg. de explosivos tronadura",
          "Tronadura_Tipo Explosivo",
          "Destressing_Se realizó",
          "Destressing_N° Tiros",
          "Destressing_Kg. de explosivos",
          "Destressing_Tipo Explosivo",
          "Geotecnicas_UCS (MPa)",
          "Geotecnicas_Modulo de Young (GPa)",
          "Geotecnicas_Razón Poisson",
          "Litología",
          "Fallas_Presencia",
          "Fallas_Sub-Paralelas",
          "Estructura",
          "Estructura Crítica",
          "Condición de Agua",
          "GSI_Puntaje",
          "GSI_Blocosidad",
          "GSI_Condición Estructuras",
          "DTM",
          "Blocosidad_Volumen Total",
          "Blocosidad_N° Caras",
          "Blocosidad_Sumatoria Superficie",
          "Blocosidad_Índice Blocosidad",
          "Avance_Largo real (m)",
          "Avance_Tipo de Explosivo",
          "Sobre-excavacion_A (Caja Norte)",
          "Sobre-excavacion_B (Acod. Norte)",
          "Sobre-excavacion_C (Techo)",
          "Sobre-excavacion_D (Acod. Sur)",
          "Sobre-excavacion_E (Caja Sur)",
          "Sobre-excavacion_% Sobre-Excavación",
          "A (Caja Norte)",
          "B (Acod. Norte)",
          "C (Techo)",
          "D (Acod. Sur)",
          "E (Caja Sur)",
          "Total",
          "Coordenadas_Norte (m)",
          "Coordenadas_Este (m)",
          "Coordenadas_Cota (m)",
          "Avance Topográfico (m)",
          "Metros Acumulado (m)",
          "Área teórica(m2)",
          "% sobre-excavación",
          "Volumen excavado (m3)",
          "Tiempo de Ciclo Total (h)",
          "Tiempo Ciclo Acumunado (h)",
          "Tiempo Tronadura"
         ],
         "y": [
          0.017870928979041554,
          0.018645826640312002,
          0.02240857606674696,
          0.02312138740536824,
          0.02173314877194119,
          0.01861804424271986,
          0.017584056869165556,
          0.02290195674168941,
          0.030792190726460916,
          0.023450297798688423,
          0.017584056869165556,
          0.025435450576822605,
          0.029437616966902693,
          0.023582839656494013,
          0.02067247999274963,
          0.028478486942986873,
          0.02939586075769285,
          0.023066554774614577,
          0.04035146723186353,
          0.01761772473916116,
          0.021943669756875055,
          0.019177891039786767,
          0.029494109242275437,
          0.03044973767419903,
          0.024057116705380716,
          0.022683398179455205,
          0.021613008488477258,
          0.022791090157682426,
          0.024541334455877875,
          0.043408140904129436,
          0.03294410892925474,
          0.028056063286932525,
          0.022284099317987784,
          0.022226096981141405,
          0.027876353042269254,
          0.01993044218180681,
          0.02781604975685152,
          0.020431491115972283,
          0.020045803585266746,
          0.030907114286975287,
          0.029398932408659713,
          0.021418318432243757,
          0.03746833929580734,
          0.028183553268410527,
          0.04392024346606587,
          0.02596705092872816,
          0.03246495047318674,
          0.03252593886400199,
          0.020546090863224703,
          0.02495529201005505,
          0.03062695546298287,
          0.026968166111809345,
          0.025648922753844148
         ]
        }
       ],
       "layout": {
        "height": 300,
        "template": {
         "data": {
          "bar": [
           {
            "error_x": {
             "color": "#2a3f5f"
            },
            "error_y": {
             "color": "#2a3f5f"
            },
            "marker": {
             "line": {
              "color": "white",
              "width": 0.5
             },
             "pattern": {
              "fillmode": "overlay",
              "size": 10,
              "solidity": 0.2
             }
            },
            "type": "bar"
           }
          ],
          "barpolar": [
           {
            "marker": {
             "line": {
              "color": "white",
              "width": 0.5
             },
             "pattern": {
              "fillmode": "overlay",
              "size": 10,
              "solidity": 0.2
             }
            },
            "type": "barpolar"
           }
          ],
          "carpet": [
           {
            "aaxis": {
             "endlinecolor": "#2a3f5f",
             "gridcolor": "#C8D4E3",
             "linecolor": "#C8D4E3",
             "minorgridcolor": "#C8D4E3",
             "startlinecolor": "#2a3f5f"
            },
            "baxis": {
             "endlinecolor": "#2a3f5f",
             "gridcolor": "#C8D4E3",
             "linecolor": "#C8D4E3",
             "minorgridcolor": "#C8D4E3",
             "startlinecolor": "#2a3f5f"
            },
            "type": "carpet"
           }
          ],
          "choropleth": [
           {
            "colorbar": {
             "outlinewidth": 0,
             "ticks": ""
            },
            "type": "choropleth"
           }
          ],
          "contour": [
           {
            "colorbar": {
             "outlinewidth": 0,
             "ticks": ""
            },
            "colorscale": [
             [
              0,
              "#0d0887"
             ],
             [
              0.1111111111111111,
              "#46039f"
             ],
             [
              0.2222222222222222,
              "#7201a8"
             ],
             [
              0.3333333333333333,
              "#9c179e"
             ],
             [
              0.4444444444444444,
              "#bd3786"
             ],
             [
              0.5555555555555556,
              "#d8576b"
             ],
             [
              0.6666666666666666,
              "#ed7953"
             ],
             [
              0.7777777777777778,
              "#fb9f3a"
             ],
             [
              0.8888888888888888,
              "#fdca26"
             ],
             [
              1,
              "#f0f921"
             ]
            ],
            "type": "contour"
           }
          ],
          "contourcarpet": [
           {
            "colorbar": {
             "outlinewidth": 0,
             "ticks": ""
            },
            "type": "contourcarpet"
           }
          ],
          "heatmap": [
           {
            "colorbar": {
             "outlinewidth": 0,
             "ticks": ""
            },
            "colorscale": [
             [
              0,
              "#0d0887"
             ],
             [
              0.1111111111111111,
              "#46039f"
             ],
             [
              0.2222222222222222,
              "#7201a8"
             ],
             [
              0.3333333333333333,
              "#9c179e"
             ],
             [
              0.4444444444444444,
              "#bd3786"
             ],
             [
              0.5555555555555556,
              "#d8576b"
             ],
             [
              0.6666666666666666,
              "#ed7953"
             ],
             [
              0.7777777777777778,
              "#fb9f3a"
             ],
             [
              0.8888888888888888,
              "#fdca26"
             ],
             [
              1,
              "#f0f921"
             ]
            ],
            "type": "heatmap"
           }
          ],
          "histogram": [
           {
            "marker": {
             "pattern": {
              "fillmode": "overlay",
              "size": 10,
              "solidity": 0.2
             }
            },
            "type": "histogram"
           }
          ],
          "histogram2d": [
           {
            "colorbar": {
             "outlinewidth": 0,
             "ticks": ""
            },
            "colorscale": [
             [
              0,
              "#0d0887"
             ],
             [
              0.1111111111111111,
              "#46039f"
             ],
             [
              0.2222222222222222,
              "#7201a8"
             ],
             [
              0.3333333333333333,
              "#9c179e"
             ],
             [
              0.4444444444444444,
              "#bd3786"
             ],
             [
              0.5555555555555556,
              "#d8576b"
             ],
             [
              0.6666666666666666,
              "#ed7953"
             ],
             [
              0.7777777777777778,
              "#fb9f3a"
             ],
             [
              0.8888888888888888,
              "#fdca26"
             ],
             [
              1,
              "#f0f921"
             ]
            ],
            "type": "histogram2d"
           }
          ],
          "histogram2dcontour": [
           {
            "colorbar": {
             "outlinewidth": 0,
             "ticks": ""
            },
            "colorscale": [
             [
              0,
              "#0d0887"
             ],
             [
              0.1111111111111111,
              "#46039f"
             ],
             [
              0.2222222222222222,
              "#7201a8"
             ],
             [
              0.3333333333333333,
              "#9c179e"
             ],
             [
              0.4444444444444444,
              "#bd3786"
             ],
             [
              0.5555555555555556,
              "#d8576b"
             ],
             [
              0.6666666666666666,
              "#ed7953"
             ],
             [
              0.7777777777777778,
              "#fb9f3a"
             ],
             [
              0.8888888888888888,
              "#fdca26"
             ],
             [
              1,
              "#f0f921"
             ]
            ],
            "type": "histogram2dcontour"
           }
          ],
          "mesh3d": [
           {
            "colorbar": {
             "outlinewidth": 0,
             "ticks": ""
            },
            "type": "mesh3d"
           }
          ],
          "parcoords": [
           {
            "line": {
             "colorbar": {
              "outlinewidth": 0,
              "ticks": ""
             }
            },
            "type": "parcoords"
           }
          ],
          "pie": [
           {
            "automargin": true,
            "type": "pie"
           }
          ],
          "scatter": [
           {
            "fillpattern": {
             "fillmode": "overlay",
             "size": 10,
             "solidity": 0.2
            },
            "type": "scatter"
           }
          ],
          "scatter3d": [
           {
            "line": {
             "colorbar": {
              "outlinewidth": 0,
              "ticks": ""
             }
            },
            "marker": {
             "colorbar": {
              "outlinewidth": 0,
              "ticks": ""
             }
            },
            "type": "scatter3d"
           }
          ],
          "scattercarpet": [
           {
            "marker": {
             "colorbar": {
              "outlinewidth": 0,
              "ticks": ""
             }
            },
            "type": "scattercarpet"
           }
          ],
          "scattergeo": [
           {
            "marker": {
             "colorbar": {
              "outlinewidth": 0,
              "ticks": ""
             }
            },
            "type": "scattergeo"
           }
          ],
          "scattergl": [
           {
            "marker": {
             "colorbar": {
              "outlinewidth": 0,
              "ticks": ""
             }
            },
            "type": "scattergl"
           }
          ],
          "scattermap": [
           {
            "marker": {
             "colorbar": {
              "outlinewidth": 0,
              "ticks": ""
             }
            },
            "type": "scattermap"
           }
          ],
          "scattermapbox": [
           {
            "marker": {
             "colorbar": {
              "outlinewidth": 0,
              "ticks": ""
             }
            },
            "type": "scattermapbox"
           }
          ],
          "scatterpolar": [
           {
            "marker": {
             "colorbar": {
              "outlinewidth": 0,
              "ticks": ""
             }
            },
            "type": "scatterpolar"
           }
          ],
          "scatterpolargl": [
           {
            "marker": {
             "colorbar": {
              "outlinewidth": 0,
              "ticks": ""
             }
            },
            "type": "scatterpolargl"
           }
          ],
          "scatterternary": [
           {
            "marker": {
             "colorbar": {
              "outlinewidth": 0,
              "ticks": ""
             }
            },
            "type": "scatterternary"
           }
          ],
          "surface": [
           {
            "colorbar": {
             "outlinewidth": 0,
             "ticks": ""
            },
            "colorscale": [
             [
              0,
              "#0d0887"
             ],
             [
              0.1111111111111111,
              "#46039f"
             ],
             [
              0.2222222222222222,
              "#7201a8"
             ],
             [
              0.3333333333333333,
              "#9c179e"
             ],
             [
              0.4444444444444444,
              "#bd3786"
             ],
             [
              0.5555555555555556,
              "#d8576b"
             ],
             [
              0.6666666666666666,
              "#ed7953"
             ],
             [
              0.7777777777777778,
              "#fb9f3a"
             ],
             [
              0.8888888888888888,
              "#fdca26"
             ],
             [
              1,
              "#f0f921"
             ]
            ],
            "type": "surface"
           }
          ],
          "table": [
           {
            "cells": {
             "fill": {
              "color": "#EBF0F8"
             },
             "line": {
              "color": "white"
             }
            },
            "header": {
             "fill": {
              "color": "#C8D4E3"
             },
             "line": {
              "color": "white"
             }
            },
            "type": "table"
           }
          ]
         },
         "layout": {
          "annotationdefaults": {
           "arrowcolor": "#2a3f5f",
           "arrowhead": 0,
           "arrowwidth": 1
          },
          "autotypenumbers": "strict",
          "coloraxis": {
           "colorbar": {
            "outlinewidth": 0,
            "ticks": ""
           }
          },
          "colorscale": {
           "diverging": [
            [
             0,
             "#8e0152"
            ],
            [
             0.1,
             "#c51b7d"
            ],
            [
             0.2,
             "#de77ae"
            ],
            [
             0.3,
             "#f1b6da"
            ],
            [
             0.4,
             "#fde0ef"
            ],
            [
             0.5,
             "#f7f7f7"
            ],
            [
             0.6,
             "#e6f5d0"
            ],
            [
             0.7,
             "#b8e186"
            ],
            [
             0.8,
             "#7fbc41"
            ],
            [
             0.9,
             "#4d9221"
            ],
            [
             1,
             "#276419"
            ]
           ],
           "sequential": [
            [
             0,
             "#0d0887"
            ],
            [
             0.1111111111111111,
             "#46039f"
            ],
            [
             0.2222222222222222,
             "#7201a8"
            ],
            [
             0.3333333333333333,
             "#9c179e"
            ],
            [
             0.4444444444444444,
             "#bd3786"
            ],
            [
             0.5555555555555556,
             "#d8576b"
            ],
            [
             0.6666666666666666,
             "#ed7953"
            ],
            [
             0.7777777777777778,
             "#fb9f3a"
            ],
            [
             0.8888888888888888,
             "#fdca26"
            ],
            [
             1,
             "#f0f921"
            ]
           ],
           "sequentialminus": [
            [
             0,
             "#0d0887"
            ],
            [
             0.1111111111111111,
             "#46039f"
            ],
            [
             0.2222222222222222,
             "#7201a8"
            ],
            [
             0.3333333333333333,
             "#9c179e"
            ],
            [
             0.4444444444444444,
             "#bd3786"
            ],
            [
             0.5555555555555556,
             "#d8576b"
            ],
            [
             0.6666666666666666,
             "#ed7953"
            ],
            [
             0.7777777777777778,
             "#fb9f3a"
            ],
            [
             0.8888888888888888,
             "#fdca26"
            ],
            [
             1,
             "#f0f921"
            ]
           ]
          },
          "colorway": [
           "#636efa",
           "#EF553B",
           "#00cc96",
           "#ab63fa",
           "#FFA15A",
           "#19d3f3",
           "#FF6692",
           "#B6E880",
           "#FF97FF",
           "#FECB52"
          ],
          "font": {
           "color": "#2a3f5f"
          },
          "geo": {
           "bgcolor": "white",
           "lakecolor": "white",
           "landcolor": "white",
           "showlakes": true,
           "showland": true,
           "subunitcolor": "#C8D4E3"
          },
          "hoverlabel": {
           "align": "left"
          },
          "hovermode": "closest",
          "mapbox": {
           "style": "light"
          },
          "paper_bgcolor": "white",
          "plot_bgcolor": "white",
          "polar": {
           "angularaxis": {
            "gridcolor": "#EBF0F8",
            "linecolor": "#EBF0F8",
            "ticks": ""
           },
           "bgcolor": "white",
           "radialaxis": {
            "gridcolor": "#EBF0F8",
            "linecolor": "#EBF0F8",
            "ticks": ""
           }
          },
          "scene": {
           "xaxis": {
            "backgroundcolor": "white",
            "gridcolor": "#DFE8F3",
            "gridwidth": 2,
            "linecolor": "#EBF0F8",
            "showbackground": true,
            "ticks": "",
            "zerolinecolor": "#EBF0F8"
           },
           "yaxis": {
            "backgroundcolor": "white",
            "gridcolor": "#DFE8F3",
            "gridwidth": 2,
            "linecolor": "#EBF0F8",
            "showbackground": true,
            "ticks": "",
            "zerolinecolor": "#EBF0F8"
           },
           "zaxis": {
            "backgroundcolor": "white",
            "gridcolor": "#DFE8F3",
            "gridwidth": 2,
            "linecolor": "#EBF0F8",
            "showbackground": true,
            "ticks": "",
            "zerolinecolor": "#EBF0F8"
           }
          },
          "shapedefaults": {
           "line": {
            "color": "#2a3f5f"
           }
          },
          "ternary": {
           "aaxis": {
            "gridcolor": "#DFE8F3",
            "linecolor": "#A2B1C6",
            "ticks": ""
           },
           "baxis": {
            "gridcolor": "#DFE8F3",
            "linecolor": "#A2B1C6",
            "ticks": ""
           },
           "bgcolor": "white",
           "caxis": {
            "gridcolor": "#DFE8F3",
            "linecolor": "#A2B1C6",
            "ticks": ""
           }
          },
          "title": {
           "x": 0.05
          },
          "xaxis": {
           "automargin": true,
           "gridcolor": "#EBF0F8",
           "linecolor": "#EBF0F8",
           "ticks": "",
           "title": {
            "standoff": 15
           },
           "zerolinecolor": "#EBF0F8",
           "zerolinewidth": 2
          },
          "yaxis": {
           "automargin": true,
           "gridcolor": "#EBF0F8",
           "linecolor": "#EBF0F8",
           "ticks": "",
           "title": {
            "standoff": 15
           },
           "zerolinecolor": "#EBF0F8",
           "zerolinewidth": 2
          }
         }
        },
        "title": {
         "text": "Importancia de variables (tipo SHAP manual)"
        },
        "width": 1200,
        "xaxis": {
         "title": {
          "text": "Variable"
         }
        },
        "yaxis": {
         "title": {
          "text": "Métrica (mayor = más importante)"
         }
        }
       }
      }
     },
     "metadata": {},
     "output_type": "display_data"
    },
    {
     "name": "stdout",
     "output_type": "stream",
     "text": [
      "🏆 La variable más importante según este análisis es: Coordenadas_Cota (m) (posición 45)\n"
     ]
    }
   ],
   "source": [
    "# Lista de modelos y los kwargs específicos de cada uno\n",
    "modelos_explain = [\n",
    "    # (ClaseModelo, nombre en latest_files, kwargs extra)\n",
    "    (FeedForwardNetwork_opt, 'FeedForward', {}),\n",
    "    (TabNetNetwork_opt, 'TabNet', {}),\n",
    "    (MixtureDensityNetworks_opt, 'MDN', {'n_components': 5}),\n",
    "    (BayesianNN_opt, 'BayesianNN', {}),\n",
    "    (MonteCarloDropoutNetwork_opt, 'MonteCarloDropout', {})\n",
    "]\n",
    "\n",
    "for clase_modelo, nombre_archivo, kwargs in modelos_explain:\n",
    "    print(f\"⏩ SHAP manual para {nombre_archivo}:\")\n",
    "    try:\n",
    "        run_explainability(\n",
    "            clase_modelo,\n",
    "            latest_files.get(nombre_archivo),\n",
    "            X_train_np,\n",
    "            y_train_np,\n",
    "            input_vars,\n",
    "            DEVICE,\n",
    "            metric_fn,\n",
    "            hidden_dim,\n",
    "            **kwargs  # Esto agrega n_components si corresponde, vacío si no\n",
    "        )\n",
    "    except Exception as e:\n",
    "        print(f\"Error al ejecutar SHAP manual para {nombre_archivo}: {e}\")\n",
    "        traceback.print_exc()  # Esto imprime el stacktrace completo\n",
    "\n",
    "        continue\n",
    "\n",
    "\n"
   ]
  }
 ],
 "metadata": {
  "kernelspec": {
   "display_name": ".venv",
   "language": "python",
   "name": "python3"
  },
  "language_info": {
   "codemirror_mode": {
    "name": "ipython",
    "version": 3
   },
   "file_extension": ".py",
   "mimetype": "text/x-python",
   "name": "python",
   "nbconvert_exporter": "python",
   "pygments_lexer": "ipython3",
   "version": "3.13.3"
  }
 },
 "nbformat": 4,
 "nbformat_minor": 5
}
