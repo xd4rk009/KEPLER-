{
 "cells": [
  {
   "cell_type": "code",
   "execution_count": null,
   "id": "1e4c0400",
   "metadata": {},
   "outputs": [
    {
     "name": "stderr",
     "output_type": "stream",
     "text": [
      "2025-05-17 13:07:38,480 - INFO - Configuración de logging inicializada correctamente.\n",
      "2025-05-17 13:07:54,924 - INFO - Columnas objetivo actualizadas: ['Mo_cumulative']\n",
      "2025-05-17 13:07:54,925 - INFO - Inicio de la carga de datos.\n",
      "2025-05-17 13:07:54,929 - INFO - Tabla Tabla_Unificada cargada correctamente.\n",
      "2025-05-17 13:07:54,931 - INFO - Tabla Variables_Description cargada correctamente.\n",
      "2025-05-17 13:07:54,936 - INFO - Conexión cerrada.\n",
      "2025-05-17 13:07:54,924 - INFO - Columnas objetivo actualizadas: ['Mo_cumulative']\n",
      "2025-05-17 13:07:54,925 - INFO - Inicio de la carga de datos.\n",
      "2025-05-17 13:07:54,929 - INFO - Tabla Tabla_Unificada cargada correctamente.\n",
      "2025-05-17 13:07:54,931 - INFO - Tabla Variables_Description cargada correctamente.\n",
      "2025-05-17 13:07:54,936 - INFO - Conexión cerrada.\n",
      "2025-05-17 13:07:54,936 - INFO - Datos cargados exitosamente.\n",
      "2025-05-17 13:07:54,937 - INFO - Inicio del preprocesamiento de datos.\n",
      "2025-05-17 13:07:54,947 - INFO - Variables de entrada procesadas: ['Cobertura Total', 'Cobertura Primario', 'Tronadura_Largo de Perforación (m)', 'Tronadura_N° Tiros', 'Tronadura_N° Tiros Real', 'Tronadura_Kg. de explosivos tronadura', 'Tronadura_Tipo Explosivo', 'Destressing_Se realizó', 'Destressing_N° Tiros', 'Destressing_Kg. de explosivos', 'Destressing_Tipo Explosivo', 'Geotecnicas_UCS (MPa)', 'Geotecnicas_Modulo de Young (GPa)', 'Geotecnicas_Razón Poisson', 'Litología', 'Fallas_Presencia', 'Fallas_Sub-Paralelas', 'Estructura', 'Estructura Crítica', 'Condición de Agua', 'GSI_Puntaje', 'GSI_Blocosidad', 'GSI_Condición Estructuras', 'DTM', 'Blocosidad_Volumen Total', 'Blocosidad_N° Caras', 'Blocosidad_Sumatoria Superficie', 'Blocosidad_Índice Blocosidad', 'Avance_Largo real (m)', 'Avance_Tipo de Explosivo', 'Sobre-excavacion_A (Caja Norte)', 'Sobre-excavacion_B (Acod. Norte)', 'Sobre-excavacion_C (Techo)', 'Sobre-excavacion_D (Acod. Sur)', 'Sobre-excavacion_E (Caja Sur)', 'Sobre-excavacion_% Sobre-Excavación', 'A (Caja Norte)', 'B (Acod. Norte)', 'C (Techo)', 'D (Acod. Sur)', 'E (Caja Sur)', 'Total', 'Coordenadas_Norte (m)', 'Coordenadas_Este (m)', 'Coordenadas_Cota (m)', 'Avance Topográfico (m)', 'Metros Acumulado (m)', 'Área teórica(m2)', '% sobre-excavación', 'Volumen excavado (m3)', 'Tiempo de Ciclo Total (h)', 'Tiempo Ciclo Acumunado (h)', 'Tiempo Tronadura']\n",
      "2025-05-17 13:07:54,936 - INFO - Datos cargados exitosamente.\n",
      "2025-05-17 13:07:54,937 - INFO - Inicio del preprocesamiento de datos.\n",
      "2025-05-17 13:07:54,947 - INFO - Variables de entrada procesadas: ['Cobertura Total', 'Cobertura Primario', 'Tronadura_Largo de Perforación (m)', 'Tronadura_N° Tiros', 'Tronadura_N° Tiros Real', 'Tronadura_Kg. de explosivos tronadura', 'Tronadura_Tipo Explosivo', 'Destressing_Se realizó', 'Destressing_N° Tiros', 'Destressing_Kg. de explosivos', 'Destressing_Tipo Explosivo', 'Geotecnicas_UCS (MPa)', 'Geotecnicas_Modulo de Young (GPa)', 'Geotecnicas_Razón Poisson', 'Litología', 'Fallas_Presencia', 'Fallas_Sub-Paralelas', 'Estructura', 'Estructura Crítica', 'Condición de Agua', 'GSI_Puntaje', 'GSI_Blocosidad', 'GSI_Condición Estructuras', 'DTM', 'Blocosidad_Volumen Total', 'Blocosidad_N° Caras', 'Blocosidad_Sumatoria Superficie', 'Blocosidad_Índice Blocosidad', 'Avance_Largo real (m)', 'Avance_Tipo de Explosivo', 'Sobre-excavacion_A (Caja Norte)', 'Sobre-excavacion_B (Acod. Norte)', 'Sobre-excavacion_C (Techo)', 'Sobre-excavacion_D (Acod. Sur)', 'Sobre-excavacion_E (Caja Sur)', 'Sobre-excavacion_% Sobre-Excavación', 'A (Caja Norte)', 'B (Acod. Norte)', 'C (Techo)', 'D (Acod. Sur)', 'E (Caja Sur)', 'Total', 'Coordenadas_Norte (m)', 'Coordenadas_Este (m)', 'Coordenadas_Cota (m)', 'Avance Topográfico (m)', 'Metros Acumulado (m)', 'Área teórica(m2)', '% sobre-excavación', 'Volumen excavado (m3)', 'Tiempo de Ciclo Total (h)', 'Tiempo Ciclo Acumunado (h)', 'Tiempo Tronadura']\n",
      "2025-05-17 13:07:54,948 - INFO - Variables target seleccionadas y transformadas: ['Mo_cumulative']\n",
      "2025-05-17 13:07:54,949 - INFO - Preprocesamiento de datos completado exitosamente.\n",
      "2025-05-17 13:07:54,949 - INFO - Inicio de la normalización de datos.\n",
      "2025-05-17 13:07:54,951 - INFO - Datos de entrada normalizados correctamente.\n",
      "2025-05-17 13:07:54,952 - INFO - Datos de salida normalizados correctamente.\n",
      "2025-05-17 13:07:54,953 - INFO - DataFrame de escalas generado correctamente.\n",
      "2025-05-17 13:07:54,954 - INFO - Normalización de datos completada exitosamente.\n",
      "2025-05-17 13:07:54,948 - INFO - Variables target seleccionadas y transformadas: ['Mo_cumulative']\n",
      "2025-05-17 13:07:54,949 - INFO - Preprocesamiento de datos completado exitosamente.\n",
      "2025-05-17 13:07:54,949 - INFO - Inicio de la normalización de datos.\n",
      "2025-05-17 13:07:54,951 - INFO - Datos de entrada normalizados correctamente.\n",
      "2025-05-17 13:07:54,952 - INFO - Datos de salida normalizados correctamente.\n",
      "2025-05-17 13:07:54,953 - INFO - DataFrame de escalas generado correctamente.\n",
      "2025-05-17 13:07:54,954 - INFO - Normalización de datos completada exitosamente.\n"
     ]
    },
    {
     "name": "stdout",
     "output_type": "stream",
     "text": [
      "🔗 Conexión establecida con data/Tronaduras_vs_Sismicidad.db\n",
      "✅ Datos leídos desde 'Processed_Data.Tabla_Unificada' y convertidos a DataFrame.\n",
      "✅ Datos leídos desde 'Raw_Data.Variables_Description' y convertidos a DataFrame.\n",
      "🔌 Conexión cerrada manualmente.\n",
      "[2025-05-17 13:07:54] 🚀 [TabNet] Entrenando red...\n"
     ]
    },
    {
     "name": "stderr",
     "output_type": "stream",
     "text": [
      "d:\\Investigacion_Proyectos\\Proyectos\\Tronaduras y Sismicidad - Teniente\\Python\\.venv\\Lib\\site-packages\\pytorch_tabnet\\abstract_model.py:82: UserWarning: Device used : cuda\n",
      "  warnings.warn(f\"Device used : {self.device}\")\n",
      "d:\\Investigacion_Proyectos\\Proyectos\\Tronaduras y Sismicidad - Teniente\\Python\\.venv\\Lib\\site-packages\\pytorch_tabnet\\abstract_model.py:687: UserWarning: No early stopping will be performed, last training weights will be used.\n",
      "  warnings.warn(wrn_msg)\n",
      "d:\\Investigacion_Proyectos\\Proyectos\\Tronaduras y Sismicidad - Teniente\\Python\\.venv\\Lib\\site-packages\\pytorch_tabnet\\abstract_model.py:687: UserWarning: No early stopping will be performed, last training weights will be used.\n",
      "  warnings.warn(wrn_msg)\n"
     ]
    },
    {
     "name": "stdout",
     "output_type": "stream",
     "text": [
      "epoch 0  | loss: 7.65681 | validación_rmse: 0.47712 |  0:00:00s\n",
      "[2025-05-17 13:07:56] 🔄 [TabNet] 📈 Epoch 1: Train Loss = 0.4869 | Val Loss = 0.4771\n",
      "epoch 0  | loss: 7.65681 | validación_rmse: 0.47712 |  0:00:00s\n",
      "[2025-05-17 13:07:56] 🔄 [TabNet] 📈 Epoch 2: Train Loss = 0.4869 | Val Loss = 0.4771\n",
      "epoch 0  | loss: 7.65681 | validación_rmse: 0.47712 |  0:00:00s\n"
     ]
    },
    {
     "name": "stderr",
     "output_type": "stream",
     "text": [
      "d:\\Investigacion_Proyectos\\Proyectos\\Tronaduras y Sismicidad - Teniente\\Python\\.venv\\Lib\\site-packages\\pytorch_tabnet\\abstract_model.py:687: UserWarning: No early stopping will be performed, last training weights will be used.\n",
      "  warnings.warn(wrn_msg)\n",
      "d:\\Investigacion_Proyectos\\Proyectos\\Tronaduras y Sismicidad - Teniente\\Python\\.venv\\Lib\\site-packages\\pytorch_tabnet\\abstract_model.py:687: UserWarning: No early stopping will be performed, last training weights will be used.\n",
      "  warnings.warn(wrn_msg)\n",
      "d:\\Investigacion_Proyectos\\Proyectos\\Tronaduras y Sismicidad - Teniente\\Python\\.venv\\Lib\\site-packages\\pytorch_tabnet\\abstract_model.py:687: UserWarning: No early stopping will be performed, last training weights will be used.\n",
      "  warnings.warn(wrn_msg)\n"
     ]
    },
    {
     "name": "stdout",
     "output_type": "stream",
     "text": [
      "[2025-05-17 13:07:56] 🔄 [TabNet] 📈 Epoch 3: Train Loss = 0.4869 | Val Loss = 0.4771\n",
      "epoch 0  | loss: 7.65681 | validación_rmse: 0.47712 |  0:00:00s\n",
      "[2025-05-17 13:07:56] 🔄 [TabNet] 📈 Epoch 4: Train Loss = 0.4869 | Val Loss = 0.4771\n",
      "epoch 0  | loss: 7.65681 | validación_rmse: 0.47712 |  0:00:00s\n"
     ]
    },
    {
     "name": "stderr",
     "output_type": "stream",
     "text": [
      "d:\\Investigacion_Proyectos\\Proyectos\\Tronaduras y Sismicidad - Teniente\\Python\\.venv\\Lib\\site-packages\\pytorch_tabnet\\abstract_model.py:687: UserWarning: No early stopping will be performed, last training weights will be used.\n",
      "  warnings.warn(wrn_msg)\n",
      "d:\\Investigacion_Proyectos\\Proyectos\\Tronaduras y Sismicidad - Teniente\\Python\\.venv\\Lib\\site-packages\\pytorch_tabnet\\abstract_model.py:687: UserWarning: No early stopping will be performed, last training weights will be used.\n",
      "  warnings.warn(wrn_msg)\n"
     ]
    },
    {
     "name": "stdout",
     "output_type": "stream",
     "text": [
      "[2025-05-17 13:07:56] 🔄 [TabNet] 📈 Epoch 5: Train Loss = 0.4869 | Val Loss = 0.4771\n",
      "epoch 0  | loss: 7.65681 | validación_rmse: 0.47712 |  0:00:00s\n",
      "[2025-05-17 13:07:56] 🔄 [TabNet] 📈 Epoch 6: Train Loss = 0.4869 | Val Loss = 0.4771\n",
      "epoch 0  | loss: 7.65681 | validación_rmse: 0.47712 |  0:00:00s\n"
     ]
    },
    {
     "name": "stderr",
     "output_type": "stream",
     "text": [
      "d:\\Investigacion_Proyectos\\Proyectos\\Tronaduras y Sismicidad - Teniente\\Python\\.venv\\Lib\\site-packages\\pytorch_tabnet\\abstract_model.py:687: UserWarning: No early stopping will be performed, last training weights will be used.\n",
      "  warnings.warn(wrn_msg)\n",
      "d:\\Investigacion_Proyectos\\Proyectos\\Tronaduras y Sismicidad - Teniente\\Python\\.venv\\Lib\\site-packages\\pytorch_tabnet\\abstract_model.py:687: UserWarning: No early stopping will be performed, last training weights will be used.\n",
      "  warnings.warn(wrn_msg)\n",
      "d:\\Investigacion_Proyectos\\Proyectos\\Tronaduras y Sismicidad - Teniente\\Python\\.venv\\Lib\\site-packages\\pytorch_tabnet\\abstract_model.py:687: UserWarning: No early stopping will be performed, last training weights will be used.\n",
      "  warnings.warn(wrn_msg)\n"
     ]
    },
    {
     "name": "stdout",
     "output_type": "stream",
     "text": [
      "[2025-05-17 13:07:56] 🔄 [TabNet] 📈 Epoch 7: Train Loss = 0.4869 | Val Loss = 0.4771\n",
      "epoch 0  | loss: 7.65681 | validación_rmse: 0.47712 |  0:00:00s\n",
      "[2025-05-17 13:07:56] 🔄 [TabNet] 📈 Epoch 8: Train Loss = 0.4869 | Val Loss = 0.4771\n",
      "epoch 0  | loss: 7.65681 | validación_rmse: 0.47712 |  0:00:00s\n",
      "[2025-05-17 13:07:56] 🔄 [TabNet] 📈 Epoch 9: Train Loss = 0.4869 | Val Loss = 0.4771\n",
      "epoch 0  | loss: 7.65681 | validación_rmse: 0.47712 |  0:00:00s\n",
      "[2025-05-17 13:07:57] 🔄 [TabNet] 📈 Epoch 10: Train Loss = 0.4869 | Val Loss = 0.4771\n",
      "epoch 0  | loss: 7.65681 | validación_rmse: 0.47712 |  0:00:00s\n",
      "[2025-05-17 13:07:56] 🔄 [TabNet] 📈 Epoch 9: Train Loss = 0.4869 | Val Loss = 0.4771\n",
      "epoch 0  | loss: 7.65681 | validación_rmse: 0.47712 |  0:00:00s\n",
      "[2025-05-17 13:07:57] 🔄 [TabNet] 📈 Epoch 10: Train Loss = 0.4869 | Val Loss = 0.4771\n",
      "epoch 0  | loss: 7.65681 | validación_rmse: 0.47712 |  0:00:00s\n"
     ]
    },
    {
     "name": "stderr",
     "output_type": "stream",
     "text": [
      "d:\\Investigacion_Proyectos\\Proyectos\\Tronaduras y Sismicidad - Teniente\\Python\\.venv\\Lib\\site-packages\\pytorch_tabnet\\abstract_model.py:687: UserWarning: No early stopping will be performed, last training weights will be used.\n",
      "  warnings.warn(wrn_msg)\n",
      "d:\\Investigacion_Proyectos\\Proyectos\\Tronaduras y Sismicidad - Teniente\\Python\\.venv\\Lib\\site-packages\\pytorch_tabnet\\abstract_model.py:687: UserWarning: No early stopping will be performed, last training weights will be used.\n",
      "  warnings.warn(wrn_msg)\n"
     ]
    },
    {
     "name": "stdout",
     "output_type": "stream",
     "text": [
      "[2025-05-17 13:07:57] 🔄 [TabNet] 📈 Epoch 11: Train Loss = 0.4869 | Val Loss = 0.4771\n",
      "epoch 0  | loss: 7.65681 | validación_rmse: 0.47712 |  0:00:00s\n",
      "[2025-05-17 13:07:57] 🔄 [TabNet] 📈 Epoch 12: Train Loss = 0.4869 | Val Loss = 0.4771\n",
      "epoch 0  | loss: 7.65681 | validación_rmse: 0.47712 |  0:00:00s\n",
      "[2025-05-17 13:07:57] 🔄 [TabNet] 📈 Epoch 13: Train Loss = 0.4869 | Val Loss = 0.4771\n"
     ]
    },
    {
     "name": "stderr",
     "output_type": "stream",
     "text": [
      "d:\\Investigacion_Proyectos\\Proyectos\\Tronaduras y Sismicidad - Teniente\\Python\\.venv\\Lib\\site-packages\\pytorch_tabnet\\abstract_model.py:687: UserWarning: No early stopping will be performed, last training weights will be used.\n",
      "  warnings.warn(wrn_msg)\n",
      "d:\\Investigacion_Proyectos\\Proyectos\\Tronaduras y Sismicidad - Teniente\\Python\\.venv\\Lib\\site-packages\\pytorch_tabnet\\abstract_model.py:687: UserWarning: No early stopping will be performed, last training weights will be used.\n",
      "  warnings.warn(wrn_msg)\n",
      "d:\\Investigacion_Proyectos\\Proyectos\\Tronaduras y Sismicidad - Teniente\\Python\\.venv\\Lib\\site-packages\\pytorch_tabnet\\abstract_model.py:687: UserWarning: No early stopping will be performed, last training weights will be used.\n",
      "  warnings.warn(wrn_msg)\n"
     ]
    },
    {
     "name": "stdout",
     "output_type": "stream",
     "text": [
      "epoch 0  | loss: 7.65681 | validación_rmse: 0.47712 |  0:00:00s\n",
      "[2025-05-17 13:07:57] 🔄 [TabNet] 📈 Epoch 14: Train Loss = 0.4869 | Val Loss = 0.4771\n",
      "epoch 0  | loss: 7.65681 | validación_rmse: 0.47712 |  0:00:00s\n",
      "[2025-05-17 13:07:57] 🔄 [TabNet] 📈 Epoch 15: Train Loss = 0.4869 | Val Loss = 0.4771\n",
      "epoch 0  | loss: 7.65681 | validación_rmse: 0.47712 |  0:00:00s\n"
     ]
    },
    {
     "name": "stderr",
     "output_type": "stream",
     "text": [
      "d:\\Investigacion_Proyectos\\Proyectos\\Tronaduras y Sismicidad - Teniente\\Python\\.venv\\Lib\\site-packages\\pytorch_tabnet\\abstract_model.py:687: UserWarning: No early stopping will be performed, last training weights will be used.\n",
      "  warnings.warn(wrn_msg)\n",
      "d:\\Investigacion_Proyectos\\Proyectos\\Tronaduras y Sismicidad - Teniente\\Python\\.venv\\Lib\\site-packages\\pytorch_tabnet\\abstract_model.py:687: UserWarning: No early stopping will be performed, last training weights will be used.\n",
      "  warnings.warn(wrn_msg)\n",
      "d:\\Investigacion_Proyectos\\Proyectos\\Tronaduras y Sismicidad - Teniente\\Python\\.venv\\Lib\\site-packages\\pytorch_tabnet\\abstract_model.py:687: UserWarning: No early stopping will be performed, last training weights will be used.\n",
      "  warnings.warn(wrn_msg)\n"
     ]
    },
    {
     "name": "stdout",
     "output_type": "stream",
     "text": [
      "[2025-05-17 13:07:57] 🔄 [TabNet] 📈 Epoch 16: Train Loss = 0.4869 | Val Loss = 0.4771\n",
      "epoch 0  | loss: 7.65681 | validación_rmse: 0.47712 |  0:00:00s\n",
      "[2025-05-17 13:07:57] 🔄 [TabNet] 📈 Epoch 17: Train Loss = 0.4869 | Val Loss = 0.4771\n",
      "epoch 0  | loss: 7.65681 | validación_rmse: 0.47712 |  0:00:00s\n",
      "[2025-05-17 13:07:57] 🔄 [TabNet] 📈 Epoch 18: Train Loss = 0.4869 | Val Loss = 0.4771\n"
     ]
    },
    {
     "name": "stderr",
     "output_type": "stream",
     "text": [
      "d:\\Investigacion_Proyectos\\Proyectos\\Tronaduras y Sismicidad - Teniente\\Python\\.venv\\Lib\\site-packages\\pytorch_tabnet\\abstract_model.py:687: UserWarning: No early stopping will be performed, last training weights will be used.\n",
      "  warnings.warn(wrn_msg)\n",
      "d:\\Investigacion_Proyectos\\Proyectos\\Tronaduras y Sismicidad - Teniente\\Python\\.venv\\Lib\\site-packages\\pytorch_tabnet\\abstract_model.py:687: UserWarning: No early stopping will be performed, last training weights will be used.\n",
      "  warnings.warn(wrn_msg)\n",
      "d:\\Investigacion_Proyectos\\Proyectos\\Tronaduras y Sismicidad - Teniente\\Python\\.venv\\Lib\\site-packages\\pytorch_tabnet\\abstract_model.py:687: UserWarning: No early stopping will be performed, last training weights will be used.\n",
      "  warnings.warn(wrn_msg)\n"
     ]
    },
    {
     "name": "stdout",
     "output_type": "stream",
     "text": [
      "epoch 0  | loss: 7.65681 | validación_rmse: 0.47712 |  0:00:00s\n",
      "[2025-05-17 13:07:57] 🔄 [TabNet] 📈 Epoch 19: Train Loss = 0.4869 | Val Loss = 0.4771\n",
      "epoch 0  | loss: 7.65681 | validación_rmse: 0.47712 |  0:00:00s\n",
      "[2025-05-17 13:07:58] 🔄 [TabNet] 📈 Epoch 20: Train Loss = 0.4869 | Val Loss = 0.4771\n",
      "epoch 0  | loss: 7.65681 | validación_rmse: 0.47712 |  0:00:00s\n"
     ]
    },
    {
     "name": "stderr",
     "output_type": "stream",
     "text": [
      "d:\\Investigacion_Proyectos\\Proyectos\\Tronaduras y Sismicidad - Teniente\\Python\\.venv\\Lib\\site-packages\\pytorch_tabnet\\abstract_model.py:687: UserWarning: No early stopping will be performed, last training weights will be used.\n",
      "  warnings.warn(wrn_msg)\n",
      "d:\\Investigacion_Proyectos\\Proyectos\\Tronaduras y Sismicidad - Teniente\\Python\\.venv\\Lib\\site-packages\\pytorch_tabnet\\abstract_model.py:687: UserWarning: No early stopping will be performed, last training weights will be used.\n",
      "  warnings.warn(wrn_msg)\n",
      "d:\\Investigacion_Proyectos\\Proyectos\\Tronaduras y Sismicidad - Teniente\\Python\\.venv\\Lib\\site-packages\\pytorch_tabnet\\abstract_model.py:687: UserWarning: No early stopping will be performed, last training weights will be used.\n",
      "  warnings.warn(wrn_msg)\n"
     ]
    },
    {
     "name": "stdout",
     "output_type": "stream",
     "text": [
      "[2025-05-17 13:07:58] 🔄 [TabNet] 📈 Epoch 21: Train Loss = 0.4869 | Val Loss = 0.4771\n",
      "epoch 0  | loss: 7.65681 | validación_rmse: 0.47712 |  0:00:00s\n",
      "[2025-05-17 13:07:58] 🔄 [TabNet] 📈 Epoch 22: Train Loss = 0.4869 | Val Loss = 0.4771\n",
      "epoch 0  | loss: 7.65681 | validación_rmse: 0.47712 |  0:00:00s\n",
      "[2025-05-17 13:07:58] 🔄 [TabNet] 📈 Epoch 23: Train Loss = 0.4869 | Val Loss = 0.4771\n"
     ]
    },
    {
     "name": "stderr",
     "output_type": "stream",
     "text": [
      "d:\\Investigacion_Proyectos\\Proyectos\\Tronaduras y Sismicidad - Teniente\\Python\\.venv\\Lib\\site-packages\\pytorch_tabnet\\abstract_model.py:687: UserWarning: No early stopping will be performed, last training weights will be used.\n",
      "  warnings.warn(wrn_msg)\n",
      "d:\\Investigacion_Proyectos\\Proyectos\\Tronaduras y Sismicidad - Teniente\\Python\\.venv\\Lib\\site-packages\\pytorch_tabnet\\abstract_model.py:687: UserWarning: No early stopping will be performed, last training weights will be used.\n",
      "  warnings.warn(wrn_msg)\n",
      "d:\\Investigacion_Proyectos\\Proyectos\\Tronaduras y Sismicidad - Teniente\\Python\\.venv\\Lib\\site-packages\\pytorch_tabnet\\abstract_model.py:687: UserWarning: No early stopping will be performed, last training weights will be used.\n",
      "  warnings.warn(wrn_msg)\n"
     ]
    },
    {
     "name": "stdout",
     "output_type": "stream",
     "text": [
      "epoch 0  | loss: 7.65681 | validación_rmse: 0.47712 |  0:00:00s\n",
      "[2025-05-17 13:07:58] 🔄 [TabNet] 📈 Epoch 24: Train Loss = 0.4869 | Val Loss = 0.4771\n",
      "epoch 0  | loss: 7.65681 | validación_rmse: 0.47712 |  0:00:00s\n",
      "[2025-05-17 13:07:58] 🔄 [TabNet] 📈 Epoch 25: Train Loss = 0.4869 | Val Loss = 0.4771\n",
      "epoch 0  | loss: 7.65681 | validación_rmse: 0.47712 |  0:00:00s\n",
      "[2025-05-17 13:07:58] 🔄 [TabNet] 📈 Epoch 26: Train Loss = 0.4869 | Val Loss = 0.4771\n",
      "epoch 0  | loss: 7.65681 | validación_rmse: 0.47712 |  0:00:00s\n",
      "[2025-05-17 13:07:58] 🔄 [TabNet] 📈 Epoch 27: Train Loss = 0.4869 | Val Loss = 0.4771\n",
      "epoch 0  | loss: 7.65681 | validación_rmse: 0.47712 |  0:00:00s\n",
      "[2025-05-17 13:07:58] 🔄 [TabNet] 📈 Epoch 28: Train Loss = 0.4869 | Val Loss = 0.4771\n",
      "[2025-05-17 13:07:58] 🔄 [TabNet] 📈 Epoch 26: Train Loss = 0.4869 | Val Loss = 0.4771\n",
      "epoch 0  | loss: 7.65681 | validación_rmse: 0.47712 |  0:00:00s\n",
      "[2025-05-17 13:07:58] 🔄 [TabNet] 📈 Epoch 27: Train Loss = 0.4869 | Val Loss = 0.4771\n",
      "epoch 0  | loss: 7.65681 | validación_rmse: 0.47712 |  0:00:00s\n",
      "[2025-05-17 13:07:58] 🔄 [TabNet] 📈 Epoch 28: Train Loss = 0.4869 | Val Loss = 0.4771\n"
     ]
    },
    {
     "name": "stderr",
     "output_type": "stream",
     "text": [
      "d:\\Investigacion_Proyectos\\Proyectos\\Tronaduras y Sismicidad - Teniente\\Python\\.venv\\Lib\\site-packages\\pytorch_tabnet\\abstract_model.py:687: UserWarning: No early stopping will be performed, last training weights will be used.\n",
      "  warnings.warn(wrn_msg)\n",
      "d:\\Investigacion_Proyectos\\Proyectos\\Tronaduras y Sismicidad - Teniente\\Python\\.venv\\Lib\\site-packages\\pytorch_tabnet\\abstract_model.py:687: UserWarning: No early stopping will be performed, last training weights will be used.\n",
      "  warnings.warn(wrn_msg)\n",
      "d:\\Investigacion_Proyectos\\Proyectos\\Tronaduras y Sismicidad - Teniente\\Python\\.venv\\Lib\\site-packages\\pytorch_tabnet\\abstract_model.py:687: UserWarning: No early stopping will be performed, last training weights will be used.\n",
      "  warnings.warn(wrn_msg)\n"
     ]
    },
    {
     "name": "stdout",
     "output_type": "stream",
     "text": [
      "epoch 0  | loss: 7.65681 | validación_rmse: 0.47712 |  0:00:00s\n",
      "[2025-05-17 13:07:58] 🔄 [TabNet] 📈 Epoch 29: Train Loss = 0.4869 | Val Loss = 0.4771\n",
      "epoch 0  | loss: 7.65681 | validación_rmse: 0.47712 |  0:00:00s\n",
      "[2025-05-17 13:07:58] 🔄 [TabNet] 📈 Epoch 30: Train Loss = 0.4869 | Val Loss = 0.4771\n",
      "epoch 0  | loss: 7.65681 | validación_rmse: 0.47712 |  0:00:00s\n"
     ]
    },
    {
     "name": "stderr",
     "output_type": "stream",
     "text": [
      "d:\\Investigacion_Proyectos\\Proyectos\\Tronaduras y Sismicidad - Teniente\\Python\\.venv\\Lib\\site-packages\\pytorch_tabnet\\abstract_model.py:687: UserWarning: No early stopping will be performed, last training weights will be used.\n",
      "  warnings.warn(wrn_msg)\n",
      "d:\\Investigacion_Proyectos\\Proyectos\\Tronaduras y Sismicidad - Teniente\\Python\\.venv\\Lib\\site-packages\\pytorch_tabnet\\abstract_model.py:687: UserWarning: No early stopping will be performed, last training weights will be used.\n",
      "  warnings.warn(wrn_msg)\n",
      "d:\\Investigacion_Proyectos\\Proyectos\\Tronaduras y Sismicidad - Teniente\\Python\\.venv\\Lib\\site-packages\\pytorch_tabnet\\abstract_model.py:687: UserWarning: No early stopping will be performed, last training weights will be used.\n",
      "  warnings.warn(wrn_msg)\n"
     ]
    },
    {
     "name": "stdout",
     "output_type": "stream",
     "text": [
      "[2025-05-17 13:07:59] 🔄 [TabNet] 📈 Epoch 31: Train Loss = 0.4869 | Val Loss = 0.4771\n",
      "epoch 0  | loss: 7.65681 | validación_rmse: 0.47712 |  0:00:00s\n",
      "[2025-05-17 13:07:59] 🔄 [TabNet] 📈 Epoch 32: Train Loss = 0.4869 | Val Loss = 0.4771\n",
      "epoch 0  | loss: 7.65681 | validación_rmse: 0.47712 |  0:00:00s\n"
     ]
    },
    {
     "name": "stderr",
     "output_type": "stream",
     "text": [
      "d:\\Investigacion_Proyectos\\Proyectos\\Tronaduras y Sismicidad - Teniente\\Python\\.venv\\Lib\\site-packages\\pytorch_tabnet\\abstract_model.py:687: UserWarning: No early stopping will be performed, last training weights will be used.\n",
      "  warnings.warn(wrn_msg)\n",
      "d:\\Investigacion_Proyectos\\Proyectos\\Tronaduras y Sismicidad - Teniente\\Python\\.venv\\Lib\\site-packages\\pytorch_tabnet\\abstract_model.py:687: UserWarning: No early stopping will be performed, last training weights will be used.\n",
      "  warnings.warn(wrn_msg)\n",
      "d:\\Investigacion_Proyectos\\Proyectos\\Tronaduras y Sismicidad - Teniente\\Python\\.venv\\Lib\\site-packages\\pytorch_tabnet\\abstract_model.py:687: UserWarning: No early stopping will be performed, last training weights will be used.\n",
      "  warnings.warn(wrn_msg)\n"
     ]
    },
    {
     "name": "stdout",
     "output_type": "stream",
     "text": [
      "[2025-05-17 13:07:59] 🔄 [TabNet] 📈 Epoch 33: Train Loss = 0.4869 | Val Loss = 0.4771\n",
      "epoch 0  | loss: 7.65681 | validación_rmse: 0.47712 |  0:00:00s\n",
      "[2025-05-17 13:07:59] 🔄 [TabNet] 📈 Epoch 34: Train Loss = 0.4869 | Val Loss = 0.4771\n",
      "epoch 0  | loss: 7.65681 | validación_rmse: 0.47712 |  0:00:00s\n",
      "[2025-05-17 13:07:59] 🔄 [TabNet] 📈 Epoch 35: Train Loss = 0.4869 | Val Loss = 0.4771\n",
      "epoch 0  | loss: 7.65681 | validación_rmse: 0.47712 |  0:00:00s\n",
      "[2025-05-17 13:07:59] 🔄 [TabNet] 📈 Epoch 36: Train Loss = 0.4869 | Val Loss = 0.4771\n",
      "epoch 0  | loss: 7.65681 | validación_rmse: 0.47712 |  0:00:00s\n",
      "[2025-05-17 13:07:59] 🔄 [TabNet] 📈 Epoch 37: Train Loss = 0.4869 | Val Loss = 0.4771\n",
      "[2025-05-17 13:07:59] 🔄 [TabNet] 📈 Epoch 35: Train Loss = 0.4869 | Val Loss = 0.4771\n",
      "epoch 0  | loss: 7.65681 | validación_rmse: 0.47712 |  0:00:00s\n",
      "[2025-05-17 13:07:59] 🔄 [TabNet] 📈 Epoch 36: Train Loss = 0.4869 | Val Loss = 0.4771\n",
      "epoch 0  | loss: 7.65681 | validación_rmse: 0.47712 |  0:00:00s\n",
      "[2025-05-17 13:07:59] 🔄 [TabNet] 📈 Epoch 37: Train Loss = 0.4869 | Val Loss = 0.4771\n"
     ]
    },
    {
     "name": "stderr",
     "output_type": "stream",
     "text": [
      "d:\\Investigacion_Proyectos\\Proyectos\\Tronaduras y Sismicidad - Teniente\\Python\\.venv\\Lib\\site-packages\\pytorch_tabnet\\abstract_model.py:687: UserWarning: No early stopping will be performed, last training weights will be used.\n",
      "  warnings.warn(wrn_msg)\n",
      "d:\\Investigacion_Proyectos\\Proyectos\\Tronaduras y Sismicidad - Teniente\\Python\\.venv\\Lib\\site-packages\\pytorch_tabnet\\abstract_model.py:687: UserWarning: No early stopping will be performed, last training weights will be used.\n",
      "  warnings.warn(wrn_msg)\n",
      "d:\\Investigacion_Proyectos\\Proyectos\\Tronaduras y Sismicidad - Teniente\\Python\\.venv\\Lib\\site-packages\\pytorch_tabnet\\abstract_model.py:687: UserWarning: No early stopping will be performed, last training weights will be used.\n",
      "  warnings.warn(wrn_msg)\n"
     ]
    },
    {
     "name": "stdout",
     "output_type": "stream",
     "text": [
      "epoch 0  | loss: 7.65681 | validación_rmse: 0.47712 |  0:00:00s\n",
      "[2025-05-17 13:07:59] 🔄 [TabNet] 📈 Epoch 38: Train Loss = 0.4869 | Val Loss = 0.4771\n",
      "epoch 0  | loss: 7.65681 | validación_rmse: 0.47712 |  0:00:00s\n",
      "[2025-05-17 13:07:59] 🔄 [TabNet] 📈 Epoch 39: Train Loss = 0.4869 | Val Loss = 0.4771\n",
      "epoch 0  | loss: 7.65681 | validación_rmse: 0.47712 |  0:00:00s\n"
     ]
    },
    {
     "name": "stderr",
     "output_type": "stream",
     "text": [
      "d:\\Investigacion_Proyectos\\Proyectos\\Tronaduras y Sismicidad - Teniente\\Python\\.venv\\Lib\\site-packages\\pytorch_tabnet\\abstract_model.py:687: UserWarning: No early stopping will be performed, last training weights will be used.\n",
      "  warnings.warn(wrn_msg)\n",
      "d:\\Investigacion_Proyectos\\Proyectos\\Tronaduras y Sismicidad - Teniente\\Python\\.venv\\Lib\\site-packages\\pytorch_tabnet\\abstract_model.py:687: UserWarning: No early stopping will be performed, last training weights will be used.\n",
      "  warnings.warn(wrn_msg)\n",
      "d:\\Investigacion_Proyectos\\Proyectos\\Tronaduras y Sismicidad - Teniente\\Python\\.venv\\Lib\\site-packages\\pytorch_tabnet\\abstract_model.py:687: UserWarning: No early stopping will be performed, last training weights will be used.\n",
      "  warnings.warn(wrn_msg)\n"
     ]
    },
    {
     "name": "stdout",
     "output_type": "stream",
     "text": [
      "[2025-05-17 13:07:59] 🔄 [TabNet] 📈 Epoch 40: Train Loss = 0.4869 | Val Loss = 0.4771\n",
      "epoch 0  | loss: 7.65681 | validación_rmse: 0.47712 |  0:00:00s\n",
      "[2025-05-17 13:08:00] 🔄 [TabNet] 📈 Epoch 41: Train Loss = 0.4869 | Val Loss = 0.4771\n",
      "epoch 0  | loss: 7.65681 | validación_rmse: 0.47712 |  0:00:00s\n"
     ]
    },
    {
     "name": "stderr",
     "output_type": "stream",
     "text": [
      "d:\\Investigacion_Proyectos\\Proyectos\\Tronaduras y Sismicidad - Teniente\\Python\\.venv\\Lib\\site-packages\\pytorch_tabnet\\abstract_model.py:687: UserWarning: No early stopping will be performed, last training weights will be used.\n",
      "  warnings.warn(wrn_msg)\n",
      "d:\\Investigacion_Proyectos\\Proyectos\\Tronaduras y Sismicidad - Teniente\\Python\\.venv\\Lib\\site-packages\\pytorch_tabnet\\abstract_model.py:687: UserWarning: No early stopping will be performed, last training weights will be used.\n",
      "  warnings.warn(wrn_msg)\n",
      "d:\\Investigacion_Proyectos\\Proyectos\\Tronaduras y Sismicidad - Teniente\\Python\\.venv\\Lib\\site-packages\\pytorch_tabnet\\abstract_model.py:687: UserWarning: No early stopping will be performed, last training weights will be used.\n",
      "  warnings.warn(wrn_msg)\n"
     ]
    },
    {
     "name": "stdout",
     "output_type": "stream",
     "text": [
      "[2025-05-17 13:08:00] 🔄 [TabNet] 📈 Epoch 42: Train Loss = 0.4869 | Val Loss = 0.4771\n",
      "epoch 0  | loss: 7.65681 | validación_rmse: 0.47712 |  0:00:00s\n",
      "[2025-05-17 13:08:00] 🔄 [TabNet] 📈 Epoch 43: Train Loss = 0.4869 | Val Loss = 0.4771\n",
      "epoch 0  | loss: 7.65681 | validación_rmse: 0.47712 |  0:00:00s\n",
      "[2025-05-17 13:08:00] 🔄 [TabNet] 📈 Epoch 44: Train Loss = 0.4869 | Val Loss = 0.4771\n"
     ]
    },
    {
     "name": "stderr",
     "output_type": "stream",
     "text": [
      "d:\\Investigacion_Proyectos\\Proyectos\\Tronaduras y Sismicidad - Teniente\\Python\\.venv\\Lib\\site-packages\\pytorch_tabnet\\abstract_model.py:687: UserWarning: No early stopping will be performed, last training weights will be used.\n",
      "  warnings.warn(wrn_msg)\n",
      "d:\\Investigacion_Proyectos\\Proyectos\\Tronaduras y Sismicidad - Teniente\\Python\\.venv\\Lib\\site-packages\\pytorch_tabnet\\abstract_model.py:687: UserWarning: No early stopping will be performed, last training weights will be used.\n",
      "  warnings.warn(wrn_msg)\n",
      "d:\\Investigacion_Proyectos\\Proyectos\\Tronaduras y Sismicidad - Teniente\\Python\\.venv\\Lib\\site-packages\\pytorch_tabnet\\abstract_model.py:687: UserWarning: No early stopping will be performed, last training weights will be used.\n",
      "  warnings.warn(wrn_msg)\n"
     ]
    },
    {
     "name": "stdout",
     "output_type": "stream",
     "text": [
      "epoch 0  | loss: 7.65681 | validación_rmse: 0.47712 |  0:00:00s\n",
      "[2025-05-17 13:08:00] 🔄 [TabNet] 📈 Epoch 45: Train Loss = 0.4869 | Val Loss = 0.4771\n",
      "epoch 0  | loss: 7.65681 | validación_rmse: 0.47712 |  0:00:00s\n",
      "[2025-05-17 13:08:00] 🔄 [TabNet] 📈 Epoch 46: Train Loss = 0.4869 | Val Loss = 0.4771\n",
      "epoch 0  | loss: 7.65681 | validación_rmse: 0.47712 |  0:00:00s\n",
      "[2025-05-17 13:08:00] 🔄 [TabNet] 📈 Epoch 47: Train Loss = 0.4869 | Val Loss = 0.4771\n",
      "epoch 0  | loss: 7.65681 | validación_rmse: 0.47712 |  0:00:00s\n",
      "[2025-05-17 13:08:00] 🔄 [TabNet] 📈 Epoch 48: Train Loss = 0.4869 | Val Loss = 0.4771\n",
      "epoch 0  | loss: 7.65681 | validación_rmse: 0.47712 |  0:00:00s\n",
      "[2025-05-17 13:08:00] 🔄 [TabNet] 📈 Epoch 47: Train Loss = 0.4869 | Val Loss = 0.4771\n",
      "epoch 0  | loss: 7.65681 | validación_rmse: 0.47712 |  0:00:00s\n",
      "[2025-05-17 13:08:00] 🔄 [TabNet] 📈 Epoch 48: Train Loss = 0.4869 | Val Loss = 0.4771\n",
      "epoch 0  | loss: 7.65681 | validación_rmse: 0.47712 |  0:00:00s\n"
     ]
    },
    {
     "name": "stderr",
     "output_type": "stream",
     "text": [
      "d:\\Investigacion_Proyectos\\Proyectos\\Tronaduras y Sismicidad - Teniente\\Python\\.venv\\Lib\\site-packages\\pytorch_tabnet\\abstract_model.py:687: UserWarning: No early stopping will be performed, last training weights will be used.\n",
      "  warnings.warn(wrn_msg)\n",
      "d:\\Investigacion_Proyectos\\Proyectos\\Tronaduras y Sismicidad - Teniente\\Python\\.venv\\Lib\\site-packages\\pytorch_tabnet\\abstract_model.py:687: UserWarning: No early stopping will be performed, last training weights will be used.\n",
      "  warnings.warn(wrn_msg)\n"
     ]
    },
    {
     "name": "stdout",
     "output_type": "stream",
     "text": [
      "[2025-05-17 13:08:00] 🔄 [TabNet] 📈 Epoch 49: Train Loss = 0.4869 | Val Loss = 0.4771\n",
      "epoch 0  | loss: 7.65681 | validación_rmse: 0.47712 |  0:00:00s\n",
      "[2025-05-17 13:08:00] 🔄 [TabNet] 📈 Epoch 50: Train Loss = 0.4869 | Val Loss = 0.4771\n",
      "epoch 0  | loss: 7.65681 | validación_rmse: 0.47712 |  0:00:00s\n",
      "[2025-05-17 13:08:01] 🔄 [TabNet] 📈 Epoch 51: Train Loss = 0.4869 | Val Loss = 0.4771\n",
      "[2025-05-17 13:08:01] 🔄 [TabNet] 📈 Epoch 51: Train Loss = 0.4869 | Val Loss = 0.4771 🎉 Early stopping (mejor val_loss: 0.4771)\n",
      "[2025-05-17 13:08:01] ✅ [TabNet] Entrenamiento finalizado\n"
     ]
    },
    {
     "name": "stderr",
     "output_type": "stream",
     "text": [
      "d:\\Investigacion_Proyectos\\Proyectos\\Tronaduras y Sismicidad - Teniente\\Python\\.venv\\Lib\\site-packages\\pytorch_tabnet\\abstract_model.py:687: UserWarning: No early stopping will be performed, last training weights will be used.\n",
      "  warnings.warn(wrn_msg)\n",
      "d:\\Investigacion_Proyectos\\Proyectos\\Tronaduras y Sismicidad - Teniente\\Python\\.venv\\Lib\\site-packages\\pytorch_tabnet\\abstract_model.py:687: UserWarning: No early stopping will be performed, last training weights will be used.\n",
      "  warnings.warn(wrn_msg)\n"
     ]
    }
   ],
   "source": [
    "# Configuración básica del proyecto\n",
    "PROJECT_NAME = 'TabNet'\n",
    "\n",
    "import pandas as pd\n",
    "import torch\n",
    "from sklearn.model_selection import train_test_split\n",
    "from classes.DataHandler import DataHandler\n",
    "from classes.TabNet_opt import TabNetNetwork_opt\n",
    "import numpy as np\n",
    "\n",
    "\n",
    "dh = DataHandler()\n",
    "DEVICE = 'cuda'\n",
    "dh.DEVICE = DEVICE\n",
    "\n",
    "dh.set_targets(['Mo_cumulative'])\n",
    "table_unified, vars_desc = dh.load_data()\n",
    "inputs, targets = dh.preprocess_data(vars_desc, table_unified)\n",
    "X, y, scales = dh.normalize_data(inputs, targets)\n",
    "\n",
    "# Convertir X y y a numpy\n",
    "X = np.array(X)\n",
    "y = np.array(y)\n",
    "\n",
    "# Dividir los datos en entrenamiento y validación\n",
    "X_train, X_val, y_train, y_val = train_test_split(\n",
    "    X, y, test_size=0.2, random_state=42\n",
    ")\n",
    "\n",
    "input_dim = X_train.shape[1]\n",
    "show_info = 'True'\n",
    "\n",
    "tabnet = TabNetNetwork_opt(input_dim, DEVICE, show_info=show_info)\n",
    "model = tabnet.train_model(X_train, y_train, X_val, y_val, max_epochs=1000, patience=50)"
   ]
  },
  {
   "cell_type": "code",
   "execution_count": null,
   "id": "e8e9bd61",
   "metadata": {},
   "outputs": [],
   "source": []
  },
  {
   "cell_type": "code",
   "execution_count": 3,
   "id": "2338813e",
   "metadata": {},
   "outputs": [
    {
     "data": {
      "application/vnd.plotly.v1+json": {
       "config": {
        "plotlyServerURL": "https://plot.ly"
       },
       "data": [
        {
         "line": {
          "color": "blue"
         },
         "mode": "lines",
         "name": "Valores Reales",
         "type": "scatter",
         "x": [
          0,
          1,
          2,
          3,
          4,
          5,
          6,
          7,
          8,
          9,
          10,
          11,
          12,
          13,
          14,
          15,
          16,
          17,
          18,
          19,
          20,
          21,
          22,
          23,
          24,
          25,
          26,
          27,
          28,
          29,
          30,
          31,
          32,
          33,
          34,
          35,
          36,
          37,
          38,
          39,
          40,
          41,
          42,
          43,
          44,
          45,
          46,
          47,
          48,
          49,
          50,
          51,
          52,
          53,
          54,
          55,
          56,
          57,
          58,
          59,
          60,
          61,
          62,
          63,
          64,
          65,
          66,
          67,
          68,
          69,
          70,
          71,
          72,
          73,
          74,
          75,
          76,
          77,
          78,
          79,
          80,
          81,
          82,
          83,
          84,
          85,
          86,
          87,
          88,
          89,
          90,
          91,
          92,
          93,
          94,
          95,
          96,
          97,
          98,
          99,
          100,
          101,
          102,
          103,
          104,
          105,
          106,
          107,
          108,
          109,
          110,
          111,
          112,
          113,
          114,
          115,
          116,
          117,
          118,
          119,
          120,
          121,
          122,
          123,
          124,
          125,
          126,
          127,
          128,
          129,
          130,
          131,
          132,
          133,
          134,
          135,
          136,
          137,
          138,
          139,
          140,
          141,
          142,
          143,
          144,
          145,
          146,
          147,
          148,
          149,
          150,
          151,
          152,
          153,
          154,
          155,
          156,
          157,
          158,
          159,
          160,
          161,
          162,
          163,
          164,
          165,
          166,
          167,
          168,
          169,
          170,
          171,
          172,
          173,
          174,
          175,
          176,
          177,
          178,
          179,
          180,
          181,
          182,
          183,
          184,
          185,
          186,
          187,
          188,
          189,
          190,
          191,
          192,
          193,
          194,
          195,
          196,
          197,
          198,
          199,
          200,
          201,
          202,
          203,
          204,
          205,
          206,
          207,
          208,
          209,
          210,
          211,
          212,
          213,
          214,
          215,
          216,
          217,
          218,
          219,
          220,
          221,
          222,
          223,
          224,
          225,
          226,
          227,
          228,
          229,
          230,
          231
         ],
         "y": {
          "bdata": "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",
          "dtype": "f8"
         }
        },
        {
         "line": {
          "color": "red"
         },
         "mode": "lines",
         "name": "Predicciones TabNet",
         "type": "scatter",
         "x": [
          0,
          1,
          2,
          3,
          4,
          5,
          6,
          7,
          8,
          9,
          10,
          11,
          12,
          13,
          14,
          15,
          16,
          17,
          18,
          19,
          20,
          21,
          22,
          23,
          24,
          25,
          26,
          27,
          28,
          29,
          30,
          31,
          32,
          33,
          34,
          35,
          36,
          37,
          38,
          39,
          40,
          41,
          42,
          43,
          44,
          45,
          46,
          47,
          48,
          49,
          50,
          51,
          52,
          53,
          54,
          55,
          56,
          57,
          58,
          59,
          60,
          61,
          62,
          63,
          64,
          65,
          66,
          67,
          68,
          69,
          70,
          71,
          72,
          73,
          74,
          75,
          76,
          77,
          78,
          79,
          80,
          81,
          82,
          83,
          84,
          85,
          86,
          87,
          88,
          89,
          90,
          91,
          92,
          93,
          94,
          95,
          96,
          97,
          98,
          99,
          100,
          101,
          102,
          103,
          104,
          105,
          106,
          107,
          108,
          109,
          110,
          111,
          112,
          113,
          114,
          115,
          116,
          117,
          118,
          119,
          120,
          121,
          122,
          123,
          124,
          125,
          126,
          127,
          128,
          129,
          130,
          131,
          132,
          133,
          134,
          135,
          136,
          137,
          138,
          139,
          140,
          141,
          142,
          143,
          144,
          145,
          146,
          147,
          148,
          149,
          150,
          151,
          152,
          153,
          154,
          155,
          156,
          157,
          158,
          159,
          160,
          161,
          162,
          163,
          164,
          165,
          166,
          167,
          168,
          169,
          170,
          171,
          172,
          173,
          174,
          175,
          176,
          177,
          178,
          179,
          180,
          181,
          182,
          183,
          184,
          185,
          186,
          187,
          188,
          189,
          190,
          191,
          192,
          193,
          194,
          195,
          196,
          197,
          198,
          199,
          200,
          201,
          202,
          203,
          204,
          205,
          206,
          207,
          208,
          209,
          210,
          211,
          212,
          213,
          214,
          215,
          216,
          217,
          218,
          219,
          220,
          221,
          222,
          223,
          224,
          225,
          226,
          227,
          228,
          229,
          230,
          231
         ],
         "y": {
          "bdata": "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",
          "dtype": "f8"
         }
        }
       ],
       "layout": {
        "height": 400,
        "legend": {
         "title": {
          "text": "Leyenda"
         }
        },
        "showlegend": true,
        "template": {
         "data": {
          "bar": [
           {
            "error_x": {
             "color": "#2a3f5f"
            },
            "error_y": {
             "color": "#2a3f5f"
            },
            "marker": {
             "line": {
              "color": "#E5ECF6",
              "width": 0.5
             },
             "pattern": {
              "fillmode": "overlay",
              "size": 10,
              "solidity": 0.2
             }
            },
            "type": "bar"
           }
          ],
          "barpolar": [
           {
            "marker": {
             "line": {
              "color": "#E5ECF6",
              "width": 0.5
             },
             "pattern": {
              "fillmode": "overlay",
              "size": 10,
              "solidity": 0.2
             }
            },
            "type": "barpolar"
           }
          ],
          "carpet": [
           {
            "aaxis": {
             "endlinecolor": "#2a3f5f",
             "gridcolor": "white",
             "linecolor": "white",
             "minorgridcolor": "white",
             "startlinecolor": "#2a3f5f"
            },
            "baxis": {
             "endlinecolor": "#2a3f5f",
             "gridcolor": "white",
             "linecolor": "white",
             "minorgridcolor": "white",
             "startlinecolor": "#2a3f5f"
            },
            "type": "carpet"
           }
          ],
          "choropleth": [
           {
            "colorbar": {
             "outlinewidth": 0,
             "ticks": ""
            },
            "type": "choropleth"
           }
          ],
          "contour": [
           {
            "colorbar": {
             "outlinewidth": 0,
             "ticks": ""
            },
            "colorscale": [
             [
              0,
              "#0d0887"
             ],
             [
              0.1111111111111111,
              "#46039f"
             ],
             [
              0.2222222222222222,
              "#7201a8"
             ],
             [
              0.3333333333333333,
              "#9c179e"
             ],
             [
              0.4444444444444444,
              "#bd3786"
             ],
             [
              0.5555555555555556,
              "#d8576b"
             ],
             [
              0.6666666666666666,
              "#ed7953"
             ],
             [
              0.7777777777777778,
              "#fb9f3a"
             ],
             [
              0.8888888888888888,
              "#fdca26"
             ],
             [
              1,
              "#f0f921"
             ]
            ],
            "type": "contour"
           }
          ],
          "contourcarpet": [
           {
            "colorbar": {
             "outlinewidth": 0,
             "ticks": ""
            },
            "type": "contourcarpet"
           }
          ],
          "heatmap": [
           {
            "colorbar": {
             "outlinewidth": 0,
             "ticks": ""
            },
            "colorscale": [
             [
              0,
              "#0d0887"
             ],
             [
              0.1111111111111111,
              "#46039f"
             ],
             [
              0.2222222222222222,
              "#7201a8"
             ],
             [
              0.3333333333333333,
              "#9c179e"
             ],
             [
              0.4444444444444444,
              "#bd3786"
             ],
             [
              0.5555555555555556,
              "#d8576b"
             ],
             [
              0.6666666666666666,
              "#ed7953"
             ],
             [
              0.7777777777777778,
              "#fb9f3a"
             ],
             [
              0.8888888888888888,
              "#fdca26"
             ],
             [
              1,
              "#f0f921"
             ]
            ],
            "type": "heatmap"
           }
          ],
          "histogram": [
           {
            "marker": {
             "pattern": {
              "fillmode": "overlay",
              "size": 10,
              "solidity": 0.2
             }
            },
            "type": "histogram"
           }
          ],
          "histogram2d": [
           {
            "colorbar": {
             "outlinewidth": 0,
             "ticks": ""
            },
            "colorscale": [
             [
              0,
              "#0d0887"
             ],
             [
              0.1111111111111111,
              "#46039f"
             ],
             [
              0.2222222222222222,
              "#7201a8"
             ],
             [
              0.3333333333333333,
              "#9c179e"
             ],
             [
              0.4444444444444444,
              "#bd3786"
             ],
             [
              0.5555555555555556,
              "#d8576b"
             ],
             [
              0.6666666666666666,
              "#ed7953"
             ],
             [
              0.7777777777777778,
              "#fb9f3a"
             ],
             [
              0.8888888888888888,
              "#fdca26"
             ],
             [
              1,
              "#f0f921"
             ]
            ],
            "type": "histogram2d"
           }
          ],
          "histogram2dcontour": [
           {
            "colorbar": {
             "outlinewidth": 0,
             "ticks": ""
            },
            "colorscale": [
             [
              0,
              "#0d0887"
             ],
             [
              0.1111111111111111,
              "#46039f"
             ],
             [
              0.2222222222222222,
              "#7201a8"
             ],
             [
              0.3333333333333333,
              "#9c179e"
             ],
             [
              0.4444444444444444,
              "#bd3786"
             ],
             [
              0.5555555555555556,
              "#d8576b"
             ],
             [
              0.6666666666666666,
              "#ed7953"
             ],
             [
              0.7777777777777778,
              "#fb9f3a"
             ],
             [
              0.8888888888888888,
              "#fdca26"
             ],
             [
              1,
              "#f0f921"
             ]
            ],
            "type": "histogram2dcontour"
           }
          ],
          "mesh3d": [
           {
            "colorbar": {
             "outlinewidth": 0,
             "ticks": ""
            },
            "type": "mesh3d"
           }
          ],
          "parcoords": [
           {
            "line": {
             "colorbar": {
              "outlinewidth": 0,
              "ticks": ""
             }
            },
            "type": "parcoords"
           }
          ],
          "pie": [
           {
            "automargin": true,
            "type": "pie"
           }
          ],
          "scatter": [
           {
            "fillpattern": {
             "fillmode": "overlay",
             "size": 10,
             "solidity": 0.2
            },
            "type": "scatter"
           }
          ],
          "scatter3d": [
           {
            "line": {
             "colorbar": {
              "outlinewidth": 0,
              "ticks": ""
             }
            },
            "marker": {
             "colorbar": {
              "outlinewidth": 0,
              "ticks": ""
             }
            },
            "type": "scatter3d"
           }
          ],
          "scattercarpet": [
           {
            "marker": {
             "colorbar": {
              "outlinewidth": 0,
              "ticks": ""
             }
            },
            "type": "scattercarpet"
           }
          ],
          "scattergeo": [
           {
            "marker": {
             "colorbar": {
              "outlinewidth": 0,
              "ticks": ""
             }
            },
            "type": "scattergeo"
           }
          ],
          "scattergl": [
           {
            "marker": {
             "colorbar": {
              "outlinewidth": 0,
              "ticks": ""
             }
            },
            "type": "scattergl"
           }
          ],
          "scattermap": [
           {
            "marker": {
             "colorbar": {
              "outlinewidth": 0,
              "ticks": ""
             }
            },
            "type": "scattermap"
           }
          ],
          "scattermapbox": [
           {
            "marker": {
             "colorbar": {
              "outlinewidth": 0,
              "ticks": ""
             }
            },
            "type": "scattermapbox"
           }
          ],
          "scatterpolar": [
           {
            "marker": {
             "colorbar": {
              "outlinewidth": 0,
              "ticks": ""
             }
            },
            "type": "scatterpolar"
           }
          ],
          "scatterpolargl": [
           {
            "marker": {
             "colorbar": {
              "outlinewidth": 0,
              "ticks": ""
             }
            },
            "type": "scatterpolargl"
           }
          ],
          "scatterternary": [
           {
            "marker": {
             "colorbar": {
              "outlinewidth": 0,
              "ticks": ""
             }
            },
            "type": "scatterternary"
           }
          ],
          "surface": [
           {
            "colorbar": {
             "outlinewidth": 0,
             "ticks": ""
            },
            "colorscale": [
             [
              0,
              "#0d0887"
             ],
             [
              0.1111111111111111,
              "#46039f"
             ],
             [
              0.2222222222222222,
              "#7201a8"
             ],
             [
              0.3333333333333333,
              "#9c179e"
             ],
             [
              0.4444444444444444,
              "#bd3786"
             ],
             [
              0.5555555555555556,
              "#d8576b"
             ],
             [
              0.6666666666666666,
              "#ed7953"
             ],
             [
              0.7777777777777778,
              "#fb9f3a"
             ],
             [
              0.8888888888888888,
              "#fdca26"
             ],
             [
              1,
              "#f0f921"
             ]
            ],
            "type": "surface"
           }
          ],
          "table": [
           {
            "cells": {
             "fill": {
              "color": "#EBF0F8"
             },
             "line": {
              "color": "white"
             }
            },
            "header": {
             "fill": {
              "color": "#C8D4E3"
             },
             "line": {
              "color": "white"
             }
            },
            "type": "table"
           }
          ]
         },
         "layout": {
          "annotationdefaults": {
           "arrowcolor": "#2a3f5f",
           "arrowhead": 0,
           "arrowwidth": 1
          },
          "autotypenumbers": "strict",
          "coloraxis": {
           "colorbar": {
            "outlinewidth": 0,
            "ticks": ""
           }
          },
          "colorscale": {
           "diverging": [
            [
             0,
             "#8e0152"
            ],
            [
             0.1,
             "#c51b7d"
            ],
            [
             0.2,
             "#de77ae"
            ],
            [
             0.3,
             "#f1b6da"
            ],
            [
             0.4,
             "#fde0ef"
            ],
            [
             0.5,
             "#f7f7f7"
            ],
            [
             0.6,
             "#e6f5d0"
            ],
            [
             0.7,
             "#b8e186"
            ],
            [
             0.8,
             "#7fbc41"
            ],
            [
             0.9,
             "#4d9221"
            ],
            [
             1,
             "#276419"
            ]
           ],
           "sequential": [
            [
             0,
             "#0d0887"
            ],
            [
             0.1111111111111111,
             "#46039f"
            ],
            [
             0.2222222222222222,
             "#7201a8"
            ],
            [
             0.3333333333333333,
             "#9c179e"
            ],
            [
             0.4444444444444444,
             "#bd3786"
            ],
            [
             0.5555555555555556,
             "#d8576b"
            ],
            [
             0.6666666666666666,
             "#ed7953"
            ],
            [
             0.7777777777777778,
             "#fb9f3a"
            ],
            [
             0.8888888888888888,
             "#fdca26"
            ],
            [
             1,
             "#f0f921"
            ]
           ],
           "sequentialminus": [
            [
             0,
             "#0d0887"
            ],
            [
             0.1111111111111111,
             "#46039f"
            ],
            [
             0.2222222222222222,
             "#7201a8"
            ],
            [
             0.3333333333333333,
             "#9c179e"
            ],
            [
             0.4444444444444444,
             "#bd3786"
            ],
            [
             0.5555555555555556,
             "#d8576b"
            ],
            [
             0.6666666666666666,
             "#ed7953"
            ],
            [
             0.7777777777777778,
             "#fb9f3a"
            ],
            [
             0.8888888888888888,
             "#fdca26"
            ],
            [
             1,
             "#f0f921"
            ]
           ]
          },
          "colorway": [
           "#636efa",
           "#EF553B",
           "#00cc96",
           "#ab63fa",
           "#FFA15A",
           "#19d3f3",
           "#FF6692",
           "#B6E880",
           "#FF97FF",
           "#FECB52"
          ],
          "font": {
           "color": "#2a3f5f"
          },
          "geo": {
           "bgcolor": "white",
           "lakecolor": "white",
           "landcolor": "#E5ECF6",
           "showlakes": true,
           "showland": true,
           "subunitcolor": "white"
          },
          "hoverlabel": {
           "align": "left"
          },
          "hovermode": "closest",
          "mapbox": {
           "style": "light"
          },
          "paper_bgcolor": "white",
          "plot_bgcolor": "#E5ECF6",
          "polar": {
           "angularaxis": {
            "gridcolor": "white",
            "linecolor": "white",
            "ticks": ""
           },
           "bgcolor": "#E5ECF6",
           "radialaxis": {
            "gridcolor": "white",
            "linecolor": "white",
            "ticks": ""
           }
          },
          "scene": {
           "xaxis": {
            "backgroundcolor": "#E5ECF6",
            "gridcolor": "white",
            "gridwidth": 2,
            "linecolor": "white",
            "showbackground": true,
            "ticks": "",
            "zerolinecolor": "white"
           },
           "yaxis": {
            "backgroundcolor": "#E5ECF6",
            "gridcolor": "white",
            "gridwidth": 2,
            "linecolor": "white",
            "showbackground": true,
            "ticks": "",
            "zerolinecolor": "white"
           },
           "zaxis": {
            "backgroundcolor": "#E5ECF6",
            "gridcolor": "white",
            "gridwidth": 2,
            "linecolor": "white",
            "showbackground": true,
            "ticks": "",
            "zerolinecolor": "white"
           }
          },
          "shapedefaults": {
           "line": {
            "color": "#2a3f5f"
           }
          },
          "ternary": {
           "aaxis": {
            "gridcolor": "white",
            "linecolor": "white",
            "ticks": ""
           },
           "baxis": {
            "gridcolor": "white",
            "linecolor": "white",
            "ticks": ""
           },
           "bgcolor": "#E5ECF6",
           "caxis": {
            "gridcolor": "white",
            "linecolor": "white",
            "ticks": ""
           }
          },
          "title": {
           "x": 0.05
          },
          "xaxis": {
           "automargin": true,
           "gridcolor": "white",
           "linecolor": "white",
           "ticks": "",
           "title": {
            "standoff": 15
           },
           "zerolinecolor": "white",
           "zerolinewidth": 2
          },
          "yaxis": {
           "automargin": true,
           "gridcolor": "white",
           "linecolor": "white",
           "ticks": "",
           "title": {
            "standoff": 15
           },
           "zerolinecolor": "white",
           "zerolinewidth": 2
          }
         }
        },
        "title": {
         "text": "Predicciones TabNet vs Reales (Entrenamiento)"
        },
        "width": 1200,
        "xaxis": {
         "title": {
          "text": "Indices"
         }
        },
        "yaxis": {
         "title": {
          "text": "Valor"
         }
        }
       }
      }
     },
     "metadata": {},
     "output_type": "display_data"
    },
    {
     "data": {
      "application/vnd.plotly.v1+json": {
       "config": {
        "plotlyServerURL": "https://plot.ly"
       },
       "data": [
        {
         "line": {
          "color": "blue"
         },
         "mode": "lines",
         "name": "Valores Reales",
         "type": "scatter",
         "x": [
          0,
          1,
          2,
          3,
          4,
          5,
          6,
          7,
          8,
          9,
          10,
          11,
          12,
          13,
          14,
          15,
          16,
          17,
          18,
          19,
          20,
          21,
          22,
          23,
          24,
          25,
          26,
          27,
          28,
          29,
          30,
          31,
          32,
          33,
          34,
          35,
          36,
          37,
          38,
          39,
          40,
          41,
          42,
          43,
          44,
          45,
          46,
          47,
          48,
          49,
          50,
          51,
          52,
          53,
          54,
          55,
          56,
          57
         ],
         "y": {
          "bdata": "oDuXPc/a2D/PFvskF0HwP4CmkRQG2MI/4Ljqwf+w1D/4KO0//jflP0D7TioMSdg/ONZ8tCur5D94HkogCQrjP0Df+YVSXNC/cAeE7JpE1D+A10j8WgrZPwDHYiHrvdE/sCj5B/t10j9+05TOVgrtPyDvItzOWNw/wGrdTHJqvD8AjiITCDCXv4BTqUSIQrW/4EKuMZnp1z8WRZcb9OPoP4B1E3tEA9k/gEP9RgI02T9gXHFDLzX/P4BAIK9gpMC/320Veu+o0r+wiBOxihneP0DQOhnKVts/wO5hSzwowD8AuJNdOcmnv5ge5Rwdz+U/4Pq99L1K0z+AB093T3awP3A5r3E1nNc/4H1q8DJ95D/AhDIgvFjeP9j1NKTdTPM/oCx4fQQG1z94n1VBIfjgPxAJBs88cu0/ABjvsFXj07+ApULyzezQP0Ck6wE2dse/0E9uC1Ng4D+ApaLP5p/aP0D/441/qMs/QNzhS8Fl2D8ACLxs1i+Hv4Bt6ALIBsg/EJU+FW2D7j8Aax1IG9LGv2ClY28FNtw/wAYmRr7xsT8A8zYcmZekP87n0ziXdek/Ha7qyIFZ8z8gXwr7rFHXP5gzlbv6cec/4N81xxf6zj8=",
          "dtype": "f8"
         }
        },
        {
         "line": {
          "color": "red"
         },
         "mode": "lines",
         "name": "Predicciones TabNet",
         "type": "scatter",
         "x": [
          0,
          1,
          2,
          3,
          4,
          5,
          6,
          7,
          8,
          9,
          10,
          11,
          12,
          13,
          14,
          15,
          16,
          17,
          18,
          19,
          20,
          21,
          22,
          23,
          24,
          25,
          26,
          27,
          28,
          29,
          30,
          31,
          32,
          33,
          34,
          35,
          36,
          37,
          38,
          39,
          40,
          41,
          42,
          43,
          44,
          45,
          46,
          47,
          48,
          49,
          50,
          51,
          52,
          53,
          54,
          55,
          56,
          57
         ],
         "y": {
          "bdata": "aAM/iEfg5z8/HdaNAAbgv4Cm7w0JSqI/NaJs5iKh0L+SW1a1ekr2P3wNeHAisec/fs65viiOxr9w0Y8gumjBPwCUDB8HTuI/5lGB/Yk9+T/8gPgsGXrAP+vxb1um7fG/YgfuxywJCUDPCrayN8rwv6pQuReYI+8/kGrFPmPVpb9g8XMW8v/ZP/xpHwF8C+k/r5NQO3dQ0r+230jBXWTwv+x7T5wWreU/TLCtCks6+L8yaVvt1lvhvxRUGo7Alvc/LvG3mgyu6D8qQCQ3bgjnvyQCmIZJcQHAyNG8ckt+4L/E2G+MKyfRP2sXe6MXTfI/k0iPdCWkAEC+v4P4nJn6P9SX1Qs9L+C/mAeEjGv/2T82S09efbIAwDQzdF/4KOI/0nlpiqc28b+06PU8Z9LYP/JF0hfkvuA/dNLUxjLGxz8bW7xdkHbivzSQ5tvzcvU/Dz6Q3E3s/r9G5BWtAlDWP8yrKVBSQs6/Qx/qIUKhAEBO97Us3YvoP4A9QsfYDaW/APyE+XesoD8APsYsoW1qv5q7809hXOI/up7tdxRy9z/8EWU92o3vP/3ooIhrnui/AALRH68jpD92mZuMdwngv17n8VBkQ/w/MLMXPgCn7z8=",
          "dtype": "f8"
         }
        }
       ],
       "layout": {
        "height": 400,
        "legend": {
         "title": {
          "text": "Leyenda"
         }
        },
        "showlegend": true,
        "template": {
         "data": {
          "bar": [
           {
            "error_x": {
             "color": "#2a3f5f"
            },
            "error_y": {
             "color": "#2a3f5f"
            },
            "marker": {
             "line": {
              "color": "#E5ECF6",
              "width": 0.5
             },
             "pattern": {
              "fillmode": "overlay",
              "size": 10,
              "solidity": 0.2
             }
            },
            "type": "bar"
           }
          ],
          "barpolar": [
           {
            "marker": {
             "line": {
              "color": "#E5ECF6",
              "width": 0.5
             },
             "pattern": {
              "fillmode": "overlay",
              "size": 10,
              "solidity": 0.2
             }
            },
            "type": "barpolar"
           }
          ],
          "carpet": [
           {
            "aaxis": {
             "endlinecolor": "#2a3f5f",
             "gridcolor": "white",
             "linecolor": "white",
             "minorgridcolor": "white",
             "startlinecolor": "#2a3f5f"
            },
            "baxis": {
             "endlinecolor": "#2a3f5f",
             "gridcolor": "white",
             "linecolor": "white",
             "minorgridcolor": "white",
             "startlinecolor": "#2a3f5f"
            },
            "type": "carpet"
           }
          ],
          "choropleth": [
           {
            "colorbar": {
             "outlinewidth": 0,
             "ticks": ""
            },
            "type": "choropleth"
           }
          ],
          "contour": [
           {
            "colorbar": {
             "outlinewidth": 0,
             "ticks": ""
            },
            "colorscale": [
             [
              0,
              "#0d0887"
             ],
             [
              0.1111111111111111,
              "#46039f"
             ],
             [
              0.2222222222222222,
              "#7201a8"
             ],
             [
              0.3333333333333333,
              "#9c179e"
             ],
             [
              0.4444444444444444,
              "#bd3786"
             ],
             [
              0.5555555555555556,
              "#d8576b"
             ],
             [
              0.6666666666666666,
              "#ed7953"
             ],
             [
              0.7777777777777778,
              "#fb9f3a"
             ],
             [
              0.8888888888888888,
              "#fdca26"
             ],
             [
              1,
              "#f0f921"
             ]
            ],
            "type": "contour"
           }
          ],
          "contourcarpet": [
           {
            "colorbar": {
             "outlinewidth": 0,
             "ticks": ""
            },
            "type": "contourcarpet"
           }
          ],
          "heatmap": [
           {
            "colorbar": {
             "outlinewidth": 0,
             "ticks": ""
            },
            "colorscale": [
             [
              0,
              "#0d0887"
             ],
             [
              0.1111111111111111,
              "#46039f"
             ],
             [
              0.2222222222222222,
              "#7201a8"
             ],
             [
              0.3333333333333333,
              "#9c179e"
             ],
             [
              0.4444444444444444,
              "#bd3786"
             ],
             [
              0.5555555555555556,
              "#d8576b"
             ],
             [
              0.6666666666666666,
              "#ed7953"
             ],
             [
              0.7777777777777778,
              "#fb9f3a"
             ],
             [
              0.8888888888888888,
              "#fdca26"
             ],
             [
              1,
              "#f0f921"
             ]
            ],
            "type": "heatmap"
           }
          ],
          "histogram": [
           {
            "marker": {
             "pattern": {
              "fillmode": "overlay",
              "size": 10,
              "solidity": 0.2
             }
            },
            "type": "histogram"
           }
          ],
          "histogram2d": [
           {
            "colorbar": {
             "outlinewidth": 0,
             "ticks": ""
            },
            "colorscale": [
             [
              0,
              "#0d0887"
             ],
             [
              0.1111111111111111,
              "#46039f"
             ],
             [
              0.2222222222222222,
              "#7201a8"
             ],
             [
              0.3333333333333333,
              "#9c179e"
             ],
             [
              0.4444444444444444,
              "#bd3786"
             ],
             [
              0.5555555555555556,
              "#d8576b"
             ],
             [
              0.6666666666666666,
              "#ed7953"
             ],
             [
              0.7777777777777778,
              "#fb9f3a"
             ],
             [
              0.8888888888888888,
              "#fdca26"
             ],
             [
              1,
              "#f0f921"
             ]
            ],
            "type": "histogram2d"
           }
          ],
          "histogram2dcontour": [
           {
            "colorbar": {
             "outlinewidth": 0,
             "ticks": ""
            },
            "colorscale": [
             [
              0,
              "#0d0887"
             ],
             [
              0.1111111111111111,
              "#46039f"
             ],
             [
              0.2222222222222222,
              "#7201a8"
             ],
             [
              0.3333333333333333,
              "#9c179e"
             ],
             [
              0.4444444444444444,
              "#bd3786"
             ],
             [
              0.5555555555555556,
              "#d8576b"
             ],
             [
              0.6666666666666666,
              "#ed7953"
             ],
             [
              0.7777777777777778,
              "#fb9f3a"
             ],
             [
              0.8888888888888888,
              "#fdca26"
             ],
             [
              1,
              "#f0f921"
             ]
            ],
            "type": "histogram2dcontour"
           }
          ],
          "mesh3d": [
           {
            "colorbar": {
             "outlinewidth": 0,
             "ticks": ""
            },
            "type": "mesh3d"
           }
          ],
          "parcoords": [
           {
            "line": {
             "colorbar": {
              "outlinewidth": 0,
              "ticks": ""
             }
            },
            "type": "parcoords"
           }
          ],
          "pie": [
           {
            "automargin": true,
            "type": "pie"
           }
          ],
          "scatter": [
           {
            "fillpattern": {
             "fillmode": "overlay",
             "size": 10,
             "solidity": 0.2
            },
            "type": "scatter"
           }
          ],
          "scatter3d": [
           {
            "line": {
             "colorbar": {
              "outlinewidth": 0,
              "ticks": ""
             }
            },
            "marker": {
             "colorbar": {
              "outlinewidth": 0,
              "ticks": ""
             }
            },
            "type": "scatter3d"
           }
          ],
          "scattercarpet": [
           {
            "marker": {
             "colorbar": {
              "outlinewidth": 0,
              "ticks": ""
             }
            },
            "type": "scattercarpet"
           }
          ],
          "scattergeo": [
           {
            "marker": {
             "colorbar": {
              "outlinewidth": 0,
              "ticks": ""
             }
            },
            "type": "scattergeo"
           }
          ],
          "scattergl": [
           {
            "marker": {
             "colorbar": {
              "outlinewidth": 0,
              "ticks": ""
             }
            },
            "type": "scattergl"
           }
          ],
          "scattermap": [
           {
            "marker": {
             "colorbar": {
              "outlinewidth": 0,
              "ticks": ""
             }
            },
            "type": "scattermap"
           }
          ],
          "scattermapbox": [
           {
            "marker": {
             "colorbar": {
              "outlinewidth": 0,
              "ticks": ""
             }
            },
            "type": "scattermapbox"
           }
          ],
          "scatterpolar": [
           {
            "marker": {
             "colorbar": {
              "outlinewidth": 0,
              "ticks": ""
             }
            },
            "type": "scatterpolar"
           }
          ],
          "scatterpolargl": [
           {
            "marker": {
             "colorbar": {
              "outlinewidth": 0,
              "ticks": ""
             }
            },
            "type": "scatterpolargl"
           }
          ],
          "scatterternary": [
           {
            "marker": {
             "colorbar": {
              "outlinewidth": 0,
              "ticks": ""
             }
            },
            "type": "scatterternary"
           }
          ],
          "surface": [
           {
            "colorbar": {
             "outlinewidth": 0,
             "ticks": ""
            },
            "colorscale": [
             [
              0,
              "#0d0887"
             ],
             [
              0.1111111111111111,
              "#46039f"
             ],
             [
              0.2222222222222222,
              "#7201a8"
             ],
             [
              0.3333333333333333,
              "#9c179e"
             ],
             [
              0.4444444444444444,
              "#bd3786"
             ],
             [
              0.5555555555555556,
              "#d8576b"
             ],
             [
              0.6666666666666666,
              "#ed7953"
             ],
             [
              0.7777777777777778,
              "#fb9f3a"
             ],
             [
              0.8888888888888888,
              "#fdca26"
             ],
             [
              1,
              "#f0f921"
             ]
            ],
            "type": "surface"
           }
          ],
          "table": [
           {
            "cells": {
             "fill": {
              "color": "#EBF0F8"
             },
             "line": {
              "color": "white"
             }
            },
            "header": {
             "fill": {
              "color": "#C8D4E3"
             },
             "line": {
              "color": "white"
             }
            },
            "type": "table"
           }
          ]
         },
         "layout": {
          "annotationdefaults": {
           "arrowcolor": "#2a3f5f",
           "arrowhead": 0,
           "arrowwidth": 1
          },
          "autotypenumbers": "strict",
          "coloraxis": {
           "colorbar": {
            "outlinewidth": 0,
            "ticks": ""
           }
          },
          "colorscale": {
           "diverging": [
            [
             0,
             "#8e0152"
            ],
            [
             0.1,
             "#c51b7d"
            ],
            [
             0.2,
             "#de77ae"
            ],
            [
             0.3,
             "#f1b6da"
            ],
            [
             0.4,
             "#fde0ef"
            ],
            [
             0.5,
             "#f7f7f7"
            ],
            [
             0.6,
             "#e6f5d0"
            ],
            [
             0.7,
             "#b8e186"
            ],
            [
             0.8,
             "#7fbc41"
            ],
            [
             0.9,
             "#4d9221"
            ],
            [
             1,
             "#276419"
            ]
           ],
           "sequential": [
            [
             0,
             "#0d0887"
            ],
            [
             0.1111111111111111,
             "#46039f"
            ],
            [
             0.2222222222222222,
             "#7201a8"
            ],
            [
             0.3333333333333333,
             "#9c179e"
            ],
            [
             0.4444444444444444,
             "#bd3786"
            ],
            [
             0.5555555555555556,
             "#d8576b"
            ],
            [
             0.6666666666666666,
             "#ed7953"
            ],
            [
             0.7777777777777778,
             "#fb9f3a"
            ],
            [
             0.8888888888888888,
             "#fdca26"
            ],
            [
             1,
             "#f0f921"
            ]
           ],
           "sequentialminus": [
            [
             0,
             "#0d0887"
            ],
            [
             0.1111111111111111,
             "#46039f"
            ],
            [
             0.2222222222222222,
             "#7201a8"
            ],
            [
             0.3333333333333333,
             "#9c179e"
            ],
            [
             0.4444444444444444,
             "#bd3786"
            ],
            [
             0.5555555555555556,
             "#d8576b"
            ],
            [
             0.6666666666666666,
             "#ed7953"
            ],
            [
             0.7777777777777778,
             "#fb9f3a"
            ],
            [
             0.8888888888888888,
             "#fdca26"
            ],
            [
             1,
             "#f0f921"
            ]
           ]
          },
          "colorway": [
           "#636efa",
           "#EF553B",
           "#00cc96",
           "#ab63fa",
           "#FFA15A",
           "#19d3f3",
           "#FF6692",
           "#B6E880",
           "#FF97FF",
           "#FECB52"
          ],
          "font": {
           "color": "#2a3f5f"
          },
          "geo": {
           "bgcolor": "white",
           "lakecolor": "white",
           "landcolor": "#E5ECF6",
           "showlakes": true,
           "showland": true,
           "subunitcolor": "white"
          },
          "hoverlabel": {
           "align": "left"
          },
          "hovermode": "closest",
          "mapbox": {
           "style": "light"
          },
          "paper_bgcolor": "white",
          "plot_bgcolor": "#E5ECF6",
          "polar": {
           "angularaxis": {
            "gridcolor": "white",
            "linecolor": "white",
            "ticks": ""
           },
           "bgcolor": "#E5ECF6",
           "radialaxis": {
            "gridcolor": "white",
            "linecolor": "white",
            "ticks": ""
           }
          },
          "scene": {
           "xaxis": {
            "backgroundcolor": "#E5ECF6",
            "gridcolor": "white",
            "gridwidth": 2,
            "linecolor": "white",
            "showbackground": true,
            "ticks": "",
            "zerolinecolor": "white"
           },
           "yaxis": {
            "backgroundcolor": "#E5ECF6",
            "gridcolor": "white",
            "gridwidth": 2,
            "linecolor": "white",
            "showbackground": true,
            "ticks": "",
            "zerolinecolor": "white"
           },
           "zaxis": {
            "backgroundcolor": "#E5ECF6",
            "gridcolor": "white",
            "gridwidth": 2,
            "linecolor": "white",
            "showbackground": true,
            "ticks": "",
            "zerolinecolor": "white"
           }
          },
          "shapedefaults": {
           "line": {
            "color": "#2a3f5f"
           }
          },
          "ternary": {
           "aaxis": {
            "gridcolor": "white",
            "linecolor": "white",
            "ticks": ""
           },
           "baxis": {
            "gridcolor": "white",
            "linecolor": "white",
            "ticks": ""
           },
           "bgcolor": "#E5ECF6",
           "caxis": {
            "gridcolor": "white",
            "linecolor": "white",
            "ticks": ""
           }
          },
          "title": {
           "x": 0.05
          },
          "xaxis": {
           "automargin": true,
           "gridcolor": "white",
           "linecolor": "white",
           "ticks": "",
           "title": {
            "standoff": 15
           },
           "zerolinecolor": "white",
           "zerolinewidth": 2
          },
          "yaxis": {
           "automargin": true,
           "gridcolor": "white",
           "linecolor": "white",
           "ticks": "",
           "title": {
            "standoff": 15
           },
           "zerolinecolor": "white",
           "zerolinewidth": 2
          }
         }
        },
        "title": {
         "text": "Predicciones TabNet vs Reales (Validación)"
        },
        "width": 1200,
        "xaxis": {
         "title": {
          "text": "Indices"
         }
        },
        "yaxis": {
         "title": {
          "text": "Valor"
         }
        }
       }
      }
     },
     "metadata": {},
     "output_type": "display_data"
    }
   ],
   "source": [
    "# Predicción y desnormalización\n",
    "y_pred_train = tabnet.predict(X_train)\n",
    "y_pred_val = tabnet.predict(X_val)\n",
    "\n",
    "y_train_mo = dh.denormalize_value(scales, y_train, 'Mo_cumulative')\n",
    "y_pred_train_mo = dh.denormalize_value(scales, y_pred_train, 'Mo_cumulative')\n",
    "y_val_mo = dh.denormalize_value(scales, y_val, 'Mo_cumulative')\n",
    "y_pred_val_mo = dh.denormalize_value(scales, y_pred_val, 'Mo_cumulative')\n",
    "\n",
    "# Graficar resultados de entrenamiento\n",
    "dh.plot_results(\n",
    "    (y_train_mo, 'Valores Reales'),\n",
    "    (y_pred_train_mo, 'Predicciones TabNet'),\n",
    "    title='Predicciones TabNet vs Reales (Entrenamiento)',\n",
    "    size=(1200, 400)\n",
    ")\n",
    "\n",
    "# Graficar resultados de validación\n",
    "dh.plot_results(\n",
    "    (y_val_mo, 'Valores Reales'),\n",
    "    (y_pred_val_mo, 'Predicciones TabNet'),\n",
    "    title='Predicciones TabNet vs Reales (Validación)',\n",
    "    size=(1200, 400)\n",
    ")"
   ]
  },
  {
   "cell_type": "code",
   "execution_count": 4,
   "id": "8760decd",
   "metadata": {},
   "outputs": [
    {
     "name": "stdout",
     "output_type": "stream",
     "text": [
      "\n",
      "📊 Métricas para TabNet - Entrenamiento:\n",
      "   MAE  : 0.9637\n",
      "   RMSE : 1.2477\n",
      "   R²   : -8.1618\n",
      "\n",
      "📊 Métricas para TabNet - Validación:\n",
      "   MAE  : 0.9938\n",
      "   RMSE : 1.2227\n",
      "   R²   : -8.0532\n"
     ]
    },
    {
     "data": {
      "text/plain": [
       "{'MAE': 0.9938271626525983,\n",
       " 'RMSE': np.float64(1.2226943768554472),\n",
       " 'R2': -8.05322107277491}"
      ]
     },
     "execution_count": 4,
     "metadata": {},
     "output_type": "execute_result"
    }
   ],
   "source": [
    "# Evaluación\n",
    "dh.evaluar_metricas(y_train_mo, y_pred_train_mo, 'TabNet - Entrenamiento')\n",
    "dh.evaluar_metricas(y_val_mo, y_pred_val_mo, 'TabNet - Validación')"
   ]
  },
  {
   "cell_type": "code",
   "execution_count": 5,
   "id": "e12bb8f5",
   "metadata": {},
   "outputs": [
    {
     "data": {
      "application/vnd.plotly.v1+json": {
       "config": {
        "plotlyServerURL": "https://plot.ly"
       },
       "data": [
        {
         "marker": {
          "color": "blue",
          "opacity": 0.6
         },
         "mode": "markers",
         "name": "Predicciones",
         "type": "scatter",
         "x": {
          "bdata": "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",
          "dtype": "f8"
         },
         "y": {
          "bdata": "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",
          "dtype": "f8"
         }
        },
        {
         "line": {
          "color": "red",
          "dash": "dash"
         },
         "mode": "lines",
         "name": "Regresión lineal",
         "type": "scatter",
         "x": {
          "bdata": "6Bx5vs+W47++EM+Vy9biv5QEJW3HFuK/afh6RMNW4b8/7NAbv5bgvyrATeZ1rd+/1af5lG0t3r+Aj6VDZa3cvyx3UfJcLdu/2F79oFSt2b+DRqlPTC3Yvy4uVf5Drda/2hUBrTst1b+G/axbM63TvzHlWAorLdK/3MwEuSKt0L8QaWHPNFrOv2g4uSwkWsu/vgcRihNayL8U12jnAlrFv2ymwETyWcK/iOswRMOzvr8wiuD+obO4v+AokLmAs7K/II9/6L5mqb8Amb27+MyavwCe4DOdY2a/oHHFbhE0lT9wewNCS5qmPwgfUuZGTbE/YICiK2hNtz+w4fJwiU29P4ChIVvVpsE/KNLJ/eWmxD/QAnKg9qbHP3wzGkMHp8o/JGTC5RenzT9mSjVElFPQP7xiiZWc09E/EHvd5qRT0z9kkzE4rdPUP7irhYm1U9Y/DMTZ2r3T1z9g3C0sxlPZP7j0gX3O09o/DA3WztZT3D9gJSog39PdP7Q9fnHnU98/BCtp4fdp4D8uNxMK/CnhP1hDvTIA6uE/gk9nWwSq4j+sWxGECGrjP9hnu6wMKuQ/AnRl1RDq5D8sgA/+FKrlP1aMuSYZauY/gJhjTx0q5z+qpA14IernP9Swt6Alqug/AL1hySlq6T8qyQvyLSrqP1TVtRoy6uo/fuFfQzaq6z+o7QlsOmrsP9L5s5Q+Ku0//AVevULq7T8mEgjmRqruP1Aesg5Lau8/PhWumycV8D9TGwOwKXXwP2ghWMQr1fA/fSet2C018T+SLQLtL5XxP6czVwEy9fE/vDmsFTRV8j/SPwEqNrXyP+dFVj44FfM//EurUjp18z8RUgBnPNXzPyZYVXs+NfQ/O16qj0CV9D9QZP+jQvX0P2VqVLhEVfU/enCpzEa19T+Qdv7gSBX2P6R8U/VKdfY/uoKoCU3V9j/QiP0dTzX3P+SOUjJRlfc/+pSnRlP19z8Om/xaVVX4PyShUW9Xtfg/OKemg1kV+T9OrfuXW3X5P2KzUKxd1fk/eLmlwF81+j+Ov/rUYZX6P6LFT+lj9fo/uMuk/WVV+z8=",
          "dtype": "f8"
         },
         "y": {
          "bdata": "5XXQLL+87T/EO3Q/tGbtP6IBGFKpEO0/gMe7ZJ667D9ejV93k2TsPzxTA4qIDuw/GhmnnH246z/43kqvcmLrP9ek7sFnDOs/tWqS1Fy26j+TMDbnUWDqP3H22flGCuo/ULx9DDy06T8ugiEfMV7pPwxIxTEmCOk/6g1pRBuy6D/I0wxXEFzoP6eZsGkFBug/hV9UfPqv5z9jJfiO71nnP0Hrm6HkA+c/ILE/tNmt5j/+duPGzlfmP9w8h9nDAeY/ugIr7Lir5T+YyM7+rVXlP3eOchGj/+Q/VVQWJJip5D8zGro2jVPkPxHgXUmC/eM/76UBXHen4z/Oa6VubFHjP6wxSYFh++I/ivfsk1al4j9ovZCmS0/iP0aDNLlA+eE/JUnYyzWj4T8DD3zeKk3hP+HUH/Ef9+A/v5rDAxWh4D+eYGcWCkvgP/hMFlL+6d8/tNhdd+g93z9xZKWc0pHePyzw7MG85d0/6Hs056Y53T+mB3wMkY3cP2KTwzF74ds/Hh8LV2U12z/cqlJ8T4naP5g2mqE53dk/VcLhxiMx2T8RTinsDYXYP8zZcBH42Nc/iWW4NuIs1z9G8f9bzIDWPwJ9R4G21NU/vwiPpqAo1T98lNbLinzUPzggHvF00NM/86tlFl8k0z+wN607SXjSP2zD9GAzzNE/KU88hh0g0T/m2oOrB3TQP0TNlqHjj88/vuQl7Lc3zj84/LQ2jN/MP7ATRIFgh8s/JivTyzQvyj+gQmIWCdfIPxha8WDdfsc/knGAq7Emxj8MiQ/2hc7EP4SgnkBadsM/ALgtiy4ewj90z7zVAsbAP9jNl0Cu274/0Py11VYrvD/AK9Rq/3q5P7Ba8v+nyrY/qIkQlVAatD+YuC4q+WmxPxDPmX5Dc60/AC3WqJQSqD/QihLT5bGiP4DRnfptopo/gBotniDCjz+AIz2Oyn50PwDt3x+shna/gD9/swhjkL+ggwZfZiSbvwDkRgXi8qK/AIYK25BTqL8wKM6wP7StvyDlSEN3irG/MLYqrs46tL9IhwwZJuu2v1BY7oN9m7m/YCnQ7tRLvL8=",
          "dtype": "f8"
         }
        },
        {
         "line": {
          "color": "green",
          "dash": "dot"
         },
         "mode": "lines",
         "name": "Línea Perfecta (y = x)",
         "type": "scatter",
         "x": {
          "bdata": "6Bx5vs+W47++EM+Vy9biv5QEJW3HFuK/afh6RMNW4b8/7NAbv5bgvyrATeZ1rd+/1af5lG0t3r+Aj6VDZa3cvyx3UfJcLdu/2F79oFSt2b+DRqlPTC3Yvy4uVf5Drda/2hUBrTst1b+G/axbM63TvzHlWAorLdK/3MwEuSKt0L8QaWHPNFrOv2g4uSwkWsu/vgcRihNayL8U12jnAlrFv2ymwETyWcK/iOswRMOzvr8wiuD+obO4v+AokLmAs7K/II9/6L5mqb8Amb27+MyavwCe4DOdY2a/oHHFbhE0lT9wewNCS5qmPwgfUuZGTbE/YICiK2hNtz+w4fJwiU29P4ChIVvVpsE/KNLJ/eWmxD/QAnKg9qbHP3wzGkMHp8o/JGTC5RenzT9mSjVElFPQP7xiiZWc09E/EHvd5qRT0z9kkzE4rdPUP7irhYm1U9Y/DMTZ2r3T1z9g3C0sxlPZP7j0gX3O09o/DA3WztZT3D9gJSog39PdP7Q9fnHnU98/BCtp4fdp4D8uNxMK/CnhP1hDvTIA6uE/gk9nWwSq4j+sWxGECGrjP9hnu6wMKuQ/AnRl1RDq5D8sgA/+FKrlP1aMuSYZauY/gJhjTx0q5z+qpA14IernP9Swt6Alqug/AL1hySlq6T8qyQvyLSrqP1TVtRoy6uo/fuFfQzaq6z+o7QlsOmrsP9L5s5Q+Ku0//AVevULq7T8mEgjmRqruP1Aesg5Lau8/PhWumycV8D9TGwOwKXXwP2ghWMQr1fA/fSet2C018T+SLQLtL5XxP6czVwEy9fE/vDmsFTRV8j/SPwEqNrXyP+dFVj44FfM//EurUjp18z8RUgBnPNXzPyZYVXs+NfQ/O16qj0CV9D9QZP+jQvX0P2VqVLhEVfU/enCpzEa19T+Qdv7gSBX2P6R8U/VKdfY/uoKoCU3V9j/QiP0dTzX3P+SOUjJRlfc/+pSnRlP19z8Om/xaVVX4PyShUW9Xtfg/OKemg1kV+T9OrfuXW3X5P2KzUKxd1fk/eLmlwF81+j+Ov/rUYZX6P6LFT+lj9fo/uMuk/WVV+z8=",
          "dtype": "f8"
         },
         "y": {
          "bdata": "6Bx5vs+W47++EM+Vy9biv5QEJW3HFuK/afh6RMNW4b8/7NAbv5bgvyrATeZ1rd+/1af5lG0t3r+Aj6VDZa3cvyx3UfJcLdu/2F79oFSt2b+DRqlPTC3Yvy4uVf5Drda/2hUBrTst1b+G/axbM63TvzHlWAorLdK/3MwEuSKt0L8QaWHPNFrOv2g4uSwkWsu/vgcRihNayL8U12jnAlrFv2ymwETyWcK/iOswRMOzvr8wiuD+obO4v+AokLmAs7K/II9/6L5mqb8Amb27+MyavwCe4DOdY2a/oHHFbhE0lT9wewNCS5qmPwgfUuZGTbE/YICiK2hNtz+w4fJwiU29P4ChIVvVpsE/KNLJ/eWmxD/QAnKg9qbHP3wzGkMHp8o/JGTC5RenzT9mSjVElFPQP7xiiZWc09E/EHvd5qRT0z9kkzE4rdPUP7irhYm1U9Y/DMTZ2r3T1z9g3C0sxlPZP7j0gX3O09o/DA3WztZT3D9gJSog39PdP7Q9fnHnU98/BCtp4fdp4D8uNxMK/CnhP1hDvTIA6uE/gk9nWwSq4j+sWxGECGrjP9hnu6wMKuQ/AnRl1RDq5D8sgA/+FKrlP1aMuSYZauY/gJhjTx0q5z+qpA14IernP9Swt6Alqug/AL1hySlq6T8qyQvyLSrqP1TVtRoy6uo/fuFfQzaq6z+o7QlsOmrsP9L5s5Q+Ku0//AVevULq7T8mEgjmRqruP1Aesg5Lau8/PhWumycV8D9TGwOwKXXwP2ghWMQr1fA/fSet2C018T+SLQLtL5XxP6czVwEy9fE/vDmsFTRV8j/SPwEqNrXyP+dFVj44FfM//EurUjp18z8RUgBnPNXzPyZYVXs+NfQ/O16qj0CV9D9QZP+jQvX0P2VqVLhEVfU/enCpzEa19T+Qdv7gSBX2P6R8U/VKdfY/uoKoCU3V9j/QiP0dTzX3P+SOUjJRlfc/+pSnRlP19z8Om/xaVVX4PyShUW9Xtfg/OKemg1kV+T9OrfuXW3X5P2KzUKxd1fk/eLmlwF81+j+Ov/rUYZX6P6LFT+lj9fo/uMuk/WVV+z8=",
          "dtype": "f8"
         }
        }
       ],
       "layout": {
        "annotations": [
         {
          "align": "left",
          "bgcolor": "white",
          "bordercolor": "black",
          "borderwidth": 1,
          "font": {
           "color": "black",
           "size": 14
          },
          "showarrow": false,
          "text": "y = -0.448x + 0.655<br>R² = 0.028",
          "x": 0.05,
          "xref": "paper",
          "y": 0.95,
          "yref": "paper"
         }
        ],
        "height": 400,
        "template": {
         "data": {
          "bar": [
           {
            "error_x": {
             "color": "#2a3f5f"
            },
            "error_y": {
             "color": "#2a3f5f"
            },
            "marker": {
             "line": {
              "color": "white",
              "width": 0.5
             },
             "pattern": {
              "fillmode": "overlay",
              "size": 10,
              "solidity": 0.2
             }
            },
            "type": "bar"
           }
          ],
          "barpolar": [
           {
            "marker": {
             "line": {
              "color": "white",
              "width": 0.5
             },
             "pattern": {
              "fillmode": "overlay",
              "size": 10,
              "solidity": 0.2
             }
            },
            "type": "barpolar"
           }
          ],
          "carpet": [
           {
            "aaxis": {
             "endlinecolor": "#2a3f5f",
             "gridcolor": "#C8D4E3",
             "linecolor": "#C8D4E3",
             "minorgridcolor": "#C8D4E3",
             "startlinecolor": "#2a3f5f"
            },
            "baxis": {
             "endlinecolor": "#2a3f5f",
             "gridcolor": "#C8D4E3",
             "linecolor": "#C8D4E3",
             "minorgridcolor": "#C8D4E3",
             "startlinecolor": "#2a3f5f"
            },
            "type": "carpet"
           }
          ],
          "choropleth": [
           {
            "colorbar": {
             "outlinewidth": 0,
             "ticks": ""
            },
            "type": "choropleth"
           }
          ],
          "contour": [
           {
            "colorbar": {
             "outlinewidth": 0,
             "ticks": ""
            },
            "colorscale": [
             [
              0,
              "#0d0887"
             ],
             [
              0.1111111111111111,
              "#46039f"
             ],
             [
              0.2222222222222222,
              "#7201a8"
             ],
             [
              0.3333333333333333,
              "#9c179e"
             ],
             [
              0.4444444444444444,
              "#bd3786"
             ],
             [
              0.5555555555555556,
              "#d8576b"
             ],
             [
              0.6666666666666666,
              "#ed7953"
             ],
             [
              0.7777777777777778,
              "#fb9f3a"
             ],
             [
              0.8888888888888888,
              "#fdca26"
             ],
             [
              1,
              "#f0f921"
             ]
            ],
            "type": "contour"
           }
          ],
          "contourcarpet": [
           {
            "colorbar": {
             "outlinewidth": 0,
             "ticks": ""
            },
            "type": "contourcarpet"
           }
          ],
          "heatmap": [
           {
            "colorbar": {
             "outlinewidth": 0,
             "ticks": ""
            },
            "colorscale": [
             [
              0,
              "#0d0887"
             ],
             [
              0.1111111111111111,
              "#46039f"
             ],
             [
              0.2222222222222222,
              "#7201a8"
             ],
             [
              0.3333333333333333,
              "#9c179e"
             ],
             [
              0.4444444444444444,
              "#bd3786"
             ],
             [
              0.5555555555555556,
              "#d8576b"
             ],
             [
              0.6666666666666666,
              "#ed7953"
             ],
             [
              0.7777777777777778,
              "#fb9f3a"
             ],
             [
              0.8888888888888888,
              "#fdca26"
             ],
             [
              1,
              "#f0f921"
             ]
            ],
            "type": "heatmap"
           }
          ],
          "histogram": [
           {
            "marker": {
             "pattern": {
              "fillmode": "overlay",
              "size": 10,
              "solidity": 0.2
             }
            },
            "type": "histogram"
           }
          ],
          "histogram2d": [
           {
            "colorbar": {
             "outlinewidth": 0,
             "ticks": ""
            },
            "colorscale": [
             [
              0,
              "#0d0887"
             ],
             [
              0.1111111111111111,
              "#46039f"
             ],
             [
              0.2222222222222222,
              "#7201a8"
             ],
             [
              0.3333333333333333,
              "#9c179e"
             ],
             [
              0.4444444444444444,
              "#bd3786"
             ],
             [
              0.5555555555555556,
              "#d8576b"
             ],
             [
              0.6666666666666666,
              "#ed7953"
             ],
             [
              0.7777777777777778,
              "#fb9f3a"
             ],
             [
              0.8888888888888888,
              "#fdca26"
             ],
             [
              1,
              "#f0f921"
             ]
            ],
            "type": "histogram2d"
           }
          ],
          "histogram2dcontour": [
           {
            "colorbar": {
             "outlinewidth": 0,
             "ticks": ""
            },
            "colorscale": [
             [
              0,
              "#0d0887"
             ],
             [
              0.1111111111111111,
              "#46039f"
             ],
             [
              0.2222222222222222,
              "#7201a8"
             ],
             [
              0.3333333333333333,
              "#9c179e"
             ],
             [
              0.4444444444444444,
              "#bd3786"
             ],
             [
              0.5555555555555556,
              "#d8576b"
             ],
             [
              0.6666666666666666,
              "#ed7953"
             ],
             [
              0.7777777777777778,
              "#fb9f3a"
             ],
             [
              0.8888888888888888,
              "#fdca26"
             ],
             [
              1,
              "#f0f921"
             ]
            ],
            "type": "histogram2dcontour"
           }
          ],
          "mesh3d": [
           {
            "colorbar": {
             "outlinewidth": 0,
             "ticks": ""
            },
            "type": "mesh3d"
           }
          ],
          "parcoords": [
           {
            "line": {
             "colorbar": {
              "outlinewidth": 0,
              "ticks": ""
             }
            },
            "type": "parcoords"
           }
          ],
          "pie": [
           {
            "automargin": true,
            "type": "pie"
           }
          ],
          "scatter": [
           {
            "fillpattern": {
             "fillmode": "overlay",
             "size": 10,
             "solidity": 0.2
            },
            "type": "scatter"
           }
          ],
          "scatter3d": [
           {
            "line": {
             "colorbar": {
              "outlinewidth": 0,
              "ticks": ""
             }
            },
            "marker": {
             "colorbar": {
              "outlinewidth": 0,
              "ticks": ""
             }
            },
            "type": "scatter3d"
           }
          ],
          "scattercarpet": [
           {
            "marker": {
             "colorbar": {
              "outlinewidth": 0,
              "ticks": ""
             }
            },
            "type": "scattercarpet"
           }
          ],
          "scattergeo": [
           {
            "marker": {
             "colorbar": {
              "outlinewidth": 0,
              "ticks": ""
             }
            },
            "type": "scattergeo"
           }
          ],
          "scattergl": [
           {
            "marker": {
             "colorbar": {
              "outlinewidth": 0,
              "ticks": ""
             }
            },
            "type": "scattergl"
           }
          ],
          "scattermap": [
           {
            "marker": {
             "colorbar": {
              "outlinewidth": 0,
              "ticks": ""
             }
            },
            "type": "scattermap"
           }
          ],
          "scattermapbox": [
           {
            "marker": {
             "colorbar": {
              "outlinewidth": 0,
              "ticks": ""
             }
            },
            "type": "scattermapbox"
           }
          ],
          "scatterpolar": [
           {
            "marker": {
             "colorbar": {
              "outlinewidth": 0,
              "ticks": ""
             }
            },
            "type": "scatterpolar"
           }
          ],
          "scatterpolargl": [
           {
            "marker": {
             "colorbar": {
              "outlinewidth": 0,
              "ticks": ""
             }
            },
            "type": "scatterpolargl"
           }
          ],
          "scatterternary": [
           {
            "marker": {
             "colorbar": {
              "outlinewidth": 0,
              "ticks": ""
             }
            },
            "type": "scatterternary"
           }
          ],
          "surface": [
           {
            "colorbar": {
             "outlinewidth": 0,
             "ticks": ""
            },
            "colorscale": [
             [
              0,
              "#0d0887"
             ],
             [
              0.1111111111111111,
              "#46039f"
             ],
             [
              0.2222222222222222,
              "#7201a8"
             ],
             [
              0.3333333333333333,
              "#9c179e"
             ],
             [
              0.4444444444444444,
              "#bd3786"
             ],
             [
              0.5555555555555556,
              "#d8576b"
             ],
             [
              0.6666666666666666,
              "#ed7953"
             ],
             [
              0.7777777777777778,
              "#fb9f3a"
             ],
             [
              0.8888888888888888,
              "#fdca26"
             ],
             [
              1,
              "#f0f921"
             ]
            ],
            "type": "surface"
           }
          ],
          "table": [
           {
            "cells": {
             "fill": {
              "color": "#EBF0F8"
             },
             "line": {
              "color": "white"
             }
            },
            "header": {
             "fill": {
              "color": "#C8D4E3"
             },
             "line": {
              "color": "white"
             }
            },
            "type": "table"
           }
          ]
         },
         "layout": {
          "annotationdefaults": {
           "arrowcolor": "#2a3f5f",
           "arrowhead": 0,
           "arrowwidth": 1
          },
          "autotypenumbers": "strict",
          "coloraxis": {
           "colorbar": {
            "outlinewidth": 0,
            "ticks": ""
           }
          },
          "colorscale": {
           "diverging": [
            [
             0,
             "#8e0152"
            ],
            [
             0.1,
             "#c51b7d"
            ],
            [
             0.2,
             "#de77ae"
            ],
            [
             0.3,
             "#f1b6da"
            ],
            [
             0.4,
             "#fde0ef"
            ],
            [
             0.5,
             "#f7f7f7"
            ],
            [
             0.6,
             "#e6f5d0"
            ],
            [
             0.7,
             "#b8e186"
            ],
            [
             0.8,
             "#7fbc41"
            ],
            [
             0.9,
             "#4d9221"
            ],
            [
             1,
             "#276419"
            ]
           ],
           "sequential": [
            [
             0,
             "#0d0887"
            ],
            [
             0.1111111111111111,
             "#46039f"
            ],
            [
             0.2222222222222222,
             "#7201a8"
            ],
            [
             0.3333333333333333,
             "#9c179e"
            ],
            [
             0.4444444444444444,
             "#bd3786"
            ],
            [
             0.5555555555555556,
             "#d8576b"
            ],
            [
             0.6666666666666666,
             "#ed7953"
            ],
            [
             0.7777777777777778,
             "#fb9f3a"
            ],
            [
             0.8888888888888888,
             "#fdca26"
            ],
            [
             1,
             "#f0f921"
            ]
           ],
           "sequentialminus": [
            [
             0,
             "#0d0887"
            ],
            [
             0.1111111111111111,
             "#46039f"
            ],
            [
             0.2222222222222222,
             "#7201a8"
            ],
            [
             0.3333333333333333,
             "#9c179e"
            ],
            [
             0.4444444444444444,
             "#bd3786"
            ],
            [
             0.5555555555555556,
             "#d8576b"
            ],
            [
             0.6666666666666666,
             "#ed7953"
            ],
            [
             0.7777777777777778,
             "#fb9f3a"
            ],
            [
             0.8888888888888888,
             "#fdca26"
            ],
            [
             1,
             "#f0f921"
            ]
           ]
          },
          "colorway": [
           "#636efa",
           "#EF553B",
           "#00cc96",
           "#ab63fa",
           "#FFA15A",
           "#19d3f3",
           "#FF6692",
           "#B6E880",
           "#FF97FF",
           "#FECB52"
          ],
          "font": {
           "color": "#2a3f5f"
          },
          "geo": {
           "bgcolor": "white",
           "lakecolor": "white",
           "landcolor": "white",
           "showlakes": true,
           "showland": true,
           "subunitcolor": "#C8D4E3"
          },
          "hoverlabel": {
           "align": "left"
          },
          "hovermode": "closest",
          "mapbox": {
           "style": "light"
          },
          "paper_bgcolor": "white",
          "plot_bgcolor": "white",
          "polar": {
           "angularaxis": {
            "gridcolor": "#EBF0F8",
            "linecolor": "#EBF0F8",
            "ticks": ""
           },
           "bgcolor": "white",
           "radialaxis": {
            "gridcolor": "#EBF0F8",
            "linecolor": "#EBF0F8",
            "ticks": ""
           }
          },
          "scene": {
           "xaxis": {
            "backgroundcolor": "white",
            "gridcolor": "#DFE8F3",
            "gridwidth": 2,
            "linecolor": "#EBF0F8",
            "showbackground": true,
            "ticks": "",
            "zerolinecolor": "#EBF0F8"
           },
           "yaxis": {
            "backgroundcolor": "white",
            "gridcolor": "#DFE8F3",
            "gridwidth": 2,
            "linecolor": "#EBF0F8",
            "showbackground": true,
            "ticks": "",
            "zerolinecolor": "#EBF0F8"
           },
           "zaxis": {
            "backgroundcolor": "white",
            "gridcolor": "#DFE8F3",
            "gridwidth": 2,
            "linecolor": "#EBF0F8",
            "showbackground": true,
            "ticks": "",
            "zerolinecolor": "#EBF0F8"
           }
          },
          "shapedefaults": {
           "line": {
            "color": "#2a3f5f"
           }
          },
          "ternary": {
           "aaxis": {
            "gridcolor": "#DFE8F3",
            "linecolor": "#A2B1C6",
            "ticks": ""
           },
           "baxis": {
            "gridcolor": "#DFE8F3",
            "linecolor": "#A2B1C6",
            "ticks": ""
           },
           "bgcolor": "white",
           "caxis": {
            "gridcolor": "#DFE8F3",
            "linecolor": "#A2B1C6",
            "ticks": ""
           }
          },
          "title": {
           "x": 0.05
          },
          "xaxis": {
           "automargin": true,
           "gridcolor": "#EBF0F8",
           "linecolor": "#EBF0F8",
           "ticks": "",
           "title": {
            "standoff": 15
           },
           "zerolinecolor": "#EBF0F8",
           "zerolinewidth": 2
          },
          "yaxis": {
           "automargin": true,
           "gridcolor": "#EBF0F8",
           "linecolor": "#EBF0F8",
           "ticks": "",
           "title": {
            "standoff": 15
           },
           "zerolinecolor": "#EBF0F8",
           "zerolinewidth": 2
          }
         }
        },
        "title": {
         "text": "Entrenamiento TabNet"
        },
        "width": 1200,
        "xaxis": {
         "title": {
          "text": "Valores Reales"
         }
        },
        "yaxis": {
         "title": {
          "text": "Valores Predichos"
         }
        }
       }
      }
     },
     "metadata": {},
     "output_type": "display_data"
    },
    {
     "data": {
      "application/vnd.plotly.v1+json": {
       "config": {
        "plotlyServerURL": "https://plot.ly"
       },
       "data": [
        {
         "marker": {
          "color": "blue",
          "opacity": 0.6
         },
         "mode": "markers",
         "name": "Predicciones",
         "type": "scatter",
         "x": {
          "bdata": "oDuXPc/a2D/PFvskF0HwP4CmkRQG2MI/4Ljqwf+w1D/4KO0//jflP0D7TioMSdg/ONZ8tCur5D94HkogCQrjP0Df+YVSXNC/cAeE7JpE1D+A10j8WgrZPwDHYiHrvdE/sCj5B/t10j9+05TOVgrtPyDvItzOWNw/wGrdTHJqvD8AjiITCDCXv4BTqUSIQrW/4EKuMZnp1z8WRZcb9OPoP4B1E3tEA9k/gEP9RgI02T9gXHFDLzX/P4BAIK9gpMC/320Veu+o0r+wiBOxihneP0DQOhnKVts/wO5hSzwowD8AuJNdOcmnv5ge5Rwdz+U/4Pq99L1K0z+AB093T3awP3A5r3E1nNc/4H1q8DJ95D/AhDIgvFjeP9j1NKTdTPM/oCx4fQQG1z94n1VBIfjgPxAJBs88cu0/ABjvsFXj07+ApULyzezQP0Ck6wE2dse/0E9uC1Ng4D+ApaLP5p/aP0D/441/qMs/QNzhS8Fl2D8ACLxs1i+Hv4Bt6ALIBsg/EJU+FW2D7j8Aax1IG9LGv2ClY28FNtw/wAYmRr7xsT8A8zYcmZekP87n0ziXdek/Ha7qyIFZ8z8gXwr7rFHXP5gzlbv6cec/4N81xxf6zj8=",
          "dtype": "f8"
         },
         "y": {
          "bdata": "aAM/iEfg5z8/HdaNAAbgv4Cm7w0JSqI/NaJs5iKh0L+SW1a1ekr2P3wNeHAisec/fs65viiOxr9w0Y8gumjBPwCUDB8HTuI/5lGB/Yk9+T/8gPgsGXrAP+vxb1um7fG/YgfuxywJCUDPCrayN8rwv6pQuReYI+8/kGrFPmPVpb9g8XMW8v/ZP/xpHwF8C+k/r5NQO3dQ0r+230jBXWTwv+x7T5wWreU/TLCtCks6+L8yaVvt1lvhvxRUGo7Alvc/LvG3mgyu6D8qQCQ3bgjnvyQCmIZJcQHAyNG8ckt+4L/E2G+MKyfRP2sXe6MXTfI/k0iPdCWkAEC+v4P4nJn6P9SX1Qs9L+C/mAeEjGv/2T82S09efbIAwDQzdF/4KOI/0nlpiqc28b+06PU8Z9LYP/JF0hfkvuA/dNLUxjLGxz8bW7xdkHbivzSQ5tvzcvU/Dz6Q3E3s/r9G5BWtAlDWP8yrKVBSQs6/Qx/qIUKhAEBO97Us3YvoP4A9QsfYDaW/APyE+XesoD8APsYsoW1qv5q7809hXOI/up7tdxRy9z/8EWU92o3vP/3ooIhrnui/AALRH68jpD92mZuMdwngv17n8VBkQ/w/MLMXPgCn7z8=",
          "dtype": "f8"
         }
        },
        {
         "line": {
          "color": "red",
          "dash": "dash"
         },
         "mode": "lines",
         "name": "Regresión lineal",
         "type": "scatter",
         "x": {
          "bdata": "ABjvsFXj078yGeicHG3Sv2Ua4Yjj9tC/Lje06VQBz7+UOabB4hTMv/g7mJlwKMm/XT6Kcf47xr/CQHxJjE/DvydDbiEaY8C/GIvA8k/tur/ij6SiaxS1v1gpEaUOd66/6DLZBEbFor8A8oSS9U2Mv8DnWu4seYI/WLDO2xNQoD/IpgZ83AGsP5xOH47S2bM/0Ek73rayuT8IRVcum4u/Px6gOb8/ssI/up1H57GexT9Um1UPJIvIP/CYYzeWd8s/jJZxXwhkzj8Uyr9DPajQP+DIxld2HtI/rsfNa6+U0z98xtR/6ArVP0rF25MhgdY/FsTip1r31z/kwum7k23ZP7LB8M/M49o/gMD34wVa3D9Ov/73PtDdPxq+BQx4Rt8/dF4GkFhe4D/b3QkadRnhP0JdDaSR1OE/qNwQLq6P4j8PXBS4ykrjP3bbF0LnBeQ/3VobzAPB5D9E2h5WIHzlP6pZIuA8N+Y/Etklalny5j94WCn0da3nP97XLH6SaOg/RlcwCK8j6T+s1jOSy97pPxRWNxzomeo/etU6pgRV6z/gVD4wIRDsP0jUQbo9y+w/rlNFRFqG7T8U00jOdkHuP3xSTFiT/O4/4tFP4q+37z+lqCk2ZjnwP1hoK3v0lvA/CygtwIL08D+/5y4FEVLxP3KnMEqfr/E/Jmcyjy0N8j/ZJjTUu2ryP4zmNRlKyPI/QKY3Xtgl8z/zZTmjZoPzP6clO+j04PM/WuU8LYM+9D8NpT5yEZz0P8FkQLef+fQ/dCRC/C1X9T8o5ENBvLT1P9ujRYZKEvY/jmNHy9hv9j9CI0kQZ832P/XiSlX1Kvc/qKJMmoOI9z9cYk7fEeb3Pw8iUCSgQ/g/w+FRaS6h+D92oVOuvP74PylhVfNKXPk/3SBXONm5+T+Q4Fh9Zxf6P0SgWsL1dPo/919cB4TS+j+qH15MEjD7P17fX5Ggjfs/Ep9h1i7r+z/EXmMbvUj8P3geZWBLpvw/LN5mpdkD/T/enWjqZ2H9P5Jdai/2vv0/Rh1sdIQc/j/43G25Enr+P6ycb/6g1/4/YFxxQy81/z8=",
          "dtype": "f8"
         },
         "y": {
          "bdata": "QAPA2F8i5T/lkr8wRrDkP4siv4gsPuQ/MLK+4BLM4z/WQb44+VnjP3vRvZDf5+I/IGG96MV14j/G8LxArAPiP2uAvJiSkeE/ERC88Hgf4T+2n7tIX63gP1wvu6BFO+A/An518VeS3z9NnXShJK7eP5e8c1Hxyd0/4ttyAb7l3D8t+3GxigHcP3gacWFXHds/wzlwESQ52j8NWW/B8FTZP1h4bnG9cNg/o5dtIYqM1z/utmzRVqjWPznWa4EjxNU/hPVqMfDf1D/OFGrhvPvTPxo0aZGJF9M/ZFNoQVYz0j+vcmfxIk/RP/qRZqHvatA/imLLongNzz8fockCEkXNP7Tfx2KrfMs/Sh7GwkS0yT/eXMQi3uvHP3abwoJ3I8Y/DNrA4hBbxD+gGL9CqpLCPzZXvaJDysA/nCt3BboDvj/EqHPF7HK6P/AlcIUf4rY/GKNsRVJRsz+IQNIKCoGvP+g6y4pvX6g/MDXECtU9oT8gX3oVdTiUP4BPsVUA1Xc/IG9D1embgL/Qwq/qKZGWvyDnXnUvaqK/wOxl9cmLqb8webY6slawvwj8uXp/57O/4H69ukx4t7+wAcH6GQm7v4iExDrnmb6/rANkPVoVwb8YxWXdwN3Cv4SGZ30npsS/7EdpHY5uxr9YCWu99DbIv8DKbF1b/8m/LIxu/cHHy7+YTXCdKJDNvwAPcj2PWM+/Nui57nqQ0L/qyLo+rnTRv6Cpu47hWNK/Voq83hQ9078Ka70uSCHUv8BLvn57BdW/dCy/zq7p1b8qDcAe4s3Wv+DtwG4Vste/lM7BvkiW2L9Kr8IOfHrZv/6Pw16vXtq/snDEruJC279oUcX+FSfcvx4yxk5JC92/1BLHnnzv3b+I88fur9PevzzUyD7jt9+/edpkRwtO4L/USmXvJMDgvy+7ZZc+MuG/iStmP1ik4b/jm2bncRbivz8MZ4+LiOK/mXxnN6X64r/z7Gffvmzjv01daIfY3uO/qc1oL/JQ5L8DPmnXC8Pkv12uaX8lNeW/uR5qJz+n5b8Rj2rPWBnmv23/andyi+a/yW9rH4z95r8=",
          "dtype": "f8"
         }
        },
        {
         "line": {
          "color": "green",
          "dash": "dot"
         },
         "mode": "lines",
         "name": "Línea Perfecta (y = x)",
         "type": "scatter",
         "x": {
          "bdata": "ABjvsFXj078yGeicHG3Sv2Ua4Yjj9tC/Lje06VQBz7+UOabB4hTMv/g7mJlwKMm/XT6Kcf47xr/CQHxJjE/DvydDbiEaY8C/GIvA8k/tur/ij6SiaxS1v1gpEaUOd66/6DLZBEbFor8A8oSS9U2Mv8DnWu4seYI/WLDO2xNQoD/IpgZ83AGsP5xOH47S2bM/0Ek73rayuT8IRVcum4u/Px6gOb8/ssI/up1H57GexT9Um1UPJIvIP/CYYzeWd8s/jJZxXwhkzj8Uyr9DPajQP+DIxld2HtI/rsfNa6+U0z98xtR/6ArVP0rF25MhgdY/FsTip1r31z/kwum7k23ZP7LB8M/M49o/gMD34wVa3D9Ov/73PtDdPxq+BQx4Rt8/dF4GkFhe4D/b3QkadRnhP0JdDaSR1OE/qNwQLq6P4j8PXBS4ykrjP3bbF0LnBeQ/3VobzAPB5D9E2h5WIHzlP6pZIuA8N+Y/Etklalny5j94WCn0da3nP97XLH6SaOg/RlcwCK8j6T+s1jOSy97pPxRWNxzomeo/etU6pgRV6z/gVD4wIRDsP0jUQbo9y+w/rlNFRFqG7T8U00jOdkHuP3xSTFiT/O4/4tFP4q+37z+lqCk2ZjnwP1hoK3v0lvA/CygtwIL08D+/5y4FEVLxP3KnMEqfr/E/Jmcyjy0N8j/ZJjTUu2ryP4zmNRlKyPI/QKY3Xtgl8z/zZTmjZoPzP6clO+j04PM/WuU8LYM+9D8NpT5yEZz0P8FkQLef+fQ/dCRC/C1X9T8o5ENBvLT1P9ujRYZKEvY/jmNHy9hv9j9CI0kQZ832P/XiSlX1Kvc/qKJMmoOI9z9cYk7fEeb3Pw8iUCSgQ/g/w+FRaS6h+D92oVOuvP74PylhVfNKXPk/3SBXONm5+T+Q4Fh9Zxf6P0SgWsL1dPo/919cB4TS+j+qH15MEjD7P17fX5Ggjfs/Ep9h1i7r+z/EXmMbvUj8P3geZWBLpvw/LN5mpdkD/T/enWjqZ2H9P5Jdai/2vv0/Rh1sdIQc/j/43G25Enr+P6ycb/6g1/4/YFxxQy81/z8=",
          "dtype": "f8"
         },
         "y": {
          "bdata": "ABjvsFXj078yGeicHG3Sv2Ua4Yjj9tC/Lje06VQBz7+UOabB4hTMv/g7mJlwKMm/XT6Kcf47xr/CQHxJjE/DvydDbiEaY8C/GIvA8k/tur/ij6SiaxS1v1gpEaUOd66/6DLZBEbFor8A8oSS9U2Mv8DnWu4seYI/WLDO2xNQoD/IpgZ83AGsP5xOH47S2bM/0Ek73rayuT8IRVcum4u/Px6gOb8/ssI/up1H57GexT9Um1UPJIvIP/CYYzeWd8s/jJZxXwhkzj8Uyr9DPajQP+DIxld2HtI/rsfNa6+U0z98xtR/6ArVP0rF25MhgdY/FsTip1r31z/kwum7k23ZP7LB8M/M49o/gMD34wVa3D9Ov/73PtDdPxq+BQx4Rt8/dF4GkFhe4D/b3QkadRnhP0JdDaSR1OE/qNwQLq6P4j8PXBS4ykrjP3bbF0LnBeQ/3VobzAPB5D9E2h5WIHzlP6pZIuA8N+Y/Etklalny5j94WCn0da3nP97XLH6SaOg/RlcwCK8j6T+s1jOSy97pPxRWNxzomeo/etU6pgRV6z/gVD4wIRDsP0jUQbo9y+w/rlNFRFqG7T8U00jOdkHuP3xSTFiT/O4/4tFP4q+37z+lqCk2ZjnwP1hoK3v0lvA/CygtwIL08D+/5y4FEVLxP3KnMEqfr/E/Jmcyjy0N8j/ZJjTUu2ryP4zmNRlKyPI/QKY3Xtgl8z/zZTmjZoPzP6clO+j04PM/WuU8LYM+9D8NpT5yEZz0P8FkQLef+fQ/dCRC/C1X9T8o5ENBvLT1P9ujRYZKEvY/jmNHy9hv9j9CI0kQZ832P/XiSlX1Kvc/qKJMmoOI9z9cYk7fEeb3Pw8iUCSgQ/g/w+FRaS6h+D92oVOuvP74PylhVfNKXPk/3SBXONm5+T+Q4Fh9Zxf6P0SgWsL1dPo/919cB4TS+j+qH15MEjD7P17fX5Ggjfs/Ep9h1i7r+z/EXmMbvUj8P3geZWBLpvw/LN5mpdkD/T/enWjqZ2H9P5Jdai/2vv0/Rh1sdIQc/j/43G25Enr+P6ycb/6g1/4/YFxxQy81/z8=",
          "dtype": "f8"
         }
        }
       ],
       "layout": {
        "annotations": [
         {
          "align": "left",
          "bgcolor": "white",
          "bordercolor": "black",
          "borderwidth": 1,
          "font": {
           "color": "black",
           "size": 14
          },
          "showarrow": false,
          "text": "y = -0.610x + 0.471<br>R² = 0.056",
          "x": 0.05,
          "xref": "paper",
          "y": 0.95,
          "yref": "paper"
         }
        ],
        "height": 400,
        "template": {
         "data": {
          "bar": [
           {
            "error_x": {
             "color": "#2a3f5f"
            },
            "error_y": {
             "color": "#2a3f5f"
            },
            "marker": {
             "line": {
              "color": "white",
              "width": 0.5
             },
             "pattern": {
              "fillmode": "overlay",
              "size": 10,
              "solidity": 0.2
             }
            },
            "type": "bar"
           }
          ],
          "barpolar": [
           {
            "marker": {
             "line": {
              "color": "white",
              "width": 0.5
             },
             "pattern": {
              "fillmode": "overlay",
              "size": 10,
              "solidity": 0.2
             }
            },
            "type": "barpolar"
           }
          ],
          "carpet": [
           {
            "aaxis": {
             "endlinecolor": "#2a3f5f",
             "gridcolor": "#C8D4E3",
             "linecolor": "#C8D4E3",
             "minorgridcolor": "#C8D4E3",
             "startlinecolor": "#2a3f5f"
            },
            "baxis": {
             "endlinecolor": "#2a3f5f",
             "gridcolor": "#C8D4E3",
             "linecolor": "#C8D4E3",
             "minorgridcolor": "#C8D4E3",
             "startlinecolor": "#2a3f5f"
            },
            "type": "carpet"
           }
          ],
          "choropleth": [
           {
            "colorbar": {
             "outlinewidth": 0,
             "ticks": ""
            },
            "type": "choropleth"
           }
          ],
          "contour": [
           {
            "colorbar": {
             "outlinewidth": 0,
             "ticks": ""
            },
            "colorscale": [
             [
              0,
              "#0d0887"
             ],
             [
              0.1111111111111111,
              "#46039f"
             ],
             [
              0.2222222222222222,
              "#7201a8"
             ],
             [
              0.3333333333333333,
              "#9c179e"
             ],
             [
              0.4444444444444444,
              "#bd3786"
             ],
             [
              0.5555555555555556,
              "#d8576b"
             ],
             [
              0.6666666666666666,
              "#ed7953"
             ],
             [
              0.7777777777777778,
              "#fb9f3a"
             ],
             [
              0.8888888888888888,
              "#fdca26"
             ],
             [
              1,
              "#f0f921"
             ]
            ],
            "type": "contour"
           }
          ],
          "contourcarpet": [
           {
            "colorbar": {
             "outlinewidth": 0,
             "ticks": ""
            },
            "type": "contourcarpet"
           }
          ],
          "heatmap": [
           {
            "colorbar": {
             "outlinewidth": 0,
             "ticks": ""
            },
            "colorscale": [
             [
              0,
              "#0d0887"
             ],
             [
              0.1111111111111111,
              "#46039f"
             ],
             [
              0.2222222222222222,
              "#7201a8"
             ],
             [
              0.3333333333333333,
              "#9c179e"
             ],
             [
              0.4444444444444444,
              "#bd3786"
             ],
             [
              0.5555555555555556,
              "#d8576b"
             ],
             [
              0.6666666666666666,
              "#ed7953"
             ],
             [
              0.7777777777777778,
              "#fb9f3a"
             ],
             [
              0.8888888888888888,
              "#fdca26"
             ],
             [
              1,
              "#f0f921"
             ]
            ],
            "type": "heatmap"
           }
          ],
          "histogram": [
           {
            "marker": {
             "pattern": {
              "fillmode": "overlay",
              "size": 10,
              "solidity": 0.2
             }
            },
            "type": "histogram"
           }
          ],
          "histogram2d": [
           {
            "colorbar": {
             "outlinewidth": 0,
             "ticks": ""
            },
            "colorscale": [
             [
              0,
              "#0d0887"
             ],
             [
              0.1111111111111111,
              "#46039f"
             ],
             [
              0.2222222222222222,
              "#7201a8"
             ],
             [
              0.3333333333333333,
              "#9c179e"
             ],
             [
              0.4444444444444444,
              "#bd3786"
             ],
             [
              0.5555555555555556,
              "#d8576b"
             ],
             [
              0.6666666666666666,
              "#ed7953"
             ],
             [
              0.7777777777777778,
              "#fb9f3a"
             ],
             [
              0.8888888888888888,
              "#fdca26"
             ],
             [
              1,
              "#f0f921"
             ]
            ],
            "type": "histogram2d"
           }
          ],
          "histogram2dcontour": [
           {
            "colorbar": {
             "outlinewidth": 0,
             "ticks": ""
            },
            "colorscale": [
             [
              0,
              "#0d0887"
             ],
             [
              0.1111111111111111,
              "#46039f"
             ],
             [
              0.2222222222222222,
              "#7201a8"
             ],
             [
              0.3333333333333333,
              "#9c179e"
             ],
             [
              0.4444444444444444,
              "#bd3786"
             ],
             [
              0.5555555555555556,
              "#d8576b"
             ],
             [
              0.6666666666666666,
              "#ed7953"
             ],
             [
              0.7777777777777778,
              "#fb9f3a"
             ],
             [
              0.8888888888888888,
              "#fdca26"
             ],
             [
              1,
              "#f0f921"
             ]
            ],
            "type": "histogram2dcontour"
           }
          ],
          "mesh3d": [
           {
            "colorbar": {
             "outlinewidth": 0,
             "ticks": ""
            },
            "type": "mesh3d"
           }
          ],
          "parcoords": [
           {
            "line": {
             "colorbar": {
              "outlinewidth": 0,
              "ticks": ""
             }
            },
            "type": "parcoords"
           }
          ],
          "pie": [
           {
            "automargin": true,
            "type": "pie"
           }
          ],
          "scatter": [
           {
            "fillpattern": {
             "fillmode": "overlay",
             "size": 10,
             "solidity": 0.2
            },
            "type": "scatter"
           }
          ],
          "scatter3d": [
           {
            "line": {
             "colorbar": {
              "outlinewidth": 0,
              "ticks": ""
             }
            },
            "marker": {
             "colorbar": {
              "outlinewidth": 0,
              "ticks": ""
             }
            },
            "type": "scatter3d"
           }
          ],
          "scattercarpet": [
           {
            "marker": {
             "colorbar": {
              "outlinewidth": 0,
              "ticks": ""
             }
            },
            "type": "scattercarpet"
           }
          ],
          "scattergeo": [
           {
            "marker": {
             "colorbar": {
              "outlinewidth": 0,
              "ticks": ""
             }
            },
            "type": "scattergeo"
           }
          ],
          "scattergl": [
           {
            "marker": {
             "colorbar": {
              "outlinewidth": 0,
              "ticks": ""
             }
            },
            "type": "scattergl"
           }
          ],
          "scattermap": [
           {
            "marker": {
             "colorbar": {
              "outlinewidth": 0,
              "ticks": ""
             }
            },
            "type": "scattermap"
           }
          ],
          "scattermapbox": [
           {
            "marker": {
             "colorbar": {
              "outlinewidth": 0,
              "ticks": ""
             }
            },
            "type": "scattermapbox"
           }
          ],
          "scatterpolar": [
           {
            "marker": {
             "colorbar": {
              "outlinewidth": 0,
              "ticks": ""
             }
            },
            "type": "scatterpolar"
           }
          ],
          "scatterpolargl": [
           {
            "marker": {
             "colorbar": {
              "outlinewidth": 0,
              "ticks": ""
             }
            },
            "type": "scatterpolargl"
           }
          ],
          "scatterternary": [
           {
            "marker": {
             "colorbar": {
              "outlinewidth": 0,
              "ticks": ""
             }
            },
            "type": "scatterternary"
           }
          ],
          "surface": [
           {
            "colorbar": {
             "outlinewidth": 0,
             "ticks": ""
            },
            "colorscale": [
             [
              0,
              "#0d0887"
             ],
             [
              0.1111111111111111,
              "#46039f"
             ],
             [
              0.2222222222222222,
              "#7201a8"
             ],
             [
              0.3333333333333333,
              "#9c179e"
             ],
             [
              0.4444444444444444,
              "#bd3786"
             ],
             [
              0.5555555555555556,
              "#d8576b"
             ],
             [
              0.6666666666666666,
              "#ed7953"
             ],
             [
              0.7777777777777778,
              "#fb9f3a"
             ],
             [
              0.8888888888888888,
              "#fdca26"
             ],
             [
              1,
              "#f0f921"
             ]
            ],
            "type": "surface"
           }
          ],
          "table": [
           {
            "cells": {
             "fill": {
              "color": "#EBF0F8"
             },
             "line": {
              "color": "white"
             }
            },
            "header": {
             "fill": {
              "color": "#C8D4E3"
             },
             "line": {
              "color": "white"
             }
            },
            "type": "table"
           }
          ]
         },
         "layout": {
          "annotationdefaults": {
           "arrowcolor": "#2a3f5f",
           "arrowhead": 0,
           "arrowwidth": 1
          },
          "autotypenumbers": "strict",
          "coloraxis": {
           "colorbar": {
            "outlinewidth": 0,
            "ticks": ""
           }
          },
          "colorscale": {
           "diverging": [
            [
             0,
             "#8e0152"
            ],
            [
             0.1,
             "#c51b7d"
            ],
            [
             0.2,
             "#de77ae"
            ],
            [
             0.3,
             "#f1b6da"
            ],
            [
             0.4,
             "#fde0ef"
            ],
            [
             0.5,
             "#f7f7f7"
            ],
            [
             0.6,
             "#e6f5d0"
            ],
            [
             0.7,
             "#b8e186"
            ],
            [
             0.8,
             "#7fbc41"
            ],
            [
             0.9,
             "#4d9221"
            ],
            [
             1,
             "#276419"
            ]
           ],
           "sequential": [
            [
             0,
             "#0d0887"
            ],
            [
             0.1111111111111111,
             "#46039f"
            ],
            [
             0.2222222222222222,
             "#7201a8"
            ],
            [
             0.3333333333333333,
             "#9c179e"
            ],
            [
             0.4444444444444444,
             "#bd3786"
            ],
            [
             0.5555555555555556,
             "#d8576b"
            ],
            [
             0.6666666666666666,
             "#ed7953"
            ],
            [
             0.7777777777777778,
             "#fb9f3a"
            ],
            [
             0.8888888888888888,
             "#fdca26"
            ],
            [
             1,
             "#f0f921"
            ]
           ],
           "sequentialminus": [
            [
             0,
             "#0d0887"
            ],
            [
             0.1111111111111111,
             "#46039f"
            ],
            [
             0.2222222222222222,
             "#7201a8"
            ],
            [
             0.3333333333333333,
             "#9c179e"
            ],
            [
             0.4444444444444444,
             "#bd3786"
            ],
            [
             0.5555555555555556,
             "#d8576b"
            ],
            [
             0.6666666666666666,
             "#ed7953"
            ],
            [
             0.7777777777777778,
             "#fb9f3a"
            ],
            [
             0.8888888888888888,
             "#fdca26"
            ],
            [
             1,
             "#f0f921"
            ]
           ]
          },
          "colorway": [
           "#636efa",
           "#EF553B",
           "#00cc96",
           "#ab63fa",
           "#FFA15A",
           "#19d3f3",
           "#FF6692",
           "#B6E880",
           "#FF97FF",
           "#FECB52"
          ],
          "font": {
           "color": "#2a3f5f"
          },
          "geo": {
           "bgcolor": "white",
           "lakecolor": "white",
           "landcolor": "white",
           "showlakes": true,
           "showland": true,
           "subunitcolor": "#C8D4E3"
          },
          "hoverlabel": {
           "align": "left"
          },
          "hovermode": "closest",
          "mapbox": {
           "style": "light"
          },
          "paper_bgcolor": "white",
          "plot_bgcolor": "white",
          "polar": {
           "angularaxis": {
            "gridcolor": "#EBF0F8",
            "linecolor": "#EBF0F8",
            "ticks": ""
           },
           "bgcolor": "white",
           "radialaxis": {
            "gridcolor": "#EBF0F8",
            "linecolor": "#EBF0F8",
            "ticks": ""
           }
          },
          "scene": {
           "xaxis": {
            "backgroundcolor": "white",
            "gridcolor": "#DFE8F3",
            "gridwidth": 2,
            "linecolor": "#EBF0F8",
            "showbackground": true,
            "ticks": "",
            "zerolinecolor": "#EBF0F8"
           },
           "yaxis": {
            "backgroundcolor": "white",
            "gridcolor": "#DFE8F3",
            "gridwidth": 2,
            "linecolor": "#EBF0F8",
            "showbackground": true,
            "ticks": "",
            "zerolinecolor": "#EBF0F8"
           },
           "zaxis": {
            "backgroundcolor": "white",
            "gridcolor": "#DFE8F3",
            "gridwidth": 2,
            "linecolor": "#EBF0F8",
            "showbackground": true,
            "ticks": "",
            "zerolinecolor": "#EBF0F8"
           }
          },
          "shapedefaults": {
           "line": {
            "color": "#2a3f5f"
           }
          },
          "ternary": {
           "aaxis": {
            "gridcolor": "#DFE8F3",
            "linecolor": "#A2B1C6",
            "ticks": ""
           },
           "baxis": {
            "gridcolor": "#DFE8F3",
            "linecolor": "#A2B1C6",
            "ticks": ""
           },
           "bgcolor": "white",
           "caxis": {
            "gridcolor": "#DFE8F3",
            "linecolor": "#A2B1C6",
            "ticks": ""
           }
          },
          "title": {
           "x": 0.05
          },
          "xaxis": {
           "automargin": true,
           "gridcolor": "#EBF0F8",
           "linecolor": "#EBF0F8",
           "ticks": "",
           "title": {
            "standoff": 15
           },
           "zerolinecolor": "#EBF0F8",
           "zerolinewidth": 2
          },
          "yaxis": {
           "automargin": true,
           "gridcolor": "#EBF0F8",
           "linecolor": "#EBF0F8",
           "ticks": "",
           "title": {
            "standoff": 15
           },
           "zerolinecolor": "#EBF0F8",
           "zerolinewidth": 2
          }
         }
        },
        "title": {
         "text": "Validación TabNet"
        },
        "width": 1200,
        "xaxis": {
         "title": {
          "text": "Valores Reales"
         }
        },
        "yaxis": {
         "title": {
          "text": "Valores Predichos"
         }
        }
       }
      }
     },
     "metadata": {},
     "output_type": "display_data"
    }
   ],
   "source": [
    "# Gráficos de regresión\n",
    "dh.plot_regression(y_train_mo, y_pred_train_mo, title='Entrenamiento TabNet', size=(1200, 400))\n",
    "dh.plot_regression(y_val_mo, y_pred_val_mo, title='Validación TabNet', size=(1200, 400))"
   ]
  }
 ],
 "metadata": {
  "kernelspec": {
   "display_name": ".venv",
   "language": "python",
   "name": "python3"
  },
  "language_info": {
   "codemirror_mode": {
    "name": "ipython",
    "version": 3
   },
   "file_extension": ".py",
   "mimetype": "text/x-python",
   "name": "python",
   "nbconvert_exporter": "python",
   "pygments_lexer": "ipython3",
   "version": "3.13.2"
  }
 },
 "nbformat": 4,
 "nbformat_minor": 5
}
