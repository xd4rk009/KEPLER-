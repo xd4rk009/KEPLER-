{
 "cells": [
  {
   "cell_type": "code",
   "execution_count": 1,
   "id": "f444ae55",
   "metadata": {},
   "outputs": [
    {
     "name": "stderr",
     "output_type": "stream",
     "text": [
      "2025-05-17 12:45:49,461 - INFO - Configuración de logging inicializada correctamente.\n",
      "2025-05-17 12:46:05,563 - INFO - Columnas objetivo actualizadas: ['Mo_cumulative']\n",
      "2025-05-17 12:46:05,564 - INFO - Inicio de la carga de datos.\n",
      "2025-05-17 12:46:05,568 - INFO - Tabla Tabla_Unificada cargada correctamente.\n",
      "2025-05-17 12:46:05,570 - INFO - Tabla Variables_Description cargada correctamente.\n",
      "2025-05-17 12:46:05,563 - INFO - Columnas objetivo actualizadas: ['Mo_cumulative']\n",
      "2025-05-17 12:46:05,564 - INFO - Inicio de la carga de datos.\n",
      "2025-05-17 12:46:05,568 - INFO - Tabla Tabla_Unificada cargada correctamente.\n",
      "2025-05-17 12:46:05,570 - INFO - Tabla Variables_Description cargada correctamente.\n",
      "2025-05-17 12:46:05,575 - INFO - Conexión cerrada.\n",
      "2025-05-17 12:46:05,575 - INFO - Datos cargados exitosamente.\n",
      "2025-05-17 12:46:05,576 - INFO - Inicio del preprocesamiento de datos.\n",
      "2025-05-17 12:46:05,586 - INFO - Variables de entrada procesadas: ['Cobertura Total', 'Cobertura Primario', 'Tronadura_Largo de Perforación (m)', 'Tronadura_N° Tiros', 'Tronadura_N° Tiros Real', 'Tronadura_Kg. de explosivos tronadura', 'Tronadura_Tipo Explosivo', 'Destressing_Se realizó', 'Destressing_N° Tiros', 'Destressing_Kg. de explosivos', 'Destressing_Tipo Explosivo', 'Geotecnicas_UCS (MPa)', 'Geotecnicas_Modulo de Young (GPa)', 'Geotecnicas_Razón Poisson', 'Litología', 'Fallas_Presencia', 'Fallas_Sub-Paralelas', 'Estructura', 'Estructura Crítica', 'Condición de Agua', 'GSI_Puntaje', 'GSI_Blocosidad', 'GSI_Condición Estructuras', 'DTM', 'Blocosidad_Volumen Total', 'Blocosidad_N° Caras', 'Blocosidad_Sumatoria Superficie', 'Blocosidad_Índice Blocosidad', 'Avance_Largo real (m)', 'Avance_Tipo de Explosivo', 'Sobre-excavacion_A (Caja Norte)', 'Sobre-excavacion_B (Acod. Norte)', 'Sobre-excavacion_C (Techo)', 'Sobre-excavacion_D (Acod. Sur)', 'Sobre-excavacion_E (Caja Sur)', 'Sobre-excavacion_% Sobre-Excavación', 'A (Caja Norte)', 'B (Acod. Norte)', 'C (Techo)', 'D (Acod. Sur)', 'E (Caja Sur)', 'Total', 'Coordenadas_Norte (m)', 'Coordenadas_Este (m)', 'Coordenadas_Cota (m)', 'Avance Topográfico (m)', 'Metros Acumulado (m)', 'Área teórica(m2)', '% sobre-excavación', 'Volumen excavado (m3)', 'Tiempo de Ciclo Total (h)', 'Tiempo Ciclo Acumunado (h)', 'Tiempo Tronadura']\n",
      "2025-05-17 12:46:05,575 - INFO - Conexión cerrada.\n",
      "2025-05-17 12:46:05,575 - INFO - Datos cargados exitosamente.\n",
      "2025-05-17 12:46:05,576 - INFO - Inicio del preprocesamiento de datos.\n",
      "2025-05-17 12:46:05,586 - INFO - Variables de entrada procesadas: ['Cobertura Total', 'Cobertura Primario', 'Tronadura_Largo de Perforación (m)', 'Tronadura_N° Tiros', 'Tronadura_N° Tiros Real', 'Tronadura_Kg. de explosivos tronadura', 'Tronadura_Tipo Explosivo', 'Destressing_Se realizó', 'Destressing_N° Tiros', 'Destressing_Kg. de explosivos', 'Destressing_Tipo Explosivo', 'Geotecnicas_UCS (MPa)', 'Geotecnicas_Modulo de Young (GPa)', 'Geotecnicas_Razón Poisson', 'Litología', 'Fallas_Presencia', 'Fallas_Sub-Paralelas', 'Estructura', 'Estructura Crítica', 'Condición de Agua', 'GSI_Puntaje', 'GSI_Blocosidad', 'GSI_Condición Estructuras', 'DTM', 'Blocosidad_Volumen Total', 'Blocosidad_N° Caras', 'Blocosidad_Sumatoria Superficie', 'Blocosidad_Índice Blocosidad', 'Avance_Largo real (m)', 'Avance_Tipo de Explosivo', 'Sobre-excavacion_A (Caja Norte)', 'Sobre-excavacion_B (Acod. Norte)', 'Sobre-excavacion_C (Techo)', 'Sobre-excavacion_D (Acod. Sur)', 'Sobre-excavacion_E (Caja Sur)', 'Sobre-excavacion_% Sobre-Excavación', 'A (Caja Norte)', 'B (Acod. Norte)', 'C (Techo)', 'D (Acod. Sur)', 'E (Caja Sur)', 'Total', 'Coordenadas_Norte (m)', 'Coordenadas_Este (m)', 'Coordenadas_Cota (m)', 'Avance Topográfico (m)', 'Metros Acumulado (m)', 'Área teórica(m2)', '% sobre-excavación', 'Volumen excavado (m3)', 'Tiempo de Ciclo Total (h)', 'Tiempo Ciclo Acumunado (h)', 'Tiempo Tronadura']\n",
      "2025-05-17 12:46:05,588 - INFO - Variables target seleccionadas y transformadas: ['Mo_cumulative']\n",
      "2025-05-17 12:46:05,589 - INFO - Preprocesamiento de datos completado exitosamente.\n",
      "2025-05-17 12:46:05,590 - INFO - Inicio de la normalización de datos.\n",
      "2025-05-17 12:46:05,591 - INFO - Datos de entrada normalizados correctamente.\n",
      "2025-05-17 12:46:05,592 - INFO - Datos de salida normalizados correctamente.\n",
      "2025-05-17 12:46:05,592 - INFO - DataFrame de escalas generado correctamente.\n",
      "2025-05-17 12:46:05,593 - INFO - Normalización de datos completada exitosamente.\n",
      "2025-05-17 12:46:05,588 - INFO - Variables target seleccionadas y transformadas: ['Mo_cumulative']\n",
      "2025-05-17 12:46:05,589 - INFO - Preprocesamiento de datos completado exitosamente.\n",
      "2025-05-17 12:46:05,590 - INFO - Inicio de la normalización de datos.\n",
      "2025-05-17 12:46:05,591 - INFO - Datos de entrada normalizados correctamente.\n",
      "2025-05-17 12:46:05,592 - INFO - Datos de salida normalizados correctamente.\n",
      "2025-05-17 12:46:05,592 - INFO - DataFrame de escalas generado correctamente.\n",
      "2025-05-17 12:46:05,593 - INFO - Normalización de datos completada exitosamente.\n"
     ]
    },
    {
     "name": "stdout",
     "output_type": "stream",
     "text": [
      "🔗 Conexión establecida con data/Tronaduras_vs_Sismicidad.db\n",
      "✅ Datos leídos desde 'Processed_Data.Tabla_Unificada' y convertidos a DataFrame.\n",
      "✅ Datos leídos desde 'Raw_Data.Variables_Description' y convertidos a DataFrame.\n",
      "🔌 Conexión cerrada manualmente.\n",
      "[2025-05-17 12:46:06] 🚀 [MixtureDensityNetworks] Entrenando red...\n",
      "[2025-05-17 12:46:06] ✨ [MixtureDensityNetworks] Mejor modelo en época 0 📉 train loss: 0.7747 📊 val loss: 0.6263\n",
      "[2025-05-17 12:46:06] 🔄 [MixtureDensityNetworks] [Época 0] 🧠 Pérdida entrenamiento: 0.7747 | Validación: 0.6263\n",
      "[2025-05-17 12:46:06] ✨ [MixtureDensityNetworks] Mejor modelo en época 1 📉 train loss: 0.6400 📊 val loss: 0.4864\n",
      "[2025-05-17 12:46:06] ✨ [MixtureDensityNetworks] Mejor modelo en época 2 📉 train loss: 0.4980 📊 val loss: 0.3504\n",
      "[2025-05-17 12:46:06] ✨ [MixtureDensityNetworks] Mejor modelo en época 4 📉 train loss: 0.3445 📊 val loss: 0.1630\n",
      "[2025-05-17 12:46:06] ✨ [MixtureDensityNetworks] Mejor modelo en época 5 📉 train loss: 0.1488 📊 val loss: -0.0083\n",
      "[2025-05-17 12:46:06] ✨ [MixtureDensityNetworks] Mejor modelo en época 6 📉 train loss: 0.0017 📊 val loss: -0.1312\n",
      "[2025-05-17 12:46:06] ✨ [MixtureDensityNetworks] Mejor modelo en época 7 📉 train loss: -0.1032 📊 val loss: -0.3494\n",
      "[2025-05-17 12:46:06] ✨ [MixtureDensityNetworks] Mejor modelo en época 9 📉 train loss: -0.4148 📊 val loss: -0.5369\n",
      "[2025-05-17 12:46:06] ✨ [MixtureDensityNetworks] Mejor modelo en época 11 📉 train loss: -0.5421 📊 val loss: -0.6088\n",
      "[2025-05-17 12:46:06] ✨ [MixtureDensityNetworks] Mejor modelo en época 12 📉 train loss: -0.5940 📊 val loss: -0.6482\n",
      "[2025-05-17 12:46:06] ✨ [MixtureDensityNetworks] Mejor modelo en época 30 📉 train loss: -0.7150 📊 val loss: -0.6741\n",
      "[2025-05-17 12:46:06] ✨ [MixtureDensityNetworks] Mejor modelo en época 31 📉 train loss: -0.7513 📊 val loss: -0.6994\n",
      "[2025-05-17 12:46:06] ✨ [MixtureDensityNetworks] Mejor modelo en época 46 📉 train loss: -0.8639 📊 val loss: -0.7133\n",
      "[2025-05-17 12:46:06] ✨ [MixtureDensityNetworks] Mejor modelo en época 51 📉 train loss: -0.9510 📊 val loss: -0.7307\n",
      "[2025-05-17 12:46:06] ✨ [MixtureDensityNetworks] Mejor modelo en época 57 📉 train loss: -0.8760 📊 val loss: -0.7634\n",
      "[2025-05-17 12:46:06] ✨ [MixtureDensityNetworks] Mejor modelo en época 61 📉 train loss: -0.9383 📊 val loss: -0.7694\n",
      "[2025-05-17 12:46:07] 🔄 [MixtureDensityNetworks] [Época 100] 🧠 Pérdida entrenamiento: -0.9938 | Validación: -0.6898\n",
      "[2025-05-17 12:46:07] 🔄 [MixtureDensityNetworks] [Época 200] 🧠 Pérdida entrenamiento: -1.2097 | Validación: -0.6482\n",
      "[2025-05-17 12:46:07] 🔄 [MixtureDensityNetworks] [Época 300] 🧠 Pérdida entrenamiento: -1.4605 | Validación: -0.3580\n",
      "[2025-05-17 12:46:08] 🔄 [MixtureDensityNetworks] [Época 400] 🧠 Pérdida entrenamiento: -1.8794 | Validación: 0.3855\n",
      "[2025-05-17 12:46:08] 🔄 [MixtureDensityNetworks] [Época 500] 🧠 Pérdida entrenamiento: -1.9917 | Validación: 1.0984\n",
      "[2025-05-17 12:46:09] 🔄 [MixtureDensityNetworks] [Época 600] 🧠 Pérdida entrenamiento: 0.2027 | Validación: 3.4135\n",
      "[2025-05-17 12:46:09] 🔄 [MixtureDensityNetworks] [Época 700] 🧠 Pérdida entrenamiento: -1.2653 | Validación: -0.3650\n",
      "[2025-05-17 12:46:09] 🔄 [MixtureDensityNetworks] [Época 800] 🧠 Pérdida entrenamiento: -2.8887 | Validación: 3.5758\n",
      "[2025-05-17 12:46:10] 🔄 [MixtureDensityNetworks] [Época 900] 🧠 Pérdida entrenamiento: -1.6704 | Validación: -0.1768\n",
      "[2025-05-17 12:46:10] 🔄 [MixtureDensityNetworks] [Época 1000] 🧠 Pérdida entrenamiento: -2.4508 | Validación: 0.8247\n",
      "[2025-05-17 12:46:11] 🔄 [MixtureDensityNetworks] [Época 1100] 🧠 Pérdida entrenamiento: -1.8029 | Validación: 2.3961\n",
      "[2025-05-17 12:46:11] 🔄 [MixtureDensityNetworks] [Época 1200] 🧠 Pérdida entrenamiento: -2.6174 | Validación: 1.1154\n",
      "[2025-05-17 12:46:11] 🔄 [MixtureDensityNetworks] [Época 1300] 🧠 Pérdida entrenamiento: -2.5008 | Validación: 3.1279\n",
      "[2025-05-17 12:46:12] 🔄 [MixtureDensityNetworks] [Época 1400] 🧠 Pérdida entrenamiento: -1.1717 | Validación: -0.1240\n",
      "[2025-05-17 12:46:12] 🔄 [MixtureDensityNetworks] [Época 1500] 🧠 Pérdida entrenamiento: -1.7744 | Validación: 2.5087\n",
      "[2025-05-17 12:46:13] 🔄 [MixtureDensityNetworks] [Época 1600] 🧠 Pérdida entrenamiento: -2.0828 | Validación: 2.4007\n",
      "[2025-05-17 12:46:13] 🔄 [MixtureDensityNetworks] [Época 1700] 🧠 Pérdida entrenamiento: -2.1232 | Validación: 1.4888\n",
      "[2025-05-17 12:46:13] 🔄 [MixtureDensityNetworks] [Época 1800] 🧠 Pérdida entrenamiento: -1.3538 | Validación: -0.3440\n",
      "[2025-05-17 12:46:14] 🔄 [MixtureDensityNetworks] [Época 1900] 🧠 Pérdida entrenamiento: -1.2881 | Validación: -0.4702\n",
      "[2025-05-17 12:46:14] 🔄 [MixtureDensityNetworks] [Época 2000] 🧠 Pérdida entrenamiento: -2.0276 | Validación: 0.0505\n",
      "[2025-05-17 12:46:15] 🔄 [MixtureDensityNetworks] [Época 2100] 🧠 Pérdida entrenamiento: -2.4394 | Validación: 0.9690\n",
      "[2025-05-17 12:46:15] 🔄 [MixtureDensityNetworks] [Época 2200] 🧠 Pérdida entrenamiento: -2.6612 | Validación: 1.3587\n",
      "[2025-05-17 12:46:15] 🔄 [MixtureDensityNetworks] [Época 2300] 🧠 Pérdida entrenamiento: -2.0955 | Validación: 1.2959\n",
      "[2025-05-17 12:46:16] 🔄 [MixtureDensityNetworks] [Época 2400] 🧠 Pérdida entrenamiento: -1.7087 | Validación: 0.1401\n",
      "[2025-05-17 12:46:16] 🔄 [MixtureDensityNetworks] [Época 2500] 🧠 Pérdida entrenamiento: -2.5182 | Validación: 2.3895\n",
      "[2025-05-17 12:46:16] 🔄 [MixtureDensityNetworks] [Época 2600] 🧠 Pérdida entrenamiento: -2.7282 | Validación: 7.3553\n",
      "[2025-05-17 12:46:17] 🔄 [MixtureDensityNetworks] [Época 2700] 🧠 Pérdida entrenamiento: -2.2749 | Validación: 0.8047\n",
      "[2025-05-17 12:46:17] 🔄 [MixtureDensityNetworks] [Época 2800] 🧠 Pérdida entrenamiento: -3.1995 | Validación: 4.2767\n",
      "[2025-05-17 12:46:17] 🔄 [MixtureDensityNetworks] [Época 2900] 🧠 Pérdida entrenamiento: -2.9715 | Validación: 3.1148\n",
      "[2025-05-17 12:46:18] 🔄 [MixtureDensityNetworks] [Época 3000] 🧠 Pérdida entrenamiento: -1.7754 | Validación: -0.2389\n",
      "[2025-05-17 12:46:18] 🔄 [MixtureDensityNetworks] [Época 3100] 🧠 Pérdida entrenamiento: 0.9122 | Validación: 4.1347\n",
      "[2025-05-17 12:46:19] 🔄 [MixtureDensityNetworks] [Época 3200] 🧠 Pérdida entrenamiento: -3.2817 | Validación: 2.2769\n",
      "[2025-05-17 12:46:19] 🔄 [MixtureDensityNetworks] [Época 3300] 🧠 Pérdida entrenamiento: -2.6904 | Validación: 1.8113\n",
      "[2025-05-17 12:46:19] 🔄 [MixtureDensityNetworks] [Época 3400] 🧠 Pérdida entrenamiento: -3.0951 | Validación: 2.7825\n",
      "[2025-05-17 12:46:20] 🔄 [MixtureDensityNetworks] [Época 3500] 🧠 Pérdida entrenamiento: -3.2795 | Validación: 2.7634\n",
      "[2025-05-17 12:46:20] 🔄 [MixtureDensityNetworks] [Época 3600] 🧠 Pérdida entrenamiento: -3.4058 | Validación: 3.7689\n",
      "[2025-05-17 12:46:21] 🔄 [MixtureDensityNetworks] [Época 3700] 🧠 Pérdida entrenamiento: -2.6246 | Validación: 9.7805\n",
      "[2025-05-17 12:46:21] 🔄 [MixtureDensityNetworks] [Época 3800] 🧠 Pérdida entrenamiento: -3.0072 | Validación: 9.7811\n",
      "[2025-05-17 12:46:21] 🔄 [MixtureDensityNetworks] [Época 3900] 🧠 Pérdida entrenamiento: -2.7503 | Validación: 9.4762\n",
      "[2025-05-17 12:46:22] 🔄 [MixtureDensityNetworks] [Época 4000] 🧠 Pérdida entrenamiento: -3.6603 | Validación: 15.6137\n",
      "[2025-05-17 12:46:22] 🔄 [MixtureDensityNetworks] [Época 4100] 🧠 Pérdida entrenamiento: -3.0811 | Validación: 8.5499\n",
      "[2025-05-17 12:46:23] 🔄 [MixtureDensityNetworks] [Época 4200] 🧠 Pérdida entrenamiento: -3.3954 | Validación: 11.9501\n",
      "[2025-05-17 12:46:23] 🔄 [MixtureDensityNetworks] [Época 4300] 🧠 Pérdida entrenamiento: -2.7913 | Validación: 6.9970\n",
      "[2025-05-17 12:46:23] 🔄 [MixtureDensityNetworks] [Época 4400] 🧠 Pérdida entrenamiento: -2.9239 | Validación: 11.9106\n",
      "[2025-05-17 12:46:24] 🔄 [MixtureDensityNetworks] [Época 4500] 🧠 Pérdida entrenamiento: 0.0016 | Validación: 7.9777\n",
      "[2025-05-17 12:46:24] 🔄 [MixtureDensityNetworks] [Época 4600] 🧠 Pérdida entrenamiento: -1.3454 | Validación: 3.6794\n",
      "[2025-05-17 12:46:25] 🔄 [MixtureDensityNetworks] [Época 4700] 🧠 Pérdida entrenamiento: -2.6122 | Validación: 11.1447\n",
      "[2025-05-17 12:46:25] 🔄 [MixtureDensityNetworks] [Época 4800] 🧠 Pérdida entrenamiento: -2.6128 | Validación: 9.0028\n",
      "[2025-05-17 12:46:25] 🔄 [MixtureDensityNetworks] [Época 4900] 🧠 Pérdida entrenamiento: -2.5234 | Validación: 7.4687\n",
      "[2025-05-17 12:46:26] ✅ [MixtureDensityNetworks] Entrenamiento finalizado\n"
     ]
    }
   ],
   "source": [
    "# Configuración básica del proyecto\n",
    "PROJECT_NAME = 'Mixture Density Networks'\n",
    "\n",
    "import pandas as pd\n",
    "import torch\n",
    "from sklearn.model_selection import train_test_split\n",
    "from classes.DataHandler import DataHandler\n",
    "from classes.MixtureDensityNetworks_opt import MixtureDensityNetworks_opt\n",
    "\n",
    "dh = DataHandler()\n",
    "DEVICE = 'cuda'\n",
    "dh.DEVICE = DEVICE\n",
    "\n",
    "dh.set_targets(['Mo_cumulative'])\n",
    "table_unified, vars_desc = dh.load_data()\n",
    "inputs, targets = dh.preprocess_data(vars_desc, table_unified)\n",
    "X, y, scales = dh.normalize_data(inputs, targets)\n",
    "\n",
    "# Convertir X y y a tensores de PyTorch y moverlos a la GPU\n",
    "X = torch.tensor(X, dtype=torch.float32).to(dh.DEVICE)\n",
    "y = torch.tensor(y, dtype=torch.float32).to(dh.DEVICE)\n",
    "\n",
    "# Dividir los datos en entrenamiento y validación\n",
    "X_train, X_val, y_train, y_val = train_test_split(\n",
    "    X.cpu().numpy(), y.cpu().numpy(), test_size=0.2, random_state=42\n",
    ")\n",
    "\n",
    "# Convertir los conjuntos a tensores y moverlos a la GPU\n",
    "X_train = torch.tensor(X_train, dtype=torch.float32).to(dh.DEVICE)\n",
    "X_val = torch.tensor(X_val, dtype=torch.float32).to(dh.DEVICE)\n",
    "y_train = torch.tensor(y_train, dtype=torch.float32).to(dh.DEVICE)\n",
    "y_val = torch.tensor(y_val, dtype=torch.float32).to(dh.DEVICE)\n",
    "\n",
    "input_dim = X_train.shape[1]\n",
    "hidden_dim = 512\n",
    "n_components = 5\n",
    "show_info = 'True'\n",
    "\n",
    "mdn = MixtureDensityNetworks_opt(input_dim, hidden_dim, n_components, DEVICE, show_info=show_info)\n",
    "model = mdn.train_model(X_train, y_train, X_val, y_val, num_epochs=5000, lr=0.001)"
   ]
  },
  {
   "cell_type": "code",
   "execution_count": 2,
   "id": "6f8803c7",
   "metadata": {},
   "outputs": [
    {
     "data": {
      "application/vnd.plotly.v1+json": {
       "config": {
        "plotlyServerURL": "https://plot.ly"
       },
       "data": [
        {
         "line": {
          "color": "blue"
         },
         "mode": "lines",
         "name": "Valores Reales",
         "type": "scatter",
         "x": [
          0,
          1,
          2,
          3,
          4,
          5,
          6,
          7,
          8,
          9,
          10,
          11,
          12,
          13,
          14,
          15,
          16,
          17,
          18,
          19,
          20,
          21,
          22,
          23,
          24,
          25,
          26,
          27,
          28,
          29,
          30,
          31,
          32,
          33,
          34,
          35,
          36,
          37,
          38,
          39,
          40,
          41,
          42,
          43,
          44,
          45,
          46,
          47,
          48,
          49,
          50,
          51,
          52,
          53,
          54,
          55,
          56,
          57,
          58,
          59,
          60,
          61,
          62,
          63,
          64,
          65,
          66,
          67,
          68,
          69,
          70,
          71,
          72,
          73,
          74,
          75,
          76,
          77,
          78,
          79,
          80,
          81,
          82,
          83,
          84,
          85,
          86,
          87,
          88,
          89,
          90,
          91,
          92,
          93,
          94,
          95,
          96,
          97,
          98,
          99,
          100,
          101,
          102,
          103,
          104,
          105,
          106,
          107,
          108,
          109,
          110,
          111,
          112,
          113,
          114,
          115,
          116,
          117,
          118,
          119,
          120,
          121,
          122,
          123,
          124,
          125,
          126,
          127,
          128,
          129,
          130,
          131,
          132,
          133,
          134,
          135,
          136,
          137,
          138,
          139,
          140,
          141,
          142,
          143,
          144,
          145,
          146,
          147,
          148,
          149,
          150,
          151,
          152,
          153,
          154,
          155,
          156,
          157,
          158,
          159,
          160,
          161,
          162,
          163,
          164,
          165,
          166,
          167,
          168,
          169,
          170,
          171,
          172,
          173,
          174,
          175,
          176,
          177,
          178,
          179,
          180,
          181,
          182,
          183,
          184,
          185,
          186,
          187,
          188,
          189,
          190,
          191,
          192,
          193,
          194,
          195,
          196,
          197,
          198,
          199,
          200,
          201,
          202,
          203,
          204,
          205,
          206,
          207,
          208,
          209,
          210,
          211,
          212,
          213,
          214,
          215,
          216,
          217,
          218,
          219,
          220,
          221,
          222,
          223,
          224,
          225,
          226,
          227,
          228,
          229,
          230,
          231
         ],
         "y": {
          "bdata": "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",
          "dtype": "f8"
         }
        },
        {
         "line": {
          "color": "red"
         },
         "mode": "lines",
         "name": "MDN - Predicciones",
         "type": "scatter",
         "x": [
          0,
          1,
          2,
          3,
          4,
          5,
          6,
          7,
          8,
          9,
          10,
          11,
          12,
          13,
          14,
          15,
          16,
          17,
          18,
          19,
          20,
          21,
          22,
          23,
          24,
          25,
          26,
          27,
          28,
          29,
          30,
          31,
          32,
          33,
          34,
          35,
          36,
          37,
          38,
          39,
          40,
          41,
          42,
          43,
          44,
          45,
          46,
          47,
          48,
          49,
          50,
          51,
          52,
          53,
          54,
          55,
          56,
          57,
          58,
          59,
          60,
          61,
          62,
          63,
          64,
          65,
          66,
          67,
          68,
          69,
          70,
          71,
          72,
          73,
          74,
          75,
          76,
          77,
          78,
          79,
          80,
          81,
          82,
          83,
          84,
          85,
          86,
          87,
          88,
          89,
          90,
          91,
          92,
          93,
          94,
          95,
          96,
          97,
          98,
          99,
          100,
          101,
          102,
          103,
          104,
          105,
          106,
          107,
          108,
          109,
          110,
          111,
          112,
          113,
          114,
          115,
          116,
          117,
          118,
          119,
          120,
          121,
          122,
          123,
          124,
          125,
          126,
          127,
          128,
          129,
          130,
          131,
          132,
          133,
          134,
          135,
          136,
          137,
          138,
          139,
          140,
          141,
          142,
          143,
          144,
          145,
          146,
          147,
          148,
          149,
          150,
          151,
          152,
          153,
          154,
          155,
          156,
          157,
          158,
          159,
          160,
          161,
          162,
          163,
          164,
          165,
          166,
          167,
          168,
          169,
          170,
          171,
          172,
          173,
          174,
          175,
          176,
          177,
          178,
          179,
          180,
          181,
          182,
          183,
          184,
          185,
          186,
          187,
          188,
          189,
          190,
          191,
          192,
          193,
          194,
          195,
          196,
          197,
          198,
          199,
          200,
          201,
          202,
          203,
          204,
          205,
          206,
          207,
          208,
          209,
          210,
          211,
          212,
          213,
          214,
          215,
          216,
          217,
          218,
          219,
          220,
          221,
          222,
          223,
          224,
          225,
          226,
          227,
          228,
          229,
          230,
          231
         ],
         "y": {
          "bdata": "IBowyX+snb+Qerd4pYDvPxiZYASbEOg/jqtU20kM6z/0a7qQdQ29v6A9Vfi2vaI/wq+lG3ud6D8qKV/+waDhP1DG7a7zw8Y/wNfF5XBXp7+mmS6PrBHrP+l7hMEw5dK/ZFaN8Xatwj+BbiMu2TDVv0SAxj1tHs4/wqgjLFN10j8kyliRniXkP7J7oVQ8X8m/kMaGpx4erj/GX2v6RhTSP8xD0Di71OQ/sof7MyyE6T/gOLj8G0Oiv1Rex7oOgMs/HEVi9lMG4z/M/s1t6c/iP0AbfFIDDL8/cCxj5ppI3z9sPUuObxPaP9hD2TocYsq/LIlu0gDX5j8oUQZvacvPPwLNLZvnOPc/BLLjytR98D8+cduHGrPSP0Sdeqqx6N8/qIAf9S3B4z/YF5N8bD3WP2qKJz+7itc/DBsNVzVk5D8kK9TO9CXUPzBhFCXFlcU/bPhb1wA5zz+Ay0m/dnTNPwLu5RuRAuI/IB6b9aJ05D8spKYiw2viP6Jq5Z9iOOM/BvRJ06Vq9T8ordgnhxvMP5Rm5CXjFO4/6IIfKNMMuD/O4GGXkdfpP7ZWDALaGvA/RASpbjRs4T8qigFmhWPoP6DQWsC5S7c/2DFjTDy06z9oLtMRi+TYP/ohmNSywOU/FjHKd8LK6j/4gZrjKLe5P6gyj9hLC9Q/AGDJ4T9ViL+gD+dd9hm/P14euk3ZPOI/W46mWnu11r/yqXx+8N3qPySS4waRSus/TjRzBJEo1D9sjF4wXBvdP5xwoRllBuM/aqcyDYA84D+abk7WzBHxP+rWRAt/v9g/yOdqLfz4sb9AqsJgeeXAP+COewd0kbw/kBA7v9Wo7j9yYLqJTU7Fv/a78D6vZOE/1J/JxdxH7j8gMC006TDIPybU3enR1us/Bkz4xj2K2D9SJtZEznnDv+zTVSzxme4/ALe399T0kT8w4twQPqnZP4AWuGz3V7k/gOE9tivntb8g+e29R9/AP8RYN0hBjec/ZEFWdAhT2z8h03oNrLfUvzTBV3EF3do/nLN2NHvF1T9gnQddx77hP1xlP44hneM/mTkAeyDE8D8UZBMKn1fFv1yK7dW1z+U/ijRdf0ES8D9Alz07RSTnP9SH8dx8DMA/WN1IWbb23D/6i7R/L2rlP3DPBz9fsuc/AGV+gyHu4r+yYA+aT83tPxznu3889dc/qgVXs8kn5D8vkmI12ST0P+L9Kjbj8+A/cnbk4fHxzb+QGymZTLyov3iJgz1/Fds/ZEzigr220z/ozLQIA2GyP4NEk0zBO/I/uIe9/NBPwT/ogr7C0FazP7kpcuH0PfA/QgOaNB8z1j+UbOhoBsnmP5ABVYRsrsQ/2q8PGsJL4T9guDeAXofPP8z4EgZu3uA/nAvLv3k94D+Ao9/8brDBP0iR4Uu8Hds/WAGzUYFT3D9greCJr26Rv1DQP8jKv9M/NLsqo/HP5D9AjMDbp6XeP+5GKwOy1Og/4IxYoFBkvj/CyqPDhrvqP6Z4jW9PMMS/gAezONath7/cJny6gy7ZP7ADqEnlQd8/wOtDq5/Gyj/iHifYVj3RP6KabZ6hs+U/tMtrHvex4j+A3akd4I2pv5pBFbiGXuw/rsfZb/r95D9i3C2aVU7iPyjhUaVsFOs/6H4isATlyL8GXB8amZPwPygOBTGIAOM/ss8QX8to6T+QNDEYc8+mP8oiVl91QdE/KnYfLoh92D+KUOvLXZrUPxSp/KRPiug/Kukvi8MW7T/oBCX7G7reP4zLC3LWQuQ/CLEIDybk8D8KTYcML7XkPzKZZsZTmuc/bqP5V9pr9z9Wc+vgUaXnP4635Qo6l9C/HqrlnoUF1T8Uz7GVwPnFvyy5sVFDTe4/UM27Bkcryr/qk6sBVtvgP4CMvmnkF9I/1E53vcA+wj9lv18WrAPTvxbCIX39etc/2dcDtOew8z/oLfX4PJG2P8b/NEyxjeY/uROcNpJd1r+xI/MAKDLwPzAI/nKnC+s/TEF9iJiKzj/GkKNkPz7gP6DWra2WD6W/UGVxtX+G0j/ypZ6tURvUPzY4fhT6r9O/mtKLFeV45j8AVOBmwo2eP/gkr4ITAtk/rgzakwJS9D9IpHjooH3EP0ANfp0gULW/NHhs+On41D/Yxlcbb2u8P9ooHTFubOI/9NNyCotK5D8exzw5gybtP/jGqpwCvOw/YJpP4D+Umj/e5U4qNonVP4RLb2skfcI/wDwOMmSz4T/46Nz2E2HZP6ikNc12Y74/JOkySUliwD8sk8e4P8TEP9bzUJm6Fvw/rHInydy98j8kBOLDUa3FP2DxZazDZrY/GNRpn7cW0j9+JwTZ4Y3rP5b0ScGdePE/1vXunFfL2D/kzwuVy53YP4CK0zvcbuA/6E5JuGu8tr94zINOkP27v+BbpEolD+E/eNGt0hb0vT9EJBChZrPXP2gMnmsHH88/1FwycVJaxz9bD8VHa7vzPxpXI5XS2OY/BnAvE4uu4T8=",
          "dtype": "f8"
         }
        },
        {
         "line": {
          "width": 0
         },
         "mode": "lines",
         "showlegend": false,
         "type": "scatter",
         "x": [
          0,
          1,
          2,
          3,
          4,
          5,
          6,
          7,
          8,
          9,
          10,
          11,
          12,
          13,
          14,
          15,
          16,
          17,
          18,
          19,
          20,
          21,
          22,
          23,
          24,
          25,
          26,
          27,
          28,
          29,
          30,
          31,
          32,
          33,
          34,
          35,
          36,
          37,
          38,
          39,
          40,
          41,
          42,
          43,
          44,
          45,
          46,
          47,
          48,
          49,
          50,
          51,
          52,
          53,
          54,
          55,
          56,
          57,
          58,
          59,
          60,
          61,
          62,
          63,
          64,
          65,
          66,
          67,
          68,
          69,
          70,
          71,
          72,
          73,
          74,
          75,
          76,
          77,
          78,
          79,
          80,
          81,
          82,
          83,
          84,
          85,
          86,
          87,
          88,
          89,
          90,
          91,
          92,
          93,
          94,
          95,
          96,
          97,
          98,
          99,
          100,
          101,
          102,
          103,
          104,
          105,
          106,
          107,
          108,
          109,
          110,
          111,
          112,
          113,
          114,
          115,
          116,
          117,
          118,
          119,
          120,
          121,
          122,
          123,
          124,
          125,
          126,
          127,
          128,
          129,
          130,
          131,
          132,
          133,
          134,
          135,
          136,
          137,
          138,
          139,
          140,
          141,
          142,
          143,
          144,
          145,
          146,
          147,
          148,
          149,
          150,
          151,
          152,
          153,
          154,
          155,
          156,
          157,
          158,
          159,
          160,
          161,
          162,
          163,
          164,
          165,
          166,
          167,
          168,
          169,
          170,
          171,
          172,
          173,
          174,
          175,
          176,
          177,
          178,
          179,
          180,
          181,
          182,
          183,
          184,
          185,
          186,
          187,
          188,
          189,
          190,
          191,
          192,
          193,
          194,
          195,
          196,
          197,
          198,
          199,
          200,
          201,
          202,
          203,
          204,
          205,
          206,
          207,
          208,
          209,
          210,
          211,
          212,
          213,
          214,
          215,
          216,
          217,
          218,
          219,
          220,
          221,
          222,
          223,
          224,
          225,
          226,
          227,
          228,
          229,
          230,
          231
         ],
         "y": {
          "bdata": "ePmzTTj2sD9IvVsgMNDwPxiZYEwmiuo/jqtUqy187T+gX9OF6/6Cv9CeKvyS3r8/wq+lOzk86j8qKV8uV1zkPyjjdpcNEtA/QCg6Gohhpz+mmS7Fc+nsP9L3COMW7Mm/ZFaNITqCzj8C3UbsNPHOvyJA43as3tM/wqgj3Mgn1z8kylgNeHjmP2T3QkkLE72/pLHhGSlTwj/GX2vy99rWP8xD0ACwfOc/sof7P/t47D8gx0fDdcGjPyqvY8WlydM/HEVicgJ05T/M/s1NjDPlP6ANPglkics/OJYxI9j64T+2niWDdxzgP9hD2TrMfsC/LIluMnnA6T+UKIPHDL7UPwLNLbY8Jfg/BLLj0Kii8T8+cdtP+J3XP6JOPSn4weI/qIAfma8t5j/YF5P04HTbP2qKJ0c99Nw/DBsNf7lS5z8kK9SeHazYP5gwivq7FdA/Nvyt+4mE1D/A5aS3WZbUPwLu5bfjFeQ/IB6b+a4E5z8spKa2X87kP6Jq5d/m8uU/BvRJhhwV9j+UVuzj29XSP0oz8pjRMvA/dMEPVLWYxz/O4GFrmzzsP7ZWDObBBfE/RASpAgmh4z8qigEmk8fqP1BoLfAs7MY/2DFjMM0B7j9oLtNZPU7eP/ohmHRhaOg/FjHKe3lx7T/8QM1xtorGP6gyj9CCgNk/ANTGg+v1tT/Qh/NukyrMP14euvlh3OQ/W46mggDh0L/yqXw+vuPsPySS48r2+e4/TjRz1MFQ2T82Ri98uR7hP5xwodl10+U/aqcySaTL4j+abk4APl/yP+rWREPH290/AByMSulLRD9AqsIAv3zMP3DHvSNrec8/SIideSqn8D/kwHQzcSu0v/a78CaJCuQ/6s/kzvsi8D8QmBYqu3XQPybU3cEEme4/Bkz4PlRP3z+kTKxJtHOzv/bpKq6XLvA/wO3tHa4UvD8w4txga3rfP0ALXIad1sY/AAzvsbjPjL8g+e1tNPvKP8RYN7ztBOo/ZEFWBOni3z8h03ohLODQv5rgq/QyIuA/nLN2RLZb2z9gnQcRThbkP1xlP549mug/mTkAFWPU8T8oyCZ0x/i0v1yK7eHOfOg/ijRdYoH28D9Alz0jO1zpP9SH8ay6ysk/rG6kBAap4D/6i7STovDnP3DPB5t/v+k/AGV+C8pl4L+yYA/KBtDvPxznu6+Qtt4/qgVXXxBB5j8vkmJr0Db1P+L9Kvzo0uI/cnbkkfHtxb9w5NYm4b6lP3iJg93Xtd8/ZEziol1o2D90Zlpk7hfCP4NEk4ABgfM/uIe9XIRizT90QV/BE7LDP7kpch06QPE/QgOatDqR2j+UbOicIHjpP5ABVcTySc4/2q8PFqT34z8w3BvwdHDUP8z4EoInaOM/nAvLA7+q4j+Ao9989V7LP6TI8P0bR+A/rIDZuLYj4T+o1If991OwP1DQP2A9O9k/NLsqt1k75z8gRuBJ447iP+5GK3Njfes/cEYsYC5Wyz/CyqPzKgHtP0zxGt92M7K/EJ/pOPRTsz/cJnxS5X7eP9gB1GSfIuI/4PWhVTfr0j/iHidAQv3WP6KabS422uk/tMtrkq0g5T+AIlbijdWhP5pBFeA0Se8/rsfZy2+s6D9i3C3u+73kPyjhUVXEde0/6H4igPpVwL8GXB/+orzxPygOBZ2DFuY/ss8Ql68F7D9ImhispQ6/P8oiVu84hNY/KnYf7ky73T+KUOvLxtDdPxSp/NDAfes/Kukv3+5G7z90gpIlGF7iP4zLC8KnoOY/CLEIpcwg8j8KTYdAeTznPzKZZta1OOo/bqP5AVAs+D9Wc+tsu//pPxxvy9UIXse/HqrlZhLM2T8onmNr+NOzv5bc2IrXP/A/oJp3DZbhvb/qk6u1y9PjP4CMvjlPPtc/1E53TYQEzT/Kfr9cxLvNvxbCIW1lhNw/2dcDDQyn9D/0lnqM/VXGP8b/NCxiMeo/uROcZoXQ0L+xI/MYFF/xPzAI/jZ4J+0/pqA+BI5r2j/GkKMoBn/iP2ApUtKVZak/UGVxRXTC2D/ypZ4NH7DaP2xw/Dhl9cy/mtKLYdP86D8AFbj5xKW+P3ySV4lIz+A/rgzaAxIw9T8kUjzUeU7QPwDLB4pgo5A/NHhsiGZN2j9s46t9ExrKP9ooHc2qLuU/9NNyBnHv5j8exzyJQIXvP/jGqjzQ2u4/mOYT2DCRvT/e5U46CeLZP4RLb1tbZ8s/wDwOIiz94z/46NxmsWveP1TSmjaeXMk/JOkyqSxeyj+WyWP88hLQP9bzUKho0/w/rHInCRKT8z8kBOIbdTXNP7D4MmagmMc/GNRpD1wP1z9+JwS5GOTtP5b0SZEdYvI/1vXuhPH33j/kzwtdMrXeP4CK03fDkuI/gBFre7gxcT/wmAdd1kmov+BbpFaVkeM/vOhWicfmyD9EJBARaYvcPzQGz/2tYdQ/ai6ZUNpy0D9bD8WsqJb0PxpXI7EuQuo/BnAv0+Pu4z8=",
          "dtype": "f8"
         }
        },
        {
         "fill": "tonexty",
         "fillcolor": "rgba(255, 0, 0, 0.2)",
         "line": {
          "width": 0
         },
         "mode": "lines",
         "name": "Intervalo de Confianza",
         "showlegend": false,
         "type": "scatter",
         "x": [
          0,
          1,
          2,
          3,
          4,
          5,
          6,
          7,
          8,
          9,
          10,
          11,
          12,
          13,
          14,
          15,
          16,
          17,
          18,
          19,
          20,
          21,
          22,
          23,
          24,
          25,
          26,
          27,
          28,
          29,
          30,
          31,
          32,
          33,
          34,
          35,
          36,
          37,
          38,
          39,
          40,
          41,
          42,
          43,
          44,
          45,
          46,
          47,
          48,
          49,
          50,
          51,
          52,
          53,
          54,
          55,
          56,
          57,
          58,
          59,
          60,
          61,
          62,
          63,
          64,
          65,
          66,
          67,
          68,
          69,
          70,
          71,
          72,
          73,
          74,
          75,
          76,
          77,
          78,
          79,
          80,
          81,
          82,
          83,
          84,
          85,
          86,
          87,
          88,
          89,
          90,
          91,
          92,
          93,
          94,
          95,
          96,
          97,
          98,
          99,
          100,
          101,
          102,
          103,
          104,
          105,
          106,
          107,
          108,
          109,
          110,
          111,
          112,
          113,
          114,
          115,
          116,
          117,
          118,
          119,
          120,
          121,
          122,
          123,
          124,
          125,
          126,
          127,
          128,
          129,
          130,
          131,
          132,
          133,
          134,
          135,
          136,
          137,
          138,
          139,
          140,
          141,
          142,
          143,
          144,
          145,
          146,
          147,
          148,
          149,
          150,
          151,
          152,
          153,
          154,
          155,
          156,
          157,
          158,
          159,
          160,
          161,
          162,
          163,
          164,
          165,
          166,
          167,
          168,
          169,
          170,
          171,
          172,
          173,
          174,
          175,
          176,
          177,
          178,
          179,
          180,
          181,
          182,
          183,
          184,
          185,
          186,
          187,
          188,
          189,
          190,
          191,
          192,
          193,
          194,
          195,
          196,
          197,
          198,
          199,
          200,
          201,
          202,
          203,
          204,
          205,
          206,
          207,
          208,
          209,
          210,
          211,
          212,
          213,
          214,
          215,
          216,
          217,
          218,
          219,
          220,
          221,
          222,
          223,
          224,
          225,
          226,
          227,
          228,
          229,
          230,
          231
         ],
         "y": {
          "bdata": "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",
          "dtype": "f8"
         }
        }
       ],
       "layout": {
        "height": 400,
        "legend": {
         "title": {
          "text": "Leyenda"
         }
        },
        "showlegend": true,
        "template": {
         "data": {
          "bar": [
           {
            "error_x": {
             "color": "#2a3f5f"
            },
            "error_y": {
             "color": "#2a3f5f"
            },
            "marker": {
             "line": {
              "color": "#E5ECF6",
              "width": 0.5
             },
             "pattern": {
              "fillmode": "overlay",
              "size": 10,
              "solidity": 0.2
             }
            },
            "type": "bar"
           }
          ],
          "barpolar": [
           {
            "marker": {
             "line": {
              "color": "#E5ECF6",
              "width": 0.5
             },
             "pattern": {
              "fillmode": "overlay",
              "size": 10,
              "solidity": 0.2
             }
            },
            "type": "barpolar"
           }
          ],
          "carpet": [
           {
            "aaxis": {
             "endlinecolor": "#2a3f5f",
             "gridcolor": "white",
             "linecolor": "white",
             "minorgridcolor": "white",
             "startlinecolor": "#2a3f5f"
            },
            "baxis": {
             "endlinecolor": "#2a3f5f",
             "gridcolor": "white",
             "linecolor": "white",
             "minorgridcolor": "white",
             "startlinecolor": "#2a3f5f"
            },
            "type": "carpet"
           }
          ],
          "choropleth": [
           {
            "colorbar": {
             "outlinewidth": 0,
             "ticks": ""
            },
            "type": "choropleth"
           }
          ],
          "contour": [
           {
            "colorbar": {
             "outlinewidth": 0,
             "ticks": ""
            },
            "colorscale": [
             [
              0,
              "#0d0887"
             ],
             [
              0.1111111111111111,
              "#46039f"
             ],
             [
              0.2222222222222222,
              "#7201a8"
             ],
             [
              0.3333333333333333,
              "#9c179e"
             ],
             [
              0.4444444444444444,
              "#bd3786"
             ],
             [
              0.5555555555555556,
              "#d8576b"
             ],
             [
              0.6666666666666666,
              "#ed7953"
             ],
             [
              0.7777777777777778,
              "#fb9f3a"
             ],
             [
              0.8888888888888888,
              "#fdca26"
             ],
             [
              1,
              "#f0f921"
             ]
            ],
            "type": "contour"
           }
          ],
          "contourcarpet": [
           {
            "colorbar": {
             "outlinewidth": 0,
             "ticks": ""
            },
            "type": "contourcarpet"
           }
          ],
          "heatmap": [
           {
            "colorbar": {
             "outlinewidth": 0,
             "ticks": ""
            },
            "colorscale": [
             [
              0,
              "#0d0887"
             ],
             [
              0.1111111111111111,
              "#46039f"
             ],
             [
              0.2222222222222222,
              "#7201a8"
             ],
             [
              0.3333333333333333,
              "#9c179e"
             ],
             [
              0.4444444444444444,
              "#bd3786"
             ],
             [
              0.5555555555555556,
              "#d8576b"
             ],
             [
              0.6666666666666666,
              "#ed7953"
             ],
             [
              0.7777777777777778,
              "#fb9f3a"
             ],
             [
              0.8888888888888888,
              "#fdca26"
             ],
             [
              1,
              "#f0f921"
             ]
            ],
            "type": "heatmap"
           }
          ],
          "histogram": [
           {
            "marker": {
             "pattern": {
              "fillmode": "overlay",
              "size": 10,
              "solidity": 0.2
             }
            },
            "type": "histogram"
           }
          ],
          "histogram2d": [
           {
            "colorbar": {
             "outlinewidth": 0,
             "ticks": ""
            },
            "colorscale": [
             [
              0,
              "#0d0887"
             ],
             [
              0.1111111111111111,
              "#46039f"
             ],
             [
              0.2222222222222222,
              "#7201a8"
             ],
             [
              0.3333333333333333,
              "#9c179e"
             ],
             [
              0.4444444444444444,
              "#bd3786"
             ],
             [
              0.5555555555555556,
              "#d8576b"
             ],
             [
              0.6666666666666666,
              "#ed7953"
             ],
             [
              0.7777777777777778,
              "#fb9f3a"
             ],
             [
              0.8888888888888888,
              "#fdca26"
             ],
             [
              1,
              "#f0f921"
             ]
            ],
            "type": "histogram2d"
           }
          ],
          "histogram2dcontour": [
           {
            "colorbar": {
             "outlinewidth": 0,
             "ticks": ""
            },
            "colorscale": [
             [
              0,
              "#0d0887"
             ],
             [
              0.1111111111111111,
              "#46039f"
             ],
             [
              0.2222222222222222,
              "#7201a8"
             ],
             [
              0.3333333333333333,
              "#9c179e"
             ],
             [
              0.4444444444444444,
              "#bd3786"
             ],
             [
              0.5555555555555556,
              "#d8576b"
             ],
             [
              0.6666666666666666,
              "#ed7953"
             ],
             [
              0.7777777777777778,
              "#fb9f3a"
             ],
             [
              0.8888888888888888,
              "#fdca26"
             ],
             [
              1,
              "#f0f921"
             ]
            ],
            "type": "histogram2dcontour"
           }
          ],
          "mesh3d": [
           {
            "colorbar": {
             "outlinewidth": 0,
             "ticks": ""
            },
            "type": "mesh3d"
           }
          ],
          "parcoords": [
           {
            "line": {
             "colorbar": {
              "outlinewidth": 0,
              "ticks": ""
             }
            },
            "type": "parcoords"
           }
          ],
          "pie": [
           {
            "automargin": true,
            "type": "pie"
           }
          ],
          "scatter": [
           {
            "fillpattern": {
             "fillmode": "overlay",
             "size": 10,
             "solidity": 0.2
            },
            "type": "scatter"
           }
          ],
          "scatter3d": [
           {
            "line": {
             "colorbar": {
              "outlinewidth": 0,
              "ticks": ""
             }
            },
            "marker": {
             "colorbar": {
              "outlinewidth": 0,
              "ticks": ""
             }
            },
            "type": "scatter3d"
           }
          ],
          "scattercarpet": [
           {
            "marker": {
             "colorbar": {
              "outlinewidth": 0,
              "ticks": ""
             }
            },
            "type": "scattercarpet"
           }
          ],
          "scattergeo": [
           {
            "marker": {
             "colorbar": {
              "outlinewidth": 0,
              "ticks": ""
             }
            },
            "type": "scattergeo"
           }
          ],
          "scattergl": [
           {
            "marker": {
             "colorbar": {
              "outlinewidth": 0,
              "ticks": ""
             }
            },
            "type": "scattergl"
           }
          ],
          "scattermap": [
           {
            "marker": {
             "colorbar": {
              "outlinewidth": 0,
              "ticks": ""
             }
            },
            "type": "scattermap"
           }
          ],
          "scattermapbox": [
           {
            "marker": {
             "colorbar": {
              "outlinewidth": 0,
              "ticks": ""
             }
            },
            "type": "scattermapbox"
           }
          ],
          "scatterpolar": [
           {
            "marker": {
             "colorbar": {
              "outlinewidth": 0,
              "ticks": ""
             }
            },
            "type": "scatterpolar"
           }
          ],
          "scatterpolargl": [
           {
            "marker": {
             "colorbar": {
              "outlinewidth": 0,
              "ticks": ""
             }
            },
            "type": "scatterpolargl"
           }
          ],
          "scatterternary": [
           {
            "marker": {
             "colorbar": {
              "outlinewidth": 0,
              "ticks": ""
             }
            },
            "type": "scatterternary"
           }
          ],
          "surface": [
           {
            "colorbar": {
             "outlinewidth": 0,
             "ticks": ""
            },
            "colorscale": [
             [
              0,
              "#0d0887"
             ],
             [
              0.1111111111111111,
              "#46039f"
             ],
             [
              0.2222222222222222,
              "#7201a8"
             ],
             [
              0.3333333333333333,
              "#9c179e"
             ],
             [
              0.4444444444444444,
              "#bd3786"
             ],
             [
              0.5555555555555556,
              "#d8576b"
             ],
             [
              0.6666666666666666,
              "#ed7953"
             ],
             [
              0.7777777777777778,
              "#fb9f3a"
             ],
             [
              0.8888888888888888,
              "#fdca26"
             ],
             [
              1,
              "#f0f921"
             ]
            ],
            "type": "surface"
           }
          ],
          "table": [
           {
            "cells": {
             "fill": {
              "color": "#EBF0F8"
             },
             "line": {
              "color": "white"
             }
            },
            "header": {
             "fill": {
              "color": "#C8D4E3"
             },
             "line": {
              "color": "white"
             }
            },
            "type": "table"
           }
          ]
         },
         "layout": {
          "annotationdefaults": {
           "arrowcolor": "#2a3f5f",
           "arrowhead": 0,
           "arrowwidth": 1
          },
          "autotypenumbers": "strict",
          "coloraxis": {
           "colorbar": {
            "outlinewidth": 0,
            "ticks": ""
           }
          },
          "colorscale": {
           "diverging": [
            [
             0,
             "#8e0152"
            ],
            [
             0.1,
             "#c51b7d"
            ],
            [
             0.2,
             "#de77ae"
            ],
            [
             0.3,
             "#f1b6da"
            ],
            [
             0.4,
             "#fde0ef"
            ],
            [
             0.5,
             "#f7f7f7"
            ],
            [
             0.6,
             "#e6f5d0"
            ],
            [
             0.7,
             "#b8e186"
            ],
            [
             0.8,
             "#7fbc41"
            ],
            [
             0.9,
             "#4d9221"
            ],
            [
             1,
             "#276419"
            ]
           ],
           "sequential": [
            [
             0,
             "#0d0887"
            ],
            [
             0.1111111111111111,
             "#46039f"
            ],
            [
             0.2222222222222222,
             "#7201a8"
            ],
            [
             0.3333333333333333,
             "#9c179e"
            ],
            [
             0.4444444444444444,
             "#bd3786"
            ],
            [
             0.5555555555555556,
             "#d8576b"
            ],
            [
             0.6666666666666666,
             "#ed7953"
            ],
            [
             0.7777777777777778,
             "#fb9f3a"
            ],
            [
             0.8888888888888888,
             "#fdca26"
            ],
            [
             1,
             "#f0f921"
            ]
           ],
           "sequentialminus": [
            [
             0,
             "#0d0887"
            ],
            [
             0.1111111111111111,
             "#46039f"
            ],
            [
             0.2222222222222222,
             "#7201a8"
            ],
            [
             0.3333333333333333,
             "#9c179e"
            ],
            [
             0.4444444444444444,
             "#bd3786"
            ],
            [
             0.5555555555555556,
             "#d8576b"
            ],
            [
             0.6666666666666666,
             "#ed7953"
            ],
            [
             0.7777777777777778,
             "#fb9f3a"
            ],
            [
             0.8888888888888888,
             "#fdca26"
            ],
            [
             1,
             "#f0f921"
            ]
           ]
          },
          "colorway": [
           "#636efa",
           "#EF553B",
           "#00cc96",
           "#ab63fa",
           "#FFA15A",
           "#19d3f3",
           "#FF6692",
           "#B6E880",
           "#FF97FF",
           "#FECB52"
          ],
          "font": {
           "color": "#2a3f5f"
          },
          "geo": {
           "bgcolor": "white",
           "lakecolor": "white",
           "landcolor": "#E5ECF6",
           "showlakes": true,
           "showland": true,
           "subunitcolor": "white"
          },
          "hoverlabel": {
           "align": "left"
          },
          "hovermode": "closest",
          "mapbox": {
           "style": "light"
          },
          "paper_bgcolor": "white",
          "plot_bgcolor": "#E5ECF6",
          "polar": {
           "angularaxis": {
            "gridcolor": "white",
            "linecolor": "white",
            "ticks": ""
           },
           "bgcolor": "#E5ECF6",
           "radialaxis": {
            "gridcolor": "white",
            "linecolor": "white",
            "ticks": ""
           }
          },
          "scene": {
           "xaxis": {
            "backgroundcolor": "#E5ECF6",
            "gridcolor": "white",
            "gridwidth": 2,
            "linecolor": "white",
            "showbackground": true,
            "ticks": "",
            "zerolinecolor": "white"
           },
           "yaxis": {
            "backgroundcolor": "#E5ECF6",
            "gridcolor": "white",
            "gridwidth": 2,
            "linecolor": "white",
            "showbackground": true,
            "ticks": "",
            "zerolinecolor": "white"
           },
           "zaxis": {
            "backgroundcolor": "#E5ECF6",
            "gridcolor": "white",
            "gridwidth": 2,
            "linecolor": "white",
            "showbackground": true,
            "ticks": "",
            "zerolinecolor": "white"
           }
          },
          "shapedefaults": {
           "line": {
            "color": "#2a3f5f"
           }
          },
          "ternary": {
           "aaxis": {
            "gridcolor": "white",
            "linecolor": "white",
            "ticks": ""
           },
           "baxis": {
            "gridcolor": "white",
            "linecolor": "white",
            "ticks": ""
           },
           "bgcolor": "#E5ECF6",
           "caxis": {
            "gridcolor": "white",
            "linecolor": "white",
            "ticks": ""
           }
          },
          "title": {
           "x": 0.05
          },
          "xaxis": {
           "automargin": true,
           "gridcolor": "white",
           "linecolor": "white",
           "ticks": "",
           "title": {
            "standoff": 15
           },
           "zerolinecolor": "white",
           "zerolinewidth": 2
          },
          "yaxis": {
           "automargin": true,
           "gridcolor": "white",
           "linecolor": "white",
           "ticks": "",
           "title": {
            "standoff": 15
           },
           "zerolinecolor": "white",
           "zerolinewidth": 2
          }
         }
        },
        "title": {
         "text": "MDN: Predicciones con Intervalo (Entrenamiento)"
        },
        "width": 1200,
        "xaxis": {
         "title": {
          "text": "Indices"
         }
        },
        "yaxis": {
         "title": {
          "text": "Valor"
         }
        }
       }
      }
     },
     "metadata": {},
     "output_type": "display_data"
    }
   ],
   "source": [
    "# Predicción y desnormalización\n",
    "pi, mu, sigma = mdn.predict(X_train)\n",
    "media_esperada, var_esperada, std_esperada = mdn.calcular_estadisticas(pi, mu, sigma)\n",
    "\n",
    "y_train_np = y_train.cpu().numpy()\n",
    "media_esperada_np = media_esperada.cpu().numpy().flatten()\n",
    "std_esperada_np = std_esperada.cpu().numpy().flatten()\n",
    "y_train_mo = dh.denormalize_value(scales, y_train_np, 'Mo_cumulative')\n",
    "media_esperada_mo = dh.denormalize_value(scales, media_esperada_np, 'Mo_cumulative')\n",
    "\n",
    "# Graficar resultados con intervalo de confianza\n",
    "dh.plot_with_confidence_interval(\n",
    "    (y_train_mo, 'Valores Reales'),\n",
    "    (media_esperada_mo, media_esperada_mo - 1.96 * std_esperada_np, media_esperada_mo + 1.96 * std_esperada_np, 'MDN - Predicciones'),\n",
    "    title='MDN: Predicciones con Intervalo (Entrenamiento)',\n",
    "    size=(1200, 400)\n",
    ")"
   ]
  },
  {
   "cell_type": "code",
   "execution_count": 3,
   "id": "62807470",
   "metadata": {},
   "outputs": [
    {
     "name": "stdout",
     "output_type": "stream",
     "text": [
      "\n",
      "📊 Métricas para MDN - Entrenamiento:\n",
      "   MAE  : 0.0358\n",
      "   RMSE : 0.0597\n",
      "   R²   : 0.9790\n"
     ]
    },
    {
     "data": {
      "text/plain": [
       "{'MAE': 0.03579794429383817,\n",
       " 'RMSE': np.float64(0.05973455921430099),\n",
       " 'R2': 0.9790004399938809}"
      ]
     },
     "execution_count": 3,
     "metadata": {},
     "output_type": "execute_result"
    }
   ],
   "source": [
    "# Evaluación\n",
    "dh.evaluar_metricas(y_train_mo, media_esperada_mo, 'MDN - Entrenamiento')"
   ]
  },
  {
   "cell_type": "code",
   "execution_count": 4,
   "id": "887bd16c",
   "metadata": {},
   "outputs": [
    {
     "data": {
      "application/vnd.plotly.v1+json": {
       "config": {
        "plotlyServerURL": "https://plot.ly"
       },
       "data": [
        {
         "marker": {
          "color": "blue",
          "opacity": 0.6
         },
         "mode": "markers",
         "name": "Predicciones",
         "type": "scatter",
         "x": {
          "bdata": "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",
          "dtype": "f8"
         },
         "y": {
          "bdata": "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",
          "dtype": "f8"
         }
        },
        {
         "line": {
          "color": "red",
          "dash": "dash"
         },
         "mode": "lines",
         "name": "Regresión lineal",
         "type": "scatter",
         "x": {
          "bdata": "6Bx5vs+W47/KYByWy9biv6ukv23HFuK/jehiRcNW4b9vLAYdv5bgv6HgUul1rd+/ZGiZmG0t3r8o8N9HZa3cv+t3JvdcLdu/rv9splSt2b9yh7NVTC3YvzUP+gRErda/+JZAtDst1b+8HodjM63Tv3+mzRIrLdK/Qy4UwiKt0L8MbLXiNFrOv5J7QkEkWsu/GovPnxNayL+gmlz+AlrFvyiq6VzyWcK/XHPtdsOzvr9okgc0orO4v3ixIfGAs7K/AKF3XL9mqb9Avlet+cyavwDUAQ6lY2a/QEnXaRA0lT+QZre6SpqmPziUQaBGTbE/KHUn42dNtz8gVg0miU29P4ibeTTVpsE/AIzs1eWmxD98fF939qbHP/Rs0hgHp8o/bF1FuhenzT/0JtwtlFPQPzCflX6c09E/bBdPz6RT0z+ojwggrdPUP+YHwnC1U9Y/IoB7wb3T1z9g+DQSxlPZP5xw7mLO09o/2Oins9ZT3D8UYWEE39PdP1DZGlXnU98/yCjq0vdp4D/m5Eb7+ynhPwShoyMA6uE/Il0ATASq4j9AGV10CGrjP17VuZwMKuQ/fJEWxRDq5D+cTXPtFKrlP7oJ0BUZauY/2MUsPh0q5z/2gYlmIernPxQ+5o4lqug/MvpCtylq6T9Stp/fLSrqP3By/Acy6uo/ji5ZMDaq6z+s6rVYOmrsP8qmEoE+Ku0/6GJvqULq7T8GH8zRRqruPybbKPpKau8/ostCkScV8D+xKXGlKXXwP8CHn7kr1fA/z+XNzS018T/eQ/zhL5XxP+6hKvYx9fE//f9YCjRV8j8MXoceNrXyPxu8tTI4FfM/KhrkRjp18z85eBJbPNXzP0jWQG8+NfQ/WDRvg0CV9D9nkp2XQvX0P3bwy6tEVfU/hU76v0a19T+UrCjUSBX2P6QKV+hKdfY/smiF/EzV9j/CxrMQTzX3P9Ak4iRRlfc/4IIQOVP19z/w4D5NVVX4P/4+bWFXtfg/Dp2bdVkV+T8c+8mJW3X5PyxZ+J1d1fk/PLcmsl81+j9KFVXGYZX6P1pzg9pj9fo/aNGx7mVV+z8=",
          "dtype": "f8"
         },
         "y": {
          "bdata": "uQKsuKBC4r8fAEqHuYnhv4T951XS0OC/6vqFJOsX4L+g8EfmB77ev2vrg4M5TN2/Nua/IGva278C4fu9nGjav83bN1vO9ti/mNZz+P+E179k0a+VMRPWvy7M6zJjodS/+cYn0JQv07/FwWNtxr3Rv5C8nwr4S9C/uG63T1O0zb9OZC+KttDKv+RZp8QZ7ce/fE8f/3wJxb8RRZc54CXCv1J1HuiGhL6/fmAOXU29uL+qS/7RE/ayv7Jt3I20Xaq/BIh474Kenb8I0+AMcwZ6v4AeCGlJm5A/4Tikyhfcoz+RYsTgimqvPxlGcvt+fLU/6VqChrhDuz/hN8kIeYXAP0lCUc4VacM/sUzZk7JMxj8dV2FZTzDJP4Zh6R7sE8w/7mtx5Ij3zj8tu/zUku3QP2HAwDdhX9I/lcWEmi/R0z/Jykj9/ULVP//PDGDMtNY/M9XQwpom2D9q2pQlaZjZP57fWIg3Cts/0uQc6wV83D8G6uBN1O3dPzrvpLCiX98/OXq0ibho4D/TfBa7nyHhP21/eOyG2uE/B4LaHW6T4j+hhDxPVUzjPzuHnoA8BeQ/1YkAsiO+5D9xjGLjCnflPwuPxBTyL+Y/pZEmRtno5j8/lIh3wKHnP9qW6qinWug/dJlM2o4T6T8QnK4LdszpP6qeED1dheo/RKFybkQ+6z/eo9SfK/frP3imNtESsOw/EqmYAvpo7T+sq/oz4SHuP0iuXGXI2u4/4rC+lq+T7z++WRBkSybwPwtbwfy+gvA/WFxylTLf8D+lXSMupjvxP/Ne1MYZmPE/QGCFX4308T+NYTb4AFHyP9pi55B0rfI/J2SYKegJ8z90ZUnCW2bzP8Fm+lrPwvM/D2ir80If9D9caVyMtnv0P6lqDSUq2PQ/9mu+vZ009T9DbW9WEZH1P5FuIO+E7fU/3W/Rh/hJ9j8rcYIgbKb2P3hyM7nfAvc/xnPkUVNf9z8TdZXqxrv3P2B2RoM6GPg/rnf3G650+D/6eKi0IdH4P0h6WU2VLfk/lnsK5giK+T/ifLt+fOb5PzB+bBfwQvo/fH8dsGOf+j8=",
          "dtype": "f8"
         }
        },
        {
         "line": {
          "color": "green",
          "dash": "dot"
         },
         "mode": "lines",
         "name": "Línea Perfecta (y = x)",
         "type": "scatter",
         "x": {
          "bdata": "6Bx5vs+W47/KYByWy9biv6ukv23HFuK/jehiRcNW4b9vLAYdv5bgv6HgUul1rd+/ZGiZmG0t3r8o8N9HZa3cv+t3JvdcLdu/rv9splSt2b9yh7NVTC3YvzUP+gRErda/+JZAtDst1b+8HodjM63Tv3+mzRIrLdK/Qy4UwiKt0L8MbLXiNFrOv5J7QkEkWsu/GovPnxNayL+gmlz+AlrFvyiq6VzyWcK/XHPtdsOzvr9okgc0orO4v3ixIfGAs7K/AKF3XL9mqb9Avlet+cyavwDUAQ6lY2a/QEnXaRA0lT+QZre6SpqmPziUQaBGTbE/KHUn42dNtz8gVg0miU29P4ibeTTVpsE/AIzs1eWmxD98fF939qbHP/Rs0hgHp8o/bF1FuhenzT/0JtwtlFPQPzCflX6c09E/bBdPz6RT0z+ojwggrdPUP+YHwnC1U9Y/IoB7wb3T1z9g+DQSxlPZP5xw7mLO09o/2Oins9ZT3D8UYWEE39PdP1DZGlXnU98/yCjq0vdp4D/m5Eb7+ynhPwShoyMA6uE/Il0ATASq4j9AGV10CGrjP17VuZwMKuQ/fJEWxRDq5D+cTXPtFKrlP7oJ0BUZauY/2MUsPh0q5z/2gYlmIernPxQ+5o4lqug/MvpCtylq6T9Stp/fLSrqP3By/Acy6uo/ji5ZMDaq6z+s6rVYOmrsP8qmEoE+Ku0/6GJvqULq7T8GH8zRRqruPybbKPpKau8/ostCkScV8D+xKXGlKXXwP8CHn7kr1fA/z+XNzS018T/eQ/zhL5XxP+6hKvYx9fE//f9YCjRV8j8MXoceNrXyPxu8tTI4FfM/KhrkRjp18z85eBJbPNXzP0jWQG8+NfQ/WDRvg0CV9D9nkp2XQvX0P3bwy6tEVfU/hU76v0a19T+UrCjUSBX2P6QKV+hKdfY/smiF/EzV9j/CxrMQTzX3P9Ak4iRRlfc/4IIQOVP19z/w4D5NVVX4P/4+bWFXtfg/Dp2bdVkV+T8c+8mJW3X5PyxZ+J1d1fk/PLcmsl81+j9KFVXGYZX6P1pzg9pj9fo/aNGx7mVV+z8=",
          "dtype": "f8"
         },
         "y": {
          "bdata": "6Bx5vs+W47/KYByWy9biv6ukv23HFuK/jehiRcNW4b9vLAYdv5bgv6HgUul1rd+/ZGiZmG0t3r8o8N9HZa3cv+t3JvdcLdu/rv9splSt2b9yh7NVTC3YvzUP+gRErda/+JZAtDst1b+8HodjM63Tv3+mzRIrLdK/Qy4UwiKt0L8MbLXiNFrOv5J7QkEkWsu/GovPnxNayL+gmlz+AlrFvyiq6VzyWcK/XHPtdsOzvr9okgc0orO4v3ixIfGAs7K/AKF3XL9mqb9Avlet+cyavwDUAQ6lY2a/QEnXaRA0lT+QZre6SpqmPziUQaBGTbE/KHUn42dNtz8gVg0miU29P4ibeTTVpsE/AIzs1eWmxD98fF939qbHP/Rs0hgHp8o/bF1FuhenzT/0JtwtlFPQPzCflX6c09E/bBdPz6RT0z+ojwggrdPUP+YHwnC1U9Y/IoB7wb3T1z9g+DQSxlPZP5xw7mLO09o/2Oins9ZT3D8UYWEE39PdP1DZGlXnU98/yCjq0vdp4D/m5Eb7+ynhPwShoyMA6uE/Il0ATASq4j9AGV10CGrjP17VuZwMKuQ/fJEWxRDq5D+cTXPtFKrlP7oJ0BUZauY/2MUsPh0q5z/2gYlmIernPxQ+5o4lqug/MvpCtylq6T9Stp/fLSrqP3By/Acy6uo/ji5ZMDaq6z+s6rVYOmrsP8qmEoE+Ku0/6GJvqULq7T8GH8zRRqruPybbKPpKau8/ostCkScV8D+xKXGlKXXwP8CHn7kr1fA/z+XNzS018T/eQ/zhL5XxP+6hKvYx9fE//f9YCjRV8j8MXoceNrXyPxu8tTI4FfM/KhrkRjp18z85eBJbPNXzP0jWQG8+NfQ/WDRvg0CV9D9nkp2XQvX0P3bwy6tEVfU/hU76v0a19T+UrCjUSBX2P6QKV+hKdfY/smiF/EzV9j/CxrMQTzX3P9Ak4iRRlfc/4IIQOVP19z/w4D5NVVX4P/4+bWFXtfg/Dp2bdVkV+T8c+8mJW3X5PyxZ+J1d1fk/PLcmsl81+j9KFVXGYZX6P1pzg9pj9fo/aNGx7mVV+z8=",
          "dtype": "f8"
         }
        }
       ],
       "layout": {
        "annotations": [
         {
          "align": "left",
          "bgcolor": "white",
          "bordercolor": "black",
          "borderwidth": 1,
          "font": {
           "color": "black",
           "size": 14
          },
          "showarrow": false,
          "text": "y = 0.963x + 0.019<br>R² = 0.979",
          "x": 0.05,
          "xref": "paper",
          "y": 0.95,
          "yref": "paper"
         }
        ],
        "height": 400,
        "template": {
         "data": {
          "bar": [
           {
            "error_x": {
             "color": "#2a3f5f"
            },
            "error_y": {
             "color": "#2a3f5f"
            },
            "marker": {
             "line": {
              "color": "white",
              "width": 0.5
             },
             "pattern": {
              "fillmode": "overlay",
              "size": 10,
              "solidity": 0.2
             }
            },
            "type": "bar"
           }
          ],
          "barpolar": [
           {
            "marker": {
             "line": {
              "color": "white",
              "width": 0.5
             },
             "pattern": {
              "fillmode": "overlay",
              "size": 10,
              "solidity": 0.2
             }
            },
            "type": "barpolar"
           }
          ],
          "carpet": [
           {
            "aaxis": {
             "endlinecolor": "#2a3f5f",
             "gridcolor": "#C8D4E3",
             "linecolor": "#C8D4E3",
             "minorgridcolor": "#C8D4E3",
             "startlinecolor": "#2a3f5f"
            },
            "baxis": {
             "endlinecolor": "#2a3f5f",
             "gridcolor": "#C8D4E3",
             "linecolor": "#C8D4E3",
             "minorgridcolor": "#C8D4E3",
             "startlinecolor": "#2a3f5f"
            },
            "type": "carpet"
           }
          ],
          "choropleth": [
           {
            "colorbar": {
             "outlinewidth": 0,
             "ticks": ""
            },
            "type": "choropleth"
           }
          ],
          "contour": [
           {
            "colorbar": {
             "outlinewidth": 0,
             "ticks": ""
            },
            "colorscale": [
             [
              0,
              "#0d0887"
             ],
             [
              0.1111111111111111,
              "#46039f"
             ],
             [
              0.2222222222222222,
              "#7201a8"
             ],
             [
              0.3333333333333333,
              "#9c179e"
             ],
             [
              0.4444444444444444,
              "#bd3786"
             ],
             [
              0.5555555555555556,
              "#d8576b"
             ],
             [
              0.6666666666666666,
              "#ed7953"
             ],
             [
              0.7777777777777778,
              "#fb9f3a"
             ],
             [
              0.8888888888888888,
              "#fdca26"
             ],
             [
              1,
              "#f0f921"
             ]
            ],
            "type": "contour"
           }
          ],
          "contourcarpet": [
           {
            "colorbar": {
             "outlinewidth": 0,
             "ticks": ""
            },
            "type": "contourcarpet"
           }
          ],
          "heatmap": [
           {
            "colorbar": {
             "outlinewidth": 0,
             "ticks": ""
            },
            "colorscale": [
             [
              0,
              "#0d0887"
             ],
             [
              0.1111111111111111,
              "#46039f"
             ],
             [
              0.2222222222222222,
              "#7201a8"
             ],
             [
              0.3333333333333333,
              "#9c179e"
             ],
             [
              0.4444444444444444,
              "#bd3786"
             ],
             [
              0.5555555555555556,
              "#d8576b"
             ],
             [
              0.6666666666666666,
              "#ed7953"
             ],
             [
              0.7777777777777778,
              "#fb9f3a"
             ],
             [
              0.8888888888888888,
              "#fdca26"
             ],
             [
              1,
              "#f0f921"
             ]
            ],
            "type": "heatmap"
           }
          ],
          "histogram": [
           {
            "marker": {
             "pattern": {
              "fillmode": "overlay",
              "size": 10,
              "solidity": 0.2
             }
            },
            "type": "histogram"
           }
          ],
          "histogram2d": [
           {
            "colorbar": {
             "outlinewidth": 0,
             "ticks": ""
            },
            "colorscale": [
             [
              0,
              "#0d0887"
             ],
             [
              0.1111111111111111,
              "#46039f"
             ],
             [
              0.2222222222222222,
              "#7201a8"
             ],
             [
              0.3333333333333333,
              "#9c179e"
             ],
             [
              0.4444444444444444,
              "#bd3786"
             ],
             [
              0.5555555555555556,
              "#d8576b"
             ],
             [
              0.6666666666666666,
              "#ed7953"
             ],
             [
              0.7777777777777778,
              "#fb9f3a"
             ],
             [
              0.8888888888888888,
              "#fdca26"
             ],
             [
              1,
              "#f0f921"
             ]
            ],
            "type": "histogram2d"
           }
          ],
          "histogram2dcontour": [
           {
            "colorbar": {
             "outlinewidth": 0,
             "ticks": ""
            },
            "colorscale": [
             [
              0,
              "#0d0887"
             ],
             [
              0.1111111111111111,
              "#46039f"
             ],
             [
              0.2222222222222222,
              "#7201a8"
             ],
             [
              0.3333333333333333,
              "#9c179e"
             ],
             [
              0.4444444444444444,
              "#bd3786"
             ],
             [
              0.5555555555555556,
              "#d8576b"
             ],
             [
              0.6666666666666666,
              "#ed7953"
             ],
             [
              0.7777777777777778,
              "#fb9f3a"
             ],
             [
              0.8888888888888888,
              "#fdca26"
             ],
             [
              1,
              "#f0f921"
             ]
            ],
            "type": "histogram2dcontour"
           }
          ],
          "mesh3d": [
           {
            "colorbar": {
             "outlinewidth": 0,
             "ticks": ""
            },
            "type": "mesh3d"
           }
          ],
          "parcoords": [
           {
            "line": {
             "colorbar": {
              "outlinewidth": 0,
              "ticks": ""
             }
            },
            "type": "parcoords"
           }
          ],
          "pie": [
           {
            "automargin": true,
            "type": "pie"
           }
          ],
          "scatter": [
           {
            "fillpattern": {
             "fillmode": "overlay",
             "size": 10,
             "solidity": 0.2
            },
            "type": "scatter"
           }
          ],
          "scatter3d": [
           {
            "line": {
             "colorbar": {
              "outlinewidth": 0,
              "ticks": ""
             }
            },
            "marker": {
             "colorbar": {
              "outlinewidth": 0,
              "ticks": ""
             }
            },
            "type": "scatter3d"
           }
          ],
          "scattercarpet": [
           {
            "marker": {
             "colorbar": {
              "outlinewidth": 0,
              "ticks": ""
             }
            },
            "type": "scattercarpet"
           }
          ],
          "scattergeo": [
           {
            "marker": {
             "colorbar": {
              "outlinewidth": 0,
              "ticks": ""
             }
            },
            "type": "scattergeo"
           }
          ],
          "scattergl": [
           {
            "marker": {
             "colorbar": {
              "outlinewidth": 0,
              "ticks": ""
             }
            },
            "type": "scattergl"
           }
          ],
          "scattermap": [
           {
            "marker": {
             "colorbar": {
              "outlinewidth": 0,
              "ticks": ""
             }
            },
            "type": "scattermap"
           }
          ],
          "scattermapbox": [
           {
            "marker": {
             "colorbar": {
              "outlinewidth": 0,
              "ticks": ""
             }
            },
            "type": "scattermapbox"
           }
          ],
          "scatterpolar": [
           {
            "marker": {
             "colorbar": {
              "outlinewidth": 0,
              "ticks": ""
             }
            },
            "type": "scatterpolar"
           }
          ],
          "scatterpolargl": [
           {
            "marker": {
             "colorbar": {
              "outlinewidth": 0,
              "ticks": ""
             }
            },
            "type": "scatterpolargl"
           }
          ],
          "scatterternary": [
           {
            "marker": {
             "colorbar": {
              "outlinewidth": 0,
              "ticks": ""
             }
            },
            "type": "scatterternary"
           }
          ],
          "surface": [
           {
            "colorbar": {
             "outlinewidth": 0,
             "ticks": ""
            },
            "colorscale": [
             [
              0,
              "#0d0887"
             ],
             [
              0.1111111111111111,
              "#46039f"
             ],
             [
              0.2222222222222222,
              "#7201a8"
             ],
             [
              0.3333333333333333,
              "#9c179e"
             ],
             [
              0.4444444444444444,
              "#bd3786"
             ],
             [
              0.5555555555555556,
              "#d8576b"
             ],
             [
              0.6666666666666666,
              "#ed7953"
             ],
             [
              0.7777777777777778,
              "#fb9f3a"
             ],
             [
              0.8888888888888888,
              "#fdca26"
             ],
             [
              1,
              "#f0f921"
             ]
            ],
            "type": "surface"
           }
          ],
          "table": [
           {
            "cells": {
             "fill": {
              "color": "#EBF0F8"
             },
             "line": {
              "color": "white"
             }
            },
            "header": {
             "fill": {
              "color": "#C8D4E3"
             },
             "line": {
              "color": "white"
             }
            },
            "type": "table"
           }
          ]
         },
         "layout": {
          "annotationdefaults": {
           "arrowcolor": "#2a3f5f",
           "arrowhead": 0,
           "arrowwidth": 1
          },
          "autotypenumbers": "strict",
          "coloraxis": {
           "colorbar": {
            "outlinewidth": 0,
            "ticks": ""
           }
          },
          "colorscale": {
           "diverging": [
            [
             0,
             "#8e0152"
            ],
            [
             0.1,
             "#c51b7d"
            ],
            [
             0.2,
             "#de77ae"
            ],
            [
             0.3,
             "#f1b6da"
            ],
            [
             0.4,
             "#fde0ef"
            ],
            [
             0.5,
             "#f7f7f7"
            ],
            [
             0.6,
             "#e6f5d0"
            ],
            [
             0.7,
             "#b8e186"
            ],
            [
             0.8,
             "#7fbc41"
            ],
            [
             0.9,
             "#4d9221"
            ],
            [
             1,
             "#276419"
            ]
           ],
           "sequential": [
            [
             0,
             "#0d0887"
            ],
            [
             0.1111111111111111,
             "#46039f"
            ],
            [
             0.2222222222222222,
             "#7201a8"
            ],
            [
             0.3333333333333333,
             "#9c179e"
            ],
            [
             0.4444444444444444,
             "#bd3786"
            ],
            [
             0.5555555555555556,
             "#d8576b"
            ],
            [
             0.6666666666666666,
             "#ed7953"
            ],
            [
             0.7777777777777778,
             "#fb9f3a"
            ],
            [
             0.8888888888888888,
             "#fdca26"
            ],
            [
             1,
             "#f0f921"
            ]
           ],
           "sequentialminus": [
            [
             0,
             "#0d0887"
            ],
            [
             0.1111111111111111,
             "#46039f"
            ],
            [
             0.2222222222222222,
             "#7201a8"
            ],
            [
             0.3333333333333333,
             "#9c179e"
            ],
            [
             0.4444444444444444,
             "#bd3786"
            ],
            [
             0.5555555555555556,
             "#d8576b"
            ],
            [
             0.6666666666666666,
             "#ed7953"
            ],
            [
             0.7777777777777778,
             "#fb9f3a"
            ],
            [
             0.8888888888888888,
             "#fdca26"
            ],
            [
             1,
             "#f0f921"
            ]
           ]
          },
          "colorway": [
           "#636efa",
           "#EF553B",
           "#00cc96",
           "#ab63fa",
           "#FFA15A",
           "#19d3f3",
           "#FF6692",
           "#B6E880",
           "#FF97FF",
           "#FECB52"
          ],
          "font": {
           "color": "#2a3f5f"
          },
          "geo": {
           "bgcolor": "white",
           "lakecolor": "white",
           "landcolor": "white",
           "showlakes": true,
           "showland": true,
           "subunitcolor": "#C8D4E3"
          },
          "hoverlabel": {
           "align": "left"
          },
          "hovermode": "closest",
          "mapbox": {
           "style": "light"
          },
          "paper_bgcolor": "white",
          "plot_bgcolor": "white",
          "polar": {
           "angularaxis": {
            "gridcolor": "#EBF0F8",
            "linecolor": "#EBF0F8",
            "ticks": ""
           },
           "bgcolor": "white",
           "radialaxis": {
            "gridcolor": "#EBF0F8",
            "linecolor": "#EBF0F8",
            "ticks": ""
           }
          },
          "scene": {
           "xaxis": {
            "backgroundcolor": "white",
            "gridcolor": "#DFE8F3",
            "gridwidth": 2,
            "linecolor": "#EBF0F8",
            "showbackground": true,
            "ticks": "",
            "zerolinecolor": "#EBF0F8"
           },
           "yaxis": {
            "backgroundcolor": "white",
            "gridcolor": "#DFE8F3",
            "gridwidth": 2,
            "linecolor": "#EBF0F8",
            "showbackground": true,
            "ticks": "",
            "zerolinecolor": "#EBF0F8"
           },
           "zaxis": {
            "backgroundcolor": "white",
            "gridcolor": "#DFE8F3",
            "gridwidth": 2,
            "linecolor": "#EBF0F8",
            "showbackground": true,
            "ticks": "",
            "zerolinecolor": "#EBF0F8"
           }
          },
          "shapedefaults": {
           "line": {
            "color": "#2a3f5f"
           }
          },
          "ternary": {
           "aaxis": {
            "gridcolor": "#DFE8F3",
            "linecolor": "#A2B1C6",
            "ticks": ""
           },
           "baxis": {
            "gridcolor": "#DFE8F3",
            "linecolor": "#A2B1C6",
            "ticks": ""
           },
           "bgcolor": "white",
           "caxis": {
            "gridcolor": "#DFE8F3",
            "linecolor": "#A2B1C6",
            "ticks": ""
           }
          },
          "title": {
           "x": 0.05
          },
          "xaxis": {
           "automargin": true,
           "gridcolor": "#EBF0F8",
           "linecolor": "#EBF0F8",
           "ticks": "",
           "title": {
            "standoff": 15
           },
           "zerolinecolor": "#EBF0F8",
           "zerolinewidth": 2
          },
          "yaxis": {
           "automargin": true,
           "gridcolor": "#EBF0F8",
           "linecolor": "#EBF0F8",
           "ticks": "",
           "title": {
            "standoff": 15
           },
           "zerolinecolor": "#EBF0F8",
           "zerolinewidth": 2
          }
         }
        },
        "title": {
         "text": "Regresión MDN - Entrenamiento"
        },
        "width": 1200,
        "xaxis": {
         "title": {
          "text": "Valores Reales"
         }
        },
        "yaxis": {
         "title": {
          "text": "Valores Predichos"
         }
        }
       }
      }
     },
     "metadata": {},
     "output_type": "display_data"
    }
   ],
   "source": [
    "# Gráficos de regresión\n",
    "dh.plot_regression(y_train_mo, media_esperada_mo, title='Regresión MDN - Entrenamiento', size=(1200, 400))"
   ]
  }
 ],
 "metadata": {
  "kernelspec": {
   "display_name": ".venv",
   "language": "python",
   "name": "python3"
  },
  "language_info": {
   "codemirror_mode": {
    "name": "ipython",
    "version": 3
   },
   "file_extension": ".py",
   "mimetype": "text/x-python",
   "name": "python",
   "nbconvert_exporter": "python",
   "pygments_lexer": "ipython3",
   "version": "3.13.2"
  }
 },
 "nbformat": 4,
 "nbformat_minor": 5
}
