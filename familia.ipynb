{
 "cells": [
  {
   "cell_type": "code",
   "execution_count": 1,
   "id": "66e8ca4e",
   "metadata": {},
   "outputs": [
    {
     "data": {
      "application/vnd.jupyter.widget-view+json": {
       "model_id": "ce4b32bda8bc4296aef18a1f9cc872bc",
       "version_major": 2,
       "version_minor": 0
      },
      "text/plain": [
       "VBox(children=(Button(description='Abrir en navegador: familia potencia', style=ButtonStyle()),))"
      ]
     },
     "metadata": {},
     "output_type": "display_data"
    },
    {
     "data": {
      "application/vnd.plotly.v1+json": {
       "config": {
        "plotlyServerURL": "https://plot.ly"
       },
       "data": [
        {
         "mode": "lines",
         "name": "b = 0.3",
         "type": "scatter",
         "x": {
          "bdata": "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",
          "dtype": "f8"
         },
         "y": {
          "bdata": "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",
          "dtype": "f8"
         }
        },
        {
         "mode": "lines",
         "name": "b = 0.5",
         "type": "scatter",
         "x": {
          "bdata": "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",
          "dtype": "f8"
         },
         "y": {
          "bdata": "UNo5T7klsj+ric6yC6q5P//zwjihbr8/UNo5T7klwj+uhk3CE0rEP3h6C5TTOcY/CIp4CrcByD+ric6yC6rJP3jH1vaVOMs/+FQ+zoixzD8ozIG8DxjOP//zwjihbs8/IsehUZlb0D9n6MM/rfnQP+ziDuozktE/UNo5T7kl0j/3gl/as7TSP0DnGsaIP9M/cLAMao/G0z+uhk3CE0rUPzrHuWZYytQ//dF5F5hH1T9XzDf5BsLVP3h6C5TTOdY/41AIoyev1j9Qz8K+KCLXPwA3kur4ktc/CIp4CrcB2D818z1Gf27YP1B5SV1r2dg/t//97ZJC2T+ric6yC6rZP4Uhy7bpD9o/btYPgz902j8qmzpGHtfaP3jH1vaVONs/TSWCcbWY2z/7PG2TivfbPwEUvVEiVdw/+FQ+zoix3D9vv8dpyQzdP4PxmtTuZt0/NXEGHQPA3T8ozIG8DxjePwVKdKMdb94/2LXPQzXF3j9a7KKaXhrfP//zwjihbt8/Cz6lSgTC3z8LFsFPRwrgP/X76VcjM+A/IsehUZlb4D+0XgkrrIPgP9qbCK9eq+A/ESaUh7PS4D9n6MM/rfngP4fCvkVOIOE/p5F/7JhG4T8FOHdtj2zhP+ziDuozkuE/oHUNbYi34T+ksOLrjtzhP4Zn2kdJAeI/UNo5T7kl4j/PEUm+4EniPxDuSUDBbeI/MmxecFyR4j/3gl/as7TiPyvUpfvI1+I/3lLFQ5364j8N5DwVMh3jP0DnGsaIP+M/YH+XoKJh4z/OYKXjgIPjP4DYecMkpeM/cLAMao/G4z+Th5D3wefjP/Em5IK9COQ/GFL9GYMp5D+uhk3CE0rkP5kVIXlwauQ/rvf4M5qK5D8GuN/gkarkPzrHuWZYyuQ/HISRpe7p5D/rQN92VQnlP3yGza2NKOU//dF5F5hH5T+PBTJ7dWblP7q/rpomheU/IcpKMqyj5T9XzDf5BsLlP49ssKE34OU/9AQo2T7+5T/dEXhIHRzmP3h6C5TTOeY/Y9MHXGJX5j92uHQ8ynTmPx5ZYc0LkuY/41AIoyev5j/34/FNHszmPzO2FFvw6OY/hBH1U54F5z9Qz8K+KCLnP1v3dR6QPuc/WSXq8tRa5z91xfi493bnPwA3kur4kuc/oePV/tiu5z98WClqmMrnP/VtTp435uc/CIp4CrcB6D9xCGEbFx3oPzrTWjtYOOg/sjVl0npT6D818z1Gf27oP7Oqcvplieg/XI9xUC+k6D9gfpmn277oP1B5SV1r2eg/LYzvzN7z6D/yJRdQNg7pP+Lpdj5yKOk/t//97ZJC6T9a6OCymFzpP5rcpd+Dduk/A7swxVSQ6T+ric6yC6rpP7OQQPaow+k/vxHH2yzd6T+woCuul/bpP4Uhy7bpD+o/OG+fPSMp6j8ir0iJRELqP2FUFt9NW+o/btYPgz906j8PHv23GY3qP4erbr/cpeo/6njF2Yi+6j8qmzpGHtfqP4Ok5kKd7+o/qMrIDAYI6z8M083fWCDrP3jH1vaVOOs/H3W/i71Q6z8huGTXz2jrP3+VqhHNgOs/TSWCcbWY6z/vTu8sibDrPxZZDnlIyOs/Dk8ZivPf6z/7PG2TivfrP3NEj8cND+w/64oxWH0m7D9LAzh22T3sPwEUvVEiVew/xhoWGlhs7D9dz9f9eoPsP1KG2iqLmuw/+FQ+zoix7D+XF28UdMjsP+BaKClN3+w/mSl5NxT27D9vv8dpyQztP9wh1elsI+0/95/A4P457T8AOgt3f1DtP4PxmtTuZu0/wQK+IE197T8tCC6CmpPtP6gIEx/Xqe0/NXEGHQPA7T/B+hWhHtbtP6V8xs8p7O0/iqwWzSQC7j8ozIG8DxjuP5hFAsHqLe4/nDYU/bVD7j9/67eScVnuPwVKdKMdb+4/4yxZULqE7j88sAG6R5ruP55vlgDGr+4/2LXPQzXF7j8xn/eildruP1Mu7Dzn7+4/WVQhMCoF7z9a7KKaXhrvP9eqFpqEL+8/XQG+S5xE7z+19nfMpVnvP//zwjihbu8//Ya+rI6D7z/eGS1EbpjvP+KgdRpAre8/Cz6lSgTC7z8/23DvutbvP/y6NiNk6+8/AAAAAAAA8D8=",
          "dtype": "f8"
         }
        },
        {
         "mode": "lines",
         "name": "b = 1",
         "type": "scatter",
         "x": {
          "bdata": "Z9Cy4zmVdD9n0LLjOZWEP5o4jNXW344/Z9Cy4zmVlD+BhJ9ciLqZP5o4jNXW354/WnY8p5ICoj9n0LLjOZWkP3QqKSDhJ6c/gYSfXIi6qT+O3hWZL02sP5o4jNXW364/VEkBCT+5sD9adjynkgKyP2Gjd0XmS7M/Z9Cy4zmVtD9t/e2Bjd61P3QqKSDhJ7c/eldkvjRxuD+BhJ9ciLq5P4ex2vrbA7s/jt4VmS9NvD+UC1E3g5a9P5o4jNXW374/0LLjOZUUwD9USQEJP7nAP9ffHtjoXcE/WnY8p5ICwj/dDFp2PKfCP2Gjd0XmS8M/5DmVFJDwwz9n0LLjOZXEP+pm0LLjOcU/bf3tgY3exT/xkwtRN4PGP3QqKSDhJ8c/98BG74rMxz96V2S+NHHIP/7tgY3eFck/gYSfXIi6yT8EG70rMl/KP4ex2vrbA8s/Ckj4yYWoyz+O3hWZL03MPxF1M2jZ8cw/lAtRN4OWzT8Xom4GLTvOP5o4jNXW384/Hs+ppICEzz/QsuM5lRTQPxJ+ciHqZtA/VEkBCT+50D+VFJDwkwvRP9ffHtjoXdE/Gautvz2w0T9adjynkgLSP5xBy47nVNI/3Qxadjyn0j8f2OhdkfnSP2Gjd0XmS9M/om4GLTue0z/kOZUUkPDTPyUFJPzkQtQ/Z9Cy4zmV1D+pm0HLjufUP+pm0LLjOdU/LDJfmjiM1T9t/e2Bjd7VP6/IfGniMNY/8ZMLUTeD1j8yX5o4jNXWP3QqKSDhJ9c/tfW3BzZ61z/3wEbviszXPzmM1dbfHtg/eldkvjRx2D+8IvOlicPYP/7tgY3eFdk/P7kQdTNo2T+BhJ9ciLrZP8JPLkTdDNo/BBu9KzJf2j9G5ksTh7HaP4ex2vrbA9s/yXxp4jBW2z8KSPjJhajbP0wTh7Ha+ts/jt4VmS9N3D/PqaSAhJ/cPxF1M2jZ8dw/UkDCTy5E3T+UC1E3g5bdP9bW3x7Y6N0/F6JuBi073j9Zbf3tgY3eP5o4jNXW394/3AMbvSsy3z8ez6mkgITfP1+aOIzV1t8/0LLjOZUU4D9xGKutvz3gPxJ+ciHqZuA/s+M5lRSQ4D9USQEJP7ngP/SuyHxp4uA/lRSQ8JML4T82eldkvjThP9ffHtjoXeE/eEXmSxOH4T8Zq62/PbDhP7kQdTNo2eE/WnY8p5IC4j/72wMbvSviP5xBy47nVOI/PaeSAhJ+4j/dDFp2PKfiP35yIepm0OI/H9joXZH54j/APbDRuyLjP2Gjd0XmS+M/AQk/uRB14z+ibgYtO57jP0PUzaBlx+M/5DmVFJDw4z+Fn1yIuhnkPyUFJPzkQuQ/xmrrbw9s5D9n0LLjOZXkPwg2eldkvuQ/qZtBy47n5D9JAQk/uRDlP+pm0LLjOeU/i8yXJg5j5T8sMl+aOIzlP82XJg5jteU/bf3tgY3e5T8OY7X1twfmP6/IfGniMOY/UC5E3Qxa5j/xkwtRN4PmP5H50sRhrOY/Ml+aOIzV5j/TxGGstv7mP3QqKSDhJ+c/FZDwkwtR5z+19bcHNnrnP1Zbf3tgo+c/98BG74rM5z+YJg5jtfXnPzmM1dbfHug/2vGcSgpI6D96V2S+NHHoPxu9KzJfmug/vCLzpYnD6D9diLoZtOzoP/7tgY3eFek/nlNJAQk/6T8/uRB1M2jpP+Ae2Ohdkek/gYSfXIi66T8i6mbQsuPpP8JPLkTdDOo/Y7X1twc26j8EG70rMl/qP6WAhJ9ciOo/RuZLE4ex6j/mSxOHsdrqP4ex2vrbA+s/KBeibgYt6z/JfGniMFbrP2riMFZbf+s/Ckj4yYWo6z+rrb89sNHrP0wTh7Ha+us/7XhOJQUk7D+O3hWZL03sPy5E3Qxaduw/z6mkgISf7D9wD2z0rsjsPxF1M2jZ8ew/str62wMb7T9SQMJPLkTtP/OlicNYbe0/lAtRN4OW7T81cRirrb/tP9bW3x7Y6O0/djynkgIS7j8Xom4GLTvuP7gHNnpXZO4/WW397YGN7j/60sRhrLbuP5o4jNXW3+4/O55TSQEJ7z/cAxu9KzLvP31p4jBWW+8/Hs+ppICE7z+/NHEYq63vP1+aOIzV1u8/AAAAAAAA8D8=",
          "dtype": "f8"
         },
         "y": {
          "bdata": "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",
          "dtype": "f8"
         }
        },
        {
         "mode": "lines",
         "name": "b = 1.5",
         "type": "scatter",
         "x": {
          "bdata": "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",
          "dtype": "f8"
         },
         "y": {
          "bdata": "A0tgmWhYNz89KryD9YFQP6ebUh6VU14/A0tgmWhYZz+FCjR4JFBwP3qtQ4yucXU/Zcg7LcoFez89KryD9YGAP0s/aUGYsoM/eVviEfURhz8p5B1upJ2KP6ebUh6VU44/DS5C4PwYkT/xaR+1nRuTP4X6Ptv3MJU/A0tgmWhYlz+JZGu+XJGZP0eHTU5O25s/GQeUpMI1nj+FCjR4JFCgP/9Ivno8jaE/hVF3AfnRoj/36XMKLR6kP3qtQ4yucaU/QAnIJVbMpj///WXZ/i2oP1azldGFlqk/Zcg7LcoFqz90i4jSrHusP0dTV0cQ+K0/mq44jth6rz89KryD9YGwP80PxyqXSbE/ltpAIkUUsj/3De7Z8+GyP0s/aUGYsrM/nDExvyeGtD/dL5EomFy1P+ebSbrfNbY/eVviEfURtz+F5JMnz/C3P4dDtkhl0rg/mqinEq+2uT8p5B1upJ26P8DR14o9h7s/6Aml23JzvD9bXbsSPWK9P6ebUh6VU74/ggSAJXRHvz8/waXC6R7APz+6/GZWm8A/DS5C4PwYwT9IIyEm2pfBP18aWUbrF8I/NxS3Yy2Zwj/xaR+1nRvDPw0ap4Q5n8M/C1G7Lv4jxD+NEVYh6anEP4X6Ptv3MMU/wEFX6ye5xT9PDvDvdkLGPxVxKpbizMY/A0tgmWhYxz94f5XCBuXHPzPf8Oe6csg/hkQ87IIByT+JZGu+XJHJP1/jKFlGIso/bkJpwj20yj8ISAMLQUfLP0eHTU5O28s/wrXAsWNwzD8gg55kfwbNPwOsnJ+fnc0/GQeUpMI1zj/nTzO+5s7OP/J2tT8Kac8/qqFNwhUC0D+FCjR4JFDQP2fNMHewntA/viip+Ljt0D/CUqc5PT3RP/9Ivno8jdE/e83u/7Xd0T9wgY0QqS7SP60OKvcUgNI/hVF3AfnR0j8udjSAVCTTPy79Fscmd9M/RZu1LG/K0z/36XMKLR7UP2XebrxfctQ/9vxpoQbH1D+nQL0aIRzVP3qtQ4yucdU/CYZKXK7H1T+YHIHzHx7WP4I46bwCddY/QAnIJVbM1j+loJedGSTXPzzu+JVMfNc/Jzamgu7U1z///WXZ/i3YP6dq/hF9h9g/Mwoppmjh2D86BYcRwTvZP1azldGFltk/l46jZbbx2T/9gcVOUk3aPz+PzA9Zqdo/Zcg7LcoF2z+qmT4tpWLbP6Vgn5fpv9s/gE2+9ZYd3D90i4jSrHvcP7Wtb7oq2tw/HV5hOxA53T8/S7/kXJjdP0dTV0cQ+N0/gOlb9SlY3j9RtFyCqbjeP3JhP4OOGd8/mq44jth63z+LpMU6h9zfP2OB0hBNH+A/Dm1obohQ4D89KryD9YHgPyfU/B6Us+A/CBvuDmTl4D80Z+UiZRfhP80PxyqXSeE/YqQD9/l74T/oSJVYja7hP2Aj/SBR4eE/ltpAIkUU4j9qJeguaUfiPxZq+hm9euI/5mz8tkCu4j/3De7Z8+HiP14VSFfWFeM/ZQ36A+hJ4z9PKmi1KH7jP0s/aUGYsuM/HcBEfjbn4z8hz7BCAxzkP0dX0GX+UOQ/nDExvyeG5D8eVsomf7vkP2oX+nQE8eQ/BGmEgrcm5T/dL5EomFzlP9ScqkCmkuU/0JC7pOHI5T9JCg4vSv/lP+ebSbrfNeY/9etxIaJs5j9wPOU/kaPmP2f7WvGs2uY/eVviEfUR5z839OB9aUnnPyRqERIKgec/Nx6Cq9a45z+F5JMnz/DnPwfC+GPzKOg/LrGyPkNh6D8ibRKWvpnoP4dDtkhl0ug/eeyINTcL6T/BaMA7NETpP/7l3Dpcfek/mqinEq+26T9w+zGjLPDpP/Ik1MzUKeo/s2EscKdj6j8p5B1upJ3qP4/Zz6fL1+o/vXOs/hwS6z/Z919UmEzrP8DR14o9h+s/C6xBhAzC6z+ZjAojBf3rP3D13UknOOw/6Aml23Jz7D8DuIW7567sP9Xl4cyF6uw/4KJW80wm7T9bXbsSPWLtPy4bIQ9Wnu0/sLbRzJfa7T/2Hk8wAhfuP6ebUh6VU+4/SRTMe1CQ7j/UWuEtNM3uP6F57RlACu8/ggSAJXRH7z/9bFw20ITvP5BZeTJUwu8/AAAAAAAA8D8=",
          "dtype": "f8"
         }
        },
        {
         "mode": "lines",
         "name": "b = 2",
         "type": "scatter",
         "x": {
          "bdata": "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",
          "dtype": "f8"
         },
         "y": {
          "bdata": "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",
          "dtype": "f8"
         }
        },
        {
         "mode": "lines",
         "name": "b = 3",
         "type": "scatter",
         "x": {
          "bdata": "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",
          "dtype": "f8"
         },
         "y": {
          "bdata": "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",
          "dtype": "f8"
         }
        }
       ],
       "layout": {
        "legend": {
         "title": {
          "text": "Exponente b"
         }
        },
        "template": {
         "data": {
          "bar": [
           {
            "error_x": {
             "color": "#2a3f5f"
            },
            "error_y": {
             "color": "#2a3f5f"
            },
            "marker": {
             "line": {
              "color": "white",
              "width": 0.5
             },
             "pattern": {
              "fillmode": "overlay",
              "size": 10,
              "solidity": 0.2
             }
            },
            "type": "bar"
           }
          ],
          "barpolar": [
           {
            "marker": {
             "line": {
              "color": "white",
              "width": 0.5
             },
             "pattern": {
              "fillmode": "overlay",
              "size": 10,
              "solidity": 0.2
             }
            },
            "type": "barpolar"
           }
          ],
          "carpet": [
           {
            "aaxis": {
             "endlinecolor": "#2a3f5f",
             "gridcolor": "#C8D4E3",
             "linecolor": "#C8D4E3",
             "minorgridcolor": "#C8D4E3",
             "startlinecolor": "#2a3f5f"
            },
            "baxis": {
             "endlinecolor": "#2a3f5f",
             "gridcolor": "#C8D4E3",
             "linecolor": "#C8D4E3",
             "minorgridcolor": "#C8D4E3",
             "startlinecolor": "#2a3f5f"
            },
            "type": "carpet"
           }
          ],
          "choropleth": [
           {
            "colorbar": {
             "outlinewidth": 0,
             "ticks": ""
            },
            "type": "choropleth"
           }
          ],
          "contour": [
           {
            "colorbar": {
             "outlinewidth": 0,
             "ticks": ""
            },
            "colorscale": [
             [
              0,
              "#0d0887"
             ],
             [
              0.1111111111111111,
              "#46039f"
             ],
             [
              0.2222222222222222,
              "#7201a8"
             ],
             [
              0.3333333333333333,
              "#9c179e"
             ],
             [
              0.4444444444444444,
              "#bd3786"
             ],
             [
              0.5555555555555556,
              "#d8576b"
             ],
             [
              0.6666666666666666,
              "#ed7953"
             ],
             [
              0.7777777777777778,
              "#fb9f3a"
             ],
             [
              0.8888888888888888,
              "#fdca26"
             ],
             [
              1,
              "#f0f921"
             ]
            ],
            "type": "contour"
           }
          ],
          "contourcarpet": [
           {
            "colorbar": {
             "outlinewidth": 0,
             "ticks": ""
            },
            "type": "contourcarpet"
           }
          ],
          "heatmap": [
           {
            "colorbar": {
             "outlinewidth": 0,
             "ticks": ""
            },
            "colorscale": [
             [
              0,
              "#0d0887"
             ],
             [
              0.1111111111111111,
              "#46039f"
             ],
             [
              0.2222222222222222,
              "#7201a8"
             ],
             [
              0.3333333333333333,
              "#9c179e"
             ],
             [
              0.4444444444444444,
              "#bd3786"
             ],
             [
              0.5555555555555556,
              "#d8576b"
             ],
             [
              0.6666666666666666,
              "#ed7953"
             ],
             [
              0.7777777777777778,
              "#fb9f3a"
             ],
             [
              0.8888888888888888,
              "#fdca26"
             ],
             [
              1,
              "#f0f921"
             ]
            ],
            "type": "heatmap"
           }
          ],
          "histogram": [
           {
            "marker": {
             "pattern": {
              "fillmode": "overlay",
              "size": 10,
              "solidity": 0.2
             }
            },
            "type": "histogram"
           }
          ],
          "histogram2d": [
           {
            "colorbar": {
             "outlinewidth": 0,
             "ticks": ""
            },
            "colorscale": [
             [
              0,
              "#0d0887"
             ],
             [
              0.1111111111111111,
              "#46039f"
             ],
             [
              0.2222222222222222,
              "#7201a8"
             ],
             [
              0.3333333333333333,
              "#9c179e"
             ],
             [
              0.4444444444444444,
              "#bd3786"
             ],
             [
              0.5555555555555556,
              "#d8576b"
             ],
             [
              0.6666666666666666,
              "#ed7953"
             ],
             [
              0.7777777777777778,
              "#fb9f3a"
             ],
             [
              0.8888888888888888,
              "#fdca26"
             ],
             [
              1,
              "#f0f921"
             ]
            ],
            "type": "histogram2d"
           }
          ],
          "histogram2dcontour": [
           {
            "colorbar": {
             "outlinewidth": 0,
             "ticks": ""
            },
            "colorscale": [
             [
              0,
              "#0d0887"
             ],
             [
              0.1111111111111111,
              "#46039f"
             ],
             [
              0.2222222222222222,
              "#7201a8"
             ],
             [
              0.3333333333333333,
              "#9c179e"
             ],
             [
              0.4444444444444444,
              "#bd3786"
             ],
             [
              0.5555555555555556,
              "#d8576b"
             ],
             [
              0.6666666666666666,
              "#ed7953"
             ],
             [
              0.7777777777777778,
              "#fb9f3a"
             ],
             [
              0.8888888888888888,
              "#fdca26"
             ],
             [
              1,
              "#f0f921"
             ]
            ],
            "type": "histogram2dcontour"
           }
          ],
          "mesh3d": [
           {
            "colorbar": {
             "outlinewidth": 0,
             "ticks": ""
            },
            "type": "mesh3d"
           }
          ],
          "parcoords": [
           {
            "line": {
             "colorbar": {
              "outlinewidth": 0,
              "ticks": ""
             }
            },
            "type": "parcoords"
           }
          ],
          "pie": [
           {
            "automargin": true,
            "type": "pie"
           }
          ],
          "scatter": [
           {
            "fillpattern": {
             "fillmode": "overlay",
             "size": 10,
             "solidity": 0.2
            },
            "type": "scatter"
           }
          ],
          "scatter3d": [
           {
            "line": {
             "colorbar": {
              "outlinewidth": 0,
              "ticks": ""
             }
            },
            "marker": {
             "colorbar": {
              "outlinewidth": 0,
              "ticks": ""
             }
            },
            "type": "scatter3d"
           }
          ],
          "scattercarpet": [
           {
            "marker": {
             "colorbar": {
              "outlinewidth": 0,
              "ticks": ""
             }
            },
            "type": "scattercarpet"
           }
          ],
          "scattergeo": [
           {
            "marker": {
             "colorbar": {
              "outlinewidth": 0,
              "ticks": ""
             }
            },
            "type": "scattergeo"
           }
          ],
          "scattergl": [
           {
            "marker": {
             "colorbar": {
              "outlinewidth": 0,
              "ticks": ""
             }
            },
            "type": "scattergl"
           }
          ],
          "scattermap": [
           {
            "marker": {
             "colorbar": {
              "outlinewidth": 0,
              "ticks": ""
             }
            },
            "type": "scattermap"
           }
          ],
          "scattermapbox": [
           {
            "marker": {
             "colorbar": {
              "outlinewidth": 0,
              "ticks": ""
             }
            },
            "type": "scattermapbox"
           }
          ],
          "scatterpolar": [
           {
            "marker": {
             "colorbar": {
              "outlinewidth": 0,
              "ticks": ""
             }
            },
            "type": "scatterpolar"
           }
          ],
          "scatterpolargl": [
           {
            "marker": {
             "colorbar": {
              "outlinewidth": 0,
              "ticks": ""
             }
            },
            "type": "scatterpolargl"
           }
          ],
          "scatterternary": [
           {
            "marker": {
             "colorbar": {
              "outlinewidth": 0,
              "ticks": ""
             }
            },
            "type": "scatterternary"
           }
          ],
          "surface": [
           {
            "colorbar": {
             "outlinewidth": 0,
             "ticks": ""
            },
            "colorscale": [
             [
              0,
              "#0d0887"
             ],
             [
              0.1111111111111111,
              "#46039f"
             ],
             [
              0.2222222222222222,
              "#7201a8"
             ],
             [
              0.3333333333333333,
              "#9c179e"
             ],
             [
              0.4444444444444444,
              "#bd3786"
             ],
             [
              0.5555555555555556,
              "#d8576b"
             ],
             [
              0.6666666666666666,
              "#ed7953"
             ],
             [
              0.7777777777777778,
              "#fb9f3a"
             ],
             [
              0.8888888888888888,
              "#fdca26"
             ],
             [
              1,
              "#f0f921"
             ]
            ],
            "type": "surface"
           }
          ],
          "table": [
           {
            "cells": {
             "fill": {
              "color": "#EBF0F8"
             },
             "line": {
              "color": "white"
             }
            },
            "header": {
             "fill": {
              "color": "#C8D4E3"
             },
             "line": {
              "color": "white"
             }
            },
            "type": "table"
           }
          ]
         },
         "layout": {
          "annotationdefaults": {
           "arrowcolor": "#2a3f5f",
           "arrowhead": 0,
           "arrowwidth": 1
          },
          "autotypenumbers": "strict",
          "coloraxis": {
           "colorbar": {
            "outlinewidth": 0,
            "ticks": ""
           }
          },
          "colorscale": {
           "diverging": [
            [
             0,
             "#8e0152"
            ],
            [
             0.1,
             "#c51b7d"
            ],
            [
             0.2,
             "#de77ae"
            ],
            [
             0.3,
             "#f1b6da"
            ],
            [
             0.4,
             "#fde0ef"
            ],
            [
             0.5,
             "#f7f7f7"
            ],
            [
             0.6,
             "#e6f5d0"
            ],
            [
             0.7,
             "#b8e186"
            ],
            [
             0.8,
             "#7fbc41"
            ],
            [
             0.9,
             "#4d9221"
            ],
            [
             1,
             "#276419"
            ]
           ],
           "sequential": [
            [
             0,
             "#0d0887"
            ],
            [
             0.1111111111111111,
             "#46039f"
            ],
            [
             0.2222222222222222,
             "#7201a8"
            ],
            [
             0.3333333333333333,
             "#9c179e"
            ],
            [
             0.4444444444444444,
             "#bd3786"
            ],
            [
             0.5555555555555556,
             "#d8576b"
            ],
            [
             0.6666666666666666,
             "#ed7953"
            ],
            [
             0.7777777777777778,
             "#fb9f3a"
            ],
            [
             0.8888888888888888,
             "#fdca26"
            ],
            [
             1,
             "#f0f921"
            ]
           ],
           "sequentialminus": [
            [
             0,
             "#0d0887"
            ],
            [
             0.1111111111111111,
             "#46039f"
            ],
            [
             0.2222222222222222,
             "#7201a8"
            ],
            [
             0.3333333333333333,
             "#9c179e"
            ],
            [
             0.4444444444444444,
             "#bd3786"
            ],
            [
             0.5555555555555556,
             "#d8576b"
            ],
            [
             0.6666666666666666,
             "#ed7953"
            ],
            [
             0.7777777777777778,
             "#fb9f3a"
            ],
            [
             0.8888888888888888,
             "#fdca26"
            ],
            [
             1,
             "#f0f921"
            ]
           ]
          },
          "colorway": [
           "#636efa",
           "#EF553B",
           "#00cc96",
           "#ab63fa",
           "#FFA15A",
           "#19d3f3",
           "#FF6692",
           "#B6E880",
           "#FF97FF",
           "#FECB52"
          ],
          "font": {
           "color": "#2a3f5f"
          },
          "geo": {
           "bgcolor": "white",
           "lakecolor": "white",
           "landcolor": "white",
           "showlakes": true,
           "showland": true,
           "subunitcolor": "#C8D4E3"
          },
          "hoverlabel": {
           "align": "left"
          },
          "hovermode": "closest",
          "mapbox": {
           "style": "light"
          },
          "paper_bgcolor": "white",
          "plot_bgcolor": "white",
          "polar": {
           "angularaxis": {
            "gridcolor": "#EBF0F8",
            "linecolor": "#EBF0F8",
            "ticks": ""
           },
           "bgcolor": "white",
           "radialaxis": {
            "gridcolor": "#EBF0F8",
            "linecolor": "#EBF0F8",
            "ticks": ""
           }
          },
          "scene": {
           "xaxis": {
            "backgroundcolor": "white",
            "gridcolor": "#DFE8F3",
            "gridwidth": 2,
            "linecolor": "#EBF0F8",
            "showbackground": true,
            "ticks": "",
            "zerolinecolor": "#EBF0F8"
           },
           "yaxis": {
            "backgroundcolor": "white",
            "gridcolor": "#DFE8F3",
            "gridwidth": 2,
            "linecolor": "#EBF0F8",
            "showbackground": true,
            "ticks": "",
            "zerolinecolor": "#EBF0F8"
           },
           "zaxis": {
            "backgroundcolor": "white",
            "gridcolor": "#DFE8F3",
            "gridwidth": 2,
            "linecolor": "#EBF0F8",
            "showbackground": true,
            "ticks": "",
            "zerolinecolor": "#EBF0F8"
           }
          },
          "shapedefaults": {
           "line": {
            "color": "#2a3f5f"
           }
          },
          "ternary": {
           "aaxis": {
            "gridcolor": "#DFE8F3",
            "linecolor": "#A2B1C6",
            "ticks": ""
           },
           "baxis": {
            "gridcolor": "#DFE8F3",
            "linecolor": "#A2B1C6",
            "ticks": ""
           },
           "bgcolor": "white",
           "caxis": {
            "gridcolor": "#DFE8F3",
            "linecolor": "#A2B1C6",
            "ticks": ""
           }
          },
          "title": {
           "x": 0.05
          },
          "xaxis": {
           "automargin": true,
           "gridcolor": "#EBF0F8",
           "linecolor": "#EBF0F8",
           "ticks": "",
           "title": {
            "standoff": 15
           },
           "zerolinecolor": "#EBF0F8",
           "zerolinewidth": 2
          },
          "yaxis": {
           "automargin": true,
           "gridcolor": "#EBF0F8",
           "linecolor": "#EBF0F8",
           "ticks": "",
           "title": {
            "standoff": 15
           },
           "zerolinecolor": "#EBF0F8",
           "zerolinewidth": 2
          }
         }
        },
        "title": {
         "text": "Familia de curvas: $y = a x^b$ (a=1)"
        },
        "xaxis": {
         "title": {
          "text": "x"
         }
        },
        "yaxis": {
         "title": {
          "text": "y"
         }
        }
       }
      }
     },
     "metadata": {},
     "output_type": "display_data"
    }
   ],
   "source": [
    "import numpy as np\n",
    "import plotly.graph_objects as go\n",
    "\n",
    "# Valores de x desde 0 a 1 con buena resolución (evitamos x=0 exactamente para evitar problemas con potencias fraccionarias)\n",
    "x = np.linspace(0, 1, 200)[1:]  # Omitimos el primer valor (x=0) si b<1\n",
    "\n",
    "a = 1  # Fijamos a=1 para observar solo el efecto de b\n",
    "\n",
    "exponentes = [0.3, 0.5, 1, 1.5, 2, 3]  # Distintos valores de b (convexos y cóncavos)\n",
    "\n",
    "fig = go.Figure()\n",
    "for b in exponentes:\n",
    "    y = a * np.power(x, b)\n",
    "    fig.add_trace(go.Scatter(\n",
    "        x=x,\n",
    "        y=y,\n",
    "        mode='lines',\n",
    "        name=f\"b = {b}\"\n",
    "    ))\n",
    "\n",
    "fig.update_layout(\n",
    "    title=\"Familia de curvas: $y = a x^b$ (a=1)\",\n",
    "    xaxis_title=\"x\",\n",
    "    yaxis_title=\"y\",\n",
    "    template=\"plotly_white\",\n",
    "    legend_title=\"Exponente b\"\n",
    ")\n",
    "\n",
    "# Botón para abrir en navegador\n",
    "from ipywidgets import Button, VBox\n",
    "from IPython.display import display\n",
    "\n",
    "def on_button_clicked(b):\n",
    "    fig.show(renderer=\"browser\")\n",
    "btn = Button(description=\"Abrir en navegador: familia potencia\")\n",
    "btn.on_click(on_button_clicked)\n",
    "display(VBox([btn]))\n",
    "fig.show()\n"
   ]
  }
 ],
 "metadata": {
  "kernelspec": {
   "display_name": ".venv",
   "language": "python",
   "name": "python3"
  },
  "language_info": {
   "codemirror_mode": {
    "name": "ipython",
    "version": 3
   },
   "file_extension": ".py",
   "mimetype": "text/x-python",
   "name": "python",
   "nbconvert_exporter": "python",
   "pygments_lexer": "ipython3",
   "version": "3.13.3"
  }
 },
 "nbformat": 4,
 "nbformat_minor": 5
}
